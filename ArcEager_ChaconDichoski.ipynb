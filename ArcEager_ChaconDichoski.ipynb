{
  "cells": [
    {
      "cell_type": "markdown",
      "source": [
        "# Introduction"
      ],
      "metadata": {
        "id": "xD6h-DPUN8tF"
      }
    },
    {
      "cell_type": "markdown",
      "source": [
        "In this notebook, we will implement the static **Arc-Eager** model for dependency parsing, as described in \"[A Dynamic Oracle for Arc-Eager Dependency Parsing](https://aclanthology.org/C12-1059/)\" by Yoav Goldberg and Joakim Nivre. Then, we will perform neural dependency parsing using the `ArcEager` model with both `Bi-LSTM` and transformers (`BERT`) as oracles.\n",
        "\n",
        "\n",
        "The notebook is structured into the following sections:\n",
        "\n",
        "*   Arc-Eager: parser and static oracle\n",
        "\n",
        "*   Dataset: analysis and preprocessing\n",
        "\n",
        "*   Baseline Model: Bi-LSTM\n",
        "\n",
        "*   BERT-based Model\n",
        "\n",
        "*   Error Analysis\n",
        "\n",
        "*   Discussion: Overview of procedures, presentation of results, and comparison with SOTA performance in dependency parsing."
      ],
      "metadata": {
        "id": "GzPHoFEO7xZh"
      }
    },
    {
      "cell_type": "markdown",
      "source": [
        "## Imports"
      ],
      "metadata": {
        "id": "VuLN-0VJOKkR"
      }
    },
    {
      "cell_type": "code",
      "source": [
        "!pip install datasets\n",
        "!pip install wandb"
      ],
      "metadata": {
        "id": "DeI1OgIRXSh1",
        "colab": {
          "base_uri": "https://localhost:8080/"
        },
        "outputId": "09a81fcd-5d58-4bb7-b7dc-d36b79676855"
      },
      "execution_count": 1,
      "outputs": [
        {
          "output_type": "stream",
          "name": "stdout",
          "text": [
            "Collecting datasets\n",
            "  Downloading datasets-2.17.0-py3-none-any.whl (536 kB)\n",
            "\u001b[?25l     \u001b[90m━━━━━━━━━━━━━━━━━━━━━━━━━━━━━━━━━━━━━━━━\u001b[0m \u001b[32m0.0/536.6 kB\u001b[0m \u001b[31m?\u001b[0m eta \u001b[36m-:--:--\u001b[0m\r\u001b[2K     \u001b[91m━━━━━━━━━━━━━━━━━━━━━━━━━━\u001b[0m\u001b[91m╸\u001b[0m\u001b[90m━━━━━━━━━━━━━\u001b[0m \u001b[32m358.4/536.6 kB\u001b[0m \u001b[31m10.6 MB/s\u001b[0m eta \u001b[36m0:00:01\u001b[0m\r\u001b[2K     \u001b[90m━━━━━━━━━━━━━━━━━━━━━━━━━━━━━━━━━━━━━━━━\u001b[0m \u001b[32m536.6/536.6 kB\u001b[0m \u001b[31m11.4 MB/s\u001b[0m eta \u001b[36m0:00:00\u001b[0m\n",
            "\u001b[?25hRequirement already satisfied: filelock in /usr/local/lib/python3.10/dist-packages (from datasets) (3.13.1)\n",
            "Requirement already satisfied: numpy>=1.17 in /usr/local/lib/python3.10/dist-packages (from datasets) (1.23.5)\n",
            "Collecting pyarrow>=12.0.0 (from datasets)\n",
            "  Downloading pyarrow-15.0.0-cp310-cp310-manylinux_2_28_x86_64.whl (38.3 MB)\n",
            "\u001b[2K     \u001b[90m━━━━━━━━━━━━━━━━━━━━━━━━━━━━━━━━━━━━━━━━\u001b[0m \u001b[32m38.3/38.3 MB\u001b[0m \u001b[31m38.5 MB/s\u001b[0m eta \u001b[36m0:00:00\u001b[0m\n",
            "\u001b[?25hRequirement already satisfied: pyarrow-hotfix in /usr/local/lib/python3.10/dist-packages (from datasets) (0.6)\n",
            "Collecting dill<0.3.9,>=0.3.0 (from datasets)\n",
            "  Downloading dill-0.3.8-py3-none-any.whl (116 kB)\n",
            "\u001b[2K     \u001b[90m━━━━━━━━━━━━━━━━━━━━━━━━━━━━━━━━━━━━━━━━\u001b[0m \u001b[32m116.3/116.3 kB\u001b[0m \u001b[31m17.4 MB/s\u001b[0m eta \u001b[36m0:00:00\u001b[0m\n",
            "\u001b[?25hRequirement already satisfied: pandas in /usr/local/lib/python3.10/dist-packages (from datasets) (1.5.3)\n",
            "Requirement already satisfied: requests>=2.19.0 in /usr/local/lib/python3.10/dist-packages (from datasets) (2.31.0)\n",
            "Requirement already satisfied: tqdm>=4.62.1 in /usr/local/lib/python3.10/dist-packages (from datasets) (4.66.1)\n",
            "Requirement already satisfied: xxhash in /usr/local/lib/python3.10/dist-packages (from datasets) (3.4.1)\n",
            "Collecting multiprocess (from datasets)\n",
            "  Downloading multiprocess-0.70.16-py310-none-any.whl (134 kB)\n",
            "\u001b[2K     \u001b[90m━━━━━━━━━━━━━━━━━━━━━━━━━━━━━━━━━━━━━━━━\u001b[0m \u001b[32m134.8/134.8 kB\u001b[0m \u001b[31m18.9 MB/s\u001b[0m eta \u001b[36m0:00:00\u001b[0m\n",
            "\u001b[?25hRequirement already satisfied: fsspec[http]<=2023.10.0,>=2023.1.0 in /usr/local/lib/python3.10/dist-packages (from datasets) (2023.6.0)\n",
            "Requirement already satisfied: aiohttp in /usr/local/lib/python3.10/dist-packages (from datasets) (3.9.3)\n",
            "Requirement already satisfied: huggingface-hub>=0.19.4 in /usr/local/lib/python3.10/dist-packages (from datasets) (0.20.3)\n",
            "Requirement already satisfied: packaging in /usr/local/lib/python3.10/dist-packages (from datasets) (23.2)\n",
            "Requirement already satisfied: pyyaml>=5.1 in /usr/local/lib/python3.10/dist-packages (from datasets) (6.0.1)\n",
            "Requirement already satisfied: aiosignal>=1.1.2 in /usr/local/lib/python3.10/dist-packages (from aiohttp->datasets) (1.3.1)\n",
            "Requirement already satisfied: attrs>=17.3.0 in /usr/local/lib/python3.10/dist-packages (from aiohttp->datasets) (23.2.0)\n",
            "Requirement already satisfied: frozenlist>=1.1.1 in /usr/local/lib/python3.10/dist-packages (from aiohttp->datasets) (1.4.1)\n",
            "Requirement already satisfied: multidict<7.0,>=4.5 in /usr/local/lib/python3.10/dist-packages (from aiohttp->datasets) (6.0.5)\n",
            "Requirement already satisfied: yarl<2.0,>=1.0 in /usr/local/lib/python3.10/dist-packages (from aiohttp->datasets) (1.9.4)\n",
            "Requirement already satisfied: async-timeout<5.0,>=4.0 in /usr/local/lib/python3.10/dist-packages (from aiohttp->datasets) (4.0.3)\n",
            "Requirement already satisfied: typing-extensions>=3.7.4.3 in /usr/local/lib/python3.10/dist-packages (from huggingface-hub>=0.19.4->datasets) (4.9.0)\n",
            "Requirement already satisfied: charset-normalizer<4,>=2 in /usr/local/lib/python3.10/dist-packages (from requests>=2.19.0->datasets) (3.3.2)\n",
            "Requirement already satisfied: idna<4,>=2.5 in /usr/local/lib/python3.10/dist-packages (from requests>=2.19.0->datasets) (3.6)\n",
            "Requirement already satisfied: urllib3<3,>=1.21.1 in /usr/local/lib/python3.10/dist-packages (from requests>=2.19.0->datasets) (2.0.7)\n",
            "Requirement already satisfied: certifi>=2017.4.17 in /usr/local/lib/python3.10/dist-packages (from requests>=2.19.0->datasets) (2024.2.2)\n",
            "Requirement already satisfied: python-dateutil>=2.8.1 in /usr/local/lib/python3.10/dist-packages (from pandas->datasets) (2.8.2)\n",
            "Requirement already satisfied: pytz>=2020.1 in /usr/local/lib/python3.10/dist-packages (from pandas->datasets) (2023.4)\n",
            "Requirement already satisfied: six>=1.5 in /usr/local/lib/python3.10/dist-packages (from python-dateutil>=2.8.1->pandas->datasets) (1.16.0)\n",
            "Installing collected packages: pyarrow, dill, multiprocess, datasets\n",
            "  Attempting uninstall: pyarrow\n",
            "    Found existing installation: pyarrow 10.0.1\n",
            "    Uninstalling pyarrow-10.0.1:\n",
            "      Successfully uninstalled pyarrow-10.0.1\n",
            "\u001b[31mERROR: pip's dependency resolver does not currently take into account all the packages that are installed. This behaviour is the source of the following dependency conflicts.\n",
            "ibis-framework 7.1.0 requires pyarrow<15,>=2, but you have pyarrow 15.0.0 which is incompatible.\u001b[0m\u001b[31m\n",
            "\u001b[0mSuccessfully installed datasets-2.17.0 dill-0.3.8 multiprocess-0.70.16 pyarrow-15.0.0\n",
            "Collecting wandb\n",
            "  Downloading wandb-0.16.3-py3-none-any.whl (2.2 MB)\n",
            "\u001b[2K     \u001b[90m━━━━━━━━━━━━━━━━━━━━━━━━━━━━━━━━━━━━━━━━\u001b[0m \u001b[32m2.2/2.2 MB\u001b[0m \u001b[31m10.3 MB/s\u001b[0m eta \u001b[36m0:00:00\u001b[0m\n",
            "\u001b[?25hRequirement already satisfied: Click!=8.0.0,>=7.1 in /usr/local/lib/python3.10/dist-packages (from wandb) (8.1.7)\n",
            "Collecting GitPython!=3.1.29,>=1.0.0 (from wandb)\n",
            "  Downloading GitPython-3.1.41-py3-none-any.whl (196 kB)\n",
            "\u001b[2K     \u001b[90m━━━━━━━━━━━━━━━━━━━━━━━━━━━━━━━━━━━━━━━━\u001b[0m \u001b[32m196.4/196.4 kB\u001b[0m \u001b[31m12.3 MB/s\u001b[0m eta \u001b[36m0:00:00\u001b[0m\n",
            "\u001b[?25hRequirement already satisfied: requests<3,>=2.0.0 in /usr/local/lib/python3.10/dist-packages (from wandb) (2.31.0)\n",
            "Requirement already satisfied: psutil>=5.0.0 in /usr/local/lib/python3.10/dist-packages (from wandb) (5.9.5)\n",
            "Collecting sentry-sdk>=1.0.0 (from wandb)\n",
            "  Downloading sentry_sdk-1.40.4-py2.py3-none-any.whl (257 kB)\n",
            "\u001b[2K     \u001b[90m━━━━━━━━━━━━━━━━━━━━━━━━━━━━━━━━━━━━━━━━\u001b[0m \u001b[32m257.9/257.9 kB\u001b[0m \u001b[31m27.1 MB/s\u001b[0m eta \u001b[36m0:00:00\u001b[0m\n",
            "\u001b[?25hCollecting docker-pycreds>=0.4.0 (from wandb)\n",
            "  Downloading docker_pycreds-0.4.0-py2.py3-none-any.whl (9.0 kB)\n",
            "Requirement already satisfied: PyYAML in /usr/local/lib/python3.10/dist-packages (from wandb) (6.0.1)\n",
            "Collecting setproctitle (from wandb)\n",
            "  Downloading setproctitle-1.3.3-cp310-cp310-manylinux_2_5_x86_64.manylinux1_x86_64.manylinux_2_17_x86_64.manylinux2014_x86_64.whl (30 kB)\n",
            "Requirement already satisfied: setuptools in /usr/local/lib/python3.10/dist-packages (from wandb) (67.7.2)\n",
            "Requirement already satisfied: appdirs>=1.4.3 in /usr/local/lib/python3.10/dist-packages (from wandb) (1.4.4)\n",
            "Requirement already satisfied: protobuf!=4.21.0,<5,>=3.19.0 in /usr/local/lib/python3.10/dist-packages (from wandb) (3.20.3)\n",
            "Requirement already satisfied: six>=1.4.0 in /usr/local/lib/python3.10/dist-packages (from docker-pycreds>=0.4.0->wandb) (1.16.0)\n",
            "Collecting gitdb<5,>=4.0.1 (from GitPython!=3.1.29,>=1.0.0->wandb)\n",
            "  Downloading gitdb-4.0.11-py3-none-any.whl (62 kB)\n",
            "\u001b[2K     \u001b[90m━━━━━━━━━━━━━━━━━━━━━━━━━━━━━━━━━━━━━━━━\u001b[0m \u001b[32m62.7/62.7 kB\u001b[0m \u001b[31m8.6 MB/s\u001b[0m eta \u001b[36m0:00:00\u001b[0m\n",
            "\u001b[?25hRequirement already satisfied: charset-normalizer<4,>=2 in /usr/local/lib/python3.10/dist-packages (from requests<3,>=2.0.0->wandb) (3.3.2)\n",
            "Requirement already satisfied: idna<4,>=2.5 in /usr/local/lib/python3.10/dist-packages (from requests<3,>=2.0.0->wandb) (3.6)\n",
            "Requirement already satisfied: urllib3<3,>=1.21.1 in /usr/local/lib/python3.10/dist-packages (from requests<3,>=2.0.0->wandb) (2.0.7)\n",
            "Requirement already satisfied: certifi>=2017.4.17 in /usr/local/lib/python3.10/dist-packages (from requests<3,>=2.0.0->wandb) (2024.2.2)\n",
            "Collecting smmap<6,>=3.0.1 (from gitdb<5,>=4.0.1->GitPython!=3.1.29,>=1.0.0->wandb)\n",
            "  Downloading smmap-5.0.1-py3-none-any.whl (24 kB)\n",
            "Installing collected packages: smmap, setproctitle, sentry-sdk, docker-pycreds, gitdb, GitPython, wandb\n",
            "Successfully installed GitPython-3.1.41 docker-pycreds-0.4.0 gitdb-4.0.11 sentry-sdk-1.40.4 setproctitle-1.3.3 smmap-5.0.1 wandb-0.16.3\n"
          ]
        }
      ]
    },
    {
      "cell_type": "code",
      "execution_count": 2,
      "outputs": [],
      "source": [
        "import gc\n",
        "import pandas as pd\n",
        "import numpy as np\n",
        "import matplotlib.pyplot as plt\n",
        "import seaborn as sns\n",
        "import os\n",
        "from tabulate import tabulate\n",
        "import torch\n",
        "import torch.nn as nn\n",
        "from functools import partial\n",
        "from sklearn.metrics import confusion_matrix\n",
        "from tqdm.auto import tqdm\n",
        "from datasets import load_dataset, Dataset\n",
        "from transformers import AutoTokenizer, AutoModel\n",
        "from IPython.display import HTML\n",
        "import spacy\n",
        "from spacy import displacy\n",
        "from spacy.tokens import Doc\n",
        "import random"
      ],
      "metadata": {
        "id": "oVGq1A_PXDOP"
      }
    },
    {
      "cell_type": "code",
      "source": [
        "use_wandb = False #@param {type:\"boolean\"}\n",
        "if use_wandb:\n",
        "  import wandb\n",
        "  wandb.login()"
      ],
      "metadata": {
        "id": "O2pWmOC6DAWW"
      },
      "execution_count": 3,
      "outputs": []
    },
    {
      "cell_type": "markdown",
      "source": [
        "# Arc-eager"
      ],
      "metadata": {
        "id": "CKgF62ltOOj-"
      }
    },
    {
      "cell_type": "markdown",
      "source": [
        "In the Arc-Eager transition system, a parser **configuration** is a triple of the form $(\\sigma, \\beta, A)$, where $\\sigma$ represents the stack, $\\beta$ denotes the buffer, and $A$ is the set of dependency arcs constructed so far.\n",
        "\n",
        "There are four types of transitions that the parser can perform to move from one configuration to the next:\n",
        "*   *`LEFT-ARC`*: Creates a head-dependent relation between the word at the front of the buffer ($b$) and the word at the top of the stack ($s$), then pops the stack. It requires the precondition that the token $s$ is not the artificial root node 0 and does not already have a head.\n",
        "*   *`RIGHT-ARC`*:  Creates a head-dependent relation between the word $s$ at the top of the stack and the word $b$ at the front of the buffer, then shifts the buffer head to the stack.\n",
        "*   *`REDUCE`*: Pops the stack, subject to the precondition that the top token has a head.\n",
        "*   *`SHIFT`*: Removes the word at the head of the input buffer and pushes it onto the stack.\n",
        "\n",
        "Let $w = w_0 w_1 \\cdots w_{n}$ be the input sentence, with $w_0$ the special symbol `<ROOT>`. Stack and buffer are implemented as lists of integers, where `j` represents word $w_j$.  Top-most stack token is at the right-end of the list; first buffer token is at the left-end of the list. Set $A$ is implemented as an array `arcs` of size $n+1$ such that if arc $(w_i \\rightarrow w_j)$ is in $A$ then `arcs[j]=i`, and if $w_j$ is still missing its head node in the tree under construction, then `arcs[j]=-1`. We always have `arcs[0]=-1`.  We use this representation also for complete dependency trees.\n",
        "\n",
        "We take a **terminal configuration** to be any configuration of the form $c = (\\sigma, [], A)$.\n"
      ],
      "metadata": {
        "id": "pxx1VoaPArKJ"
      }
    },
    {
      "cell_type": "markdown",
      "source": [
        "References:\\\n",
        "https://aclanthology.org/C12-1059/ \\\n",
        "https://www.cs.umd.edu/class/fall2017/cmsc723/slides/slides_13.pdf"
      ],
      "metadata": {
        "collapsed": false,
        "id": "fwlkorkLXDOQ"
      }
    },
    {
      "cell_type": "code",
      "execution_count": 4,
      "outputs": [],
      "source": [
        "class ArcEager:\n",
        "    def __init__(self, sentence):\n",
        "        self.sentence = sentence\n",
        "        self.buffer = [i for i in range(len(self.sentence))]\n",
        "        self.stack = []\n",
        "        self.arcs = [-1 for _ in range(len(self.sentence))]\n",
        "\n",
        "        # One shift move to initialize the stack\n",
        "        self.shift()\n",
        "\n",
        "    # - Remove word at head of input buffer\n",
        "    # - Push it on the stack\n",
        "    def shift(self):\n",
        "        b1 = self.buffer.pop(0)\n",
        "        self.stack.append(b1)\n",
        "\n",
        "    # - Create head-dependent rel. between word at front of buffer and word at top of stack\n",
        "    # - Pop the stack\n",
        "    def left_arc(self):\n",
        "        s1 = self.stack.pop()\n",
        "        b1 = self.buffer[0]\n",
        "        self.arcs[s1] = b1\n",
        "\n",
        "    # - Create head-dependent rel. between word on top of stack and word at front of buffer\n",
        "    # - Shift buffer head to stack\n",
        "    def right_arc(self):\n",
        "        s1 = self.stack[-1]\n",
        "        b1 = self.buffer[0]\n",
        "        self.arcs[b1] = s1\n",
        "        self.shift()\n",
        "\n",
        "    # - Pop the stack\n",
        "    def reduce(self):\n",
        "        self.stack.pop()\n",
        "\n",
        "    # Check whether the sentence has been processed completely\n",
        "    def is_tree_final(self) -> bool:\n",
        "        return len(self.buffer) == 0 and len(self.stack) == 1 # just [<ROOT>] should be left in the stack\n",
        "\n",
        "    def print_configuration(self):\n",
        "        s = [self.sentence[i] for i in self.stack]\n",
        "        b = [self.sentence[i] for i in self.buffer]\n",
        "        print(s, b)\n",
        "        print(self.arcs)"
      ],
      "metadata": {
        "id": "PCcJNUAIXDOR"
      }
    },
    {
      "cell_type": "markdown",
      "source": [
        "**Oracle**\n",
        "\n",
        "The `Oracle` class implements a `static` oracle that maps parser configurations to actions based on a gold tree. It ensures correct actions for error-free configurations and selects a single canonical action when multiple correct actions are possible."
      ],
      "metadata": {
        "id": "aLxKGZF1GV_S"
      }
    },
    {
      "cell_type": "code",
      "execution_count": 5,
      "outputs": [],
      "source": [
        "class Oracle:\n",
        "    def __init__(self, parser, gold_tree):\n",
        "        self.parser = parser\n",
        "        self.gold = gold_tree\n",
        "\n",
        "    def is_buffer_empty(self):\n",
        "        return len(self.parser.buffer) == 0\n",
        "\n",
        "    def is_left_arc_gold(self):\n",
        "        if self.is_buffer_empty():\n",
        "            return False\n",
        "        s1 = self.parser.stack[-1]\n",
        "        b1 = self.parser.buffer[0]\n",
        "        return self.gold[s1] == b1\n",
        "\n",
        "    def is_right_arc_gold(self):\n",
        "        if self.is_buffer_empty():\n",
        "            return False\n",
        "        s1 = self.parser.stack[-1]\n",
        "        b1 = self.parser.buffer[0]\n",
        "        return self.gold[b1] == s1\n",
        "\n",
        "    def is_shift_gold(self):\n",
        "        if self.is_buffer_empty(): # The buffer must not be empty\n",
        "            return False\n",
        "        # This dictates transition precedence of the parser\n",
        "        if self.is_left_arc_gold() or self.is_right_arc_gold() or self.is_reduce_gold():\n",
        "            return False\n",
        "        return True\n",
        "\n",
        "    def is_reduce_gold(self):\n",
        "        if len(self.parser.stack) < 2: # Just the <ROOT> is left in the stack.\n",
        "            return False\n",
        "        if self.is_buffer_empty():\n",
        "            return True\n",
        "        s1 = self.parser.stack[-1]\n",
        "        b1 = self.parser.buffer[0]\n",
        "        for i in self.parser.stack:\n",
        "            if self.gold[s1] != -1 and (self.gold[i] == b1 or self.gold[b1] == i):\n",
        "                return True\n",
        "        return False"
      ],
      "metadata": {
        "id": "x5c3gARVXDOR"
      }
    },
    {
      "cell_type": "code",
      "source": [
        "def plot_dependency(words, heads):\n",
        "    # Load a spaCy model\n",
        "    nlp = spacy.blank('en')  # Using a blank English model\n",
        "    # Create a Doc object\n",
        "    doc = Doc(nlp.vocab, words=words)\n",
        "\n",
        "    # Set heads and dependency labels\n",
        "    for i, token in enumerate(doc):\n",
        "        head_idx = heads[i]\n",
        "        if head_idx == -1:\n",
        "            token.head = token  # A token is its own head if it's the root.\n",
        "        else:\n",
        "            token.head = doc[head_idx]\n",
        "        # For simplicity, we'll set all dependency labels to 'dep' except the root, which will be 'ROOT'\n",
        "        token.dep_ = 'ROOT' if head_idx == -1 else \" \"\n",
        "    # Use displaCy to visualize the dependency\n",
        "    displacy.render(doc, style='dep', jupyter=True, options={'distance': 100})"
      ],
      "metadata": {
        "id": "de19bAXe4I7R"
      },
      "execution_count": 6,
      "outputs": []
    },
    {
      "cell_type": "code",
      "execution_count": 7,
      "outputs": [
        {
          "output_type": "stream",
          "name": "stdout",
          "text": [
            "Final state:\n",
            "Buffer: []\n",
            "Stack: [0]\n",
            "Arcs: [-1, 2, 0, 4, 2, 4, 2]\n",
            "\n",
            "At least one transition is satisfied:  False\n",
            "\n",
            "Parsed: [-1, 2, 0, 4, 2, 4, 2]\n",
            "Gold:   [-1, 2, 0, 4, 2, 4, 2]\n"
          ]
        }
      ],
      "source": [
        "example_sentence = [\"<ROOT>\", \"He\", \"began\", \"to\", \"write\", \"again\", \".\"]\n",
        "gold_dependencies = [-1, 2, 0, 4, 2, 4, 2 ]\n",
        "\n",
        "arc_eager_parser = ArcEager(example_sentence)\n",
        "oracle = Oracle(arc_eager_parser, gold_dependencies)\n",
        "\n",
        "while not arc_eager_parser.is_tree_final():\n",
        "  if oracle.is_left_arc_gold():\n",
        "    arc_eager_parser.left_arc()\n",
        "  elif oracle.is_right_arc_gold():\n",
        "    arc_eager_parser.right_arc()\n",
        "  elif oracle.is_reduce_gold():\n",
        "    arc_eager_parser.reduce()\n",
        "  elif oracle.is_shift_gold():\n",
        "    arc_eager_parser.shift()\n",
        "\n",
        "print(\"Final state:\")\n",
        "print(\"Buffer:\", arc_eager_parser.buffer)\n",
        "print(\"Stack:\", arc_eager_parser.stack)\n",
        "print(\"Arcs:\", arc_eager_parser.arcs)\n",
        "\n",
        "print(\"\\nAt least one transition is satisfied: \", any([oracle.is_left_arc_gold(), oracle.is_right_arc_gold(), oracle.is_reduce_gold(), oracle.is_shift_gold()]))\n",
        "print('\\nParsed:', arc_eager_parser.arcs)\n",
        "print('Gold:  ', gold_dependencies)"
      ],
      "metadata": {
        "colab": {
          "base_uri": "https://localhost:8080/"
        },
        "id": "Rp99MkJvXDOR",
        "outputId": "9d6dd220-198d-44ba-9ffb-94b859b70c31"
      }
    },
    {
      "cell_type": "code",
      "source": [
        "plot_dependency(example_sentence, arc_eager_parser.arcs)"
      ],
      "metadata": {
        "id": "PuEu_Sh54d-7",
        "colab": {
          "base_uri": "https://localhost:8080/",
          "height": 259
        },
        "outputId": "f315acf1-8017-48d4-c185-de6e61eff440"
      },
      "execution_count": 8,
      "outputs": [
        {
          "output_type": "display_data",
          "data": {
            "text/plain": [
              "<IPython.core.display.HTML object>"
            ],
            "text/html": [
              "<span class=\"tex2jax_ignore\"><svg xmlns=\"http://www.w3.org/2000/svg\" xmlns:xlink=\"http://www.w3.org/1999/xlink\" xml:lang=\"en\" id=\"0c6ac515fe8a4c95bb355c07be3d4fc2-0\" class=\"displacy\" width=\"650\" height=\"237.0\" direction=\"ltr\" style=\"max-width: none; height: 237.0px; color: #000000; background: #ffffff; font-family: Arial; direction: ltr\">\n",
              "<text class=\"displacy-token\" fill=\"currentColor\" text-anchor=\"middle\" y=\"147.0\">\n",
              "    <tspan class=\"displacy-word\" fill=\"currentColor\" x=\"50\">&lt;ROOT&gt;</tspan>\n",
              "    <tspan class=\"displacy-tag\" dy=\"2em\" fill=\"currentColor\" x=\"50\"></tspan>\n",
              "</text>\n",
              "\n",
              "<text class=\"displacy-token\" fill=\"currentColor\" text-anchor=\"middle\" y=\"147.0\">\n",
              "    <tspan class=\"displacy-word\" fill=\"currentColor\" x=\"150\">He</tspan>\n",
              "    <tspan class=\"displacy-tag\" dy=\"2em\" fill=\"currentColor\" x=\"150\"></tspan>\n",
              "</text>\n",
              "\n",
              "<text class=\"displacy-token\" fill=\"currentColor\" text-anchor=\"middle\" y=\"147.0\">\n",
              "    <tspan class=\"displacy-word\" fill=\"currentColor\" x=\"250\">began</tspan>\n",
              "    <tspan class=\"displacy-tag\" dy=\"2em\" fill=\"currentColor\" x=\"250\"></tspan>\n",
              "</text>\n",
              "\n",
              "<text class=\"displacy-token\" fill=\"currentColor\" text-anchor=\"middle\" y=\"147.0\">\n",
              "    <tspan class=\"displacy-word\" fill=\"currentColor\" x=\"350\">to</tspan>\n",
              "    <tspan class=\"displacy-tag\" dy=\"2em\" fill=\"currentColor\" x=\"350\"></tspan>\n",
              "</text>\n",
              "\n",
              "<text class=\"displacy-token\" fill=\"currentColor\" text-anchor=\"middle\" y=\"147.0\">\n",
              "    <tspan class=\"displacy-word\" fill=\"currentColor\" x=\"450\">write</tspan>\n",
              "    <tspan class=\"displacy-tag\" dy=\"2em\" fill=\"currentColor\" x=\"450\"></tspan>\n",
              "</text>\n",
              "\n",
              "<text class=\"displacy-token\" fill=\"currentColor\" text-anchor=\"middle\" y=\"147.0\">\n",
              "    <tspan class=\"displacy-word\" fill=\"currentColor\" x=\"550\">again .</tspan>\n",
              "    <tspan class=\"displacy-tag\" dy=\"2em\" fill=\"currentColor\" x=\"550\"></tspan>\n",
              "</text>\n",
              "\n",
              "<g class=\"displacy-arrow\">\n",
              "    <path class=\"displacy-arc\" id=\"arrow-0c6ac515fe8a4c95bb355c07be3d4fc2-0-0\" stroke-width=\"2px\" d=\"M170,102.0 C170,52.0 245.0,52.0 245.0,102.0\" fill=\"none\" stroke=\"currentColor\"/>\n",
              "    <text dy=\"1.25em\" style=\"font-size: 0.8em; letter-spacing: 1px\">\n",
              "        <textPath xlink:href=\"#arrow-0c6ac515fe8a4c95bb355c07be3d4fc2-0-0\" class=\"displacy-label\" startOffset=\"50%\" side=\"left\" fill=\"currentColor\" text-anchor=\"middle\"> </textPath>\n",
              "    </text>\n",
              "    <path class=\"displacy-arrowhead\" d=\"M170,104.0 L162,92.0 178,92.0\" fill=\"currentColor\"/>\n",
              "</g>\n",
              "\n",
              "<g class=\"displacy-arrow\">\n",
              "    <path class=\"displacy-arc\" id=\"arrow-0c6ac515fe8a4c95bb355c07be3d4fc2-0-1\" stroke-width=\"2px\" d=\"M70,102.0 C70,2.0 250.0,2.0 250.0,102.0\" fill=\"none\" stroke=\"currentColor\"/>\n",
              "    <text dy=\"1.25em\" style=\"font-size: 0.8em; letter-spacing: 1px\">\n",
              "        <textPath xlink:href=\"#arrow-0c6ac515fe8a4c95bb355c07be3d4fc2-0-1\" class=\"displacy-label\" startOffset=\"50%\" side=\"left\" fill=\"currentColor\" text-anchor=\"middle\"> </textPath>\n",
              "    </text>\n",
              "    <path class=\"displacy-arrowhead\" d=\"M250.0,104.0 L258.0,92.0 242.0,92.0\" fill=\"currentColor\"/>\n",
              "</g>\n",
              "\n",
              "<g class=\"displacy-arrow\">\n",
              "    <path class=\"displacy-arc\" id=\"arrow-0c6ac515fe8a4c95bb355c07be3d4fc2-0-2\" stroke-width=\"2px\" d=\"M370,102.0 C370,52.0 445.0,52.0 445.0,102.0\" fill=\"none\" stroke=\"currentColor\"/>\n",
              "    <text dy=\"1.25em\" style=\"font-size: 0.8em; letter-spacing: 1px\">\n",
              "        <textPath xlink:href=\"#arrow-0c6ac515fe8a4c95bb355c07be3d4fc2-0-2\" class=\"displacy-label\" startOffset=\"50%\" side=\"left\" fill=\"currentColor\" text-anchor=\"middle\"> </textPath>\n",
              "    </text>\n",
              "    <path class=\"displacy-arrowhead\" d=\"M370,104.0 L362,92.0 378,92.0\" fill=\"currentColor\"/>\n",
              "</g>\n",
              "\n",
              "<g class=\"displacy-arrow\">\n",
              "    <path class=\"displacy-arc\" id=\"arrow-0c6ac515fe8a4c95bb355c07be3d4fc2-0-3\" stroke-width=\"2px\" d=\"M270,102.0 C270,2.0 450.0,2.0 450.0,102.0\" fill=\"none\" stroke=\"currentColor\"/>\n",
              "    <text dy=\"1.25em\" style=\"font-size: 0.8em; letter-spacing: 1px\">\n",
              "        <textPath xlink:href=\"#arrow-0c6ac515fe8a4c95bb355c07be3d4fc2-0-3\" class=\"displacy-label\" startOffset=\"50%\" side=\"left\" fill=\"currentColor\" text-anchor=\"middle\"> </textPath>\n",
              "    </text>\n",
              "    <path class=\"displacy-arrowhead\" d=\"M450.0,104.0 L458.0,92.0 442.0,92.0\" fill=\"currentColor\"/>\n",
              "</g>\n",
              "\n",
              "<g class=\"displacy-arrow\">\n",
              "    <path class=\"displacy-arc\" id=\"arrow-0c6ac515fe8a4c95bb355c07be3d4fc2-0-4\" stroke-width=\"2px\" d=\"M470,102.0 C470,52.0 545.0,52.0 545.0,102.0\" fill=\"none\" stroke=\"currentColor\"/>\n",
              "    <text dy=\"1.25em\" style=\"font-size: 0.8em; letter-spacing: 1px\">\n",
              "        <textPath xlink:href=\"#arrow-0c6ac515fe8a4c95bb355c07be3d4fc2-0-4\" class=\"displacy-label\" startOffset=\"50%\" side=\"left\" fill=\"currentColor\" text-anchor=\"middle\"> </textPath>\n",
              "    </text>\n",
              "    <path class=\"displacy-arrowhead\" d=\"M545.0,104.0 L553.0,92.0 537.0,92.0\" fill=\"currentColor\"/>\n",
              "</g>\n",
              "</svg></span>"
            ]
          },
          "metadata": {}
        }
      ]
    },
    {
      "cell_type": "markdown",
      "source": [
        "# Dataset"
      ],
      "metadata": {
        "id": "J7dzXmMRGcdK"
      }
    },
    {
      "cell_type": "markdown",
      "source": [
        "We are going to use the _[English LinES treebank](https://universaldependencies.org/treebanks/en_lines/index.html)_ from Universal Dependencies.\n"
      ],
      "metadata": {
        "id": "2vTuhh7CI7-a"
      }
    },
    {
      "cell_type": "markdown",
      "source": [
        "## Analysis"
      ],
      "metadata": {
        "collapsed": false,
        "id": "QuGrmw2GXDOS"
      }
    },
    {
      "cell_type": "code",
      "execution_count": 9,
      "outputs": [
        {
          "output_type": "display_data",
          "data": {
            "text/plain": [
              "Downloading data:   0%|          | 0.00/837k [00:00<?, ?B/s]"
            ],
            "application/vnd.jupyter.widget-view+json": {
              "version_major": 2,
              "version_minor": 0,
              "model_id": "bc229107189a45bc9eb3c4dad9d2f12f"
            }
          },
          "metadata": {}
        },
        {
          "output_type": "display_data",
          "data": {
            "text/plain": [
              "Downloading data:   0%|          | 0.00/296k [00:00<?, ?B/s]"
            ],
            "application/vnd.jupyter.widget-view+json": {
              "version_major": 2,
              "version_minor": 0,
              "model_id": "fc78132f6d9f4e10ac9517140a4ff1bb"
            }
          },
          "metadata": {}
        },
        {
          "output_type": "display_data",
          "data": {
            "text/plain": [
              "Downloading data:   0%|          | 0.00/272k [00:00<?, ?B/s]"
            ],
            "application/vnd.jupyter.widget-view+json": {
              "version_major": 2,
              "version_minor": 0,
              "model_id": "de44eff8882d4ede8c2e46439a199166"
            }
          },
          "metadata": {}
        },
        {
          "output_type": "display_data",
          "data": {
            "text/plain": [
              "Generating train split:   0%|          | 0/3176 [00:00<?, ? examples/s]"
            ],
            "application/vnd.jupyter.widget-view+json": {
              "version_major": 2,
              "version_minor": 0,
              "model_id": "e01bc5f9051041729a5c472b5f22a59c"
            }
          },
          "metadata": {}
        },
        {
          "output_type": "display_data",
          "data": {
            "text/plain": [
              "Generating validation split:   0%|          | 0/1032 [00:00<?, ? examples/s]"
            ],
            "application/vnd.jupyter.widget-view+json": {
              "version_major": 2,
              "version_minor": 0,
              "model_id": "ad7d112e14594085ad83369298860133"
            }
          },
          "metadata": {}
        },
        {
          "output_type": "display_data",
          "data": {
            "text/plain": [
              "Generating test split:   0%|          | 0/1035 [00:00<?, ? examples/s]"
            ],
            "application/vnd.jupyter.widget-view+json": {
              "version_major": 2,
              "version_minor": 0,
              "model_id": "4b9215555acf4b5592396a7d8dabf1ff"
            }
          },
          "metadata": {}
        }
      ],
      "source": [
        "train_dataset = load_dataset('universal_dependencies', 'en_lines', split=\"train\", trust_remote_code=True)\n",
        "dev_dataset = load_dataset('universal_dependencies', 'en_lines', split=\"validation\", trust_remote_code=True)\n",
        "test_dataset = load_dataset('universal_dependencies', 'en_lines', split=\"test\", trust_remote_code=True)"
      ],
      "metadata": {
        "id": "TFKD1AEEXDOS",
        "colab": {
          "base_uri": "https://localhost:8080/",
          "referenced_widgets": [
            "bc229107189a45bc9eb3c4dad9d2f12f",
            "6f25c04dabbd4edeb70f3fd83807748c",
            "d486027c5d044c758889c106f6059fdb",
            "6135b420e62c4a428cf37ec779c73fe7",
            "863d280c105b4cc09f322df878e711d5",
            "e57fa90a36604ce480758053a6624bd1",
            "6c262ff091504bc885d1194a61f53b19",
            "8cb8bd4e3fb24499b61ea7fdfc07a332",
            "ae9db068724e4855a07fbbb852ef7017",
            "9f6d72729c534d079aecc244d4271418",
            "1b0bb8a38415427c8fa9da480df9c5dc",
            "fc78132f6d9f4e10ac9517140a4ff1bb",
            "1e451914bdf746c68d05936387669441",
            "da76026d510e450da6be511981022b7f",
            "dc23aff9dbbb4473adf49a25f05123f8",
            "2c385cd79ec54b9c81fc6427bf2c8e6a",
            "e4f5fa14ed904cb2b4e6757b5eaf426c",
            "5f8c5cdacb254f8ab36d5717dbb88de7",
            "8cced582a805478cb4ac2589e6498d7d",
            "7c8c697fbf394e29a8ee8400fc63a4b6",
            "1145c0a7444c44fba0da3792cf6c6351",
            "dfbb52b898a5486b93301686c242c56d",
            "de44eff8882d4ede8c2e46439a199166",
            "4523d2a777724a5c8deef11225af4d7d",
            "f4b68e05e581489d893cf68a1cd3d6c2",
            "1c644f5ead1e4c41afcb471801ef5a60",
            "32fdbbeb75e346a98c2c6298115a5f34",
            "57f3f45896144adf80e7c110d34fc9c8",
            "99949bcf7c1c4ae1a170338c3453bd48",
            "a05f90e14b334c85803c84497985cf22",
            "f82236bda9824ec2b9b5b84dba19481e",
            "af55fc02580c44898622ec1a4856853f",
            "16103111c82e4ef494071b1fbc1581c5",
            "e01bc5f9051041729a5c472b5f22a59c",
            "5faf55cfed024d1398efdd84bc99db80",
            "6422ff62cd0c4c21b7ade9aecbdce413",
            "9a79d6e6c7924a919eaf5efe6c4343ce",
            "c937c792957341b6bd3e62bb9aa79612",
            "08a251279acb4bccbcdcbb343644b38e",
            "9ddd7ca58eef4421bacf53b5ad468b19",
            "bdc205b6e5f245ff8854d55bf5cd4573",
            "10e1e2a9266349fe8832c9e32dfc0354",
            "2581e0a290f34efd936a212f6dbd1238",
            "59b9732b7b7441b6a49465ed7a9e8216",
            "ad7d112e14594085ad83369298860133",
            "cce46b27def24fc78dba33922fb6572f",
            "63d7f7224b83443686b3e5709af0cd4b",
            "3807808ec9c342ae916836433ff599d0",
            "6f1cd107c17d42c4a7451f6a04c055c8",
            "1d2681e524a64af9b113c93f4c17de7f",
            "5b04cb02300046028a90e9cfe3e6778f",
            "68aaacaa1b0f4e76919cad58410759ee",
            "ceac409ca536493da9a14908e975103e",
            "c63eb2c7c4444a3eab9f1724913d9ea8",
            "b08c5aa9f0be4fdbbfc4d016ed356bb5",
            "4b9215555acf4b5592396a7d8dabf1ff",
            "143d391dabfc40ebba3d2f37e47014c1",
            "ac5d65efa19e41df8b93fc9ea6df2d21",
            "7bdde87547fe429cae0524b24d6a28fc",
            "7ab3d43d6a1c47a7a7b5d28de0fdddc6",
            "220452a1a7f84bfab4d0dfb98095a40b",
            "08d921bed4784fb88eed688a46d47580",
            "b1f5abb74fcf4e67b2804f474dd12ae2",
            "3d3d475f2b62489a9d5f9c5260819f7f",
            "0f1a93a5420a48f082b0d7b514ec2d8a",
            "165b613b8884426cb55a0c08800143d9"
          ],
          "height": 209
        },
        "outputId": "25d20d75-f60d-448a-834a-44eedc144bb0"
      }
    },
    {
      "cell_type": "code",
      "execution_count": 10,
      "outputs": [
        {
          "output_type": "stream",
          "name": "stdout",
          "text": [
            "Total:\t 5243\n",
            "Train:\t 3176\n",
            "Dev:\t 1032\n",
            "Test:\t 1035\n"
          ]
        }
      ],
      "source": [
        "print(\"Total:\\t\", len(train_dataset) + len(dev_dataset) + len(test_dataset))\n",
        "\n",
        "print(\"Train:\\t\", len(train_dataset)) #(train is the number of samples without the non-projective)\n",
        "print(\"Dev:\\t\", len(dev_dataset))\n",
        "print(\"Test:\\t\", len(test_dataset))"
      ],
      "metadata": {
        "colab": {
          "base_uri": "https://localhost:8080/"
        },
        "id": "pHDj6bPbXDOT",
        "outputId": "33564248-f622-40dd-b05b-e60945c0bec1"
      }
    },
    {
      "cell_type": "code",
      "execution_count": 11,
      "outputs": [
        {
          "output_type": "stream",
          "name": "stdout",
          "text": [
            "Dataset keys:\n",
            "dict_keys(['idx', 'text', 'tokens', 'lemmas', 'upos', 'xpos', 'feats', 'head', 'deprel', 'deps', 'misc'])\n"
          ]
        }
      ],
      "source": [
        "print(\"Dataset keys:\")\n",
        "print(train_dataset[0].keys())"
      ],
      "metadata": {
        "colab": {
          "base_uri": "https://localhost:8080/"
        },
        "id": "RfoLaXQcXDOT",
        "outputId": "915bac0e-2463-46aa-f5c6-97e104737658"
      }
    },
    {
      "cell_type": "code",
      "execution_count": 12,
      "outputs": [
        {
          "output_type": "execute_result",
          "data": {
            "text/plain": [
              "[0, 1, 2, 3, 4, 5, 6, 7, 8, 9, 10, 11, 12, 14, 15, 16, 17]"
            ]
          },
          "metadata": {},
          "execution_count": 12
        }
      ],
      "source": [
        "upos_lists = train_dataset['upos']\n",
        "flat_upos = [int(upos_element) for sublist in upos_lists for upos_element in sublist]\n",
        "sorted(set(flat_upos))"
      ],
      "metadata": {
        "colab": {
          "base_uri": "https://localhost:8080/"
        },
        "id": "WEwlJyiqXDOT",
        "outputId": "4b4e0c64-a52c-413e-e306-89e99ac76f92"
      }
    },
    {
      "cell_type": "markdown",
      "source": [
        "> This corpus uses 17 POS tags, each identified with a number from 0 to 17. Notably, the number 13 is missing, resulting in a total of 17 POS tags, following the UPOS scheme:\n",
        "`ADJ, ADP, ADV, AUX, CCONJ, DET, INTJ, NOUN, NUM, PART, PRON, PROPN, PUNCT, SCONJ, SYM, VERB, X`.\n"
      ],
      "metadata": {
        "collapsed": false,
        "id": "rvXI0AKnXDOT"
      }
    },
    {
      "cell_type": "code",
      "execution_count": 13,
      "outputs": [
        {
          "output_type": "display_data",
          "data": {
            "text/plain": [
              "<Figure size 1000x600 with 1 Axes>"
            ],
            "image/png": "[encoded data removed]"
          },
          "metadata": {}
        }
      ],
      "source": [
        "# POS Tags - Train\n",
        "\n",
        "pos_counts = {}\n",
        "\n",
        "for elem in train_dataset:\n",
        "    for i, token in enumerate(elem[\"tokens\"]):\n",
        "        pos_tag = elem['upos'][i]\n",
        "        if pos_tag in pos_counts:\n",
        "            pos_counts[pos_tag] += 1\n",
        "        else:\n",
        "            pos_counts[pos_tag] = 1\n",
        "\n",
        "sorted_pos_counts = {k: v for k, v in sorted(pos_counts.items(), key=lambda item: item[0])}\n",
        "pos_ticks = ['NOUN', 'PUNCT', 'ADP', 'NUM', 'SYM', 'SCONJ', 'ADJ', 'PART',\n",
        "             'DET', 'CCONJ', 'PROPN', 'PRON', 'X', 'ADV', 'INTJ', 'VERB', 'AUX']\n",
        "\n",
        "plt.figure(figsize=(10, 6))\n",
        "plt.bar(range(len(sorted_pos_counts)), sorted_pos_counts.values())\n",
        "plt.xlabel('POS Tags')\n",
        "plt.xticks(range(len(sorted_pos_counts)), pos_ticks, rotation=90)\n",
        "plt.ylabel('Counts')\n",
        "plt.title('POS Tags Distribution')\n",
        "plt.show()"
      ],
      "metadata": {
        "colab": {
          "base_uri": "https://localhost:8080/",
          "height": 598
        },
        "id": "boM_XKM8XDOU",
        "outputId": "99c33568-9644-4239-f00d-2d8e52edcb7d"
      }
    },
    {
      "cell_type": "markdown",
      "source": [
        "> This plot shows the POS tags distribution, which looks standard for English sentences that come from the literature domain."
      ],
      "metadata": {
        "id": "JnUn9cr5IaIm"
      }
    },
    {
      "cell_type": "code",
      "execution_count": 14,
      "outputs": [
        {
          "output_type": "display_data",
          "data": {
            "text/plain": [
              "<Figure size 600x1000 with 3 Axes>"
            ],
            "image/png": "[encoded data removed]"
          },
          "metadata": {}
        }
      ],
      "source": [
        "# Histograms\n",
        "\n",
        "train_sentence_len = [len(sentence) for sentence in train_dataset['tokens']]\n",
        "test_sentence_len = [len(sentence) for sentence in test_dataset['tokens']]\n",
        "val_sentence_len = [len(sentence) for sentence in dev_dataset['tokens']]\n",
        "\n",
        "bin_range = range(min(min(train_sentence_len), min(test_sentence_len), min(val_sentence_len)),\n",
        "                  max(max(train_sentence_len), max(test_sentence_len), max(val_sentence_len)) + 1, 1)\n",
        "\n",
        "# Create subplots\n",
        "fig, (ax1, ax2, ax3) = plt.subplots(3, 1, figsize=(6, 10))\n",
        "\n",
        "# Plot histograms for each dataset\n",
        "ax1.hist(train_sentence_len, bins=bin_range, alpha=0.6, color=\"purple\", density=True, stacked=True, label='Train')\n",
        "ax1.set_ylabel(\"Proportion\")\n",
        "ax1.set_title(\"Train\")\n",
        "\n",
        "ax2.hist(test_sentence_len, bins=bin_range, alpha=0.6, color=\"blue\", density=True, stacked=True, label='Test')\n",
        "ax2.set_ylabel(\"Proportion\")\n",
        "ax2.set_title(\"Test\")\n",
        "\n",
        "ax3.hist(val_sentence_len, bins=bin_range, alpha=0.6, color=\"green\", density=True, stacked=True, label='Val')\n",
        "ax3.set_xlabel(\"Sentence Length\")\n",
        "ax3.set_ylabel(\"Proportion\")\n",
        "ax3.set_title(\"Val\")\n",
        "\n",
        "plt.suptitle('Sentence Length Distribution')\n",
        "plt.tight_layout()\n",
        "plt.show()"
      ],
      "metadata": {
        "colab": {
          "base_uri": "https://localhost:8080/",
          "height": 1000
        },
        "id": "twJItXGlXDOU",
        "outputId": "4b022af6-3e32-4388-8aaa-f888b999fa15"
      }
    },
    {
      "cell_type": "code",
      "source": [
        "# Find the peak for each dataset\n",
        "train_peak_length = np.argmax(np.histogram(train_sentence_len, bins=bin_range)[0])\n",
        "test_peak_length = np.argmax(np.histogram(test_sentence_len, bins=bin_range)[0])\n",
        "val_peak_length = np.argmax(np.histogram(val_sentence_len, bins=bin_range)[0])\n",
        "\n",
        "print(\"Most common sentence length\")\n",
        "print(\"-\"*27)\n",
        "print(f\"Train dataset:\\t {train_peak_length}\")\n",
        "print(f\"Test dataset:\\t {test_peak_length}\")\n",
        "print(f\"Val dataset:\\t {val_peak_length}\")"
      ],
      "metadata": {
        "colab": {
          "base_uri": "https://localhost:8080/"
        },
        "id": "MJfOTsDCHJt_",
        "outputId": "a3e6e97a-79e0-482d-f947-7c7e38437c78"
      },
      "execution_count": 19,
      "outputs": [
        {
          "output_type": "stream",
          "name": "stdout",
          "text": [
            "Most common sentence length\n",
            "---------------------------\n",
            "Train dataset:\t 9\n",
            "Test dataset:\t 9\n",
            "Val dataset:\t 11\n"
          ]
        }
      ]
    },
    {
      "cell_type": "markdown",
      "source": [
        "> The histograms show us that the most common length of a sentence is 9 tokens for Train and Test and 11 for the Val dataset."
      ],
      "metadata": {
        "id": "8kqdZ-HNIILB"
      }
    },
    {
      "cell_type": "markdown",
      "source": [
        "## Preprocessing\n",
        "\n",
        "We are going to preprocess the training set by:\n",
        "\n",
        "*   Adding `<ROOT>` token and setting head to -1.\n",
        "*   Employing BERT Tokenizer in order to save in each sample its `input_ids` and `word_ids` to keep track of the token-word correspondence.\n",
        "*   Removing `non-projective` trees.\n",
        "*   Creating a word/index dictionary, excluding words with fewer than three occurrences."
      ],
      "metadata": {
        "id": "OnFG6QT5Z7-L"
      }
    },
    {
      "cell_type": "code",
      "execution_count": null,
      "outputs": [],
      "source": [
        "# the function returns whether a tree is projective or not. It is currently\n",
        "# implemented inefficiently by brute checking every pair of arcs.\n",
        "def is_projective(tree):\n",
        "  for i in range(len(tree)):\n",
        "    if tree[i] == -1:\n",
        "      continue\n",
        "    left = min(i, tree[i])\n",
        "    right = max(i, tree[i])\n",
        "    for j in range(0, left):\n",
        "      if left < tree[j] < right:\n",
        "        return False\n",
        "    for j in range(left+1, right):\n",
        "      if tree[j] < left or tree[j] > right:\n",
        "        return False\n",
        "    for j in range(right+1, len(tree)):\n",
        "      if left < tree[j] < right:\n",
        "        return False\n",
        "  return True\n",
        "\n",
        "# the function creates a dictionary of word/index pairs: our embeddings vocabulary\n",
        "# threshold is the minimum number of appearance for a token to be included in the embedding list\n",
        "def create_dict(dataset, threshold=3):\n",
        "  dic = {}  # dictionary of word counts\n",
        "  for sample in dataset:\n",
        "    for word in sample['tokens']:\n",
        "      if word in dic:\n",
        "        dic[word] += 1\n",
        "      else:\n",
        "        dic[word] = 1\n",
        "  map = {\"<pad>\": 0,\n",
        "         \"<ROOT>\": 1,\n",
        "         \"<unk>\": 2}  # dictionary of word/index pairs. This is our embedding list\n",
        "  next_indx = 3\n",
        "  for word in dic.keys():\n",
        "    if dic[word] >= threshold:\n",
        "      map[word] = next_indx\n",
        "      next_indx += 1\n",
        "  return map"
      ],
      "metadata": {
        "id": "aIbAClL4XDOV"
      }
    },
    {
      "cell_type": "markdown",
      "source": [
        "The process_sample function is used to process our data and create the actual training samples.\n",
        "\n",
        "The prepare_batch function is used to batch the training data."
      ],
      "metadata": {
        "id": "PqceHMRHJlfz"
      }
    },
    {
      "cell_type": "code",
      "execution_count": null,
      "outputs": [
        {
          "output_type": "display_data",
          "data": {
            "text/plain": [
              "tokenizer_config.json:   0%|          | 0.00/28.0 [00:00<?, ?B/s]"
            ],
            "application/vnd.jupyter.widget-view+json": {
              "version_major": 2,
              "version_minor": 0,
              "model_id": "fec7bb6b436f46a6819a24ae5f41111d"
            }
          },
          "metadata": {}
        },
        {
          "output_type": "display_data",
          "data": {
            "text/plain": [
              "config.json:   0%|          | 0.00/625 [00:00<?, ?B/s]"
            ],
            "application/vnd.jupyter.widget-view+json": {
              "version_major": 2,
              "version_minor": 0,
              "model_id": "7d7b552b641640719e47121e970412bd"
            }
          },
          "metadata": {}
        },
        {
          "output_type": "display_data",
          "data": {
            "text/plain": [
              "vocab.txt:   0%|          | 0.00/872k [00:00<?, ?B/s]"
            ],
            "application/vnd.jupyter.widget-view+json": {
              "version_major": 2,
              "version_minor": 0,
              "model_id": "e8c42897fa0742a2be50062679c43a14"
            }
          },
          "metadata": {}
        },
        {
          "output_type": "display_data",
          "data": {
            "text/plain": [
              "tokenizer.json:   0%|          | 0.00/1.72M [00:00<?, ?B/s]"
            ],
            "application/vnd.jupyter.widget-view+json": {
              "version_major": 2,
              "version_minor": 0,
              "model_id": "4104c1b9d441435f85cbc4a5ccf3b44c"
            }
          },
          "metadata": {}
        }
      ],
      "source": [
        "# Initialize BERT tokenizer, using the fast tokenizer implementation\n",
        "fast_tokenizer = AutoTokenizer.from_pretrained(\"bert-base-multilingual-uncased\", use_fast = True)\n",
        "\n",
        "# This funtion adds the <ROOT> token at the beginning of the samples and -1 to the head.\n",
        "# We proceed with the tokenization with a BERT Tokenizer in order to save in each sample its input_ids and word_ids to keep track of the correspondence \"token-word\".\n",
        "def add_tokenization(sample):\n",
        "  sample['tokens'].insert(0, 'ROOT')\n",
        "  sample['head'].insert(0, '-1')\n",
        "  tokenized_sample = fast_tokenizer(sample['tokens'],\n",
        "                                    is_split_into_words = True,\n",
        "                                    padding='max_length',\n",
        "                                    max_length=120,\n",
        "                                    truncation=True,\n",
        "                                    return_tensors = 'pt')\n",
        "  sample['input_ids'] = tokenized_sample['input_ids'][0]\n",
        "  sample['word_ids'] = tokenized_sample.word_ids()\n",
        "\n",
        "  return sample\n",
        "\n",
        "\n",
        "def process_sample(sample, get_gold_path=False, BERT=False):\n",
        "\n",
        "  # put sentence and gold tree in our format\n",
        "  sentence = sample[\"tokens\"]\n",
        "  gold = [int(i) for i in sample[\"head\"]]  # heads in the gold tree are strings, we convert them to int\n",
        "\n",
        "  # embedding ids of sentence words\n",
        "  enc_sentence = [emb_dictionary[word] if word in emb_dictionary\n",
        "                                       else emb_dictionary[\"<unk>\"] for word in sentence]\n",
        "\n",
        "  # gold_path and gold_moves are parallel arrays whose elements refer to parsing steps\n",
        "  gold_path = []   # record two topmost stack tokens and first buffer token for current step\n",
        "  gold_moves = []  # contains oracle (canonical) move for current step: 0 is left, 1 right, 2 shift\n",
        "\n",
        "  if get_gold_path:  # only for training\n",
        "    parser = ArcEager(sentence)\n",
        "    oracle = Oracle(parser, gold)\n",
        "\n",
        "    while not parser.is_tree_final():\n",
        "\n",
        "      # Save configuration:\n",
        "      # We store the configurations of the stack and the buffer.\n",
        "      if len(parser.stack) == 1:\n",
        "        configuration = [-1, parser.stack[-1], parser.buffer[0]]\n",
        "      elif len(parser.buffer) == 0:\n",
        "        configuration = [parser.stack[-2], parser.stack[-1], -1]\n",
        "      else:\n",
        "        configuration = [parser.stack[-2], parser.stack[-1], parser.buffer[0]]\n",
        "      gold_path.append(configuration)\n",
        "\n",
        "      # save gold move\n",
        "      if oracle.is_left_arc_gold():\n",
        "        gold_moves.append(0)\n",
        "        parser.left_arc()\n",
        "      elif oracle.is_right_arc_gold():\n",
        "        parser.right_arc()\n",
        "        gold_moves.append(1)\n",
        "      elif oracle.is_reduce_gold():\n",
        "        parser.reduce()\n",
        "        gold_moves.append(2)\n",
        "      elif oracle.is_shift_gold():\n",
        "        parser.shift()\n",
        "        gold_moves.append(3)\n",
        "\n",
        "  if BERT:\n",
        "    return enc_sentence, gold_path, gold_moves, gold, sample['input_ids'], sample['word_ids']\n",
        "  else:\n",
        "    return enc_sentence, gold_path, gold_moves, gold\n",
        "\n",
        "\n",
        "def prepare_batch(batch_data, get_gold_path=False, BERT=False):\n",
        "  data = [process_sample(s, get_gold_path=get_gold_path, BERT=BERT) for s in batch_data]\n",
        "  sentences = [s[0] for s in data]\n",
        "  paths = [s[1] for s in data]\n",
        "  moves = [s[2] for s in data]\n",
        "  trees = [s[3] for s in data]\n",
        "\n",
        "  if BERT:\n",
        "    input_ids = [s[4] for s in data]\n",
        "    word_ids = [s[5] for s in data]\n",
        "    return sentences, paths, moves, trees, input_ids, word_ids\n",
        "  else:\n",
        "    return sentences, paths, moves, trees"
      ],
      "metadata": {
        "id": "Nnt5VMzjXDOW",
        "colab": {
          "base_uri": "https://localhost:8080/",
          "referenced_widgets": [
            "fec7bb6b436f46a6819a24ae5f41111d",
            "02981e8d25cf44e69fa64749173866fb",
            "2d115b8261694bc48231661f6344b1ba",
            "e97891a194f7455f9fe029a829bdced8",
            "87f57527613d4901b23003d56a2c6e7c",
            "4dafb533f1874c54948ff2afe3920409",
            "8d84a07aa4174a51ad1c693e8d213308",
            "829a1ea216914632bf584e8fa1be2916",
            "abb1364fee4e46f7a21ad516686b7842",
            "13935e16ab8242cdbd9fa512bd0b399f",
            "43e4ab24e1f343abae2dae4167dd5f20",
            "7d7b552b641640719e47121e970412bd",
            "1d45e8c23e1742c6b32aed7543804a28",
            "c3a6d12dc0fe47e5be49224e02fb23fd",
            "bd8ef00757d64de1983327b8c037e076",
            "13a8e7d870e745978acd62b99b130601",
            "1cbce809efe340f79890514e5043ead1",
            "5da4259810ba4b869ccf4f67a33c4681",
            "fec16c37ad73409a854f68d2578ec474",
            "c47faac2e40e45df93c27fb47f76898e",
            "f44ea5b3a9c1412bbb5198aa1103f708",
            "2242e1b1bdc94ea7abd381f58f0c91e4",
            "e8c42897fa0742a2be50062679c43a14",
            "940886e078ff4205854721aa20eac1bd",
            "4038b775c9a74be7891dec092957d3e8",
            "3886de5f492744f39b1e6b460362014a",
            "e08cbf167c6b4027ac44812e1e4836b9",
            "eec025c2613e42b18e3025dcae27cf72",
            "d303c248581a477dbdbde54110915790",
            "d5b0aed385b34df2b1740e4a89663a1e",
            "7082143c9e4642d0ae7ff5a378dd3391",
            "d17674c9b0cf437198661d83f6646767",
            "f4bc0979669947a4a343d69a3ca1859d",
            "4104c1b9d441435f85cbc4a5ccf3b44c",
            "b75cd4f348734c43aed56333c77bb4b6",
            "630c5880d4764e47b2a4f53f2aa3e252",
            "c0c243deef884a44adc01ec3575f3ece",
            "3348975cd92e409a963bb82dc3fddaf7",
            "27a4c81de5dc4e9e83311a52ff1da1eb",
            "9416780148b84e8d9fa2f5ca14f7ba78",
            "2d2f82fc88814142a48dac97c0a18805",
            "3ddb6e82fb2d45789ee8d72b645db81a",
            "e9db8c824d074f68b310953627cd413f",
            "7c81b19fb0cb438f83919b0d44e11838"
          ],
          "height": 145
        },
        "outputId": "bf8048ab-e247-4d77-9b14-d8324b040b84"
      }
    },
    {
      "cell_type": "code",
      "source": [
        "train_dataset"
      ],
      "metadata": {
        "colab": {
          "base_uri": "https://localhost:8080/"
        },
        "id": "IjV_rAU8KaHg",
        "outputId": "59cf4050-6389-4000-e625-f189e4021042"
      },
      "execution_count": null,
      "outputs": [
        {
          "output_type": "execute_result",
          "data": {
            "text/plain": [
              "Dataset({\n",
              "    features: ['idx', 'text', 'tokens', 'lemmas', 'upos', 'xpos', 'feats', 'head', 'deprel', 'deps', 'misc'],\n",
              "    num_rows: 3176\n",
              "})"
            ]
          },
          "metadata": {},
          "execution_count": 16
        }
      ]
    },
    {
      "cell_type": "code",
      "execution_count": null,
      "outputs": [
        {
          "output_type": "display_data",
          "data": {
            "text/plain": [
              "Map:   0%|          | 0/3176 [00:00<?, ? examples/s]"
            ],
            "application/vnd.jupyter.widget-view+json": {
              "version_major": 2,
              "version_minor": 0,
              "model_id": "681dc60662c54e7fbe54c44958c83b30"
            }
          },
          "metadata": {}
        },
        {
          "output_type": "display_data",
          "data": {
            "text/plain": [
              "Map:   0%|          | 0/1032 [00:00<?, ? examples/s]"
            ],
            "application/vnd.jupyter.widget-view+json": {
              "version_major": 2,
              "version_minor": 0,
              "model_id": "ea7cdc86737b4bd983043000d7d2d0cb"
            }
          },
          "metadata": {}
        },
        {
          "output_type": "display_data",
          "data": {
            "text/plain": [
              "Map:   0%|          | 0/1035 [00:00<?, ? examples/s]"
            ],
            "application/vnd.jupyter.widget-view+json": {
              "version_major": 2,
              "version_minor": 0,
              "model_id": "d5576934ec724ec6893aa0e46bf3e948"
            }
          },
          "metadata": {}
        },
        {
          "output_type": "stream",
          "name": "stdout",
          "text": [
            "Number of samples\n",
            "Train:\t 2922\n",
            "Dev:\t 1032\n",
            "Test:\t 1035\n"
          ]
        }
      ],
      "source": [
        "train_dataset = train_dataset.map(add_tokenization)\n",
        "dev_dataset = dev_dataset.map(add_tokenization)\n",
        "test_dataset = test_dataset.map(add_tokenization)\n",
        "\n",
        "# Remove non-projective sentences: heads in the gold tree are strings, we convert them to int\n",
        "# then check whether the sentence is projective\n",
        "train_dataset = [sample for sample in train_dataset if is_projective([int(head) for head in sample[\"head\"]])]\n",
        "\n",
        "# Create the embedding dictionary\n",
        "emb_dictionary = create_dict(train_dataset)\n",
        "\n",
        "print(\"Number of samples\")\n",
        "print(\"Train:\\t\", len(train_dataset)) # (train is the number of samples without the non-projective)\n",
        "print(\"Dev:\\t\", len(dev_dataset))\n",
        "print(\"Test:\\t\", len(test_dataset))"
      ],
      "metadata": {
        "id": "dkec6WsWXDOV",
        "colab": {
          "base_uri": "https://localhost:8080/",
          "referenced_widgets": [
            "681dc60662c54e7fbe54c44958c83b30",
            "044147413bef4c64ade1d8eca719d37a",
            "a1b9c903c67943bfaf4c642e8d6ae76f",
            "143c7347ae574647bd09c5ceb1829133",
            "402697e7760e4f75b43957565447ef2c",
            "ce7b569b478245baa64a0a681ab10dfc",
            "f616dfb5adb541fa91213b5f05e69e66",
            "8c24052c546f436fbdf9591ad2070fb7",
            "a9908a0476404e9d9fbfc2a5c0b75b9b",
            "d64aaa608d634956ae55001432e6cbfe",
            "c8bfc3a3a7df44059aa0e662674bbe19",
            "ea7cdc86737b4bd983043000d7d2d0cb",
            "d0eecfa0d8814ceb99b94facce269d0a",
            "92f6ad73ce2647f49c8c8c98de0b192b",
            "b70b3814a3de477eb9cc60764c2ffba6",
            "fa77af47670d4aca8352287a8af3880e",
            "756d4f6939264f5da3b52eae66cb9704",
            "07e801be5f0746258455865d6ab758bb",
            "820714b45e1943218a989bae40f4fa0e",
            "ee43639b68444d1ea37324f1b29aecab",
            "fd9de97ea9404d83a695a279abc0efdf",
            "4bb82874954e4a4b9f89b9c0af688fba",
            "d5576934ec724ec6893aa0e46bf3e948",
            "acc1347abe4c4d6aae9b309529b38e9b",
            "dcfd61d71f244ef1b0df79aaf5b57d64",
            "bef26751de704c25897f01c412c3fca7",
            "4147118b085a46b88a37805a912c1790",
            "ec3909ef666446e78eecf9482b818d3d",
            "455a504781a049e0b4e97b59204638bf",
            "9ab756746f014bb79b8197966d62d5e6",
            "ee1f5fa33bf349a5b068701559e58c94",
            "da7b30e79b404fb6abc4f82bd529a226",
            "c6504cd333da4736911971c63472b9d4"
          ],
          "height": 182
        },
        "outputId": "75bbcbf6-8692-47fa-d274-580b56352800"
      }
    },
    {
      "cell_type": "code",
      "source": [
        "train_dataset[0].keys()"
      ],
      "metadata": {
        "colab": {
          "base_uri": "https://localhost:8080/"
        },
        "id": "aFROGuxVKdhz",
        "outputId": "b87de210-c96b-4f2c-da38-ec7fd0c2c8b1"
      },
      "execution_count": null,
      "outputs": [
        {
          "output_type": "execute_result",
          "data": {
            "text/plain": [
              "dict_keys(['idx', 'text', 'tokens', 'lemmas', 'upos', 'xpos', 'feats', 'head', 'deprel', 'deps', 'misc', 'input_ids', 'word_ids'])"
            ]
          },
          "metadata": {},
          "execution_count": 18
        }
      ]
    },
    {
      "cell_type": "markdown",
      "source": [
        "> The complete dataset is composed of $5,243$ sentences.\\\n",
        "> The train dataset is composed of $2,922$ filtered samples, after removing $254$ sentences that were non-projective."
      ],
      "metadata": {
        "id": "-ZmNB8c5GlWv"
      }
    },
    {
      "cell_type": "markdown",
      "source": [
        "# Baseline model: Bi-LSTM\n"
      ],
      "metadata": {
        "collapsed": false,
        "id": "OiHSOpaeXDOV"
      }
    },
    {
      "cell_type": "markdown",
      "source": [
        "Config parameters:"
      ],
      "metadata": {
        "collapsed": false,
        "id": "cfJOGc7JXDOW"
      }
    },
    {
      "cell_type": "code",
      "execution_count": null,
      "outputs": [],
      "source": [
        "LR = 1e-3 # @param [\"1e-4\", \"5e-4\", \"1e-3\", \"5e-3\"] {type:\"raw\"}\n",
        "ACTIVATION_FN = torch.nn.Tanh() # @param [\"torch.nn.LeakyReLU()\", \"torch.nn.Tanh()\", \"torch.nn.ReLU()\"] {type:\"raw\"}\n",
        "\n",
        "# Keep the number of epochs and batch_size fixed\n",
        "EPOCHS = 15\n",
        "BATCH_SIZE = 32\n",
        "# Keep the architecture fixed\n",
        "EMBEDDING_SIZE = 200\n",
        "LSTM_SIZE = 200\n",
        "LSTM_LAYERS = 1\n",
        "MLP_SIZE = 200\n",
        "DROPOUT = 0.2"
      ],
      "metadata": {
        "id": "8hAHu5BFXDOW"
      }
    },
    {
      "cell_type": "code",
      "source": [
        "if use_wandb:\n",
        "  wandb.init(project=\"NLP_ArcEager\",\n",
        "             config = {\"architecture\"  : \"BiLSTM\",\n",
        "                      \"learning_rate\" : LR,\n",
        "                      \"BATCH_SIZE\"    : BATCH_SIZE,\n",
        "                      \"epochs\"        : EPOCHS,\n",
        "                      \"act_function\"  : ACTIVATION_FN\n",
        "                      }\n",
        "            )"
      ],
      "metadata": {
        "id": "5DHUujHlTavF"
      },
      "execution_count": null,
      "outputs": []
    },
    {
      "cell_type": "markdown",
      "source": [
        "## Model definition\n",
        "\n",
        "In this section, we introduce our baseline model, named `Net`. It employs a `2-layer Bi-LSTM` to extract embeddings from words, capturing contextual information from both past and future words in a sequence. These embeddings are then used to construct configurations $[s1, s2, b]$ which are passed to a Feedforward Neural Network. The FNN predicts the next move of the parser, incorporating a `multi-layer perceptron` to generate a 4-dimensional vector representing the probabilities of each potential transition. During inference, `the transition with the highest score is executed`, provided that the preconditions are met. In cases where preconditions are not satisfied, the model defaults to performing the second-highest scoring move (handed by the parse_step function)"
      ],
      "metadata": {
        "collapsed": false,
        "id": "3TWEevvxXDOW"
      }
    },
    {
      "cell_type": "code",
      "execution_count": null,
      "outputs": [],
      "source": [
        "class Net(nn.Module):\n",
        "\n",
        "    def __init__(self, device):\n",
        "        super(Net, self).__init__()\n",
        "        self.device = device\n",
        "        self.embeddings = nn.Embedding(len(emb_dictionary), EMBEDDING_SIZE, padding_idx=emb_dictionary[\"<pad>\"])\n",
        "\n",
        "        # initialize bi-LSTM\n",
        "        self.lstm = nn.LSTM(EMBEDDING_SIZE, LSTM_SIZE, num_layers=LSTM_LAYERS, bidirectional=True, dropout=DROPOUT)\n",
        "\n",
        "        # initialize feedforward\n",
        "        self.w1 = torch.nn.Linear(6 * LSTM_SIZE, MLP_SIZE, bias=True)\n",
        "        self.activation = ACTIVATION_FN\n",
        "        self.w2 = torch.nn.Linear(MLP_SIZE, 4, bias=True)\n",
        "        self.softmax = torch.nn.Softmax(dim=-1)\n",
        "\n",
        "        self.dropout = torch.nn.Dropout(DROPOUT)\n",
        "\n",
        "    def forward(self, x, paths):  # x is a sentence (index of the embeddings), paths is parser configuration\n",
        "        # get the embeddings\n",
        "        x = [self.dropout(self.embeddings(torch.tensor(i).to(self.device))) for i in x]\n",
        "\n",
        "        # run the bi-lstm\n",
        "        h = self.lstm_pass(x)  # run embeddings through bi-lstm and get contextual embeddings as output\n",
        "\n",
        "        # for each parser configuration that we need to score, we arrange from the\n",
        "        # output of the bi-lstm the correct input for the feedforward\n",
        "        mlp_input = self.get_mlp_input(paths, h)\n",
        "\n",
        "        # run the feedforward and get the scores for each possible action\n",
        "        out = self.mlp(mlp_input)\n",
        "\n",
        "        return out\n",
        "\n",
        "    def lstm_pass(self, x):\n",
        "        x = torch.nn.utils.rnn.pack_sequence(x, enforce_sorted=False)\n",
        "        h, (_, _) = self.lstm(x)\n",
        "        h, h_sizes = torch.nn.utils.rnn.pad_packed_sequence(\n",
        "            h)  # size h: (length_sentences, batch, output_hidden_units)\n",
        "        return h\n",
        "\n",
        "    def get_mlp_input(self, configurations, h):\n",
        "        mlp_input = []\n",
        "        zero_tensor = torch.zeros(2 * LSTM_SIZE, requires_grad=False).to(self.device)\n",
        "        for i in range(len(configurations)):  # for every sentence in the batch\n",
        "            for j in configurations[i]:  # for each configuration of a sentence\n",
        "                mlp_input.append(\n",
        "                    torch.cat([zero_tensor if j[0] == -1 else h[j[0]][i],\n",
        "                               zero_tensor if j[1] == -1 else h[j[1]][i],\n",
        "                               zero_tensor if j[2] == -1 else h[j[2]][i]]))\n",
        "        mlp_input = torch.stack(mlp_input).to(self.device)\n",
        "        return mlp_input\n",
        "\n",
        "    def mlp(self, x):\n",
        "        return self.softmax(self.w2(self.dropout(self.activation(self.w1(self.dropout(x))))))\n",
        "\n",
        "    # we use this function at inference time. We run the parser and at each step\n",
        "    # we pick as the next move the one with the highest score assigned by the model\n",
        "    def infere(self, x):\n",
        "\n",
        "        parsers = [ArcEager(i) for i in x]  # one parser of each sentence\n",
        "\n",
        "        x = [self.embeddings(torch.tensor(i).to(self.device)) for i in x]  # get the embeddings\n",
        "\n",
        "        h = self.lstm_pass(x)  # get contextual embeddings\n",
        "\n",
        "        # inference step: the parser runs following the predictions of the model\n",
        "        while not self.parsed_all(parsers):\n",
        "            # get the current configuration and score next moves\n",
        "            configurations = self.get_configurations(parsers)\n",
        "            mlp_input = self.get_mlp_input(configurations, h)\n",
        "            mlp_out = self.mlp(mlp_input)\n",
        "            # take the next parsing step\n",
        "            self.parse_step(parsers, mlp_out)  # constraints not implemented in the parser are hidden here\n",
        "\n",
        "        # return the predicted dependency tree (one for each sentence in the batch)\n",
        "        return [parser.arcs for parser in parsers]\n",
        "\n",
        "    def get_configurations(self, parsers):\n",
        "        configurations = []\n",
        "\n",
        "        for parser in parsers:\n",
        "            if parser.is_tree_final():\n",
        "                conf = [-1, -1, -1]\n",
        "            else:\n",
        "                conf = [parser.stack[len(parser.stack) - 2], parser.stack[len(parser.stack) - 1]]\n",
        "                if len(parser.buffer) == 0:\n",
        "                    conf.append(-1)\n",
        "                else:\n",
        "                    conf.append(parser.buffer[0])\n",
        "            configurations.append([conf])\n",
        "\n",
        "        return configurations\n",
        "\n",
        "    def parsed_all(self, parsers):\n",
        "        for parser in parsers:\n",
        "            if not parser.is_tree_final():\n",
        "                return False\n",
        "        return True\n",
        "\n",
        "    # In this function, we select and perform the next move according to the scores obtained from the model.\n",
        "    # We need to be careful and select correct moves, e.g. don't do a shift if the buffer\n",
        "    # is empty or a left arc if σ2 is the ROOT. For clarity's sake, we didn't implement\n",
        "    # these checks in the parser, so we must do them here. This renders the function quite ugly\n",
        "    def parse_step(self, parsers, moves):\n",
        "        moves_argm = moves.argmax(-1)\n",
        "\n",
        "        for i in range(len(parsers)):\n",
        "            if parsers[i].is_tree_final():\n",
        "                continue\n",
        "            else:\n",
        "                move_scores_sorted = np.argsort(-moves[i].cpu().numpy())\n",
        "                s1 = parsers[i].stack[-1]\n",
        "                is_only_root_on_stack = bool(s1 == 0)\n",
        "                is_head_assigned = bool(parsers[i].arcs[s1] != -1)\n",
        "                is_buffer_empty = bool(len(parsers[i].buffer) == 0)\n",
        "\n",
        "                # 0 is Left arc\n",
        "                if moves_argm[i] == 0:\n",
        "                    if not is_buffer_empty and not is_only_root_on_stack and not is_head_assigned:\n",
        "                        parsers[i].left_arc()\n",
        "                    else:\n",
        "                        if is_buffer_empty:\n",
        "                            parsers[i].reduce()\n",
        "                        else: # buffer not empty\n",
        "                            if move_scores_sorted[1] == 1: # 1 is Right arc\n",
        "                                parsers[i].right_arc()\n",
        "                            elif move_scores_sorted[1] == 2 and not is_only_root_on_stack: # 2 is Reduce\n",
        "                                parsers[i].reduce()\n",
        "                            else:\n",
        "                                parsers[i].shift()\n",
        "                # 1 is Right arc\n",
        "                elif moves_argm[i] == 1:\n",
        "                    if not is_buffer_empty:\n",
        "                        parsers[i].right_arc()\n",
        "                    else: # buffer is empty (we can't do shift)\n",
        "                        parsers[i].reduce()\n",
        "\n",
        "                # 2 is Reduce\n",
        "                elif moves_argm[i] == 2:\n",
        "                    if is_head_assigned and not is_only_root_on_stack:\n",
        "                        parsers[i].reduce()\n",
        "                    else:\n",
        "                        if not is_head_assigned and not is_buffer_empty:\n",
        "                            if move_scores_sorted[1] == 0 and not is_only_root_on_stack: # 0 is Left arc\n",
        "                                parsers[i].left_arc()\n",
        "                            elif move_scores_sorted[1] == 1: # 1 is Right arc\n",
        "                                parsers[i].right_arc()\n",
        "                            else:\n",
        "                                parsers[i].shift()\n",
        "                        else: # buffer is empty or head is assigned\n",
        "                            if is_buffer_empty:\n",
        "                                parsers[i].reduce()\n",
        "                            else: # head is assigned\n",
        "                                if move_scores_sorted[1] == 1:\n",
        "                                    parsers[i].right_arc()\n",
        "                                else:\n",
        "                                    parsers[i].shift()\n",
        "                # 3 is Shift\n",
        "                elif moves_argm[i] == 3:\n",
        "                    if not is_buffer_empty:\n",
        "                        parsers[i].shift()\n",
        "                    else:\n",
        "                        parsers[i].reduce()"
      ],
      "metadata": {
        "id": "P-G6jzVUXDOW"
      }
    },
    {
      "cell_type": "markdown",
      "source": [
        "## Train and test\n",
        "\n",
        "Now that we have defined all our components, we are ready to train our model.\n",
        "\n",
        "Here we first define our evaluation function. We use `UAS (Unlabeled Accuracy Score)` which is the percentage of correct arcs predicted over all the arcs.\n",
        "\n",
        "Also, we define our train loop and the test function to run inference."
      ],
      "metadata": {
        "collapsed": false,
        "id": "3DoaS3wZXDOX"
      }
    },
    {
      "cell_type": "code",
      "execution_count": null,
      "outputs": [],
      "source": [
        "def evaluate(gold, preds): # returns % of correct dependency edges\n",
        "  total = 0\n",
        "  correct = 0\n",
        "\n",
        "  for g, p in zip(gold, preds):\n",
        "    for i in range(1,len(g)):\n",
        "      total += 1\n",
        "      if g[i] == p[i]:\n",
        "        correct += 1\n",
        "\n",
        "  return correct/total\n",
        "\n",
        "def train(model, dataloader, criterion, optimizer):\n",
        "  model.train()\n",
        "  total_loss = 0\n",
        "  count = 0\n",
        "\n",
        "  for batch in dataloader:\n",
        "    optimizer.zero_grad()\n",
        "    sentences, paths, moves, trees = batch\n",
        "\n",
        "    out = model(sentences, paths)\n",
        "    labels = torch.tensor(sum(moves, [])).to(device) # sum(moves, []) flatten the array\n",
        "    loss = criterion(out, labels)\n",
        "\n",
        "    count += 1\n",
        "    total_loss += loss.item()\n",
        "\n",
        "    loss.backward()\n",
        "    optimizer.step()\n",
        "\n",
        "  return total_loss/count\n",
        "\n",
        "def test(model, dataloader):\n",
        "  model.eval()\n",
        "\n",
        "  gold = []\n",
        "  preds = []\n",
        "\n",
        "  for batch in dataloader:\n",
        "    sentences, paths, moves, trees = batch\n",
        "    with torch.no_grad():\n",
        "      pred = model.infere(sentences)\n",
        "\n",
        "      gold += trees\n",
        "      preds += pred\n",
        "\n",
        "  return evaluate(gold, preds)"
      ],
      "metadata": {
        "id": "A8IJt6MDXDOX"
      }
    },
    {
      "cell_type": "markdown",
      "source": [
        "Let's create dataloaders for train, development and test sets."
      ],
      "metadata": {
        "collapsed": false,
        "id": "a6oUGPioXDOX"
      }
    },
    {
      "cell_type": "code",
      "execution_count": null,
      "outputs": [],
      "source": [
        "train_dataloader = torch.utils.data.DataLoader(train_dataset, batch_size=BATCH_SIZE, shuffle=True, collate_fn=partial(prepare_batch, get_gold_path=True))\n",
        "dev_dataloader = torch.utils.data.DataLoader(dev_dataset, batch_size=BATCH_SIZE, shuffle=False, collate_fn=partial(prepare_batch))\n",
        "test_dataloader = torch.utils.data.DataLoader(test_dataset, batch_size=BATCH_SIZE, shuffle=False, collate_fn=partial(prepare_batch))"
      ],
      "metadata": {
        "id": "OTOXGl1kXDOX"
      }
    },
    {
      "cell_type": "code",
      "execution_count": null,
      "outputs": [
        {
          "output_type": "stream",
          "name": "stdout",
          "text": [
            "Device: cuda\n"
          ]
        },
        {
          "output_type": "stream",
          "name": "stderr",
          "text": [
            "/usr/local/lib/python3.10/dist-packages/torch/nn/modules/rnn.py:82: UserWarning: dropout option adds dropout after all but last recurrent layer, so non-zero dropout expects num_layers greater than 1, but got dropout=0.2 and num_layers=1\n",
            "  warnings.warn(\"dropout option adds dropout after all but last \"\n"
          ]
        },
        {
          "output_type": "stream",
          "name": "stdout",
          "text": [
            "Epoch:   1 | avg_train_loss: 1.058 | dev_uas: 0.543 |\n",
            "Epoch:   2 | avg_train_loss: 0.920 | dev_uas: 0.637 |\n",
            "Epoch:   3 | avg_train_loss: 0.884 | dev_uas: 0.658 |\n",
            "Epoch:   4 | avg_train_loss: 0.866 | dev_uas: 0.678 |\n",
            "Epoch:   5 | avg_train_loss: 0.855 | dev_uas: 0.682 |\n",
            "Epoch:   6 | avg_train_loss: 0.845 | dev_uas: 0.697 |\n",
            "Epoch:   7 | avg_train_loss: 0.837 | dev_uas: 0.709 |\n",
            "Epoch:   8 | avg_train_loss: 0.831 | dev_uas: 0.701 |\n",
            "Epoch:   9 | avg_train_loss: 0.826 | dev_uas: 0.714 |\n",
            "Epoch:  10 | avg_train_loss: 0.819 | dev_uas: 0.701 |\n",
            "Epoch:  11 | avg_train_loss: 0.816 | dev_uas: 0.720 |\n",
            "Epoch:  12 | avg_train_loss: 0.812 | dev_uas: 0.729 |\n",
            "Epoch:  13 | avg_train_loss: 0.808 | dev_uas: 0.722 |\n",
            "Epoch:  14 | avg_train_loss: 0.806 | dev_uas: 0.731 |\n",
            "Epoch:  15 | avg_train_loss: 0.804 | dev_uas: 0.726 |\n"
          ]
        }
      ],
      "source": [
        "device = torch.device(\"cuda\" if torch.cuda.is_available() else \"cpu\")\n",
        "print(\"Device:\", device)\n",
        "\n",
        "model = Net(device)\n",
        "model = model.to(device)\n",
        "\n",
        "criterion = nn.CrossEntropyLoss()\n",
        "optimizer = torch.optim.Adam(model.parameters(), lr=LR)\n",
        "\n",
        "for epoch in range(EPOCHS):\n",
        "  avg_train_loss = train(model, train_dataloader, criterion, optimizer)\n",
        "  val_uas = test(model, dev_dataloader)\n",
        "\n",
        "  if use_wandb:\n",
        "    wandb.log({\"avg_train_loss\": avg_train_loss, \"val_uas\": val_uas})\n",
        "\n",
        "  print(\"Epoch: {:3d} | avg_train_loss: {:5.3f} | dev_uas: {:5.3f} |\".format(epoch+1, avg_train_loss, val_uas))"
      ],
      "metadata": {
        "colab": {
          "base_uri": "https://localhost:8080/"
        },
        "id": "f4X6drd4XDOX",
        "outputId": "87ada4de-a095-4d5f-8019-e0cb2d549030"
      }
    },
    {
      "cell_type": "code",
      "source": [
        "test_uas = test(model, test_dataloader)\n",
        "print(\"test_uas: {:5.3f}\".format( test_uas))\n",
        "\n",
        "if use_wandb:\n",
        "  wandb.log({\"test_uas\": test_uas})\n",
        "  wandb.finish()"
      ],
      "metadata": {
        "colab": {
          "base_uri": "https://localhost:8080/"
        },
        "id": "wYRK5m6IlK7q",
        "outputId": "fcaa4140-6a50-4079-946d-4e0dcdeef7f9"
      },
      "execution_count": null,
      "outputs": [
        {
          "output_type": "stream",
          "name": "stdout",
          "text": [
            "test_uas: 0.732\n"
          ]
        }
      ]
    },
    {
      "cell_type": "markdown",
      "source": [
        "# BERT-based model"
      ],
      "metadata": {
        "id": "4RpUgp1aliCb"
      }
    },
    {
      "cell_type": "code",
      "source": [
        "model_name = \"bert-base-multilingual-uncased\"\n",
        "\n",
        "device = torch.device(\"cuda\" if torch.cuda.is_available() else \"cpu\")\n",
        "print(\"Device:\", device)\n",
        "\n",
        "BERT_model = AutoModel.from_pretrained(model_name).to(device)\n",
        "print(BERT_model)"
      ],
      "metadata": {
        "id": "aJBX7P-6l97v",
        "colab": {
          "base_uri": "https://localhost:8080/",
          "referenced_widgets": [
            "2aad5a3437994c6ca96d6c7147e65499",
            "dcbfd1ad9c69496ebe5ad4789837873f",
            "35b4d781c17b437f8affe5f57461ffad",
            "ac847b33222e46be898b28340148e7bb",
            "725406049eda4c828af96e8813b60dae",
            "ab379a0905d6410d9318d83d67481110",
            "a6e5b797c94a4ec6b9c5d1fa15743057",
            "3c90eacaca814d19a9b313e085bb644f",
            "e87187ec6fc94c619b3bf358d5b540e1",
            "e95c1bc23d0748eb8cf341c7e13b0321",
            "708cd37dcfe943d9b8bb440d6034d514"
          ],
          "height": 778
        },
        "outputId": "33048347-d7e2-43c7-9be3-101ff25a2e91"
      },
      "execution_count": null,
      "outputs": [
        {
          "output_type": "stream",
          "name": "stdout",
          "text": [
            "Device: cpu\n"
          ]
        },
        {
          "output_type": "display_data",
          "data": {
            "text/plain": [
              "model.safetensors:   0%|          | 0.00/672M [00:00<?, ?B/s]"
            ],
            "application/vnd.jupyter.widget-view+json": {
              "version_major": 2,
              "version_minor": 0,
              "model_id": "2aad5a3437994c6ca96d6c7147e65499"
            }
          },
          "metadata": {}
        },
        {
          "output_type": "stream",
          "name": "stdout",
          "text": [
            "BertModel(\n",
            "  (embeddings): BertEmbeddings(\n",
            "    (word_embeddings): Embedding(105879, 768, padding_idx=0)\n",
            "    (position_embeddings): Embedding(512, 768)\n",
            "    (token_type_embeddings): Embedding(2, 768)\n",
            "    (LayerNorm): LayerNorm((768,), eps=1e-12, elementwise_affine=True)\n",
            "    (dropout): Dropout(p=0.1, inplace=False)\n",
            "  )\n",
            "  (encoder): BertEncoder(\n",
            "    (layer): ModuleList(\n",
            "      (0-11): 12 x BertLayer(\n",
            "        (attention): BertAttention(\n",
            "          (self): BertSelfAttention(\n",
            "            (query): Linear(in_features=768, out_features=768, bias=True)\n",
            "            (key): Linear(in_features=768, out_features=768, bias=True)\n",
            "            (value): Linear(in_features=768, out_features=768, bias=True)\n",
            "            (dropout): Dropout(p=0.1, inplace=False)\n",
            "          )\n",
            "          (output): BertSelfOutput(\n",
            "            (dense): Linear(in_features=768, out_features=768, bias=True)\n",
            "            (LayerNorm): LayerNorm((768,), eps=1e-12, elementwise_affine=True)\n",
            "            (dropout): Dropout(p=0.1, inplace=False)\n",
            "          )\n",
            "        )\n",
            "        (intermediate): BertIntermediate(\n",
            "          (dense): Linear(in_features=768, out_features=3072, bias=True)\n",
            "          (intermediate_act_fn): GELUActivation()\n",
            "        )\n",
            "        (output): BertOutput(\n",
            "          (dense): Linear(in_features=3072, out_features=768, bias=True)\n",
            "          (LayerNorm): LayerNorm((768,), eps=1e-12, elementwise_affine=True)\n",
            "          (dropout): Dropout(p=0.1, inplace=False)\n",
            "        )\n",
            "      )\n",
            "    )\n",
            "  )\n",
            "  (pooler): BertPooler(\n",
            "    (dense): Linear(in_features=768, out_features=768, bias=True)\n",
            "    (activation): Tanh()\n",
            "  )\n",
            ")\n"
          ]
        }
      ]
    },
    {
      "cell_type": "code",
      "source": [
        "sample_sentence = train_dataset[0]\n",
        "\n",
        "print('Original text:\\t', sample_sentence['tokens'])\n",
        "\n",
        "tokenizer = AutoTokenizer.from_pretrained(model_name, use_fast = True)\n",
        "encoded_input = tokenizer(sample_sentence['tokens'],\n",
        "                          is_split_into_words = True, padding='max_length',\n",
        "                          max_length=120, truncation=True, return_tensors = 'pt')\n",
        "encoded_input = encoded_input.to(device)\n",
        "output = BERT_model(**encoded_input)\n",
        "\n",
        "print('Tokenized text:\\t', tokenizer.convert_ids_to_tokens(encoded_input[\"input_ids\"][0])[:25])\n",
        "print('\\nTokenized input ids:\\t', encoded_input['input_ids'][0,:25])\n",
        "print('\\nBert model embeddings shape:', output.last_hidden_state.shape)"
      ],
      "metadata": {
        "colab": {
          "base_uri": "https://localhost:8080/"
        },
        "id": "TX-7Ou9caex2",
        "outputId": "e32b7aca-436e-4346-fac8-cd2a264d86ac"
      },
      "execution_count": null,
      "outputs": [
        {
          "output_type": "stream",
          "name": "stdout",
          "text": [
            "Original text:\t ['ROOT', 'Show', 'All']\n",
            "Tokenized text:\t ['[CLS]', 'root', 'show', 'all', '[SEP]', '[PAD]', '[PAD]', '[PAD]', '[PAD]', '[PAD]', '[PAD]', '[PAD]', '[PAD]', '[PAD]', '[PAD]', '[PAD]', '[PAD]', '[PAD]', '[PAD]', '[PAD]', '[PAD]', '[PAD]', '[PAD]', '[PAD]', '[PAD]']\n",
            "\n",
            "Tokenized input ids:\t tensor([  101, 33765, 11391, 10367,   102,     0,     0,     0,     0,     0,\n",
            "            0,     0,     0,     0,     0,     0,     0,     0,     0,     0,\n",
            "            0,     0,     0,     0,     0])\n",
            "\n",
            "Bert model embeddings shape: torch.Size([1, 120, 768])\n"
          ]
        }
      ]
    },
    {
      "cell_type": "code",
      "source": [
        "# Parameters\n",
        "EMB_SIZE = 768\n",
        "MLP_SIZE = 200\n",
        "DROPOUT = 0.2\n",
        "\n",
        "EPOCHS = 15 # @param {type:\"slider\", min:1, max:30, step:1}\n",
        "LR = 1e-3 # @param [\"1e-3\", \"5e-3\", \"1e-4\", \"5e-4\"] {type:\"raw\"}\n",
        "BATCH_SIZE = 32 # @param {type:\"slider\", min:8, max:64, step:8}\n",
        "ACTIVATION_FN= torch.nn.ReLU() # @param [\"torch.nn.ReLU()\", \"torch.nn.LeakyReLU()\",\"torch.nn.Tanh()\"] {type:\"raw\"}"
      ],
      "metadata": {
        "id": "pR3PJ1d1azNL"
      },
      "execution_count": null,
      "outputs": []
    },
    {
      "cell_type": "markdown",
      "source": [
        "## Model definition\n",
        "\n",
        "We are going to use the Multilingual BERT (`'bert-base-multilingual-uncased'`) text encoder to generate contextualized embeddings for the input words. This [model](https://huggingface.co/bert-base-multilingual-uncased) is pretrained on the top 102 languages with the largest Wikipedia using a masked language modeling (MLM) objective. Also, it is uncased: it does not make a difference between english and English.\n",
        "\n",
        "The `BERTNet` model focuses on extracting information from the last 4 hidden layers of BERT to capture more local contextual details.\n",
        "\n",
        "The input sentences are tokenized using a FastTokenizer, resulting in `'input_ids'` and `'word_ids'` for each sample. FastTokenizer is employed to handle BPE tokenization, and the `'word_ids'` help track subtokens, allowing the model to average embeddings corresponding to a specific word.\n",
        "\n",
        "For input sentences, BERT requires `'input_ids'` to generate word embeddings. After processing subtokens, the implementation follows the same structure as the Bi-LSTM model."
      ],
      "metadata": {
        "id": "HI-zF1G2EXXG"
      }
    },
    {
      "cell_type": "code",
      "source": [
        "class BERTNet(nn.Module):\n",
        "\n",
        "  def __init__(self, device):\n",
        "    super(BERTNet, self).__init__()\n",
        "\n",
        "\n",
        "    # initialize feedforward\n",
        "    self.w1 = torch.nn.Linear(3*EMB_SIZE, MLP_SIZE, bias=True)\n",
        "    self.activation = ACTIVATION_FN\n",
        "    self.w2 = torch.nn.Linear(MLP_SIZE, 4, bias=True)\n",
        "    self.softmax = torch.nn.Softmax(dim=-1)\n",
        "\n",
        "    self.dropout = torch.nn.Dropout(DROPOUT)\n",
        "\n",
        "\n",
        "  def forward(self, input_ids, paths, word_ids):\n",
        "    # run BERT encoder\n",
        "    h = self.bert_pass(input_ids)\n",
        "    # for each parser configuration that we need to score we arrange from the\n",
        "    # output of BERT encoder the correct input for the feedforward\n",
        "    mlp_input = self.get_mlp_input(paths, h, word_ids).to(device)\n",
        "    # run the feedforward and get the scores for each possible action\n",
        "    out = self.mlp(mlp_input).to(device)\n",
        "\n",
        "    return out\n",
        "\n",
        "  def bert_pass(self, input_ids): # Extracts embeddings using BERT\n",
        "    input_ids = torch.tensor(input_ids).to(device) # inputs to device\n",
        "    h = BERT_model(input_ids.to(device), output_hidden_states = True) # Returns (batch, len_sent, hid) for each layer\n",
        "    h = torch.stack(h.hidden_states[-4:]).sum(0).to(device)\n",
        "    return h # shape = (batch, len_sent, hid)\n",
        "\n",
        "  def get_mlp_input(self, configurations, h, word_ids): # Creates the inputs for the feedforward\n",
        "    mlp_input = []\n",
        "    zero_tensor = torch.zeros(EMB_SIZE, requires_grad=False).to(device)\n",
        "\n",
        "    for i in range(len(configurations)): # for every sentence in the batch\n",
        "      word_ids_i = np.array(word_ids[i]) # word_ids of the i-th sentence\n",
        "\n",
        "      for j in configurations[i]: # for each configuration of a sentence\n",
        "        j0_tokens = np.where(word_ids_i == j[0])[0]\n",
        "        j1_tokens = np.where(word_ids_i == j[1])[0]\n",
        "        j2_tokens = np.where(word_ids_i == j[2])[0]\n",
        "\n",
        "        mlp_input.append(torch.cat([zero_tensor if j[0]==-1 else torch.mean(h[i][j0_tokens], dim=0),\n",
        "                                    zero_tensor if j[1]==-1 else torch.mean(h[i][j1_tokens], dim=0),\n",
        "                                    zero_tensor if j[2]==-1 else torch.mean(h[i][j2_tokens], dim=0)]))\n",
        "    mlp_input = torch.stack(mlp_input).to(device)\n",
        "\n",
        "    return mlp_input\n",
        "\n",
        "  def mlp(self, x): # pass the input to the feedforward\n",
        "    return self.softmax(self.w2(self.dropout(self.activation(self.w1(self.dropout(x))))))\n",
        "\n",
        "  # we use this function at inference time. We run the parser and at each step\n",
        "  # we pick as next move the one with the highest score assigned by the model\n",
        "  def infere(self, sentences, input_ids, word_ids):\n",
        "\n",
        "    parsers = [ArcEager(i) for i in sentences]\n",
        "\n",
        "    h = self.bert_pass(input_ids)\n",
        "    pred_moves = [[] for _ in range(len(parsers))] # to store the moves\n",
        "\n",
        "    while not self.parsed_all(parsers):\n",
        "      # get the current configuration and score next moves\n",
        "      configurations = self.get_configurations(parsers)\n",
        "\n",
        "      mlp_input = self.get_mlp_input(configurations, h, word_ids).to(device)\n",
        "      mlp_out = self.mlp(mlp_input)\n",
        "      # take the next parsing step\n",
        "      pred_moves = self.parse_step(parsers, mlp_out, pred_moves)\n",
        "\n",
        "    # return the predicted dependency tree + predicted moves\n",
        "    return [parser.arcs for parser in parsers], pred_moves\n",
        "\n",
        "  def get_configurations(self, parsers):\n",
        "    configurations = []\n",
        "\n",
        "    for parser in parsers:\n",
        "      if parser.is_tree_final():\n",
        "        conf = [-1, -1, -1]\n",
        "      elif len(parser.stack) == 1:\n",
        "        conf = [-1, parser.stack[-1], parser.buffer[0]]\n",
        "      else:\n",
        "        conf = [parser.stack[-2], parser.stack[-1]]\n",
        "        if len(parser.buffer) == 0:\n",
        "          conf.append(-1)\n",
        "        else:\n",
        "          conf.append(parser.buffer[0])\n",
        "      configurations.append([conf])\n",
        "\n",
        "    return configurations\n",
        "\n",
        "  def parsed_all(self, parsers):\n",
        "    for parser in parsers:\n",
        "      if not parser.is_tree_final():\n",
        "        return False\n",
        "    return True\n",
        "\n",
        "  # In this function, we select and perform the next move according to the scores obtained from the model.\n",
        "  # We need to be careful and select correct moves, e.g. don't do a shift if the buffer\n",
        "  # is empty or a left arc if σ2 is the ROOT.\n",
        "  def parse_step(self, parsers, moves, pred_moves):\n",
        "    moves_argm = moves.argmax(-1)\n",
        "\n",
        "    for i in range(len(parsers)):\n",
        "        if parsers[i].is_tree_final():\n",
        "            continue\n",
        "        else:\n",
        "            move_scores_sorted = np.argsort(-moves[i].cpu().numpy())\n",
        "            s1 = parsers[i].stack[-1]\n",
        "            is_only_root_on_stack = bool(s1 == 0)\n",
        "            is_head_assigned = bool(parsers[i].arcs[s1] != -1)\n",
        "            is_buffer_empty = bool(len(parsers[i].buffer) == 0)\n",
        "\n",
        "            # 0 is Left arc\n",
        "            if moves_argm[i] == 0:\n",
        "                if not is_buffer_empty and not is_only_root_on_stack and not is_head_assigned:\n",
        "                    parsers[i].left_arc()\n",
        "                    pred_moves[i].append(0)\n",
        "\n",
        "                else:\n",
        "                    if is_buffer_empty:\n",
        "                        parsers[i].reduce()\n",
        "                        pred_moves[i].append(2)\n",
        "\n",
        "                    else: # buffer not empty\n",
        "                        if move_scores_sorted[1] == 1: # 1 is Right arc\n",
        "                            parsers[i].right_arc()\n",
        "                            pred_moves[i].append(1)\n",
        "                        elif move_scores_sorted[1] == 2 and not is_only_root_on_stack: # 2 is Reduce\n",
        "                            parsers[i].reduce()\n",
        "                            pred_moves[i].append(2)\n",
        "\n",
        "                        else:\n",
        "                            parsers[i].shift()\n",
        "                            pred_moves[i].append(3)\n",
        "\n",
        "            # 1 is Right arc\n",
        "            elif moves_argm[i] == 1:\n",
        "                if not is_buffer_empty:\n",
        "                    parsers[i].right_arc()\n",
        "                    pred_moves[i].append(1)\n",
        "\n",
        "                else: # buffer is empty (we can't do shift)\n",
        "                    parsers[i].reduce()\n",
        "                    pred_moves[i].append(2)\n",
        "\n",
        "\n",
        "            # 2 is Reduce\n",
        "            elif moves_argm[i] == 2:\n",
        "                if is_head_assigned and not is_only_root_on_stack:\n",
        "                    parsers[i].reduce()\n",
        "                    pred_moves[i].append(2)\n",
        "\n",
        "                else:\n",
        "                    if not is_head_assigned and not is_buffer_empty:\n",
        "                        if move_scores_sorted[1] == 0 and not is_only_root_on_stack: # 0 is Left arc\n",
        "                            parsers[i].left_arc()\n",
        "                            pred_moves[i].append(0)\n",
        "\n",
        "                        elif move_scores_sorted[1] == 1: # 1 is Right arc\n",
        "                            parsers[i].right_arc()\n",
        "                            pred_moves[i].append(1)\n",
        "\n",
        "                        else:\n",
        "                            parsers[i].shift()\n",
        "                            pred_moves[i].append(3)\n",
        "                    else: # buffer is empty or head is assigned\n",
        "                        if is_buffer_empty:\n",
        "                            parsers[i].reduce()\n",
        "                            pred_moves[i].append(2)\n",
        "\n",
        "                        else: # head is assigned\n",
        "                            if move_scores_sorted[1] == 1:\n",
        "                                parsers[i].right_arc()\n",
        "                                pred_moves[i].append(1)\n",
        "\n",
        "                            else:\n",
        "                                parsers[i].shift()\n",
        "                                pred_moves[i].append(3)\n",
        "\n",
        "            # 3 is Shift\n",
        "            elif moves_argm[i] == 3:\n",
        "                if not is_buffer_empty:\n",
        "                    parsers[i].shift()\n",
        "                    pred_moves[i].append(3)\n",
        "\n",
        "                else:\n",
        "                    parsers[i].reduce()\n",
        "                    pred_moves[i].append(2)\n",
        "\n",
        "    return pred_moves\n"
      ],
      "metadata": {
        "id": "QBeDn-Tla3KW"
      },
      "execution_count": null,
      "outputs": []
    },
    {
      "cell_type": "markdown",
      "source": [
        "## Train and Test\n",
        "\n",
        "Now that we have defined all our components, we are ready to train and test our model.\n",
        "\n",
        "Here we first define our evaluation function, for which we again use `UAS (Unlabeled Accuracy Score)` which is the percentage of correct arcs predicted over all the arcs.\n",
        "\n",
        "Also, we define our train loop and the test function to run inference."
      ],
      "metadata": {
        "id": "EptYl80qtzSd"
      }
    },
    {
      "cell_type": "code",
      "source": [
        "def evaluate_BERT(gold, preds):\n",
        "  total = 0\n",
        "  correct = 0\n",
        "  wrong_non_proj = 0 # we want to count how many non-projective tree we have parsed wrongly\n",
        "  non_proj = 0       # we want to count how many non-projective tree there are\n",
        "  wrong_ind = []\n",
        "\n",
        "  for n, g, p in zip((range(len(gold))), gold, preds):\n",
        "\n",
        "    found_non_proj = False\n",
        "    found_wrong = False\n",
        "    already_checked = False\n",
        "\n",
        "    if not is_projective(g):\n",
        "      found_non_proj = True\n",
        "      non_proj += 1\n",
        "\n",
        "    for i in range(1, len(g)):\n",
        "      total += 1\n",
        "\n",
        "      if g[i] == p[i]:\n",
        "        correct += 1\n",
        "\n",
        "      else:\n",
        "        if not already_checked:\n",
        "          found_wrong = True\n",
        "          wrong_ind.append(n)\n",
        "\n",
        "          if found_non_proj:\n",
        "              wrong_non_proj += 1\n",
        "\n",
        "          already_checked = True\n",
        "\n",
        "  return correct/total, wrong_non_proj, non_proj, wrong_ind\n",
        "\n",
        "def train_BERT(model, dataloader, criterion, optimizer):\n",
        "  model.train()\n",
        "  total_loss = 0\n",
        "  count = 0\n",
        "\n",
        "  for batch in dataloader:\n",
        "\n",
        "    optimizer.zero_grad()\n",
        "    sentences, paths, moves, trees, input_ids, word_ids = batch\n",
        "\n",
        "    out = model(input_ids, paths, word_ids)\n",
        "    labels = torch.tensor(sum(moves, [])).to(device) # sum(moves, []) flattens the array\n",
        "    loss = criterion(out, labels)\n",
        "\n",
        "    count += 1\n",
        "    total_loss += loss.item()\n",
        "\n",
        "    loss.backward()\n",
        "    optimizer.step()\n",
        "\n",
        "  return total_loss / count\n",
        "\n",
        "def test_BERT(model, dataloader):\n",
        "  model.eval()\n",
        "\n",
        "  gold = []\n",
        "  preds = []\n",
        "  pred_moves_BERT = [[] for _ in range(len(dataloader))]\n",
        "\n",
        "  for i, batch in enumerate(dataloader):\n",
        "\n",
        "    sentences, paths, moves, trees, input_ids, word_ids = batch\n",
        "\n",
        "    with torch.no_grad():\n",
        "      pred, pred_moves = model.infere(sentences, input_ids, word_ids)\n",
        "\n",
        "      pred_moves_BERT[i] = pred_moves\n",
        "      gold += trees\n",
        "      preds += pred\n",
        "\n",
        "  return evaluate_BERT(gold, preds), pred_moves_BERT, preds"
      ],
      "metadata": {
        "id": "SjuGBeGLlGB4"
      },
      "execution_count": null,
      "outputs": []
    },
    {
      "cell_type": "code",
      "source": [
        "train_dataloader_BERT = torch.utils.data.DataLoader(train_dataset, batch_size=BATCH_SIZE, shuffle=True, collate_fn=partial(prepare_batch, get_gold_path=True, BERT=True))\n",
        "dev_dataloader_BERT = torch.utils.data.DataLoader(dev_dataset, batch_size=BATCH_SIZE, shuffle=False, collate_fn=partial(prepare_batch, BERT=True))\n",
        "test_dataloader_BERT = torch.utils.data.DataLoader(test_dataset, batch_size=BATCH_SIZE, shuffle=False, collate_fn=partial(prepare_batch, BERT=True))"
      ],
      "metadata": {
        "id": "qYGsXzf7t3zP"
      },
      "execution_count": null,
      "outputs": []
    },
    {
      "cell_type": "code",
      "source": [
        "if use_wandb:\n",
        "  wandb.init(project=\"NLP_ArcEager\",\n",
        "             config={\"architecture\"  : \"BERT\",\n",
        "                     \"learning_rate\" : LR,\n",
        "                     \"batch_size\"    : BATCH_SIZE,\n",
        "                     \"epochs\"        : EPOCHS,\n",
        "                     \"act_function\"  : ACTIVATION_FN})"
      ],
      "metadata": {
        "id": "2AMOguBnojyc"
      },
      "execution_count": null,
      "outputs": []
    },
    {
      "cell_type": "code",
      "source": [
        "print(\"Training on device:\", device)\n",
        "\n",
        "model = BERTNet(device)\n",
        "model = model.to(device)\n",
        "\n",
        "criterion = nn.CrossEntropyLoss()\n",
        "optimizer = torch.optim.Adam(model.parameters(), lr=LR)\n",
        "\n",
        "for epoch in range(EPOCHS):\n",
        "\n",
        "  avg_train_loss = train_BERT(model, train_dataloader_BERT, criterion, optimizer)\n",
        "  (val_uas, wrong_non_proj, non_proj, wrong_ind), pred_moves_BERT, _ = test_BERT(model, dev_dataloader_BERT)\n",
        "\n",
        "  torch.cuda.empty_cache()\n",
        "  _ = gc.collect()\n",
        "\n",
        "  if use_wandb:\n",
        "    wandb.log({\"avg_train_loss\": avg_train_loss, \"val_uas\": val_uas})\n",
        "\n",
        "  print(\"Epoch: {:3d} | avg_train_loss: {:5.3f} | dev_uas: {:5.3f} |\".format(epoch+1, avg_train_loss, val_uas))"
      ],
      "metadata": {
        "id": "PirFY1_BmJ6K",
        "colab": {
          "base_uri": "https://localhost:8080/"
        },
        "outputId": "f90875b3-323d-4347-d9ef-49cc1cb328ba"
      },
      "execution_count": null,
      "outputs": [
        {
          "output_type": "stream",
          "name": "stderr",
          "text": [
            "We strongly recommend passing in an `attention_mask` since your input_ids may be padded. See https://huggingface.co/docs/transformers/troubleshooting#incorrect-output-when-padding-tokens-arent-masked.\n"
          ]
        },
        {
          "output_type": "stream",
          "name": "stdout",
          "text": [
            "Training on device: cuda\n",
            "Epoch:   1 | avg_train_loss: 1.053 | dev_uas: 0.647 |\n",
            "Epoch:   2 | avg_train_loss: 0.874 | dev_uas: 0.749 |\n",
            "Epoch:   3 | avg_train_loss: 0.847 | dev_uas: 0.773 |\n",
            "Epoch:   4 | avg_train_loss: 0.838 | dev_uas: 0.795 |\n",
            "Epoch:   5 | avg_train_loss: 0.829 | dev_uas: 0.807 |\n",
            "Epoch:   6 | avg_train_loss: 0.825 | dev_uas: 0.809 |\n",
            "Epoch:   7 | avg_train_loss: 0.821 | dev_uas: 0.816 |\n",
            "Epoch:   8 | avg_train_loss: 0.816 | dev_uas: 0.813 |\n",
            "Epoch:   9 | avg_train_loss: 0.810 | dev_uas: 0.829 |\n",
            "Epoch:  10 | avg_train_loss: 0.809 | dev_uas: 0.831 |\n",
            "Epoch:  11 | avg_train_loss: 0.806 | dev_uas: 0.830 |\n",
            "Epoch:  12 | avg_train_loss: 0.803 | dev_uas: 0.830 |\n",
            "Epoch:  13 | avg_train_loss: 0.802 | dev_uas: 0.837 |\n",
            "Epoch:  14 | avg_train_loss: 0.800 | dev_uas: 0.836 |\n",
            "Epoch:  15 | avg_train_loss: 0.799 | dev_uas: 0.840 |\n"
          ]
        }
      ]
    },
    {
      "cell_type": "code",
      "source": [
        "(test_uas, wrong_non_proj, non_proj, wrong_ind), pred_moves_BERT, pred_configs_BERT = test_BERT(model, test_dataloader_BERT)\n",
        "\n",
        "print(\"test_uas: {:5.3f}\".format( test_uas))\n",
        "\n",
        "if use_wandb:\n",
        "  wandb.log({\"test_uas\": test_uas})"
      ],
      "metadata": {
        "id": "EkGqo5CJmvLq",
        "colab": {
          "base_uri": "https://localhost:8080/"
        },
        "outputId": "7d83f0e8-b058-4303-d2e3-9414c7563a23"
      },
      "execution_count": null,
      "outputs": [
        {
          "output_type": "stream",
          "name": "stdout",
          "text": [
            "test_uas: 0.846\n"
          ]
        }
      ]
    },
    {
      "cell_type": "code",
      "source": [
        "if use_wandb:\n",
        "  wandb.finish()"
      ],
      "metadata": {
        "id": "iOucyr6Wou6V"
      },
      "execution_count": null,
      "outputs": []
    },
    {
      "cell_type": "code",
      "source": [
        "#from google.colab import drive\n",
        "#drive.mount('/content/drive')\n",
        "#save_path = '/content/drive/bert_based_model.pth'\n",
        "# Google Drive is not available with the UniPd account, so let's save to local storage:\n",
        "save_path = '/content/bert_based_model.pth'\n",
        "# Note: Make sure to download the model from session storage afterwards.\n",
        "\n",
        "# Save model state dict\n",
        "torch.save(model.state_dict(), save_path)\n",
        "\n",
        "print(\"Model saved successfully.\")\n"
      ],
      "metadata": {
        "colab": {
          "base_uri": "https://localhost:8080/"
        },
        "id": "C2SlilXbyM1Q",
        "outputId": "053510c4-0523-4dd9-9dce-6ffafbe6e5e7"
      },
      "execution_count": null,
      "outputs": [
        {
          "output_type": "stream",
          "name": "stdout",
          "text": [
            "Model saved successfully.\n"
          ]
        }
      ]
    },
    {
      "cell_type": "markdown",
      "source": [
        "# Error analysis\n",
        "\n",
        "In this part of our analysis, we take a closer look at the **errors made by the BERT-based parser**. Initially, our attention is on understanding the **disparities between the model's predictions for the next move and the actual moves executed**. This involves considering constraints dictated by the ArcEager model, like handling reductions on the ROOT or deciding on right/left arcs when the buffer is empty. Following that, our exploration shifts towards identifying any discernible **patterns within the sentences that the model misclassifies**."
      ],
      "metadata": {
        "id": "3ccLnvDelp03"
      }
    },
    {
      "cell_type": "code",
      "source": [
        "load_model = False\n",
        "if load_model:\n",
        "  model_path = '/content/bert_based_model.pth'  # Change this path if necessary\n",
        "\n",
        "  # Initialize the model with the same architecture\n",
        "  model = BERTNet(device)\n",
        "  model = model.to(device)\n",
        "\n",
        "  model.load_state_dict(torch.load(model_path, map_location=torch.device('cpu')))\n",
        "  model.eval()\n",
        "\n",
        "  print(\"Model loaded successfully.\")"
      ],
      "metadata": {
        "colab": {
          "base_uri": "https://localhost:8080/"
        },
        "id": "khh9JQjU2i6-",
        "outputId": "4dcadbcf-cadb-4f6d-f853-3029e9a36b42"
      },
      "execution_count": null,
      "outputs": [
        {
          "output_type": "stream",
          "name": "stdout",
          "text": [
            "Model loaded successfully.\n"
          ]
        }
      ]
    },
    {
      "cell_type": "code",
      "source": [
        "print(f\"# Parsed trees:\\t\\t\\t\\t {len(test_dataset)}\")\n",
        "print(\"-\"*45)\n",
        "print(f\"# Wrongly parsed trees:\\t\\t\\t {len(wrong_ind)}\")\n",
        "print(f\"# Wrongly parsed non-projective trees:\\t {wrong_non_proj}\")"
      ],
      "metadata": {
        "id": "xr3sDpnTvD9Z",
        "colab": {
          "base_uri": "https://localhost:8080/"
        },
        "outputId": "d923c69a-521a-454e-ba4c-835678cffd6c"
      },
      "execution_count": null,
      "outputs": [
        {
          "output_type": "stream",
          "name": "stdout",
          "text": [
            "# Parsed trees:\t\t\t\t 1035\n",
            "---------------------------------------------\n",
            "# Wrongly parsed trees:\t\t\t 659\n",
            "# Wrongly parsed non-projective trees:\t 67\n"
          ]
        }
      ]
    },
    {
      "cell_type": "code",
      "source": [
        "correct_count = len(test_dataset) - len(wrong_ind)\n",
        "wrong_projective_count = len(wrong_ind) - wrong_non_proj\n",
        "wrong_non_projective_count = wrong_non_proj\n",
        "\n",
        "labels = ['Correctly parsed', 'Wrongly parsed (Projective)', 'Wrongly parsed (Non-Projective)']\n",
        "sizes = [correct_count, wrong_projective_count, wrong_non_projective_count]\n",
        "colors = ['#66c2a5', '#fc8d62', '#8da0cb']\n",
        "\n",
        "# Create pie chart\n",
        "fig, ax = plt.subplots()\n",
        "ax.pie(sizes, labels=labels, autopct='%1.1f%%', explode=(0, 0.03, 0.1), colors=colors, startangle=90)\n",
        "ax.set_title('Parsed Trees')\n",
        "ax.axis('equal')\n",
        "plt.show()"
      ],
      "metadata": {
        "id": "UoNpoUA0s_fv",
        "colab": {
          "base_uri": "https://localhost:8080/",
          "height": 429
        },
        "outputId": "9dbe8b94-3927-42f3-b4de-cf512863d3c8"
      },
      "execution_count": null,
      "outputs": [
        {
          "output_type": "display_data",
          "data": {
            "text/plain": [
              "<Figure size 640x480 with 1 Axes>"
            ],
            "image/png": "[encoded data removed]"
          },
          "metadata": {}
        }
      ]
    },
    {
      "cell_type": "code",
      "source": [
        "gold_moves_flattened = []\n",
        "for batch in test_dataloader:\n",
        "    gold_moves_flattened.extend(batch[2])\n",
        "\n",
        "pred_moves_flattened = []\n",
        "for predictions in pred_moves_BERT:\n",
        "    pred_moves_flattened.extend(predictions)\n",
        "\n",
        "print(len(gold_moves_flattened))\n",
        "print(len(pred_moves_flattened))"
      ],
      "metadata": {
        "colab": {
          "base_uri": "https://localhost:8080/"
        },
        "id": "FNAR6jXpev79",
        "outputId": "9297201d-43be-4c9d-bea1-7921b92cd195"
      },
      "execution_count": null,
      "outputs": [
        {
          "output_type": "stream",
          "name": "stdout",
          "text": [
            "1035\n",
            "1035\n"
          ]
        }
      ]
    },
    {
      "cell_type": "code",
      "source": [
        "indices_of_wrong_predictions = []\n",
        "for i in range(len(test_dataset)):\n",
        "    if pred_moves_flattened[i] != gold_moves_flattened[i]:\n",
        "      indices_of_wrong_predictions.append(i)\n",
        "\n",
        "print(len(indices_of_wrong_predictions))"
      ],
      "metadata": {
        "colab": {
          "base_uri": "https://localhost:8080/"
        },
        "id": "BjjTWdFnktr4",
        "outputId": "c6da33ec-bfed-43ef-92a0-0975e4d5bea8"
      },
      "execution_count": null,
      "outputs": [
        {
          "output_type": "stream",
          "name": "stdout",
          "text": [
            "659\n"
          ]
        }
      ]
    },
    {
      "cell_type": "code",
      "source": [
        "count_long_sentences = 0\n",
        "sen_threshold = 20\n",
        "\n",
        "for idx in indices_of_wrong_predictions:\n",
        "    if len(gold_moves_flattened[idx]) > sen_threshold:\n",
        "        count_long_sentences += 1\n",
        "\n",
        "percentage_long_sentences = (count_long_sentences / len(indices_of_wrong_predictions)) * 100\n",
        "\n",
        "print(f\"{percentage_long_sentences:.2f}% of the errors come from sentences longer than {sen_threshold}.\")\n"
      ],
      "metadata": {
        "colab": {
          "base_uri": "https://localhost:8080/"
        },
        "id": "Et697CrxjEFf",
        "outputId": "15266c17-a149-4938-be7d-78ef202689b2"
      },
      "execution_count": null,
      "outputs": [
        {
          "output_type": "stream",
          "name": "stdout",
          "text": [
            "81.79% of the errors come from sentences longer than 20.\n"
          ]
        }
      ]
    },
    {
      "cell_type": "markdown",
      "source": [
        "Sentences typically contain between 15 and 20 words. We've set a threshold of 20 words, marking a sentence as long if it exceeds this limit.\n",
        "\n",
        "> Using this threshold, we observe that `most of the wrong predictions originate from long sentences`, particularly when attempting to retrieve arcs over longer distances."
      ],
      "metadata": {
        "id": "3kBJ-D-Ml24K"
      }
    },
    {
      "cell_type": "markdown",
      "source": [
        "Next, let's examine the predictions for non-projective trees:"
      ],
      "metadata": {
        "id": "4W99QOeAoxBK"
      }
    },
    {
      "cell_type": "code",
      "source": [
        "print(f\"# Non-projective trees:\\t\\t\\t {non_proj}\")\n",
        "print(f\"# Wrongly parsed non-projective trees:\\t {wrong_non_proj}\")\n",
        "\n",
        "if non_proj == wrong_non_proj:\n",
        "  print('\\nAll the non-projective trees have been parsed wrongly.')"
      ],
      "metadata": {
        "colab": {
          "base_uri": "https://localhost:8080/"
        },
        "id": "WZdIfFVYNALQ",
        "outputId": "2bb09791-0a17-4981-c03b-ca1167b313b8"
      },
      "execution_count": null,
      "outputs": [
        {
          "output_type": "stream",
          "name": "stdout",
          "text": [
            "# Non-projective trees:\t\t\t 67\n",
            "# Wrongly parsed non-projective trees:\t 67\n",
            "\n",
            "All the non-projective trees have been parsed wrongly.\n"
          ]
        }
      ]
    },
    {
      "cell_type": "markdown",
      "source": [
        "> We can notice that `all non-projective trees are parsed incorrectly`, as we would expect."
      ],
      "metadata": {
        "id": "kN2PXvhaX9-r"
      }
    },
    {
      "cell_type": "code",
      "source": [
        "print(\"{:.3f}\".format(100 * (wrong_non_proj / len(wrong_ind))))"
      ],
      "metadata": {
        "colab": {
          "base_uri": "https://localhost:8080/"
        },
        "id": "YzYLbWObXyOM",
        "outputId": "79581d99-a73d-46a3-e7e4-730280f19384"
      },
      "execution_count": null,
      "outputs": [
        {
          "output_type": "stream",
          "name": "stdout",
          "text": [
            "10.167\n"
          ]
        }
      ]
    },
    {
      "cell_type": "markdown",
      "source": [
        "> The number of wrongly parsed trees is 659. Out of these errors, non-projective trees account for `10.167%`.\n",
        "\n",
        "Since all non-projective trees are wrongly parsed, excluding them from our analysis would help us arrive at clearer interpretations of the results. Therefore, we proceed with this approach, similarly to what we did for the training dataset."
      ],
      "metadata": {
        "id": "v-DWKm5rXuAq"
      }
    },
    {
      "cell_type": "code",
      "source": [
        "test_dataset_non_proj = [sample for sample in test_dataset if is_projective([int(head) for head in sample[\"head\"]])]\n",
        "test_dataloader_non_proj_with_gold = torch.utils.data.DataLoader(test_dataset_non_proj, batch_size=BATCH_SIZE, shuffle=False, collate_fn=partial(prepare_batch, get_gold_path=True, BERT=True))\n",
        "(_, wrong_non_proj, non_proj, wrong_ind), pred_moves_BERT = test_BERT(model, test_dataloader_non_proj_with_gold)"
      ],
      "metadata": {
        "id": "idNZSFNYO2u4"
      },
      "execution_count": null,
      "outputs": []
    },
    {
      "cell_type": "code",
      "source": [
        "gold_moves_flattened = []\n",
        "for batch in test_dataloader_non_proj_with_gold:\n",
        "    gold_moves_flattened.extend(batch[2])\n",
        "\n",
        "# Flatten the list of predicted moves\n",
        "pred_moves_flattened = [m for sublist in pred_moves_BERT for m in sublist]\n",
        "\n",
        "print(\"Total number of gold moves:\", len(gold_moves_flattened))\n",
        "print(\"Total number of predicted moves:\", len(pred_moves_flattened))"
      ],
      "metadata": {
        "colab": {
          "base_uri": "https://localhost:8080/"
        },
        "id": "jfHMi1aoaSbl",
        "outputId": "5d58012b-cf29-4554-ebec-1f9a3d92dbbb"
      },
      "execution_count": null,
      "outputs": [
        {
          "output_type": "stream",
          "name": "stdout",
          "text": [
            "Total number of gold moves: 968\n",
            "Total number of predicted moves: 968\n"
          ]
        }
      ]
    },
    {
      "cell_type": "code",
      "source": [
        "# Initialize and populate the confusion matrix\n",
        "class_labels = ['Left Arc', 'Right Arc', 'Reduce', 'Shift']\n",
        "num_classes = len(class_labels)\n",
        "conf_matrix = torch.zeros(num_classes, num_classes)\n",
        "\n",
        "for gold, pred in zip(gold_moves_flattened, pred_moves_flattened):\n",
        "    min_length = min(len(gold), len(pred))\n",
        "    conf_matrix += confusion_matrix(gold[:min_length], pred[:min_length], labels=range(num_classes))\n",
        "\n",
        "conf_matrix = conf_matrix.numpy().astype(int)\n",
        "\n",
        "# Plotting\n",
        "plt.figure(figsize=(8, 6))\n",
        "sns.set(font_scale=1.2)\n",
        "ax = sns.heatmap(conf_matrix, annot=True, fmt=\"d\", cmap=\"YlGnBu\", linewidths=0.5, cbar=True)\n",
        "ax.set_xticklabels(class_labels)\n",
        "ax.set_yticklabels(class_labels)\n",
        "ax.set_xlabel('Predicted')\n",
        "ax.set_ylabel('True')\n",
        "ax.set_title('Confusion Matrix')\n",
        "plt.show()"
      ],
      "metadata": {
        "id": "JWBS2-hQv0YZ",
        "colab": {
          "base_uri": "https://localhost:8080/",
          "height": 578
        },
        "outputId": "04431a2c-74bb-4c12-fc04-417199ef8723"
      },
      "execution_count": null,
      "outputs": [
        {
          "output_type": "display_data",
          "data": {
            "text/plain": [
              "<Figure size 800x600 with 2 Axes>"
            ],
            "image/png": "[encoded data removed]"
          },
          "metadata": {}
        }
      ]
    },
    {
      "cell_type": "code",
      "source": [
        "predicted_positives = conf_matrix.sum(axis=0)\n",
        "actual_positives = conf_matrix.sum(axis=1)\n",
        "\n",
        "true_positives = conf_matrix.diagonal()\n",
        "true_negatives = conf_matrix.diagonal().sum() - conf_matrix.diagonal()\n",
        "false_negatives = actual_positives - true_positives\n",
        "false_positives = predicted_positives - true_positives\n",
        "\n",
        "# Per class accuracy\n",
        "accuracy = (true_positives + true_negatives) / (true_positives + true_negatives + false_positives + false_negatives)\n",
        "\n",
        "# Per class precision and recall\n",
        "precision = true_positives / predicted_positives\n",
        "recall = true_positives / actual_positives\n",
        "\n",
        "# F1 score\n",
        "f1_scores = 2 * (precision * recall) / (precision + recall)\n",
        "num_classes = conf_matrix.shape[0]\n",
        "global_f1 = sum(f1_scores) / num_classes\n",
        "\n",
        "# Prepare table data\n",
        "table_data = []\n",
        "for i in range(num_classes):\n",
        "    table_data.append([f\"{class_labels[i]}\", accuracy[i], precision[i], recall[i]])\n",
        "\n",
        "# Prepare table headers\n",
        "table_headers = [\"Class\", \"Accuracy\", \"Precision\", \"Recall\"]\n",
        "\n",
        "# Print table\n",
        "print(tabulate(table_data, headers=table_headers, tablefmt=\"fancy_grid\", colalign=(\"center\", \"center\", \"center\", \"center\")))\n",
        "\n",
        "# Print global F1 score\n",
        "print(f\"\\nF1-score: {global_f1:.3f}\")"
      ],
      "metadata": {
        "id": "UXkuEouBv2Z8",
        "colab": {
          "base_uri": "https://localhost:8080/"
        },
        "outputId": "3e1d64b2-db10-4b39-8bc6-bccda0928b30"
      },
      "execution_count": null,
      "outputs": [
        {
          "output_type": "stream",
          "name": "stdout",
          "text": [
            "╒═══════════╤════════════╤═════════════╤══════════╕\n",
            "│   Class   │  Accuracy  │  Precision  │  Recall  │\n",
            "╞═══════════╪════════════╪═════════════╪══════════╡\n",
            "│ Left Arc  │  0.871324  │  0.799743   │ 0.796496 │\n",
            "├───────────┼────────────┼─────────────┼──────────┤\n",
            "│ Right Arc │  0.875476  │  0.732037   │ 0.729546 │\n",
            "├───────────┼────────────┼─────────────┼──────────┤\n",
            "│  Reduce   │  0.908645  │  0.808298   │ 0.812842 │\n",
            "├───────────┼────────────┼─────────────┼──────────┤\n",
            "│   Shift   │  0.881823  │   0.81639   │ 0.818395 │\n",
            "╘═══════════╧════════════╧═════════════╧══════════╛\n",
            "\n",
            "F1-score: 0.789\n"
          ]
        }
      ]
    },
    {
      "cell_type": "markdown",
      "source": [
        "**Analysis**:\n",
        "\n",
        "> The confusion matrix summarizes the classification of every transition operator during parsing. From it, as well as from the table with the results, we can observe that the transition with the `highest accuracy is Reduce`, while `Left-Arc has the lowest accuracy`. Overall, Left and Right arc operations are the moves that generate the most confusion. This is due to the Shift operator being often preferred over Left/Right arc operations.\n"
      ],
      "metadata": {
        "id": "zuiHJKLiv82U"
      }
    },
    {
      "cell_type": "markdown",
      "source": [
        "For comparison, here are the results for the entire test dataset, including the non-projective trees:\n",
        "\n",
        "![image.png](data:image/png;base64,iVBORw0KGgoAAAANSUhEUgAAAq4AAAIxCAIAAAADra3HAAAgAElEQVR4Aey9d1wUydfvf/+8v3B/e9Pz3Oe599nobvUEGIYgCIgwqICKCoqKCLprwpwJBjBgAFwQwYQJc0BRV2WVNYEoqLhr3GXNiiAGRHHIDNSPsb7f2t4ewHGGqekZT7/q5VafPlWn+sDyeXd3dfV/wrBBBiADkAHIAGQAMvAJZ+A/fcLnDqcOGYAMQAYgA5AByAAGFIBfAsgAZAAyABmADHzSGQAU+KR//HDykAHIAGQAMgAZABSA3wHIAGQAMgAZgAx80hkAFPikf/xw8pAByABkADIAGQAUgN8ByABkADIAGYAMfNIZABT4pH/8cPKQAcgAZAAyABkAFIDfAcgAZAAyABmADHzSGQAU+KR//HDykAHIAGQAMgAZABSA3wHIgL4Z2L59e58+fWxtbRFCGRkZ+jb7kJ/q/fYhLys8jhAKDQ21whODU4IMWFoGAAUs7ScG4/1nBu7fv79kyZJ+/fo5ODjI5XJ3d/dx48ZlZmY2NDT806Uz/3v8+HGEUEBAwI8//piamnrt2rXO6p0xCqhUKvR+Kygo0D2F6OhocjQ1NVX3aAeWS5cuIYQ+qhWgQAf5hEOQAZYZABRgmW2I1WkZSEtLk0gkCKFhw4bFxcUlJSXNnTu3Z8+eCKHAwMBOC8PraPbs2Qih58+f82ydU33yfuucvvTohaCATCabNWuWwF2tVtvZ2clkso8VdYyxAShw//79srIywRhgFzIAGWCfAUAB9jmHiMZmYP369QghT0/P69evC/o6e/asie45h4WFIYQE4Sxxl6DApEmTbGxsKisr+aewe/duhNDkyZPZoAA/NNQhA5ABM2YAUMCMyYfQhmTg6dOn8vfbnTt32mwveECQnZ0dEhLi4OBga2vr7++/YcMGgQO5P19TUxMfH+/p6SmXy3v16pWent7S0kL6T01NJffM+f9ijJ8+fYoQioqKEgwjNDSUDw0tLS2HDh0aNmyYi4uLjY1Njx49Ro8enZ2dTVvpPiBoaGhIT0/39/dXKBT29vbDhw/n+/NDP336dMaMGc7OzjY2NoGBgWfPnqXdtlchKJCbm6s74yEgIMDT03Pfvn0CFHj48OHKlSsDAwNdXFzkcrmXl9eCBQvKy8tpiKioKH5ySP3SpUsY46ysLIRQVlZWXl5eaGiog4MDTQ7/AUFJSYmjo2PXrl1LS0tptzU1NX5+fhKJhHRF7VCBDEAGOjcDgAKdm0/ozeQZWL16NUJo5syZ+kRKSkpCCLm4uMTGxsbHx/fr14/ID58GVCpV9+7dg4ODvb29Y2JiFi1a1L17d4RQWloaCXHp0qXU1FSioKn/3Ph6LBiJAAXIGLy9vRctWpSUlBQdHd2vX7+pU6fSVgIUaGhoID34+fnFx8cvWrTI1dUVIZSUlESbEAoJDQ3t1q3bkCFDli1bFhkZaWNjI5FICgsLqVubFXIijY2NKpWqX79+1OfWrVuEADIzMwUokJ6e7ujoOGnSpLi4uPj4+DFjxnAc5+7uTh+XnDp1itBAaGjoPzOU+vTpU4oC48ePl0ql4eHhiYmJM2bMIEH5KIAxPnHiBHni09TURBwiIyP5Pwg6VKhABiADnZsBQIHOzSf0ZvIMjBw5EiGUmZn5wUi//fYbeY7w8uVL4tzU1BQeHo4QWr9+PW1OpHHs2LF1dXXEWFFR4fh+a2xspG4CgdcfBZydnT08PGpra2lXGOPXr1/TXQEKbNiwASE0duxYqogVFRVkkL/++itpRVBAIJPnz58nDWnPbVZIV01NTWvXrkUI/fbbb8QtJiZGIpGUlZXposDz58/58IQxzs/Pl0gksbGxNER7cwXIXQGO4/Ly8qgzqQhQoNW4cOFChNCPP/6IMT506BBCKCwsrLm5WdAQdiEDkIHOzQCgQOfmE3ozeQb69OmDENLVFd3A8+fPRwjt27ePf+jhw4cSicTb25saiTQ+fvyYWjDG5HqU/wzCGBRQqVQCKeXHEqBA7969OY67f/8+34fIc3R0NDESFFCpVBqNhu/m5eXl7OzMt+jWKQo8f/5cKpWSPmtqauzt7ceOHYsx1kUB3U4wxv7+/vw0dowCkyZN0u1EFwXq6+sHDBjAcdzOnTuVSmW3bt1evHih2xAskAHIQOdmAFCgc/MJvZk8A/qjQGBgIEJIoPEYYy8vL4TQu3fvyFhVKpWjo6Ng3MnJyQihoqIiajcYBeLi4hBCPXv2/PHHH/Py8mhc2jMfBdRqNULIw8ODHiWVkpIShNDAgQPJLkGBiRMnCtyCg4MlEonAKNilKIAxDg8PVyqVarWayP8vv/zSJgq0tLQcOXJk1KhRLi4uUqmUTguQy+W0845RYMOGDdSTVnRRAGP84MEDpVKJEGrzRgJtCxXIAGSgEzMAKNCJyYSuWGRA/wcEvXr1QgjV1NQIhjVkyJDWG+l0ehpfiaknmSrIn61mMApoNJqMjIz+/fsTBZXJZBMmTOADCn8A5eXlCKFBgwbRkZBKfX19670QlUpFdgkKfHDGoqATsstHgTNnzrSK7t69e4cMGeLu7k4eSejeFVi2bBlCyN3dffbs2YmJiWQ2AOmHhugYBQ4ePEg9aaVNFGhpaRk2bFgrh/Xr1w8eDdBcQQUyYNIMAAqYNL3QeedngEwb1H0nXjcSuSvw5MkTwSFyV6CqqorY+UpMPfVBgbKyMoTQ7NmzaStSGTBgAJ0kzz9UUVGRk5Mzbdo0hFCvXr3oIwP+AMhdgR49evAbYozJXYEBAwYQe2ehgEaj8fDw6NGjB39aogAFKioqJBKJv7+/Wq3mj8rHx4d/mh2jQFZWFr8tqbeJAmSqhIuLC0Jo3bp1uq3AAhmADHR6BgAFOj2l0KFpM0BfJrx3716bkajEzps3T3eC4ePHj3XnCtCrbdqhPihAZHvEiBG0FcZYrVYrFAq+RvKPkjq5sXHr1i2yy0cBjHGvXr04jnv06BG/4YEDBxBCgrkCxt8VwBinpKSQu/ElJSUkogAFrl27hhBasWIFfzzl5eVkJSJqLCoqQgitWrWKWkiFvkwosGOMdVHg119/lclkvr6+r1698vX1lUql/Gc0uj2ABTIAGeiUDAAKdEoaoROmGSBLDKlUqps3bwoC5+XlhYWFEeOvv/5KbqrT6foajWbixImCy02BEpO2+qBA6xJ7fn5+UqmUQolGoyH8QVGgoaHh6tWr/EE2NjYOHDiwVQXpxEDBAMjZTZw4kU4JfP36NbkbT3Wxs+4KkHcZTp06deHCBTpIAQq8fPkSIRQUFETHU11dPWbMGPK8g7a6d+8eQigyMpJaSEV/FHj79q2Xl5eNjc0ff/yBMS4uLraxsfH09Hzz5o2gT9iFDEAGOjcDgAKdm0/ojVEGBAsPJycnz5s3j9yy5j9oT0xMRAi5urouWrQoISHB398fITR8+HB65wBjLFBicgJ6ogC5WHdyclqwYEFcXJy/v7+vry//AUFVVRVCqHfv3jNmzEhMTIyLiyPTHidMmEAzJRhAQ0PD8OHDycPyhISExYsXk3UFEhMTaZNORAHaJ60IUABjPHPmTISQv7//ihUr5s2b5+Xl5ePjQ4CGtiLPGuRy+bx589asWbN27VoyG0N/FJg0aRJCaMeOHbTPXbt2IYTCw8OpBSqQAciAKTIAKGCKrEKfLDJAP0dkb29PPkc0ZswY3c8RHT9+PDg4WKlU2tjY9O3bd926dfX19fzxCZSYHNITBch8+759+8rlcjc3t5iYmMrKSv4Ew8bGxo0bN44ZM8bT09PGxsbFxaV10uKePXs6ZpH6+vr169f369fP1tZWqVQGBwcfO3aMP2bGKFBbW5ucnNyrVy+yWuKiRYsEp0nGduPGjZEjRzo4OHAchxASrDbIHz+p8x8Q7Nixo/UTD3xCIj5kFeRO/A6k7jDAAhmADAAKwO8AZAAyABmADEAGPukMAAp80j9+OHnIAGQAMgAZgAwACsDvAGQAMgAZgAxABj7pDAAKfNI/fjh5yABkADIAGYAMAArA7wBkADIAGYAMQAY+6QwACnzSP344ecgAZAAyABmADAAKwO8AZAAyABmADEAGPukMAAp80j9+OHnIAGQAMgAZgAwACsDvAGQAMgAZgAx8Khn4z58HG1+sL1nWgwKfdQmHwjIDGOM6TSEUlhnAGDc0F0FhmQHtJ6Yaz0FhmQGTCq3xHPCfPw826QjN0jmgAACEgRkAFGAJASQWoABLCCCxAAVYQgCJZVIt/L++CDG+mHSEZukcUMBAIWR5/S3OWIACgALshZl9REABQAFddDCLWps0KKAAoICBGQAUABRgL8zsIwIKWBkK/N9fhBpfTKrKZukcUMBAIRTnlTrLUQEKAAqwF2b2EQEFAAV00cEsam3SoIACgAIGZgBQAFCAvTCzjwgoYGUo8P98OdL4YlJVNkvngAIGCiHL629xxgIUABRgL8zsIwIKWBkK/L9ffW98MYtamzQooACggIEZABQAFGAvzOwjAgoACuiig0lV2SydAwoYKITivFJnOSpAAUAB9sLMPiKggJWhwH/5+gfji1nU2qRBAQUABQzMAKAAoAB7YWYfEVAAUEAXHUyqymbpHFDAQCFkef0tzliAAoAC7IWZfURAAatDgTH/5Wtjy0eptVqtXrNmjb+/v1KpdHZ2HjRo0K5duxobG2kntbW1K1euVKlUcrlcpVL9+OOPtbW19CiplJaWzpo1y8XFxdbWdsCAAZmZmQIHjPGVK1fCwsKU77ewsLCioiJdn/YsgAKAAgZmAFAAUIC9MLOPCCgAKKCLDu0Jqq69qalp0KBBEokkOjp6796927dvHzFiBEJo9uzZxFmj0YSGhiKEIiIiMjMzlyxZIpVKR44c2dzcTHsrLy93d3dXKBRJSUn79+8fP348QigtLY06YIzPnz8vk8lUKtXmzZt37Njh7+8vk8kuXrzI9+mgDihgoBCK80qd5agABQAF2Asz+4iAAlaGAv/fN+OMLx1oquDQxYsXEULx8fHUrtFoBg4cKJFI1Go1xvjAgQMIobi4OOqwZcsWhNDhw4epJSIiAiGUk5NDLeHh4TKZrKSkhFg0Go1KpVIqlWVlZcTy7t07Dw+P3r1785GCNtetAAoAChiYAUABQAH2wsw+IqAAoIAuOuhKaXuWkydPIoS2bt3KdxgzZoxcLm9oaMAYk1sCpaWl1KGurk6hUIwaNYpYamtrFQqFt7c3dcAYX7p0CSG0du1aYiS70dHRfJ/U1FSEkJ6PCQAFDBRCltff4owFKAAowF6Y2UcEFLAyFOiUP6d8xe24/vLlS6VS2a1bt+zs7LKysocPH65du5bjOKLiLS0tdnZ23bt3F3QybNgwBwcHYrx+/TpCaNasWXyfhoYGjuPCw8OJMT09HSG0f/9+vk9+fr4uhfAd+HVAAUABAzMAKAAowF6Y2UcEFLAyFPivXSYaX7zb2fjiSusFBQU+Pj7on5utre3BgwfJ0crKSoRQUFAQdSaVadOmtc4nIE8QyH2FxMREgU+3bt0CAgKIccmSJQih3Nxcvs+9e/cQQsuXL+cb26sDChgohJ2ClhbdCaAAoAB7YWYfEVAAUEAXHdohgb/dw6eie/PmzfDw8AULFpw4ceLw4cMjR46USqVZWVkY42fPniGEQkJCqDOpkMkBL1++xBgfPnwYIZSSkiLw8fT09PX1Jca5c+cihAoKCvg+JSUlCKGYmBi+sb06oACggIEZABQAFGAvzOwjAgpYGQr8t28nG1/aE1Rde3FxsY2NzcqVK+mh5ubmoUOH2tnZvX79Gu4K0LR0WsWir7AtcfCAAoAC7IWZfURAAUABXXTQX7eio6MRQrdu3eI3Ie8InDt3DuYK8NPSOXVLVFOLHjOgAKAAe2FmHxFQwMpQ4L9/N9X4or9ojR49GiF048YNfhMyy+/UqVMYY7LMQMdvENja2greILh8+TL/DYLCwkKEkOANgrS0NHiDwMCb3hatzYwHDygAKMBemNlHBBQAFNBFB76ud1xfvnw5QmjhwoXUrbGxsX///lKp9Pnz5xjjzMxMwboCW7duRQgdOnSINpk9e3ab6wo8efKE+NB1BZ49e0YsarW6R48ePXv2hHUFgAZMmwFAAUAB9sLMPiKggJWhwP9A040vVKQ/WCkrK3NxcUEIhYeH79q1a9OmTf3790cIrVixgqp4SEgIQigyMjIzMzMuLk4qlYaGhmo0Gtp5WVmZm5ubnZ1dcnJyZmZmeHi47kTC3NxcqVSqUqm2bt26c+dOstpgfn4+7aTjCkwbNK1eMr5SZxkOUABQgL0ws48IKAAooIsOHcuq4OjTp0/nzp3r6ekpk8ns7OyCgoIyMzNbWlqoW3V1dUJCgpeXl1wu9/LySkxMrKmpoUdJpaSkZObMmc7OzjY2Nv7+/vv27RM4YIwLCwtDQ0PJNwhCQ0MvX76s69OeBVAAUMDADAAKAAqwF2b2EQEFrAwF/ieaYXxpT1At124GFEhNTe3Xr58gZS0tLf7+/nQZRcFRfXZZXhBDrM+6aFe5Yq+Fn3hEjDF7LfzEIwIKAAroooM+kmRZPmZAgf79+y9dulQ3TcuXLx84cKCuXU8LyDPjDAAKsOcSQAH2XAIoYGUo8C/cLOOLnqpkQW5mQAF7e/u9e/fq5mjv3r2Ojo66dj0tjIUQwgEKAAqwF2b2EQEFrAwF/lUyx/iipypZkJsZUECpVG7atEk3R5s2bbKzs9O162kBbWacAUABQAH2wsw+IqAAoIAuOuipShbkZgYUCAwMDAsL081RWFjYgAEDdO16WhgLIYQDFAAUYC/M7CMCClgZCvwvaaTxRU9VsiA3M6BARkYGx3HLly+vq6sjmaqrq4uPj5dIJJs3bzY4d6DNjDMAKAAowF6Y2UcEFAAU0EUHg3VKtA3NgAJNTU2jRo3iOM7e3j7w/dY6e4DjuLCwsKamJoMzxVgIIRygAKAAe2FmHxFQwOpQIPp/SY0tBuuUaBuaAQUwxk1NTZs3bx44cKDd+23gwIFbtmwxhgMwxqDNjDMAKAAowF6Y2UcEFAAU0EUH0Sq6wQNjjQINDQ1Xrlx5+PChwSNuryFjIYRwgAKAAuyFmX1EQAErQ4F/k80zvrQnQ5ZrZ40CjY2NMpls27ZtnZ4y0GbGGQAUABRgL8zsIwIKAArookOn65fZO2SNAhhjd3f3HTt2dPqZMxZCCAcoACjAXpjZRwQUsDIU+Hf5AuNLp+uX2Ts0AwosWLDghx9+6PQzB21mnAFAAUAB9sLMPiKggJWhwP+WxxpfOl2/zN6hGVDgzZs3AQEBs2fP/vPPP+vr6zsrBYyFEMIBCgAKsBdm9hEBBQAFdNGhs2RLPP2YAQU4jpNIJORfyd83qVRqcGpAmxlnAFAAUIC9MLOPCChgZSjwf2wWGV8M1inRNjQDCkRFRUW3vxmcKcZCCOEABQAF2Asz+4iAAoACuuhgsE6JtqEZUMBEuQBtZpwBQAFAAfbCzD4ioICVocB/2C42vphIxczYrYhQoLGxMTs72+BcMBZCCAcoACjAXpjZRwQUABTQRQeDdUq0DUWBAvfv31++fHm3bt0kEonBmQJtZpwBQAFAAfbCzD4ioICVocDnijjji8E6JdqG5kSBurq6rKys4OBgMouwT58+q1evNjhTjIUQwgEKAAqwF2b2EQEFAAV00cFgnRJtQ/OgwO3bt2NjYx0dHcl7BFFRUXfv3jUyR6DNjDMAKAAowF6Y2UcEFLAyFPhCscz4YqRaibA5UxRQq9W7d+8ODAyUSCQKhWL27NmZmZkcx+Xk5BifGsZCCOEABQAF2Asz+4iAAlaGAl/arTC+GC9YYuuBHQpERUUplUqO44KCgvbs2fPu3TuM8ZMnTwAFLJQqAAUABdgLM/uIgAKAArroIDYhN3487FCA4zgfH5+bN2/yBw0oYKEc8FmXcEABQAH2wsw+IqCAlaHAV8oE4wtfxayjzg4FAgICOI5zcnKKjY29ceMGSR+gAKAAe0G13IgYY/Za+IlHBBQAFNBFB+uQf/5ZsEMBjPHt27djYmIcHBwkEkmfPn02b95cVFQEDwgslAbgrgB7pAAUYM8lgAJWhgJfK1caX/giah11pihAUlZbW3vgwIFhw4bRzxCsWrWqtrbWyISaRVCHjEk7k/97aXllbV3DoycvD/98tVdQvGAkvYMScs7dqnxTXVvXcLv4aXTc/v/23QS+T3f/uBWrjxVevV/+4m1DQ1NZ+ZsDR6/0GLCU70PqCs95W3bn3blfXlPb8OJV1eXfHkybt/N/SibpejKwiAoFcvM3h08MdnXtKpfL3N2dR/0w6JczG6hUV9Wez9gRFzjY19nZwc7O1tfPc+HiyQ+eHKMOdZrCgivbl8fPCBzk6+LiKJfLvFRuUXPH3nlwhO9j9rpIUMDLyw3pbK5uXfk6ra4r2LZj2aDBftqcK219/bwWLZnyqORnvg+pZ2YlDRrsZ6e0dXCwCxkx8JfT6bo+ZrSIBwV+PpUaNmpgdw9nW1u5yttt4pTgi1c283X6+ZsT8Sun9/b1sLGROTopR34fcOb8Or4DrT96dmRR3MTePh62tnJHJ2X/gT2XJUylR81eMVILOm5uPAd8rVzZcQhLPGoGFKBpunPnTlxcnLOzM8dxdnZ2U6dOtazVBldtOIkxrnit3r4/P3nDiSMnfm1oaGpubh43awtV4uHh65qaNOrquh2ZF1ZvzLlzvxxjfPjnq9Thsy7hV649wBj/dvPxxp3nVm04efr8bYxxY6MmdOJ6vptXwHJ1dZ1G03zy7M1VG05u3pVbWl6JMT59/jbfjVldPCiwPH4GQsijR7e588clrJwVPW/cgIG9l8fPIMqtrr8wNLgfQsjXzzN20aSly6cND+mPEHJ0VN7+8yBVd1fXrhIJNyzYf3HclKXLpw0d1hchZGdne+nqTupj9op4UMDRUblqdTS/pG9aRAW7puHSsGD/9zn3Wrh4yrIVM4aHDCA5/+POYerW0Fy0bMU/fnZLlk6LWTipa1cHhFDGjmV8H/PWRYICy+KnIIS6OttHRP+wLGHqxMnBMpmU47j9WSuIcpe9Ou7XxxMh1Kev18IlEyKif3B20SZz5944gbTnX9rk6KSUy2XjJwxdljA1dvGEH8YM8vRyFbiZcZdqhCkqX9snGV9MMTDz9mlOFCBn3tDQ8NNPP4WGhpKbBAang5kEkkDfuURoNM3PX77t0nUODe0/Iglj/OjJS2L5D7vpLyuq6hsaPQcuI5Z/lU6+9Ov91lcnfpi2ibaKWLRX6b2A7n7WJXzszC0EMvhX/CfPamdcTpiTQT3/3WbqH3fLMMZ9gldSI7OKSFBg194VCKE5kaPf1ebzpfpd3T92fzq+GiEUNjKgpvEidUhaFYEQiogaQy1rNyx48uxnulunKUxbOw8h1LefN99o3rp4UMDLy60DhT6aveZ9zgPrmi5Tt+SUKIRQZPQ4arl8dTdCqGcvj5eVucT4sOTnrl0dbGzkD9u6f0AbsqyIAQUePTsikXCurk5Pyn+iCn32wgaEkMrbjVhiF09ACE2YNOxN7WlieVL+k0cPF1uF/H7JIdrq0bMjXZ3tPb1cb9/dR43qxnOVNf9oxTeaq26wCujT0HgO+Npe+3feyjbzowBN6MOHDxMTE+nux1aYSSAJ5D1oBcY4+9R1Qdwqde07dR0xTo7ajjHek1XA9+k/IhljfOHyHb5Rt37v4XOMcY8B/2CIz7qE/3nvGcb4C/uZfOcN285gjMMmbeAb2dTFgAJVteddujl6eroKOIAv2Gs3LEAIbdyykG/87eZehNDY8UP5RkG9uuGiQmGDECqvOCU4ZK5dS0GBdRtiEUKbtizha/a1m5kIoXHjh1Hj7DmjEUL7DvxILQ3NRUmrtMSQnBLFN5qxLgYUKLi6VZu68CECbba3VyiVtsTo0cMFIXT9j918n/Qt8xFCSatnU2PMonCEUM7ZNGoRYeVj//h/lP83DquMLx8V0SKcRYQCRuaLjf7RKF86zKxvaCx/8fZrp1nU2CdY+wzpWM41Ytl35BLGePT0v24AfNYl/L+jidU19Y2Nmn+RTqYNdSvkct+93xJ66MiJXzHG/KcP/yaf8vud0uqaes41kroxq4gBBU6eXo8QWrJ0irr+Qs6Z9Ws3LNicsVhwS5/4jPw+kH9XYFWqVm82ZyzuQNRrGi/a2ysQQi8qT3fgxvKQeFDAzc354OFVa9Yt2JIRl1+wrbbxr6v/huaiX06nI4RGfT+If1cgJXUuQmhLRhzV9e4eWvUqLf+FWhqaiy5f3YMQCh7en280Y10MKFD66rhcLnN1cyp5cYwqd16BNsnjJwwlFplMihB69S6HOqgbzx3PSdEmM6QfNTq7ODg5Kd81nL1RvHtTRkza+qjDx3988fYEdRBDxUgt6Lh5F8cU40vHISzxKKBAuMHaGR23v7m5+WVFVcbe80nrTxzKvlpX33gm/3f6yODXG48EV/Yk1u93SlvvKHT1Wdhe6J6D4zHGpeWV/AmGTr1jnz1/09Sk+fn09eQNJzbtyi0pe/3s+ZvBP6S2149J7WJAAXKfPz5xZt9+3vx5bMND+pe9zCEiXdtUMHFyCELIr4/XoiWTl62YPiJsoEwmXbh4srr+QgdCfviY9s9o0JA+HfgwPiQeFOBn+/1tavcLhTuoYNdrrkyaPEL73LqPanHc1OXxM0PDAmRy6aIlU2oaLhG3N+p8hJBSqaCtSOV5xVmEUDdXJ4HdXLtiQAF147n0LfM5jnPp5hg1b/TyhGmTpg63sZGFjRpIHxm4uXdFCN0obuOugKurExH4Px8eaPUJHOSzcIn2aQLdujrbnzidKgYIIGMwqZQazwFdHFNMOkKzdA4oYDgKfNYlPCR8XeWbavqTu//oxZgZm6kAk5v8gnkAn3UJL7yqnS6g+64Bafilw0zScOSUdNoVqUjcoi5e/utjDQ0NTSnpOYJHBoImptsVAwrMj9He7ZyYhoEAACAASURBVJRKJf38vS9e3v666tzNPzJH/TAIIRQyYgDV6dqmguSUSKlUQv/2hY0MuPxrR/MB7z0+6tLNUSaTCu4x0D7NUhEJCqSkRp+/uK3sxem31RduFx+aHzOB4ziFwubm7wepYNdrrqxaHf33nAde+XUPdXha/gtCqLuHC7WQSnV9IUJILpcJ7ObaFQkKqBvPHT2xyslJSX+He/bqnnk4gep35Fzt05aJU4Lf1p0hxpLnR3t4diPJJBbyoEEqldgq5Fu2x5Y8P/qw7MjaDdFSmcTWVn6zeA/tzbwV+hfVFJVvHVONL6YYmHn7BBQwHAVi4rOamjRrtpxSeM3/N/mUHgOWksn/Kek5RIANQIF/t5l68YpW7FdtOClQcY/+S0tKK3698ch3aOL/tp0mdY9amHioqUlz7+Hzz+2mC5wZ7IoBBebOH48QsrGR339ylGpzpTrXo4f2LyBR8bc1eVOmjlAqFTt2L39afuLV27Onzm7o1ctDJpP+nLOWtuJXSl/k+PhqJ2Nv27mUbzd7XSQooKvK5EWACRNDyKF3tRenTAtTKhU798SXPT/1uirv9LlN2pzLpSd+WU98AAU+Sm7XbNBy1eKlE4sfZL6syrlyffvI7wMQQktXTCH9PCw7QqYL9OmnfYMgcu5ol26O/Qf0RAjZ2sqJz8UrmwlJpK6L4kdfvGwSQih6/hi+0Yx1k4qi8RzwrWOqSUdols4BBQxEgX4h2kmkR0/+xhfdf5NPKS2v1GiaFV7zP+sS/rEPCP7dZmr+pTsY47TNv/C7JTMM7j96UVPb8J1LBP/Q2q2nMcYrVh/jG9nUxYACyxO0r6Lp3sOPmjuWTgVITomkdarl12/vRwh5eblRC62Uvsjp01el24Q6mLEiWhS49/CY9lW3rg5E5letjkYIbd3217SAhuaim78fJDknPvCAQH+tPff+ZYHwif+YFkAavqzK6e7h3PoGbPGDTGJ5/OynBQvHe3q5ymRSN/euMYvG/3Ff+3vew7MbcbhZrJ2HgRC6dWcvP/r5S5sQQv0H9OQbzVg3qRZ+57TG+GLSEZqlc0ABA1EgddMvGOOIRXsFunv05G90Sv9HTRv8P4pp5Oa/7v2Az7qEd/NbjDG+duuxIFzw+LUY4xNnbgjsDHbFgAJ79icghH4YPVggz8tWTEcIrVk/v05TGBDogxC6+UemwMfJyV737YCS8hN+fl4cx4ntfgAZvGhRoOJtHrk9Q2Q+INBXqzfFWWSX/uvUVZvzFxVniQWmDeopt0uWTda+kZERI/APnzi0db7FkewkgZ3unsnXzqudODmYWCprTkll2sdkj5/99VKiuvHc9T+0b3X29vWgDc1bMakWGs8B3zmtMekIzdK5GVAgLCysoKBA92wLCwvDwsJ07XpaGIgfP0T69rMY44TU43zjZ13Cye39YePWfNYlXP+XCT+3m375N+1CQ4lrsgUdkt0eA5a1voxQUlohODolWvu+4k8nfhXYGeyKAQUePDnGcZynpyv/7YA6TeEPowe3LhB0+FhKnaaQzCjMvbCFjwJVtefJjOuKqrPU/rg0u1dvD47jdu5ZTo2iqogWBc7mbSETM4nGk5yfv7iNQkBDc5G6roDkvPLdeWKHlwn1VNyYRdoHYYnJMwX+Q4O1C2Fl/5IisNPdWRGjEEI/8VghJFS7vpZgFcKsnxJb+eD70YG0oXkrev7NN8ztu65rjS+GhRZzKzOgAMdxR48e1U1Kdna2RCLRtetpYSB+/BCjpm5sXfDn+cu3Ercoah/8Q2pzc3NtXcNXjto3DP/Dbvqr1+8+uMTQF/YzyaOEZat+ol0JKv8infzmrXZ+4pS5O+ihL5QzyGIDs2L3UCOzihhQoE5TOD58mGDZgDN5GzmOc3RSvnxzpk5TuCBWO1k6bGRAVe15quvxiTO1U6kH+1LLgyfHVN7uEgm370AiNYqtIgYUKL575I06n6/xD0t+7tXLQ3sbZt0CYo+J1T57DhsZqK4roJ4JK2e33p4ZNNiPWmCJIT0VN+voytbFAFxdnR48/WuxoJNn0jiOs7WVP32pfcOwqv6M4J3AfQdXcBw3ZGifqvp/TCRUN5776edkhNCQoX1evj1Joj+ryO7T1wshtPfAcj3HY2o3Pf/mG+ZmPAd811V7L9bKNhGhwN69exUKhcH5ZSaBJNB//XbC2fw/MMZV6trWRYRWbTj58+nrzc3NrQIZtWQ/HUzIPxce3r4/PyW97YWHzxf+2fpM4cHjFytWHxOU7v5xtKsJczJI/+cu/LF6Y872/fkvK6palxq8/NuDjpcooD10bkUkKPC4NLvH+0mCYSMDlq2YPmlKiFQqkcmkx35OJUL+uCybzCL0UrnNjwlfsmzqoMF+CCGFwob/doCXSruufkCgT3JKpKDw5ySaFw7EgAKrVkcrlYoxY4fGxE5akTBr8pQRtrZyhNCYsUOr6wqJzJc8yyE5V6ncF8RMjFs2fXBQH5Lzy1f/eomgoblo6XLtoxyPHt3IwsPOzrDw8Dldoa2qPxM2cmDr9b29vWLmnJHL4qeMHR/EcRxCKH3LAuL/4u0JhZ3NuAlDFi+bFLd8ctAQ7S+5r5/nw9LDgg7nRH5PlimcHztu7vyx3T2cyUMEPjEImjDeNVgF9Gn4ncta44s+gSzLhx0KFBcXH36/cRwXGxtL6vTfjIwMHx+fwMBAg9PXuTqnT2//g5sYHbf/yrUHVerapibNy4qqE2duBIxKEbT1GZKYc+7Wm7fvP0f0Z+ncpZn81QI+6xL+5GlFe2c9MWIbv7c+wSuPnvyt/MXbxkbtdw2u3Xq8MPHQv3a4VBG/eefWRYICdZrCspc5sYsmeXpqZ0s5OzuETwy+8tsuvmaXvcxZunyar5+njY1cJpN6errOiRz9x90svg+ZTtXmv+cLtvI9zVgXAwpcKNwxfcYoH19PR0elTCZ1cXEcOWrQgazkes0Vernf0FxU/urMshUzfP28tDmXa3MeETW2+N5PfB9S33/wx8BBfnZ2tkqlYnjIAPgcUZu6W1lzOn3L/EFBvvb2CqlU4tLNcfTYwb+cW0udK2tOR0T90NvHQ2Fno7Cz8e/vvXpNxMuqv604RJzfNZzdsScuILC3ws7GViEfGNBry/ZY8XCAuvFce38PO8X+Xbd1xpdOGYmoOmGHAmlp2ttZ5EMDpCL418HBIS8vz+DsdK7OQW8fzIB4UMCM2sw4tBhQQFfLrdsinnUFqOpbfcVgFdCnofEc8F23dfoEsiwfdihQWlp6+fLlS5cucRyXnJx8mbdduXLl9u3b9fX1xuTug9IFDp2bAUABxhxQpykEFGCPHYAC7MnDGCH4YNvvXNcbXz4YxeIcGKEA/60BlUp154727fnO3TpX56C3D2YAUABQgL0ws48IKAAooIsOnSteYuiNEQrw3xrg1zsxBR+ULnDo3AwACgAKsBdm9hEBBawNBdzXf2d06UTlEklXjFCge/fu69b94/kKoEDnSrK5egMUABRgL8zsIwIKAAroosNH6Xdqamqb85ERQs+faz9GjzFuampKT0/38fGRy+Xu7u6xsbGVlZWCKJWVlbGxse7u7nK53MfHZ+PGjU1NTQKf4uLi8PBwJycnOzu7IUOGnDp1SuDQ3i4jFIiIiLC1tZ00aVJ0dDTHcaGhodFtbXPnzm1voB+0m0sRP9m4gAKAAuyFmX1EQAErQ4Fvu28wvnxQj/gOxcXFR/6+rVu3TruuCe+NuTlz5rQufhoeHr5///6kpCSFQuHv719TU0P7UavVffv2lUqlcXFxmZmZERER2s9GREdTB4xxayClUuns7Lx27do9e/YEBwe3foEiKyuL79NenREKVFZWRkZGdu/eXfJ+E7w7QHctaImhT5YA6IkDCgAKsBdm9hEBBQAFdNGhPUHV075q1Srtmk579xL/goKC1jsEEyZMoM1PnjyJEEpLS6OWlBTtN9O3bt1KLUuWLEEIXblyhVpCQkI4jrt58yaxNDY2BgQEODk5qdVq6tNehREK8MPDAwKqphZdARQAFGAvzOwjAgpYGwp4bPjW6MJXtI+tazQaDw8PpVJJFToqKgohdPnyZX5XKpWqV69e1KJSqezs7Orq6qjl6dOnCKF58+YRC9kNDQ2lDhjjrKws7VcqjhzhG9usmwEFoqOjr1+/3uZojDFatKxa4uABBQAF2Asz+4iAAtaGAp7p3xpdjJGqs2fPIoT4T8P9/PwkEklDQwO/21mzZiGE3rx5gzF+9eoVQmjYsGF8B4yxu7u7v78/MWZnZyOEkpOT+T4PHz5ECMXFxfGNbdbNgAJtjsN4oyWqqUWPGVAAUIC9MLOPCCgAKKCLDt7tbPoI2YQJ2q+i8K+HlUqlq6uroG1Cgvazq8XFxRjjW7dutWLB9OnTBT6DBw/u2rUrMW7Zov0k2O7du/k+tbW1CKHJkyfzjW3WzYMC5eXlc+fO9fDwaJ0JSb5SWFFRER0dfePGjTZHqY/RomXVEgcPKAAowF6Y2UcEFLA2FPDa+K3RpR0S8P6gVL148UIqldJLeeIvkUg8PT0FbcnkgGvXrmGMi4qKEEIRERECn5CQEBsbG2Jcs2YNQujAgQN8n+bmZoTQ6NGj+cY262ZAgdLSUjc3N3t7+x9++EEikdAPFvv7+8fExLQ5Sn2MlqimFj1mQAFAAfbCzD4ioACggC466CNJbfqsX78eIbRjxw7+0U/0rsCcOXPc3NzKyspev37NcRxFgcTExL59+/IT9FF1i5ZVSxw8oACgAHthZh8RUMDaUEC18Vujy0dpE3VuaWnp2bOnQqGoqtJ+VJZun+hcATc3N/KORGVlJR8Fdu3a5ejoSLPzsRVLVFOLHjOgAKAAe2FmHxFQAFBAFx0+Vp6I/8WLF9u8zx8ZGSl4LRBjLHiDwMvLS/AGQWlpKf8NgpKSEoRQWFgYf2yHDh0S7xsEcrk8MzMTYyxAgZ07dyoUCv5pfFTdomXVEgcPKAAowF6Y2UcEFLA2FOi56Vujy0dpE3WeMWMGQqioqIhaSIUgAn9dgZycHMG6AsnJyYJ1BeLi4gSvIAYHB3Mcd+vWLdJtU1NTYGCgo6Pju3fvBBF1d80wV0ClUiUkJOiiQGRkJDwgsCAmABQAFGAvzOwjAgoACuiig66UftDy+vVruVzu5+fXpid5dTA8PDwzMzM5OVmhUPTt27e6upo6q9VqX19fwWqDgomEt2/fJqsNrlu3bu/evWS1QcFEQtqhoGIGFFiyZImzs3NpaSn/rsClS5fkcrngnUjBWDvetSARtY6hAgoACrAXZvYRAQWsDQV6bf7W6NKxGLV5dOvWrYLLer5bY2Pjhg0b6DcIYmJiXr9+zXfAGL9+/TomJoZ+gyA9Pb3NbxCMHz/e0dFRoVAEBQXl5OQIOmlv1wwoUFFR0aNHD2dn54iICIlEMnPmzIkTJ8pksp49e+pzH6O9M7EOfbWgswAUABRgL8zsIwIKWBsK9N78rdGlPRmyXLsZUABjXF5ePmnSJKlUSr4+IJVKw8PD6TeaDMumBYmodQwVUABQgL0ws48IKAAooIsOhomUmFuZBwVIRtRq9c2bN2/cuEHWVsQYNzc3G5ws69BXCzoLQAFAAfbCzD4ioIC1oYDvlm+NLgbrlGgbmhMFBElZt26dVCoVGPXftSARtY6hAgoACrAXZvYRAQUABXTRQX9hshRPcaEAfKTYgigBUABQgL0ws48IKGBtKOC35Vuji6UIvP7jBBQItyD1FdVQAQUABdgLM/uIgAKAArrooL/EWoonoACggIEZABQAFGAvzOwjAgpYGQp06bPV+GIpAq//OAEFDBRCUV2gm2UwgAKAAuyFmX1EQAFAAV100F9iLcUTUABQwMAMAAoACrAXZvYRAQWsDQX6ZXQxuliKwOs/TnYosP5DG/lmsf5DF3ia5cr4Uw4KKAAowF6Y2UcEFLA2FPDP6GJ0EaiPFeyyQwGymlDH/8IbBBbEFoACgALshZl9REABQAFddLAC7RecAjsUuKzfJhif/rsWJKLWMVRAAUAB9sLMPiKggLWhQP9tXYwu+guTpXiyQwFTZ8Q69NWCzgJQAFCAvTCzjwgoACigiw6mljP2/QMKGDhpzoI020RDBRQAFGAvzOwjAgpYGwoM3N7F6MJeqk0dEVAAUMDADAAKAAqwF2b2EQEFAAV00cHUwsy+f0ABA4XQRJfaFtQtoACgAHthZh8RUMDaUCBgexejC3upNnVEQAFAAQMzACgAKMBemNlHBBQAFNBFB1MLM/v+AQUMFEILunw30VABBQAF2Asz+4iAAtaGAoE7uhhd2Eu1qSMCCgAKGJgBQAFAAfbCzD4ioACggC46mFqY2fcPKGCgEJroUtuCugUUABRgL8zsIwIKWBsKDNrZxejCXqpNHRFQAFDAwAwACgAKsBdm9hEBBawNBYJ2djG6mFqY2fcPKGCgEFrQ5buJhgooACjAXpjZRwQUABTQRQf2Um3qiIACgAIGZgBQAFCAvTCzjwgoYG0oMGRXF6OLqYWZff+AAgYKoYkutS2oW0ABQAH2wsw+IqAAoIAuOrCXalNHBBQAFDAwA4ACgALshZl9REABa0OBobu6GF1MLczs+wcUMFAILejy3URDBRQAFGAvzOwjAgoACuiiA3upNnVEQAFAAQMzACgAKMBemNlHBBSwMhT4Jni38cXUwsy+f0ABA4XQRJfaFtQtoACgAHthZh8RUABQQBcd2Eu1qSMCCgAKGJgBQAFAAfbCzD4ioIC1ocDwPd8YXUwtzOz7BxQwUAgt6PLdREMFFAAUYC/M7CMCClgbCoTs+cbowl6qTR0RUABQwMAMAAoACrAXZvYRAQUABXTRwdTCzL5/QAEDhdBEl9oW1C2gAKAAe2FmHxFQwNpQIHTvN0YX9lJt6oiAAoACBmYAUABQgL0ws48IKAAooIsOphZm9v0DChgohBZ0+W6ioQIKAAqwF2b2EQEFrA0FwvZ9Y3RhL9WmjggoAChgYAYABQAF2Asz+4iAAoACuuhgamFm37/1oAD73EFEyABkADIAGbCsDHwzcp/xxbJOWZ/RWg8KNDRfhcIyAxjjz5PPQWGZgfd3YgrqNFDYZQBjXN2UB4VlBvSRLoN9jOeAb0buMzi6aBsCCgBAGJgBQAGWEEBiAQqwxyBAAZYQQGKZVC+/+X6/8cWkIzRL54ACBgohy+tvccYCFAAUYC/M7CMCClgbCozO/MboYha1NmlQQAFAAQMzACgAKMBemNlHBBQAFNBFB5Oqslk6BxQwUAjFeaXOclSAAoAC7IWZfURAAStDga/HZBpfzKLWJg0KKAAoYGAGAAUABdgLM/uIgAKAArroYFJVNkvngAIGCiHL629xxgIUABRgL8zsIwIKWBsKjDvwtdHFLGpt0qCAAoACBmYAUABQgL0ws48IKAAooIsOJlVls3QOKGCgEIrzSp3lqAAFAAXYCzP7iIAC1oYC4w9+bXT5WLVWq9XJycl+fn62trZdu3YNCgo6cuQI7aS2tnblypUqlUoul6tUqh9//LG2tpYeJZXS0tJZs2a5uLjY2toOGDAgMzNT4IAxvnLlSlhYmPL9FhYWVlRUpOvTngVQAFDAwAwACgAKsBdm9hEBBQAFdNGhPUFt0/78+XMfH5+uXbsuX748MzNz+/btixcvXrduHXHWaDShoaEIoYiIiMzMzCVLlkil0pEjRzY3N9PeysvL3d3dFQpFUlLS/v37x48fjxBKS0ujDhjj8+fPy2QylUq1efPmHTt2+Pv7y2Syixcv8n06qAMKGCiELK+/xRkLUABQgL0ws48IKGBtKDAh62ujSweaqnto5MiR7u7uz5490z2EMT5w4ABCKC4ujh7dsmULQujw4cPUEhERgRDKycmhlvDwcJlMVlJSQiwajUalUimVyrKyMmJ59+6dh4dH7969+UhBm+tWAAUABQzMAKAAoAB7YWYfEVDA2lBgUtbXRhddKW3PcvXqVYRQRkYGxlij0VRXVws8yS2B0tJSaq+rq1MoFKNGjSKW2tpahULh7e1NHTDGly5dQgitXbuWGMludHQ03yc1NRUhpOdjAkABA4VQnFfqLEcFKAAowF6Y2UcEFAAU0EUHvuJ2XE9KSkIInTlzZsqUKXK5HCHk7u6+du1ajUaDMW5pabGzs+vevbugk2HDhjk4OBDj9evXEUKzZs3i+zQ0NHAcFx4eTozp6ekIof379/N98vPzEUJbt27lG9urAwoAChiYAUABQAH2wsw+IqCAtaHA5ENfG12829l0hXbSpEkIoW7dugUFBR1+vw0dOhQhtGDBAoxxZWUlQigoKEjQcNq0aQghtVqNMT558iRCKDExUeDTrVu3gIAAYlyyZAlCKDc3l+9z7949hNDy5cv5xvbqgAIGCiHL629xxgIUABRgL8zsIwIKAArookM7JPC3e/hEdEeNGoUQUqlUDQ0NxNLQ0NCrVy+O4x48ePDs2TOEUEhIiEChyeSAly9fYowPHz6MEEpJSRH4eHp6+vr6EuPcuXMRQgUFBXyfkpIShFBMTAzf2F4dUABQwMAMAAoACrAXZvYRAQWsDQWmHv7a6NKeoOraw8PDEULJycn8Q6tXr0YI7dmz55O+K9DU1ETue/BTgzFWq9VNTU0Co/674rx0tuJRAQoACrAXZvYRAQUABXTRQX9hWrhwIUJo586d/CZ79uxBCK1fv/6TnisQFxfn4+PDzwup+/j4xMfH69r1tFix6Irz1AAFAAXYCzP7iIACVoYCX007YnzRU5Xo7X3Bk/7k5GSEEFkmaMSIEQihjt8gsLW1FbxBcPnyZf4bBIWFhQghwRsEaWlpon6DwM/Pb+XKlbqpTEpK6tu3r65dT4s49dKKRwUoACjAXpjZRwQUABTQRQc9VQlj/O7dOycnJ3d3d3ovvLq62sPDQy6Xk5UGMjMzBesKbN26FSF06NAhGmX27Nltrivw5MkT4kPXFaCrF6jV6h49evTs2VO86wrY2dkJ3nkgJ5OZmWlvb09P/mMrViy64jw1QAFAAfbCzD4ioIC1ocCMI18ZXT5Knsi8P19f302bNm3evLlPnz7k6QDpRKPRhISEIIQiIyMzMzPj4uKkUmloaCh525D4lJWVubm52dnZJScnZ2ZmkvkHgomEubm5UqlUpVJt3bp1586dZLXB/Px8PYdqhmmDDg4OdM1F/ijXr1+vVCr5lo+qi1MvrXhUgAKAAuyFmX1EQAFrQ4FZP31ldPkobcIY5+bmjhgxQqlUKhSKoKCg48eP83uorq5OSEjw8vKSy+VeXl6JiYk1NTV8B4xxSUnJzJkznZ2dbWxs/P399+3bJ3DAGBcWFoaGhpJvEISGhl6+fFnXpz2LGVAgODg4MDBQcNeiubk5MDBwyJAh7Q30g3YrFl1xnhqgAKAAe2FmHxFQAFBAFx0+qEcW52AGFMjKyuI4btq0afSpxrNnz6ZPny6RSNr82pKeORWnXlrxqAAFAAXYCzP7iIAC1oYCs49+ZXTRU5UsyM0MKIAxjoyM5DhOIpE4v98kEgnHcXPmzDEmcVYsuuI8NUABQAH2wsw+IqAAoIAuOhgjVeJsax4UwBifOHFi4sSJfd9vkyZNOnnypJEJEqdeWvGoAAUABdgLM/uIgALWhgIRx74yuhipViJszhoF6urqDh8+fP369U7PhRWLrjhPDVAAUIC9MLOPCCgAKKCLDp2uX2bvkDUKNDc3t36dac+ePZ1+5uLUSyseFaAAoAB7YWYfEVDA2lAg8thXRpdO1y+zd8gaBTDGKpVq8+bNnX7mViy64jw1QAFAAfbCzD4ioACggC46dLp+mb1DM6BAQkJCUFAQf/2ETsmCOPXSikcFKAAowF6Y2UcEFLAyFPgy+rjxpVM0S1SdmAEF7t+/HxAQEBoaeubMmfv375f9fTM4O1YsuuI8NUABQAH2wsw+IqCAtaHAvOwvjS4G65RoG5oBBchrhORfic5mcKbEqZdWPCpAAUAB9sLMPiKgAKCALjoYrFOibWgGFEhNTU1rfzM4U1YsuuI8NUABQAH2wsw+IqCAtaHA/J+/NLoYrFOibWgGFDBRLsSpl1Y8KkABQAH2wsw+IqAAoIAuOphIxczYrYhQoKKiIj093eBcWLHoivPUAAUABdgLM/uIgALWhgIxP39pdDFYp0Tb0Pwo0NLSkpubO3nyZLlcLpFIDM6UOPXSikcFKAAowF6Y2UcEFAAU0EUHg3VKtA3NiQLPnj1LTU318vKSSCRyuXzs2LEHDx40OFNWLLriPDVAAUAB9sLMPiKggLWhQOyJL40uBuuUaBuaAQU0Gk1OTs6YMWNkMhl5jyAhIaGqqsrIHIlTL614VIACgALshZl9REABQAFddDBSrUTYnCkKPHr0KDEx0d3dneO4Hj16JCcn5+XlcRyXk5NjfGqsWHTFeWqAAoAC7IWZfURAAWtDgUUnvzS6GC9YYuuBHQqEhoZKJBIbG5vp06fn5eW1tLRgjJ88eQIoIE6l/+CoAAUABdgLM/uIgALWhgJLcr40uohNyI0fDzsU4DjOx8enuLiYP2hAgQ8qrmgdAAUABdgLM/uIgAKAArrowFcx66izQwHyjoBMJhszZkx2dnZDQwPcFRCtzOszMEABQAH2wsw+IqCAlaHAF3G/GF+sQ/75Z8EOBTDGr169Sk9P7927N8dxzs7Oixcvzs7OhgcE+uiuCH0ABQAF2Asz+4iAAoACuujAF1HrqDNFAZqygoKCmTNn2trakk8QxMTElJSU0KOGVUQoltY9JEABQAH2wsw+IqCAtaHAsl++MLoYJlJibmUeFCAZefPmTUZGRr9+/cgrhYGBgbDaoAXRA6AAoAB7YWYfEVAAUEAXHcQs6oaNzZwoQEd89erVqKgopVIJqw0CCrDXVwuKiDFmr4WfeERAAWtDgeWnvjC6UPGymoooUIBkU61W79692+DMWpCIWsdQY/SsLwAAIABJREFU4a4Ae4YAFGDPJYACgAK66GCwTom2oYhQwMgcWYe+WtBZAAoACrAXZvYRAQWsDQXiT39hdDFSrUTYHFDgqgWpr6iGCigAKMBemNlHBBSwNhRIPPOF0UWEWm7kkAAFOhMFvLzckM7m6tZVIOG1jVf27FsZPHyAo5PS1lau8nafOm3knfvHqNulot0r4mcFDvJzcXGUy2UqlXv03PH3Hh6nDmKomAUFSt7W6f7Gv6huoKrsvLFg+/XS355VvahuqG9qfq6uv1z6ZtbJ4q9TcqkPrcw8+ce18qrqBk1VfVNByZvvD9+kh2jFbXPhzhtl917X1DZqXlY3XC17G3Xqz2/a6o02MV1FDA8I9h1I0Pkd/4dBIuH4Ul1YtH30mCAnJ3tbW3k/f+9NWxdWN1zgO/DrtU0XR44KJB2p6/P5h8xbFw8KnDidNvL7gO4ezu//aLhNmjL8YtFWqtP3Sw7Pjxk/aLCvq6uTXC5zc+86NLjv7szlb2rPUJ/qprwLl7csXTE1ILC3s4uDXC7zUrlGzh39x/0DfB+z13X/H+9Ei/Ec8EXimU4cj0i6AhToZBRwdFSuWh3NL+mbFvGV+827C2EjtX/yBgzsvSRuWnzi7FmzR3t5uf1yeiN1c3XrKpFwwcP7L4mbtmzFzKHD/BFCdkrby1f3UB+zV8yFAm/rmpILHvFLXN59qr5DMq9V1TflPX6980ZZ2uXHu26UlVZp6eHCk8qvVv2NBjYUad9fLXtXt+nXkm3XSitrGzHGC87cpV19nnyu3+6r1Q0aTXPL6QcV66482XG99Nm7eoxx7qPXfDdmdTGgwLVbe5NTIgQlNGwgQmjMuCFUtn/OWSOVSuzsbCOjxyxbMc3HtwdCaPKUEOogqGzZtlgqldjayhFCgAK6YrwsfipCyNnZIXLu6OUJ0yZODpbJpBzH7T+UQJxzL250cLAb+X3A3AVjV6ycHj1/bI8e3RBCIaH939adpR26ujpJJNzQ4L4Ll0yMWz5lyNA+2r8tdrZ8qqDO5qqYVB2/WHnG+GLSEZqlc0CBTkYBLy+3jkV6xqzvEUI79yQI3KrrL1HLug2xT8tP0d2G5qtr1i1ACPXt15NvNG/dXChQ8rauA+n9JiX3i+RzfIevU3IvllRijCcev03tAXt/xRg/elNrszafGF03F1bWNtY1NbtuLqRupx9UYIxnnvyDWlBq3p2Kaozx4P2/USOzihhQQCDhZDdoiFZRTvyyluy+envGpZv2htbV67uJ5W1N7pChfRFCh44m6/ZQfC9LobBZkTjDy8sVUEBXgB8/OyqRcK6uTiXPj9Gj5y6kI4RU3m7E8qbmzLuGc/RodVPem9ozISP6a3N+7EdqX7M++lHZT3S3uilv9drI939bVHyjeesm1ULjOeCLlXBXwKQ/IuM6N68ukuheXm4do8C1mwcQQtOmj/zY0dY2XlEobBBCLyrOfWxbE/mLEwXaVOWF5+5ijBMuPKBHD/5ejjGedbKYWj5PPreq8BHGeFXhI2q8+171KS4Q+9bfnmKMxx+9Rd2YVcSJAjf/2I8Q6u7hQu//79kf36rosyN+4Kt+7oXNCKHhIf35xjpNgbo+P3Cwb5++qqraPECBNjW48NcMhNC48CGCo/b2CqXSVmDk727cGoMQSlkTyTcK6lX158jfltJX2YJD5to1Tgo+0PrzpLPGlw/EsMDDZrgr4O3tffr0ad1cnT171tvbW9eup8VEgvdR3bbe53dzcz54OGXNugVbMuLyC7bXNl7h97Bsxcz3F08bKt6eP3g4Ze36mF17E/SZBFDXdMXe3q71FuurN3n8Ds1YNxcKvKiun/bzH/H5Dxaeuzs089qXq/52D0BXlb9cdS730evWD178cOSvqQDkPr9j+kW+/8D3twoul76hxuy7LzHG037+667Ad6l5f76qrmnUOP29LW1i0oo4USB20USEUNKqCKrxM2aN0l6M/vS3GwDq+nyFnY1MJq2qzaOedZqC5JQImUxK7h8ACrSpvmWvftY+/nfr+vTlceqQV7gJIRQ+cSi1CCpV9edGfh+AEMr+JVVwiL/7ruGcvb2itavy1yf4djPW9fybb5ib8RzwedJZw0KLuZUZUIDjuKNHj+omJTs729KXGNKdNqjydr9QuJMK9vCQAQihrduWOjs70LlXHMfFLJwsgAbahFR+OpaGEAoa0ldgN+OuuVBA8Jvz5G1tkM69esW6C8kFj1YVPtp+vfRhZQ3G+NAfz6lIo9Q8jLG6oYlaSEWx7gLG+CVvEqJXxuXn6vqm5pZf7r9ae+XJ9uulpVV1z9X1YYduCNqy2RUhCrypznV0UkqlkkdPj1GBDxzkixD69cYeaiGVPn1VCKHf7xyk9qJru2Qy6crk2cQCKNCeAKdvieE4zqWbY9S8MSsSp0+eOtzGRjby+wD+I4PqprynL4//mDJ75apZ82PG9+zVHSE0fWZoe30Se9bRHxFCg4f4dezG8qjg//HO3e2U/1U7d0hi6E1EKLB9+3alUmlwUswoijR0Surc8xe3l70487b64u3iw/NjJnIcp1DY3Pw9i/j4+nkhhKRSyeQpocX3fnrz7kLehW29enkghFatjqb9CCoPnvzcrZuTTCaFaYNJBQ+HHbhmv+HCd6l5Pbdf2XmjrLmlpbZR47PjCv//cK+My/QXqbmlZX3RE/4bBE7pF1vv8D97V89v8nnyua9TcjHG9U3NfLtT+sVLT9/Q3ho0zeuLnggeGfD9TVoXIQrsP5gomDBYpyno1Vv7K33nwWEq+aQydJh2usClqzvI7pvqXB/fHv3793xXdx5Q4INae+xkipOTkl5C9OzV/cDhREGrW3f2UQeO4+JWTBG8QSDwv/PooEs3R5lM+ulMG+yU/0PpHwSrqbBDgStXrqS93ziOmzp1KqnTf5cuXerm5jZ8+HCDMyuQT5HskicCEyaGkPH4+HhqZ+j09ebfA7j5e5ZEwtnb21XX/TVzkI7/2cszPr7aVtt3rqBGMVTMcldA939j8iLAiXsvdQ99ueqcy6aChefuVtU3XS17S/VbfxTw21n0tKruennVoH2/cWnnu24sWJH/oKm55UFljWzNed2IpraIEAWIup849Y8Jg0TR9USB2EUTZTLp9dv7SKs6TQHcFRBINd1ds2GuVCpZvHTSnw8Pvnr3S9GNHeTm/9IVU6kPrVTVn7v35NDGrTEODnaDh/iVvfqZHuJXSp4fI292bN2xiG83e91gFdCn4ecpucYXfQJZlg87FEhLS+PebxKJhFQE//r4+Ny8edPg9IlBHXXHcO/h8dZndV27OpBDg4O0E60TVs4RePZ8f2OA3jygR5+9PNO3rzd5pkCNIqmIBAW6b7nU+ji/sraxAxmedPx3jHHGtVLio+cDgq9W5T6s1C4n4LDhb1MKNv2qfQsxueCv2YUdhO7cQ2JDgVvF2mmwHj260QmDRNT1eUCQX7iV47hVqVGUAwAF2tPg3IsbtdMCJg3jO7x690t3D+fWt47/fHiQb+fXs35aiRBasDCcbyT1kufH+vTV3qTclBGre9S8FoNVQJ+GxnPA5+9vH+oTy4J82KHAu3fvSktLnz59ynHc9u3bS3lbWVnZmzd/3YM1LH0iEUjBMCrenkcI2djIiX32nNEIoXUbYgVugYP8Wu8WXPl1L99eWn7Kr49Kmy6R3Q8ggxQJCsjWnNcK5N/v6gsEmPj8+aqa2vWZNthz+xWM8c3n72grUhl9RAuspx68EtgZ7IoNBRYtmYwQSk75a8Ig0XV9pg1u2rqQ3spus3Lt1l4+JZirLoYlhuKWT0EIbd4m1OzwScMQQj9lJ7en3OWVJxBCffp6CRwePfvJ18+T4zix3Q8g4zRMAvRs9fnqXOOLnrEsyI0dCtCkHDp06OlT7etYnbvxRVQ89bN5W1ofjvr1UZEhHchKRgjNmj2aP0J1XaGjo/YRYNnz09T+pCynd+8eHMft2itcgYD6mLciEhQYkXUdY3y34i+Z15Vk723aqQO3X6jpIX1eJuy7qwhj/LRKuIzBnJxijHH23TYeSdD+TVQRFQq8rcl1crIXTBgkgq3Py4Tnzm+KmjtWUJRK7VT2yOgxUXPH8uchmosD6jQFYkCBmEXhCKGVybMEij40WDv3ooMXBG4W70UI+ff35jd88PRwr97dtdcYu+P4dvHUO1caBL19mZZrfBH0aQW7ZkABE2XNvLrY0Hy1+O5Pb9QX+MN4WHKCTAlcs24Bsb9RX+je3UUml169to96rkzSLvERGhZALY9KTqi83SUSbv/BJGoUW4U9Cqi2XUapeXyVdd1cSF4QiM//x5oBfXYVCV4v5NLOn3+sfZkw9dJj2lafJYa6rM59W6ddgjDilz9pQ/nafLLYwLzTd6iRWUVUKJB5SHvzeez4v1YYpIKtXWLo/ZrZei4xRBvCXIE29fjQMe0kf1dXp4elR6hDztk1HMfZ2srJegBFN3ZU1f9tiaGXb3PCRmlXgYz/cQZtdffJIZW3m0TC7clcTo1iq5hII0i3xnPAl2na+cVWtpkNBS5evLhr1641a9bQmYNpaWlr1qwxOL9mV8pVq6OVSsWYsUNjYietSJg9eUooWUV1zNih/PmA585nyOUyuVw2fcaoZStmBg/XLgfWzdXp7oO/vkGgUrkjhAICffkLGJP6w5ITZj9TMgD2KJBc8Ejd0HT6QcX266XrrjzJvvuyrkmDMT79oIJ+FODkvVcVNQ05919t/e3puitPDhc/J3JeVPaWS/vbRL/0q39bePh1WwsPzzz5R3NLC8Y4/0nl+qIne24+e1XTgDG+Wva2y+q/LWPMhgZEhQLDgrXrYQsmDFJRzz6ZRhYejpo7dnn8dLrwcG3TReqjWwEUaFOV3zWcI6Jub6+YNWfUsvipY8cP4TgOIbRxawxpMn7CUGcXh3HhQ2IWhS+LnzptRqjj+9cNhgzt8/JtDu3WS6Vdz3FgYO8fU2YLyt3HWdTNvBWDVUCfhl+tyTW+6BPIsnzMgAJPnjzx9/dvc/KgRa8rcKFw5/QZo3x8PR0dlTKZ1MXFceSoQQeykus1RQLxvvl71uQpoS4ujjK5tIen64KYiYJlhtt8dEqMFwp3CHoz1y57FAja/9uR4uf3Xte8rWtq1DRX1DScf/x6xom/1v/5PPncqMM3sv54/qCypqpe6/OqpiH/SWXUqT8FHyAgyj3zZPH18qqaRo26oanwadufIxq8/7ef7758UV3fqGmubtDcfP5uRf6Db1f/7eYEGw74PPmceFDg9zsH25wwyFf3givazxGRb2717ee9cUtHnyMiDQEF2tPgN7Vn0rfEDArytbdXSKUSl26Oo8cNPpW7jvqfOJ02fVZYr97dHRzstH9/ujmGjhy4fXcc/wME1U15Hfxtyb24kfZm3opJRdR4DvhqDdwV6Iwf0bhx4+RyeXp6+u3bt3lzB/9RNTiCuRTxk43LHgWYKa5oA4kHBfiSb911McwVMK8ws49usAro0/DrtbnGF30CWZaPGe4KKJXK+Pj4Tk/TJyvJ5jpxQAH2xAAowB47AAUABXTRodP1y+wdmgEFHB0d9+3b1+lnbi5F/GTjAgoACrAXZvYRAQWsDAW+WZdnfOl0/TJ7h2ZAgQkTJsTExHT6mX+ykmyuEwcUABRgL8zsIwIKAArookOn65fZOzQDCjx69Mjd3T07O7tzT95civjJxgUUABRgL8zsIwIKWBkKdFmfZ3z5KPFqc6rmnTt3aCdNTU3p6ek+Pj5yudzd3T02NrayspIeJZXKysrY2Fh3d3e5XO7j47Nx48ampiaBT3FxcXh4uJOTk52d3ZAhQ06dOiVw6GCXEQqE/X3z8fGRSCQ9evQYMWIE/8jIkSM7GGvHhz5ZSTbXiQMKAAqwF2b2EQEFrAwFvt2QZ3zpWIwERxFCISEhR/6+vXv3jrrNmTNHu7B0ePj+/fuTkpIUCoW/v39NjfaTqmRTq9V9+/aVSqVxcXGZmZkREREIoejo6H8e1/63uLhYqVQ6OzuvXbt2z549wcHBCKGsrCy+Twd1Riig0nvrYKwdHzKXIn6ycQEFAAXYCzP7iIACgAK66NCxGAmOIoSioqIERrpbUFCAEJowYQK1nDx5EiGUlpZGLSkpKdov0WzdSi1LlizRrlV/Rbs4OtlCQkI4jqPf8WlsbAwICHByclKr1f906ei/jFCgoyF00rFPVpLNdeKAAoAC7IWZfURAAStDge825hlfPkq1CAo0Nja2qcpRUVGt34m4fPmv76pjjFUqVa9evWgUlUplZ2dXV1dHLU+fPkUIzZs3j1jIbmhoKHXAGGdlZSGEjhw5wje2VwcUuGouKbX0uIACgALshZl9REABQAFddGhPUNu0t+qxUqmUSqUIIUdHx9mzZ/O/wuPn5yeRSBoatMuY0m3WrFkIIfKVvlevXiGEhg0bRo+Siru7u7+/P6lnZ2drPwyWnMz3efjwIUIoLi6Ob2yvDigAKGBgBgAFAAXYCzP7iIACVoYCaFOe8cW7na1NoR00aFB6enpOTs6xY8cWLVokl8udnZ3v379PnJVKpaurq6BhQkJCq/wXF2u/fHbr1q1WLJg+fbrAZ/DgwV27diXGLVu0373bvXs336e2thYhNHnyZL6xvboZUKCdHHr37NmzX79+48aN27FjB/9OSHtDF9gt/SLb4sYPKAAowF6Y2UcEFAAU0EWH9lRMoEpt7ubm5iKERo8eTY5KJBJPT0+BJ5kccO3aNYxxUVERQigiIkLgExISYmNjQ4xr1qxBCB04cIDv09zczA/EP6RbNwMKhIaG+vj4cBzn4OAw8P3m4ODAcZyPj09gYKCTkxPHcf7+/m/fvtUdbgcWi5NSSx8woACgAHthZh8RUMDKUECyOc/40oES6XNoyJAhMpmsvr4eY/zp3hW4e/eus7Pztm3b6NORxsbGjIwMFxeXe/fuaTSajIwMjuOWL1+uT06pj6Urq8WNH1AAUIC9MLOPCCgAKKCLDlR3DKvMnDmz9a2B58+fY4w/3bkCY8eOpfMe+XmcO3fuuHHjiGXq1Kk9e/bkH/1g3eKk1NIHDCgAKMBemNlHBBSwMhSQbskzvnxQjzp2CAwMlMvl5GI4MjJS8Fqg7hsEXl5egjcISktL+W8QlJSUIITCwsL4cQ8dOiTqNwhaHwfs3buXP2JS37t3r4ODA6lv376dPgXR9WzTYunKanHjBxQAFGAvzOwjAgpYGQrItuYZX9rUoDaNuusGHjt2jCwoRPwvXrwoWFcgJydHsK5AcnKyYF2BuLg4wSuIwcHBHMfdunWLdNvU1BQYGOjo6Mhfy6jNERKjGeYKODg4rFixQndMy5Ytoyiwc+dOR0dHXZ8OLBYnpZY+YEABQAH2wsw+IqAAoIAuOnSgRIJDy5YtGzx48MqVK3ft2pWRkTF16lSO49zd3UtKSqgneXUwPDw8MzMzOTlZoVD07du3urqaOqjVal9fX8Fqg4KJhLdv3yarDa5bt27v3r1ktUHBRELaoW7FDCgwYcIEhUJx/vx5/mjy8vJsbW3pikvz58+nb0zy3TqoW7qyWtz4AQUABdgLM/uIgAJWhgLyjPPGlw6USHDo9OnTY8aM6dGjh62trY2Nja+v74oVKyoqKvhujY2NGzZsoN8giImJef36Nd8BY/z69euYmBj6DYL09PQ2v0Ewfvx4R0dHhUIRFBSUk5Mj6KSDXTOgwKNHj5ydnSUSSf/+/ae/3/r37y+RSJydnR8+fKj9IntdnZ+fn2C1hA7OgRyyOCm19AEDCgAKsBdm9hEBBQAFdNHhg3pkcQ5mQAGMcVlZ2axZs+zt7bn3m729/axZs/gLMBmQR0tXVosbP6AAoAB7YWYfEVDAylDAZvt544sBCiXyJuZBAZKUlpaWV++3lpYW49NkcVJq6QMGFAAUYC/M7CMCCgAK6KKD8YIlth7MiQKdmwtLV1aLGz+gAKAAe2FmHxFQwMpQwHbHeeNL54qXGHpjhAJl7zdywqTe3r8GJ8XipNTSBwwoACjAXpjZRwQUABTQRQeDdUq0DRmhAMdxUqmUrKjAcZyk/c3gTFm6slrc+AEFAAXYCzP7iIACVoYCip3njS8G65RoGzJCgdTU1LS0tObmZowxqae1sxmcKYuTUksfMKAAoAB7YWYfEVDAylDAbtd544vBOiXahoxQgMH5W7qyWtz4AQUABdgLM/uIgAKAArrowEDRGIcQFwrorpmgfzosTkotfcCAAoAC7IWZfURAAStDAfvd540v+guTpXiKBQWam5sPHjz4sZ8g4mfZ0pXV4sYPKAAowF6Y2UcEFAAU0EUHvvRYR501Cvz+++/Z2dkFBQX8GwDHjx/39fXlOI5+g8CA5FqclFr6gAEFAAXYCzP7iIACVoYCDnvOG18MUCiRN2GHAvX19WPHjqWvDvTs2bOkpOTFixcjRoyQSCT29vZJSUm6H3HSP32WrqwWN35AAUAB9sLMPiKgAKCALjroL0yW4skOBdasWcNxXGBgYHx8/KRJkziOGzNmjL+/v62t7cqVK9+8eWNkyixOSi19wIACgALshZl9REABK0MBx73njS9GqpUIm7NDAX9//2HDhpH3CTHGKSkpHMd5eHjcv3+/U/Ji6cpqceMHFAAUYC/M7CMCCgAK6KJDp2iWqDphhwJ2dnbbtm2jJ3///n2O43bs2EEtRlYsTkotfcCAAoAC7IWZfURAAStDAaf9+cYXI9VKhM3ZoUDrrMCjR4/SFFRWVnIcl5+fTy1GVixdWS1u/IACgALshZl9REABK0OBrpn5xhcj1UqEzT8OBYqLi1euXDlhwoRRo0aRk3n69Gl2dvbbt28/eG5tokBBQcEHG+rpYHFSaukDBhQAFGAvzOwjAgoACuiig56qZEFuH4ECKSkpUqmUe79JJBJykiUlJRKJRJ/7/BzHTZ/+/7P35nFRJNu+77/7nHve/Xzufe+Pd+777LP7TFEJxVDKoEKrgAhK0wrtAEI5tLbihAOKgoqt4AAOiOCEtqLiCKIooCLOCIrazkrbDq2AtjLKPBRFPMvcnTs7iyqKTDIyq2rlJz4atXJlrIhVVP2+GRmZNX/nH1tiYiJFUdHR0X8YdP/v2rWLd+7MXVnNrv+AAoAC5IWZfERAAQtDAdfMQuGFt07J9kBTUSA3N5de819aWkqrODOksWPHTpkyhXlpqEIzhPF/GcIw1IgRu9lJqbl3GFAAUIC8MJOPCCgAKKCPDkaUyEx3mYoCQUFBPj4+9E8LpqSksDV76dKlnp6ePY6/xLStx3YMOZi7sppd/wEFAAXICzP5iIACFoYCA04UCi+GZMh87aaigEqlio2NpcfJQYHNmzfb29tLngKzk1Jz7zCgAKAAeWEmHxFQAFBAHx0k17s+70AvUCAuLq5bFIiOjnZ2du7znvW2QXNXVrPrP6AAoAB5YSYfEVDAwlBgUFah8NJbeZK/v6koMHr06O+++44eD3tWQKvV+vj4BAcHSz5Us5NSc+8woACgAHlhJh8RUABQQB8dJNe7Pu+AqSiwa9cuiqL27t2LMWajwPbt2ymKOnToUJ/3rLcNmruyml3/AQUABcgLM/mIgAIWhgJuJwuFl97Kk/z9TUWB1tbWgIAAiqLGjh07btw4iqLi4+PHjh1LUVRQUBD7ZwalGrPZSam5dxhQAFCAvDCTjwgoYGEo4J5dKLxIJXPixTUVBTDGDQ0NS5cutbW1ZW4ItLGxWbJkSWNjo3j9M71lc1dWs+s/oACgAHlhJh8RUABQQB8dTBcmc/HsBQrQQ6qrq7t+/fqZM2euXLlSU1Mjn3GanZSae4cBBQAFyAsz+YiAAhaGAl+fLhRe5CN8fdWTXqNAXwXu83bMXVnNrv+AAoAC5IWZfERAAUABfXToc/2SvEFAgbtmp8Ey6TCgAKAAeWEmHxFQwMJQYPCZG8KL5Mrd5x0wFQWijG7R0dF93rPeNigTgbSebgAKAAqQF2byEQEFAAX00aG38iR/f1NRgFkqyKlQFKVQKNjPIZZqzNajwTIZKaAAoAB5YSYfEVDAwlBgSM4N4UUqmRMvrqkoUKG3lZaWZmRkeHh4LFy4sKKiQrwumtiyTATSeroBKAAoQF6YyUcEFAAU0EcHE1XJjNxMRQFDQ3r//r2zs3NGRoYhB2J269FgmYwUUABQgLwwk48IKGBhKDA094bwQkzXiAUSigIY48jISH9/f2I9NhRIJgJpPd0AFAAUIC/M5CMCClgYCnjk3RBeDMmQ+dr7AAXi4+PhlwmthwCYkQIKAAqQF2byEQEFAAX00cF8Jd9Qz4WiQGdnZ2BgoJubm6EAYIcMQAYgA5AByIBMMuB19obwIpOx9GE3TEWB23pbcXHxyZMn1Wo1RVExMTF92Cd+TTFnq1AhkwGMcYumCArJDGCMv5qXDYVkBjDGXfgZFJIZ4CcBJh4lnAO8zt4wMZYZuZmKAvQdg5TeplAo1Gq1HH6GgIz+QRQmA4ACJCGAjgUoQBIC6FiAAiQhgI4lqoJ6n7shvIjaQ0kaNxUFkpOTU/68bdu2LT09/eHDh5L0Wz8oI1FQIZMBQAFAAfLCTD4ioACggD466AuQuVtMRQH5j5OM/kEUJgOAAoAC5IWZfERAAQtDAZ/zhcKL/AWxtz00FQWioqLS0tJ62zpJf0aioEImA4ACgALkhZl8REABQAF9dCApbWRimYoCdnZ2mzZtItMnflHI6B9EYTIAKAAoQF6YyUcEFLAwFBiRXyi88BMpOR9lKgr4+vrK4TeHjKSSkSiokMkAoACgAHlhJh8RUMDCUMAvv1B4MaJEZrrLVBRISUlxd3f/9OmTbMdJRv8gCpMBQAFAAfLCTD4ioACggD46yFYHeXfMVBTo6OgICwsbNWrU5cuXq6qqeMcT70BGoqBCJgOAAoAC5IWZfERAAQtDAf8L14UX3kKm1WrHjRuHEJo8eTK7kZaWlo2ZLe4fAAAgAElEQVQbN3p6eiqVSk9Pz02bNrW0tLAdMMYVFRUREREDBgywt7cfNWpUtz/9c/v27YkTJ6q+bBMnTrxz5w6nEUMve0CBU6dOlZaWYozpBwoYerqAjY2NoQDE7GT0D6IwGQAUABQgL8zkIwIKAAroowNvXdu3b59KpeKgQGdnp1qtRghFRkZmZGTExsba2NhMmjRJq9UygX7//Xd3d3cHB4fNmzcfP358xowZCKGUlBTGAWN8/fp1W1tbT0/Pn3766eDBg/7+/ra2tkVFRWwfQ/UeUEChUGzbtg1jrO5pMxSAmJ2RKKiQyQCgAKAAeWEmHxFQwMJQYFTBdeGFn66VlZU5Ojru37+fgwKZmZkIobi4OKbZvXv3IoROnTrFWCIjIxFC+fn5jCUsLMzW1rasrIy2dHZ2enp6qlSqd+/e0ZaGhobBgwcPHz6cjRTM4ZxKzyjA4Q7O8fJ5SUb/IAqTAUABQAHywkw+IqAAoIA+OvATvkmTJo0ZM0ar1XJQgJ4SqKioYJptbW11cHBgLiK0tLQ4ODh4eXkxDhjjW7duIYS2b99OG+mXUVFRbJ/k5GSEkCmXCQAF7jLaBpVeZQBQAFCAvDCTjwgoYGEoEFBwXXhhy62J9ePHj9va2tIX3Nko0NXV5ejo+PXXX3PaCQoK6t+/P2188OABQigiIoLt097erlAowsLCaGNqaipC6Pjx42yfwsJChNC+ffvYxm7rgAKAAjwzACgAKEBemMlHBBQAFNBHBy8DW7cqizH+8OGDk5PTxo0baQc2CtTW1iKExo4dyzl23rx5CCH6933Onz+PENqwYQPHZ+DAgQEBAbQxNjYWIXT16lW2z4sXLxBC69atYxu7rfeMAuvWrXtnwtZt6ySNvTqjBWfhGQAUABQgL8zkIwIKWBgKfHfxuvBigAT+NIHPlr+ZM2d6e3u3trbSRjYKvH//HiEUEhLC9scY04sDKisrMcanTp1CCCUlJXF8hg4d6uvrSxujo6MRQsXFxWyfsrIyhJApPx3cMwro/RhhNwa4g0C4sppdC4ACgALkhZl8REABC0OBMZeuCS9sue2xnpubixBir+Rno4DZzAo4Ozt7mrD1mA6xHcxOSs29w4ACgALkhZl8REABQAF9dDBdztrb2wcOHDh16tQ3rA0hFBQU9ObNm6qqKlgrYHoyTfI0d2U1u/4DCgAKkBdm8hEBBSwMBcZdvia8mKRJX5zq6+uR4W3BggUY49DQUISQ8TsI7O3tOXcQlJSUsO8guHnzJkKIcwdBSkoK3EHAczWc2UmyVB0GFAAUIC/M5CMCCgAK6KOD6SjQ0dFxTm9DCPn7+587d+7BgwcY44yMDM5zBfbt24cQOnnyJBNo0aJF3T5X4O3bt7QP81yB9+/f05bGxsYhQ4YMGzYMnisANCBiBgAFAAXICzP5iIACFoYCQZevCS+MQvOrsNcKYIw7OztDQkIQQkuWLMnIyIiLi7OxsVGr1Z2dnUz77969c3Nzc3R0TExMzMjICAsL019IePXqVRsbG09Pz3379qWnp9NPGywsLGQaMVLpedkgPGJIqtNumccFFAAUIC/M5CMCCgAK6KODEU01ZRcHBTDGTU1NCQkJHh4eSqXSw8Njw4YNzc3NnKbKysoWLlzo6upqZ2fn7+9/7NgxjgPG+ObNm2q1mv4NArVaXVJSou/TrQVQQMTzZplrucDuAQoACpAXZvIRAQUsDAUmXLkqvHSrpmZt7AEFzGhsAoUNDu9tBgAFAAXICzP5iIACgAL66GBGymhiVwEFYFaAZwYABQAFyAsz+YiAAhaGAqFXrwovJuqrGbkBCvAUwt6eQ1ueP6AAoAB5YSYfEVAAUEAfHcxI403sKqAAoADPDAAKAAqQF2byEQEFLAwFJl69KryYqK9m5AYowFMILe8sv7cjAhQAFCAvzOQjAgpYGApMvnZVeDEjjTexq1KiwJ07dxITE5cvX/7y5Uv6borbt2/X19eb2HWOW2+VDPwFZgBQAFCAvDCTjwgoACigjw4c9bGAl9KggFarjYiIoChKoVBQFEX/mFJbW5uzs/OuXbv4pVWgsMHhvc0AoACgAHlhJh8RUMDCUOD761eEF34iJeejpEGB3bt3UxSVlpb26tUrhULB/K5iVFRUcHAwv3z1VsnAX2AGAAUABcgLM/mIgAKAAvrowE+k5HyUNCgwcuTIpUuXYoxra2vZKLBnzx53d3d++RIobHB4bzMAKAAoQF6YyUcEFLAwFJhWeEV44SdScj5KGhSws7M7fvy4PgpkZGTY2dnxy1dvlQz8BWYAUABQgLwwk48IKAAooI8O/ERKzkdJgwIuLi579uzRR4HExESYFRCo0MQOBxQAFCAvzOQjAgpYGApML7wivMhZ1Pn1TRoUmDZt2nfffcdBgebm5sGDB8+fP5/fSIhJIASiMwAoAChAXpjJRwQUABTQRwd+IiXno6RBgZs3b1IUFR4efvXqVYVCkZWVVVBQMGrUKKVS+fDhQ375AoUmnAFAAUAB8sJMPiKggIWhQNiNy8ILP5GS81HSoADGODMz08HBgbmfkKIoBweHU6dO8U4WYSGEcIACgALkhZl8REABC0OBWUWXhRfeOiXbAyVDAYxxVVVVenr66tWrf/zxx7S0tA8fPghJE2gz4QwACgAKkBdm8hEBBQAF9NFBiFTJ81gpUaBvM0JYCCEcoACgAHlhJh8RUMDCUGBO8WXhpW/FSw6tSYMCdXV1paWl+uMvLS399OmTvt0UC2gz4QwACgAKkBdm8hEBBQAF9NHBFEkyLx9pUGD58uWjR4/Wz1RAQMDKlSv17aZYCAshhAMUABQgL8zkIwIKWBgKhBdfFl5MkSTz8pEGBYYNG5aUlKSfqeTk5OHDh+vbTbGANhPOAKAAoAB5YSYfEVAAUEAfHUyRJPPykQYF7O3tMzIy9DOVkZHh6OiobzfFQlgIIRygAKAAeWEmHxFQwMJQYP7NS8KLKZJkXj7SoICLi0tycrJ+ppKTk52cnPTtplhAmwlnAFAAUIC8MJOPCCgAKKCPDqZIknn5SIMCkydP9vHxaW1tZSerra3Nx8dHrVazjabXCQshhAMUABQgL8zkIwIKWBgKLLx1SXgxXZjMxVMaFLh48aJCoQgODr5z507Tl+3OnTsTJkygKOrChQv8cgfaTDgDgAKAAuSFmXxEQAELQ4FFty4JL/xESs5HSYMCGOOkpCSFQkGxNoVCkZiYyDtZhIUQwgEKAAqQF2byEQEFAAX00YG3Tsn2QMlQAGP86NGjNWvWTP+yrV279tGjR0LSBNpMOAOAAoAC5IWZfERAAQtDgciSS8KLEKmS57FSokDfZoSwEEI4QAFAAfLCTD4ioACggD469K14yaE1QIG7IOr8MgAoAChAXpjJRwQUsDAUWHL7ovAiB/Hu2z5IgwJRhrfo6Gh+I+SnZ317lIeHG9LbBrm5MFHeVuTHrJw9ZuzIQW4uSqWtu7tr8IRvj2Vuamq7xfi0a+8eP7FZrxmdIf1wPNtN2rocUOBoRkK3iUIIUZSClurSl1nbdy4LVY8aPGSAra3NwEHOM8LGX7vxE0fIh3oMMtRUUvJSjrNULzHG5LWwvLpZ/yNZWd/K7okyMndb/vOXHxraOjo/Nbdfe/YxZNsNtsNX87Kn77mV83PFyw8Nn5rbW9s7X1c2nr5b/u3Gqxy3r+Zlz9xbcvPXqvqWjtb2zufv6xPOPP3vhaf13chY5IACNbW3jmdsnT17orf3EHt7u/79VcHBozMytnZqn7B1uq39YfqhTWPGfOPq6qRSOYwY4RUbt7C84irbpws/q6ouTkhY8s033iqVg4urU0DgiD171jY0/sxxk/Cl/t9bH1qEc8CS2xf7sD8yaUoaFFAY3iiK4pcaaXWRju7h4ebkpNqyNYpdUvesYvp24+bB/v0dJ08Zszxm1oZNi5etmDlkqE6B1BMDmttLGDcaBcJmTWC3s2Vr1L2HGYyP5BU5oMC9R0c3J0VyinriaITQtOnjaMEOn69GCI0Y6RG9fHr8hgUzZwfb2FAIoZ/SVrEVfffeHzntbNqy2NbWBiF05/4htqeEdalQoL65Y8vZUnZZe+oxo8QOS/Oev6/HGP/yvn7vlZfHit9UN7Z9/vNYcuQe4/PVvOyMW2/fVjXl/Fzx05WXOwt+PfvgXVtHp1bbtfTPbtsuPMcYN7ZqMm+93XP5xYO3tRjjwl8q/2uBNDQgBxQ4ciQRIeTuPiAi4oeNm6KjomY5OakQQnPDJ2u7ntKa3aF5HBys+8sfMcJrdeyC9fGRIaGBCCEnJ9WvL/IZXS8rvzJokIvuO0f9XXz8ktWxC3x8PBBC337r09J6n3GTtsJPAkw8KurOReHFxFhm5CYNCnAS1NnZ+dtvvy1fvjwoKKixsZGz18SXkktju/auh4ebh4ebkZ40td5q1dxmOzS13QpVByCETuduY+w0Chw/sZmxyLAiBxToVpXHjhuJEDqbv43eezQj4d6jI2zP68V7bW1tlErbt+/z2HZO/eKVXQihUaO9OXYJX0qFAuXVzWxR59T3XX2JMT774N1//qHWTsvOVtQ2t7RrBsacZ5xRxBmmTld8119q6+isb+5gTvq/2XAFY/ypuX3w6guMc3rha4xx3Ml/wAezi0BFDihQXHzs4qX97DmAj5VFQ4fq5iDPnf+Jlu2zZ/cghCZPHst2S9oagxCKiprFSPuqVfMRQskpKxmLpvPxpEljEEInT21njNJWTPzO5+cmnAOi7sCsAL/cm3zUtGnTVq9ebbL7nxzlIJY9okC3ndybFocQStm+gtkLKMBbbh8+PYYQ+nrwgMa2QiONTJqiO2E6k7fViM+s2RMQQgcPrzHiQ3iXPFGgolZ3BWH4uktsYV6dpbshaHPeM7ZRv/6kvA5jPOAPYth67heMcerFX9meDkvzMMZvqprYRmJ1OaBAt8K8Y+dqhNDq2AX03tTUNQihfWnxbOfHT3IQQjPCQhjjtGnBCKEnT3MZSxd+tnffet082d51bKOE9T99s/f1i2V3Lgovfd0p6duTxawAk4b09HQ3NzfmZa8qjI5KWPHwcHNzcz1xKmnbjhV70+IKiw+0dPxpDkC/by0dt6d8r0Py/IupzF4aBWLj5v20L277rpUnTm55+y6f2SuTijxnBVaumoUQ2rRlsXGRnvrDWIRQXn6KIbfy38/a2tqoVA5Vny4a8iFvlwoFPn5qXXDw7oacp6uyHgUn3/iP+dlsJW7XaDHGikV/Oun/YfctjPGtF1VsT07dM66gpV1T3dj27380eKToN4zx8uMPOJ51Te0Y469X/WOqgOMg3kvZosCePWsRQmvXLqI1+9LlAwihKd+PY88KpKT8iBDavz+B0fX18ZEIoe3bVzGWTu2TKVPGURTF4QPGgXylV9/8vXVecbdAeOltUPn7ywsFdu/ebW9vzy9rchBI/WWDnl7uN26mc/r2ofrylq1RiUlRMStne3sPRggtiJjC9qFRgL2KzcaGWh4zq6GlmO0mbV2GKFDbeMXJWWVjQ70uO2NEp1++PW1nZ+vgaPeh+oIht5Qd0bqZ1WXTDTlIYpcKBTgfybdVTUFbCxn1/fBJ9wRx77XdzApwVhd+NS87dFvRlrOl2y48P323vKlN09Kumb77FtMUvVBg159nBeyX5tIdmLSjmPEkVpEnCnRoHn/j740Qunb9MC3V2q6nc+ZOQgj5+Q2Li4uIj18yceIYpdI2Nm5hh+YxI+dV1cW+vp4IoUmTxsTHL4mLixgxwsvZuV/miRTGR/IK5++tb18K54AVdwv6tktyaE1GKPDo0aOvv/56zJgx/PIirS7S0ZOSo68XHXj38dKnpqInpaeWx8xSKBQODnaPnmaxu1f64jQj8wqFYl38Qs4dBDdupqcdXPv8Zc6npqKK3wvO5G0b9oUY5i/8EzGw2yRflyEKHMvU3VDALBjsVq0/NV8dH/QNQmhH6opuHVo0Rc0dN7yGuctqwSDdVUlQIPFs6YSUG87Lz1GLcnzWXzp047VW29XSrhkZf5nW46NfTuXz7lUwswX9o89W1OiuGrRpOjmavaPgV+YD/vFT66QdRWyHMVuu02sF3FflM/aD13VrBTDG4fvvMEZiFXmiAH1yP336BLZsa7uebk2OoVfF0t8wkyePvXf/FNunCz/7VH97zhwdNNCbQqFYETP33ftrHDcJXzJ/IWJUVv5cILyI0TFp25QGBbz0NicnJ4qi7OzsioqK+GWEvBaaEnHt+oUIoZmzQvSdP18aeFN+fm9aXP/+jmPH+VXWXNX3YSxvK/KdXfohhDhUwTiQr8gQBcaN99MtpLqw3ZDGN7YVzgkPRQiFz1c3d9ww5Hbp2m6E0OiA4YYcpLJLggL6orv70guM8fmH7+ldLivO0csFSt/p7iA4WvRbVUMbvQigtZ2LAvQhNotz/BKunLpTptV2bcz503qCY8VvMMYNrR0Z9B0Eb2rbOjpf/N6AMZ6Tdlu/M2JbZIgC+w9soO8UqK0rYQS7te3BvHlTVCqHI0e3fKwsami8e/Vq+vDhQz/ftFxQkMa4lZVf8fcfPnz40KtX0xsa736sLDpydItK5eDm5lpWdoVxk7bCTwJMPEo4B6z8GWYFTEx2T27qP28TJ04MDw9PTEx89+5dT4ca3E9eC02J+OJ17udr0i4u/Y04Z59JRgitXDXHiE+79u7CRd/rlgUdWGvcjdheuaHAo9IMhNDgIQYXDDa2Fc6bP1F3C9a80IbW60bkfPbcELktGKR7KxMUGBqr+yqsbWpnZNh5+bkD116VVze3a7QfPrXuv/aK9qmoMXbrwVfzsq88/aDVdo3a9KenC0Qfvf/gbW1zm6apTVP4S2XA5msXn/z++WbF4GTuswqYDohXkRsKHEzfSF8F+FhZxBbsrcm6mwX2H9jANj4rzUMIeXi6M8ZQtW7BbGnpWcbShZ/t36+bTluyNIxtlLBu8Fu+L3asulcgvPRFR+TVhjSzAmLkgJgE9ipQ9afrCCE7O6WRo2gfPz8vIz7t2ruxa3R3AW3ftdK4G7G9ckOBH2NnI4Q2J0V2q/H1Ldfo+YD5CycZv7mg4sM5GS4YlBUK2C/RXbxv6+j+jJ9W5QkpN3R3GN5/Z1ykV3250YD9lIJu/Stqmju1XfZLcrvdK6pRViiQlhb/+brVN/7eVdXFHKkODNTdQ1v6y580vgs/c3Hp/3karKb2Vhd+1tD4s+7MxNWJc2xp6Vm6WY5dqpdiCATTpnAOWHUPZgWYdMqvQkwCexXo8rW9X55v42nkqGfPs3WP+Bg13IhPu/buuPG6K9zsxw8Y9xd7r6xQoK7pqrNzP0MLBuubr82YGYQQilg8pand2E2GLZqi7TuXyXDBoKxQYNIO3VW8X39vMKLBmbfeYozDfiox4vPVvOxdF3VLB1ZnPTLiFpRciDEuePT36xFGPMXYJR8UoG8XHD3at6ZGp+ucQq8iLC4+xra3tT+kH5NFP0ywpvYWQsjW1qat/SHbraj4KEIoIHAE2yhhXVR5ibtXILyI2kNJGic3K/DO5I1fIsRWvh7bL/31dF3jDbbb67Jz9A0C23b8/ZkB9x9lcm4vrGu4MWnydwihjZsjmWM5TxVs1dzevlM3+zdggFNN/XXGTdqKrFAgI0s3a/rDH08YZE8MfGq+St86uDR6Wo8c0NxxY5j31wihuw8OsxuRSZ38BYJhay/aLM5hS6z7qvzXlbrngG3IeUrb/31+tu2ffRYevKvVdt15Vc3cJYgWnmGWGTKtjdp0taG1Q9Op9VpzkTHaRf7p1N/9x/zfKhvbNJ0j/lilyHiSqcgEBbZt090WGBg4kr0+gK3WP/44j37EEFvmN27S3QgzZsw3jOfIkV4IoS1bljOW1rYHarXuKyghYQljlLbCTwJMPEo4B8TBrICJue7WTaFQUKZt3R7eo1FaXWzX3t2yNUqlcpj2w/iYlbPXJyyaM1dtb6/ULWj/YXxT699/YiBs1oQBA5xmzJzw4+q56xMWzV84xclZ9wDR8UH+dQ3/wAjdtcBvhi1c9P36hEXLY2b5fTMMIeToaH/l+j7Jh8l0QFYoEBSsmzLpdsHg4iVTv1BU/01bFnMeLXytaC9H468U6h7ZJsMFg3Q/yaPAlrOlja2aS09+P1j4Wve04PvvWts7McaXnvzOPCLQdnFOc5sm/+H7PZdfpF789e7rGnrOwHXFPx41SN8Q+Kzi06k7ZTsLft1/7VXhL5VabZdW27WG9Qzjr+Zl592rePCm9tCN1/QNh81tmnaNVpIFgzRqyAEFsk5uQwjZ2FBr1y7amhzDLiey/n4T4O8fCocM0T3F3NPz65Ur561dt3jsWN2HwsHB7ud7Jxlpv1F0VKm0RQiNG+e/dt3ilSvneXjqbpYZPnwofRGB8ZSw0uO3vRCHtfcvCC9COiDPY8nNCiQnJ6ewtsDAQIqivv/++7VftilTplAU9d1336WkpPDLFCNRUlVu3Eyfv2Cyj+9QJyeVra3NgAFOkyZ/l5mV2NZ5h+lSwaU9Cxd9P3z4kP79HXU/jTPQeeKkwENHE9g/QNCuvbsufuGEkFHu7q52dkoHBzsf36ErV815+SaPaUcOFfmgwJNfMo0sGJwQ+u0ft01x/9dfWDB3nu7+Alk9YZANK+RRIGhr4em75S8/NNQ3d3R0aqsb2wp/+RiR/jP7jPy/Fpw+dvPNqw+NzW2a5jbN0/JPG3KeUov+NJfwXwtOb8p9VvjLx/d1LW0dna3tnb9VNmaVlAVsvsZu6qt52RHpP995VV3b1N6u0b6rbTlR8nbY2n/MGXCcCbyUAwrQSwK5f75fXoeqAxnNrq65uT4+csQILzs7pVJp6+HhvjRq5suXFxgHulJaenbx4ulDh7oplbb29nZ+fsM2bY7+VH+b4ybhS34SYOJR6x9cEF5MjGVGbuRQgJ2Uc+fO9e/f/8GDB2zjvXv3+vXrd/78ebbR9Loc1NGq+iAfFGCLpWXXyaMAAa2VeQg5oICEqixJaNO/9nl4CueA9Q8u8Igr80OkQYHAwMBNmzbpp2bjxo2BgYH6dlMsViXDchgsoAB57AAUIM8NgALkacCUL3zePgkPLwgvvKPL9kBpUMDBweHw4cP6STl8+LCDg4O+3RSLHNTRqvoAKAAoQF6YyUcEFAAU0EcHUySJ9qmpqYmKivr2229dXV3t7Ow8PT0XLFjw5MkTdgsajSY1NdXHx0epVLq7u69cubK2Vvfb3OyttrZ25cqV7u7uSqXSx8dn9+7dGo2G7YAxLi0tDQsLc3Z2dnR0HDduXEFBL256lAYF3N3dw8PDOcPQPVg0PNzd3V3fborFqmRYDoMFFAAUIC/M5CMCClgYCmx6dEF4MUWSaJ83b94EBQWtX7/+wIEDGRkZW7ZsGTJkiK2t7fXrumds09vixYsRQmFhYcePH9+8ebODg4O/v39zs+7R3fTW2Njo5+dnY2MTFxeXkZERGan7TamoqKg/9uv+Ly0tValUrq6u27dvP3LkSHCw7icos7Ky2D5G6tKgQFxcHEVR69evr6nRLTb+DAE1NTXr1q2jKCouLs5Id43skoM6WlUfAAUABcgLM/mIgAKAAvroYESJetz14cMHGxubiRMn0p7FxcW6h9PPnMkceP78ed3P1rNW0CclJekeNbtvH+MTGxv7+Uaz27dvM5aQkBCFQvHoke7HwTHGHR0dAQEBzs7OjY26W3973KRBgaampuDgYPr2wkFfNoqiFApFUFBQU1NTj53u1sGqZFgOgwUUABQgL8zkIwIKWBgKJD6+ILx0q0EmGjs7O1UqVUBAAO2/dOlShFBJSQn7cE9PT29vb8bi6enp6OjY2qr7CVB6Ky8vRwgtW7aM/VKtVv+xX/d/VlYWQig7O5ttNFSXBgUwxp2dnZmZmdOnTx/xZZsxY0ZmZmZnp+6WZX6bHNTRqvoAKAAoQF6YyUcEFAAU0EeH3opUR0dHTU1NZWXlw4cP58/XPUI+KSmJbmTEiBEURbW3t7PbjIiIQAjV1dV9/hWuqqqqz4+UDgoKYjt8fv6mu7u7v78/bczL0/3YRGJiItvn9evXCCETJ9olQwF2j/ukblUyLIfBAgoACpAXZvIRAQUsDAWSnuQLL3q/rft3gyEtu3VL98hnenNyctq4cSOz6E+lUg0aNIhzYEKC7geiSktLMcaPHz/+jAXz58/n+IwZM8bFxYU27t2re8I9ZzF+S0sLQmjOnDmcA7t9KTEKtLe3f/jwgQNE3Xa0R6Mc1NGq+gAoAChAXpjJRwQUsDAUSH6aL7z0FgU+ffpUVFR05cqVtLS0gICAVatWMasCKYoaOnQoR+DoxQH379/HGN+5cwchFBkZyfEJCQmxs7Ojjdu26Z5HmZmZyfbRarUIoalTp7KNhuqSocCzZ88mTZqkVCopiiouLsYYV1dXT5o0qahI90snPDarkmE5DBZQAFCAvDCTjwgoACigjw48FIo55NOnT0OHDp02bRptsepZgV9++UWlUg0dOnTZsmUMCmCMx48fr88+TAaNV+SgjlbVB0ABQAHywkw+IqCAhaHA9qf5wotxMepx7+rVqz//PE15eTnG2KrXCsyePdvb27uxsbGmpkahUNCzAhjjxMREHx+fHvPYrYNVybAcBgsoAChAXpjJRwQUABTQR4duNch0Y3S07hcjnz59+vlbdMmSJZzbAjHGnDsIPDw8OHcQVFRUsO8gKCsrQwgxNyjSPTl58qTc7yBwdXVNTU3FGNfW1rJR4NixY/369TM9oWxPOaijVfUBUABQgLwwk48IKGBhKLDzWb7wwpYe4/WqqiqOQ3l5uaurq5OTU1tbG8a4qKiI81yB/Px8znMFEhMTOc8ViIuL49yCSN+f//jxYzqcRqMJDAx0cnJqaGjgdKDbl9KsFbCzszt27Jg+CqSlpalUqm472qPRqmRYDoMFFAAUIC/M5CMCCsFOSOQAACAASURBVAAK6KNDj3rEOKxZs8bPzy8+Pv7Qly02NrZ///4URbFv96dvHQwLC8vIyEhMTHRwcPDz82M/YqexsdHX15fztEHOxfQnT57QTxvcsWPH0aNH6acNchYSMr3Sr0iDAr6+vqtWrdJHgTlz5jAPXtDvq3GLHNTRqvoAKAAoQF6YyUcEFLAwFEgtPS+8GBcj9t6ioqLw8HD6GUFKpdLT0zMiIuLhw4dsn46Ojl27djG/QRATE8M8h5dxq6mpiYmJYX6DIDU1lbkdkfEpLS2dMWOGk5OTg4PD2LFj8/PzmV09VqRBgcTERJVK9ejRI/oCwc2bNzHGp06doiiKvnDQY7/1HaxKhuUwWEABQAHywkw+IqAAoIA+OugLkLlbpEGBpqYmf39/Ozs7tVpNUZRarR41ahRFUYGBgbyfMSAHdbSqPgAKAAqQF2byEQEFLAwFfvrlvPBi7sKv339pUABj3NjYuHbt2oEDByq+bC4uLnFxcY2NjfqTHvqd7tZiVTIsh8ECCgAKkBdm8hEBBSwMBfY9Py+8dKtBZm2UDAWYrNXU1FRXV3d1dWm12qysrGHDhjG7elWRgzpaVR8ABQAFyAsz+YiAAoAC+ujQK20yC2cJUODp06d5eXnFxcXsCYDc3FxfX1+FQtG/f39+ibMqGZbDYAEFAAXICzP5iIACFoYC+389L7zwEyk5H0UUBdra2n744Qfqj23YsGFlZWUfP34MDQ2lKKpfv36bN2+ura3lly85qKNV9QFQAFCAvDCTjwgoACigjw78RErORxFFgW3btikUisDAwPj4+NmzZysUimnTpvn7+9vb22/cuJH+QUbeybIqGZbDYAEFAAXICzP5iIACFoYCB1+cF15465RsDySKAv7+/kFBQVqtlk5HUlKSQqEYPHjwy5cvhSdIDupoVX0AFAAUIC/M5CMCCgAK6KODcMGSWwtEUcDR0XH//v1MCl6+fKlQKA4ePMhYhFSsSoblMFhAAUAB8sJMPiKggIWhwOGX54QXIVIlz2OJosDnVYFnzpxhEkE/X6iwsJCxCKnIQR2tqg+AAoAC5IWZfERAAUABfXQQIlXyPFZ6FGB+llBggqxKhuUwWEABQAHywkw+IqCAhaHA0ZfnhBeBaiXDw0mjwPz583f+sSUmJlIUFR0d/YdB9/+uXbv4pUkO6mhVfQAUABQgL8zkIwIKWBgKHH91TnjhJ1JyPoo0CtDPFjTyL0VR/PJlVTIsh8ECCgAKkBdm8hEBBQAF9NGBn0jJ+SiiKFBi2sYvX3JQR6vqA6AAoAB5YSYfEVDAwlAg8/U54YWfSMn5KKIoIGoirEqG5TBYQAFAAfLCTD4ioACggD46iKplkjQOKHBXDrJqjn0AFAAUIC/M5CMCClgYCpz87azwIolaixoUUABQgGcGAAUABcgLM/mIgAKAAvroIKoqS9I4oABPITTH8/i+7TOgAKAAeWEmHxFQwMJQIPvNWeFFErUWNSigAKAAzwwACgAKkBdm8hEBBQAF9NFBVFWWpHFAAZ5C2Ldn2ObYGqAAoAB5YSYfEVDAwlDgzNuzwoskai1qUEABQAGeGQAUABQgL8zkIwIKAAroo4OoqixJ44ACPIXQHM/j+7bPgAKAAuSFmXxEQAELQ4HcsrPCiyRqLWpQQAFAAZ4ZABQAFCAvzOQjAgpYGAqcKz8rvIiqypI0DijAUwj79gzbHFsDFAAUIC/M5CMCCgAK6KODJGotalBAAUABnhkAFAAUIC/M5CMCClgYCuRX5AkvoqqyJI0DCvAUQnM8j+/bPgMKAAqQF2byEQEFAAX00UEStRY1KKAAoADPDAAKAAqQF2byEQEFLAwFCiryhBdRVVmSxgEFeAph355hm2NrgAKAAuSFmXxEQAFAAX10kEStRQ0KKAAowDMDgAKAAuSFmXxEQAELQ4FL7/KEF1FVWZLGAQV4CqE5nsf3bZ8BBQAFyAsz+YiAAoAC+uggiVqLGhRQAFCAZwYABQAFyAsz+YiAAhaGAlff5wkvoqqyJI0DCvAUwr49wzbH1gAFAAXICzP5iIACFoYC13/PFV4kUWtRgwIKAArwzACgAKAAeWEmHxFQAFBAHx1EVWVJGgcU4CmE5nge37d9BhQAFCAvzOQjAgpYGArc+JArvEii1qIGBRQAFOCZAUABQAHywkw+IqAAoIA+OoiqypI0DijAUwj79gzbHFsDFAAUIC/M5CMCClgYChR/zBVeJFFrUYMCCgAK8MwAoACgAHlhJh8RUABQQB8dRFVlSRq3HBSQJH0QFDIAGYAMQAbMKAO3PuYKL2Y0XhO7ajkoUNd+FgrJDGCM2zpLoJDMwJdP9XOMoZDMAP7LX4OhkMyAierFz004B9z6mMsvtJyPAhQAgOCZAUABkhBAx/ryVUJSBSHWc4wBBUiTkKiSWVKZK7yI2kNJGgcU4CmEJM+/5RkLUABQwDrmJwAFLAoFblfmCi+SqLWoQQEFAAV4ZgBQAFAAUIDktLn1xBJV84RzwO1KuEAg6lskrHF5njpbcK8ABQAFAAWsR55JjlSYFPRw9J2qXOGlhxhmuBtmBXieE1uwxps4NEABQAFAAZICaT2xRFVS4RxwpwpmBUR9i4Q1bqKAgVtfZQBQAFAAUMB65JnkSIVJQQ9H/1yVK7z0EIO1+7fffktOTg4KCnJzc3N0dBw5cmRcXNzHjx9ZLlij0aSmpvr4+CiVSnd395UrV9bW1rIdMMa1tbUrV650d3dXKpU+Pj67d+/WaDQcn9LS0rCwMGdnZ0dHx3HjxhUUFHAcjLyEWQGYFeCZAUABQAFAAZICaT2xjCiW8F3COeDn3swKbNy4UaVSLVy4cP/+/ceOHYuKirKxsXFxcXn58iUzlsWLFyOEwsLCjh8/vnnzZgcHB39//+bmZsahsbHRz8/PxsYmLi4uIyMjMjISIRQVFcU4YIxLS0tVKpWrq+v27duPHDkSHByMEMrKymL7GKkDCvAUwr46tzbfdgAFAAUABaxHnkmO1IhiCd91rzpHeDG9G48ePaqvr2f7Hzt2DCE0b9482lhcXIwQmjlzJuNz/vx5hFBKSgpjSUpKQgjt27ePscTGxiKEbt++zVhCQkIUCsWjR49oS0dHR0BAgLOzc2NjI+NjpAIoACjAMwOAAoACgAIkBdJ6YhlRLOG7hHPAveocId1obGxECPn6+tKNLF26FCFUUlLCbtPT09Pb25uxeHp6Ojo6tra2Mpby8nKE0LJly2gL/VKtVjMOGOOsrCyEUHZ2NttoqA4owFMIzfdsvq96DigAKAAoYD3yTHKkhuSqT+z3q3OEFyE9efnyJUIoNDSUbmTEiBEURbW3t7PbjIiIQAjV1dVhjKuqqhBCQUFBbAeMsbu7u7+/P23My8tDCCUmJrJ9Xr9+jRCKi4tjGw3VAQUABXhmAFAAUABQgKRAWk8sQ3LVJ/YHNTnCi5eBzZQehoeHs6/iq1SqQYMGcQ5MSEj4LP+lpaUY48ePH3/Ggvnz53N8xowZ4+LiQhv37t2LEDp8+DDbp6WlBSE0Z84cttFQHVCApxD21bm1+bYDKAAoAChgPfJMcqSG5KpP7MI54EFNjgES8Oqxhzt37kQIzZ49u6uri3amKGro0KGcA+nFAffv38cY37lzByEUGRnJ8QkJCbGzs6ON27ZtQwhlZmayfbRaLUJo6tSpbKOhOqAAoADPDAAKAAoACpAUSOuJZUiu+sT+sCZHeOHXk/379yOE1Gp1S0sL0wLMCjCp6JuK+Z5em2nPAQUABQAFrEeeSY60byTBQCvCOeBhDZ9lg/v27UMITZ48mc0BGGNYK2DgjeJrNlNBNd9uAwoACgAKkBRI64nFVwRMOu5xbY7wYlIkllNqaipCaNq0aW1tbSyzrrpkyRLObYEYY84dBB4eHpw7CCoqKth3EJSVlSGEJk6cyG785MmTcAcBz0lv8xVm8j0HFAAUABSwHnkmOVK2nvV5XTgHPK7t3awAvT4gLCyMc5sAPbSioiLOcwXy8/M5zxVITEzkPFcgLi6OcwticHCwQqF4/Pgx3axGowkMDHRycmpoaDAlh7BWAKCBZwYABQAFAAVICqT1xDJFunj7PKnNEV5Mj37o0CGEkJub24kTJ7JZG/upwPStg2FhYRkZGYmJiQ4ODn5+fk1NTUyUxsZGX19fztMGOQsJnzx5Qj9tcMeOHUePHqWfNshZSMg0qF8BFOAphOTPwuUWEVAAUABQwHrkmeRI9YWqDy3COeBJb2YF6CcIIb3N09OTGVRHR8euXbuY3yCIiYmpqalh9tKVmpqamJgY5jcIUlNTu/0NghkzZjg5OTk4OIwdOzY/P5/TiJGXgAKAAjwzACgAKAAoQFIgrSeWEcUSvutpXY7wIrwbcmsBUICnEMrtHJ18fwAFAAUABaxHnkmOVFSZfFaXI7yI2kNJGgcUABTgmQFAAUABQAGSAmk9sUTVQuEc8Kyud8sGRR1OXzUOKMBTCMmfhcstIqAAoACggPXIM8mR9pW8ddtOaV2O8NJty2ZtBBQAFOCZAUABQAFAAZICaT2xRNVU4RxQCrMCor5DAhuX20mzxfcHUABQAFDAeuSZ5EgFaoHxw59/yhFejIcwx70wK8DznNjilb7HAQIKAAoACpAUSOuJJaqUCueA559grYCob5GwxnuULnDo2wwACgAKAApYjzyTHKkwKejh6F8/5QgvPcQww90wKwCzAjwzACgAKAAoQFIgrSeWqEoqnAN+hVkBUd8hgY337SkvtNZjBgAFAAUABaxHnkmOVKAWGD/8Rf0Z4cV4CHPcC7MCPM+Je1RKi3cAFAAUABQgKZDWE0tUKX1Zf0Z4EbWHkjQOKAAowDMDgAKAAoAC1iPPJEcqqhYK54CX9WdE7aEkjQMK8BRCiz/p73GAgAKAAoACJAXSemKJqoWvGs4IL6L2UJLGAQUABXhmAFAAUABQwHrkmeRIRdVC4RzwqgFmBUR9i4Q13uNZLDj0bQYABQAFAAVICqT1xBImBT0c/VvDGeGlhxhmuBtmBXieE/etrJpja4ACgAKAAtYjzyRHKqqSCueA32BWQNR3SGDj5qimZt1nQAFAAUABkgJpPbEEaoHxw980nhFejIcwx70wKwCzAjwzACgAKAAoYD3yTHKkokqpcA540whrBUR9i4Q1btZn2ObYeUABQAFAAZICaT2xhElBD0e/bTwjvPQQwwx3SzMr8O7du9bWVv10tba2vnv3Tt9uisUc1dSs+wwoACgAKGA98kxypKZ84fP2KWs6I7zwji7bA6VBAYqizpzpZo4lLy+Poih+yTJrWTXHzgMKAAoACpAUSOuJxU8CTDxKOAeUNXUjXiZGl62bNCigUCi6RYGcnBwbGxt+yTJHNTXrPgMKAAoACliPPJMcKT8JMPGo8qYzwouJsczITTIUyMnp5iefk5KSXF1d+aXPrGXVHDsPKAAoAChAUiCtJxY/CTDxKOEcUA6zAibm2pDbyZMnJ37ZFAqFn58fXWf+HTVqlI2NTXh4uKHDjdvNUU3Nus+AAoACgALWI88kR2r8q17g3nfNZ4QXgX2Q4eFEZwX279/v+WVTKBQDBw6k6/S/Xl5e/v7+K1asqKmp4Zcms5ZVc+w8oACgAKAASYG0nlj8JMDEo4RzwLtmWCtgYrK7c2PfNWBorUB3x5lqM0c1Nes+AwoACgAKWI88kxypqV/6vPzeN58RXnhFlvVB5GYF2HcNeHp6Xrp0qW8TY9ayao6dBxQAFAAUICmQ1hOrb6WB05pwDngPswKcnPbqpZ2d3cmTJ+lDYFbAHLWf02dAAUABQAHrkWeSI+2VsvTW+feW08JLb4PK35/crMCIESPmzp3b0NCAMVYoFN3eQSAkXxyhgpdiZwBQAFAAUICkQFpPLCFC0OOxH1pOCy89RjE7B3IocOjQIYVCQfW0mctzBU7krFv+47RxwSNU/ewRQvMWTuBIb1VTzs69SxdGqr/51sPW1gYhtP9IDMenrv3sL2+PJKYsmDlnnNcwN4VCgRB69OKAvltd+9nf67MTEsO9fdzt7GwHDOw/a+74e6X7uvUkY5QVClwt3Ddz1oRBg1yUSlt3d9cp348puJRKS/Wrt7mou23e/IlsLb95O31d/ILA73wHDHBSKm09PN2WRk//9dUZto/k9S/fL8+lFeDa2jsZGcmzZ0/y9h5qb2/Xv78qOHh0RkaKVlvKdKyj4+n+/RujomaNGuWrVNoihDIykpm9TMXT8+vu3hmdbdu21Yyb1BUsiQYHTE4ouPaw4n11S2v767cfsnJvDh0dw/REOXjB8nWHr9x4Uv6uur1d86Hy05n8Oz7jYxkHpmL79fwDx69UvNe5vf9Yezjrus3X85i9TOVf7aal/HT2TVllW1vH+w+1+49d+U+X2cxewhVRdVQ4B3xoOS1qDyVpnBwKYIxv3bqVmJgYFRVFUVRoaGiUgY1fIsjoHxPlm289EEIqlb2Pr+7rTB8FyqpO0F9zAwc5DR7iaggFss/GI4QUCoWn1yAnJ0dDKPCx8czYIF+E0OjAYXHrZ86dH2xjSzk42hXe2cF0iXBFPiiwLn4BQmjwkIHRy2ckbFwUtWzGqNHD18UvYKPAt996JyYtZZczeSlsaR80yIWiFEHB/qvjwtesmz8+6BuEkKOjfcndQ2w3aetfPhoSo8CRI0kIIXf3gRER0zdtWhYVNdvJqR9CKDx8SlfXL7Rs19f/TP/xu7m5Dh3qZggF0tI2JCf/yC5bt66kufnRo1ypCYDJswQosGmHTmyqahr2Hbm0cXv2ybxb7e0arVY7Zd42WpUzThdhjJ8+L99zqGDDtuzssyUaTSfGOGJlGlu23b5ZVt/QjDG+VPgoceeZEzk3Ozo0n+qbB4yIYrv9H/sfnr/UPfH98o3HG7dnnzl/G2P8ofIT5d4NNLAPFKnOTwJMPOpj62nhxcRYZuRGFAWYvFjAWoGCwq0Pfz1Q25Z38cbWblGgsulM3sVNLyqO1rWf3bAl3BAK/PL2yOXilPKak59nCIJDRhpCgS3bFyKEZs4ZV9OaS0t+9rkEhJDvyCGMxTpR4NBRHUstXjK1saWIrdONrX9/Sc8KLF4ylb1Xv75jV0zZ+/Nse8r25Qghv2+82EZp618+QYxESVMpLs64dCmdPQdQWXmL1vvz5/fR+t3e/uTq1cMfP97E+Hly8o+GUEBf7K9fP4oQCggYob9LOgtpFPhb/7DOTu3vH+v+qprBaK3P+FiM8eu3H2jLDwt3cOTce+zq9nZNW1vHV04zmaMePn2DMY5cdYCxeH33o0bT+eDJb4zlL38N3nOoAGOclJrLGCNWpmGM8688YCwkK4xSiFERzgEfW2FWoI/emZKSkurq6j5q7O/NEBZCJpwhFGAcjKMA280QCtS25Q0ZOgAh9PRVOtt/fPCIz+dnBYVb2UZidTnMCjS03Bgw0Gno0EEcDmALtokowD6Erje333RwsPtMYB+qL+rvlcTy5W9dGgIwrsQ7d8YhhGJjI/TdeoUCc+dO/jxJdvRokn470llIo8Dgb5djjM/k3+Gob31Dc0NjC8fIfllw7SHGOHhGIm2k3OfRJ/f/9G8T2G70Sf+wMato4/+tmNzc0tbY1Pr/UFMYt3/6twlvyioxxpJMDPStNHBaq2w9Lbxw2rSAl9LMCoiROGISyAlEAAUevTiAEPL2ceeEpqcK1m+ay7GTeSkHFMi/uEunQGvCm9qKL1xK3bEr5qe0WM6UPo0Ck6d8l354fcr25emH1z96mmmKkLd03OzXzwEhVFl72RR/Aj5fPjhyRIE9e9YjhNauXawv2KajQFXVLaXSVqVybGy8r9+OdBbSKPCvdtN0F+w/1v5/DtMZbR42ZhXG+PS524xFv3L24j2M8dipG+ldHgExGOPb915wPLfuzsUYr9lygraPnLAGY3zhKncCgJ4qCFu8i3M4gZdiCATTpnAOqIRZASabPCpRUVHR0dGdnboLWlGGt+joaB6NY4zJ6J9+FAIokFOwESE0dXogJ/qJnHWfhWp2+HiOncxLOaDA5i1LEEIJGyL8vvFiL0CbEPLt+8oCWpu7XTYYqh79W1mecfHOztFd+hk7zs+4G8m9Xz4askMBjeaZv/9whND160f1Bdt0FNi1aw1CaMWKcP1GJLWQRoG//DV48aoDWq32Y9Wnnw5f3LAt+0TOzdbW9oJrD9mXDDiSjAbObW1tb2pu/X/tptG77IYswBj//rGO40nPCmScLqLt85fvxRjv2Hee4xYVl44x3rTjNMdO4CU/CTDxqOrW08KLibHMyI3crAB9+0B7ezt9M6HCwGZ2P1JMAAWOndTNvuqvTDx/ZQtCaOKUb8loPyeKHFBgecxMhJCNDfWN/7DikoO19dcePTsx5fsxCKGQ0FG0SL/7eGHzliX3Hh2vrL1cWXv5xq0DoRNH62ZZvAfXNlwzJOQv3+QMGOhka2vDmWMw5E/G/uWbRXYoEB+vA7Lp00O6FWwTUaCr65dhw4bo1srIaMEgnWoJUOAvfw0eN21TTV0joyUvXr+fPDfZkAz/z/9UF90uxRhHrznE9vn11XuM8aIf9zNGj4AYeoEhMw0QE38UY7x+60nGh67MWrIbY7znUAHHTuAlM2oxKsI5oBpmBcR4Y/qqTY5QEXsJKEBGBbuNsmx5GELIzk756m0u41DXeH3wkIEIIUMq3tRWPGasboXmT2mxzFHsyruPF3x8h+pWeqavZdslr3/5sMgLBQ4c0E1ZjRjhVVd3VwgK3LhxDCEUGDiy20YkNUqAAsvWHtZoOrfuzqXc5/2v/540cGTUhasPMMabd57RV+J//tuEEzk3McbMiT7j4xsU19bWgTG+eF13B0HG6aL2ds39x79hjM9fvk+7WRsK1LSdFl76Srbk0w65WQGxx0xM+zmBCKAAXCAwpMHrE3Q3VujP4S+Nnm5E6ds6Sw4f091/MWtOiH7L7z5eGOnniRDaawAU9A8hZpEbCqSnb9bdZOE3rLLyliG1NnFWIDz8e/ktGJRmVmD4uNUY4+yzJYyi/+Wvwf/rvydVvK/u7NRy1vH9898mHM/W3ViYeab4f3wVwj6Erg8YEXUq71ZldX17u+aXFxWRqw6EzkrCGKdnXqMdrO0CgXAOqGmDOwjE1nMB7XMUmthLAigAywYNae3R4xsQQt9PHctxWLte96SB7TtXcOzMy3P5OxBCU6aOYSx0pfz3/BEjPBQKhdzmA+juyQoF0tJ0yff3H15dXWKIA0y8mbC6ukSWCwalQYEtu3Iwxgtj/vSEgL/8NTj7bAn7BoG//DX4X/49lJ4POHqy8J//9qfbBPSZgLGs3XICY7xgxT7aYm3LBmvazggvApRKpodKNivQ3NyckZGRkJAQHR0dxdpg2aD+0wbhZkKOYDMvX7/NUygUQ4cOaum4yRjbOku+nzr28wOgsnO2so3sesKGCN0KtZWz2MY3FeeGDx+iUCgOHVnPtsun/uVbRBYXCFJT1+oeeDV6RE3NbSMcYCIK0K3Jb8GgNCiwY995jPHaP1b4MxJ+o0S3GuC77zfQlv/rP0LpBYDpmdc4twsyh+hX/uXfQ1+8ft/ervlb/zB6r6GbCX97+9EibyasbcsRXmSq5wK6JQ0KPH78eNCgQRRF6a8dhGWD+ihQ134WHjFkSI9nhAUjhPbsXcU4XL720+cfuXByVlXVXWnrLLn36DgHFK4W7rOzU36+wn3rTjpz1Ou3eZ5e7hSlOJ65kTHKrSITFNi2bfWX6/p+htYHsOGgxwsEXV2/DB+uW5nx+HEe+0DZ1EmvFaAn8H//WPcfzrMYLR81cb1Wq21pbf8/9j/85a/B//M/1fStg/uOXDLCAf8bTWbPFvyPr0JSD17AGG/cns20bG2PGBLOAbVtumkbC9ukQYHQ0ND+/fvn5eXV1dX1VUKJXRGgA2WfjV+4OHTh4tBJ349CCHl6DaJfrlobxvQkaXsEbaSfUjx2vC/9kvNjBLRx4eLQgYOcEEIzZo+lLVdubmOa0j14ePzfHzy8Jn4WPHiYEek3FeeGDBmku5NiUuDa9Qtmzw21saFsbW1yzm6jfUJCR3399YA5c0Nj14THrglXTwygbztM3hbNNNLWWeLhqXs+bkCgL/vhxHSdvSaRfQj5+pcPi8SzAidP6q6t2NhQa9cuZj8zODn5x6ys7Yx+p6auWbp05tKlM0eN0v3dBgWNpl/q/xhBcXGGXBcMSjMr8E//NuHi9UefrxHUNzSnZ17btON0zoW7Wq2WfS/AgeNXMMaV1fVrtpyIS8xkl+HjVjMyHzgl4fePdUeyCjduz96Zdv7lb79jjLNyb/7Lv4cyPn/5azD7wcMbtv3jwcPd/loB+0CR6n0lCt22U9eeJ7x027JZG6VBAQcHh5SUlL5NHKOaZCr0s4TZ97LT9aEeA5gO0E8P1PdZuDiU8alrP6vvQFvSj//Idvv9U3b85rle3m5KpY3rgH4z54z7+Rn8HFFJW2fJ+8qCH1fNGTp0kK2tjatr/5mzJty5d4TR6SPHE36YPt7Dw83R0V6ptB0yZFD4vIlFtw4yDnTF0LuAECos3s9xlurll4+MxChAn+V3my61+jsGBdTq77r1Wbp0JuNDV+bPnyrXBYPSoAC9CGDxqgMlP/9a39Cs0XR+rPqUd/Hnb0LWMtJ7rfipoe/PuMRMxs1uyIJTebfK31W3tXXUfmq8WvRkSngKs5dd+Ve7adv2nn1bXkn/apEF/xyRcA6oa88zlHzztUuDAq6urkeOHOnbrLFVE+oEMiCH5wpIJclSxf3ykZEYBThCbgUvSV8gYCu0ddb7Vho4rfXJdyOnTQt4KQ0KLF68OCIiom/T1ydvMDRiegYABcgDwZePDKAA4QwACgQTJpK+lQZOa6Z/xRnx5LRpAS+lQYGqqiofH5/du3fTDx/skzwaedtglxgZABQAFLCCKYHnGAMKWBQKeVvGXgAAIABJREFUfGo/J7z0SrNSU1Pnz58/fPhwhUJhY2PT7bEajSY1NdXHx0epVLq7u69cubK2tpbjWVtbu3LlSnd3d6VSSQuoRqPh+JSWloaFhTk7Ozs6Oo4bN66gQPebk6Zs5FDA68/bwIEDKYqytbX18PBg7xk2bJgp/db3EUPtoE0jGQAUABQAFCB8umwl4fS/3vvQIpwDPrWf61V/EELOzs4TJ050d3c3hAKLFy9GCIWFhR0/fnzz5s0ODg7+/v7Nzc1MoMbGRj8/Pxsbm7i4uIyMjMjISIRQVFQU44AxLi0tValUrq6u27dvP3LkSHCw7u6qrKwsto+hOjkUUJu8GeqrcbsR0YJdYmQAUABQAFDASrSZ8DCNf9UL3Pup/bzw0qs+vH37lvZXq9XdokBxcfHnH0OfOXMm0+z58+cRQuzF9UlJSQihffv2MT6xsbGfn/V5+/ZtxhISEqJQKB490t1+gjHu6OgICAhwdnZubPzHj1kwzpwKORTgBO7zl2KoHbRpJAOAAoACgAKENdJKwvW5OrAbrO+4ILywGzS9bggFli5dqvvNlBLd0ySZzdPT09vbm/3S0dGxtbWVsZSXlyOEli1bRlvol2q1mnHQ3TialaV72Fp2NtvYbV16FCgrK9u5c+eqVasOHTrEHme33TViNCJasEuMDAAKAAoACliJNhMeppHveeG7hHNAfccF9kVtdt149wyhwIgRIyiK4qyci4jQPRGVfvROVVXVl4dzBHHad3d39/f3p415eXkIocTERLbP69evEUJxcXFsY7d1oiiQmZn57bffVldXM125ceOGSqWiHztIUdSoUaPYV0cYN1MqYqgdtGkkA4ACgAKAAoQ10krCmfKFz9unvqNAeGHLP7tuvFeGUEClUg0aNIhzbEKC7ifTSkt1T5t+/PjxZyyYP38+x2fMmDEuLi60ce/evQihw4cPs31aWloQQnPmzGEbu60TRYE5c+YEBwcz/ejq6ho2bBhFUZs3b758+XJUVJRCodi5cyfj0KuKEdGCXWJkAFAAUABQwEq0mfAwe/XN31tn4RxQ32HqsnxO3wyhAEVRQ4cO5TjTiwPu37+PMb5z5w5CKDIykuMTEhJiZ2dHG7dt24YQyszMZPtotVqE0NSpU9nGbutEUWDYsGEbN25k+vHzzz8rFIrFixczFrVaPWbMGOZlrypiqB20aSQDgAKAAoAChDXSSsL16pu/t84NHReFl94Gpf0NoYDVzQr069fv2LFjTBL37NlDUdSlS5cYy08//eTk5MS87FXFiGjBLjEyACgAKAAoYCXaTHiYvfrm762zcA5o6LjY26C0vyEUsLq1Av37909PT2eSGB4eTlFUTU0NY8nKylIqlczLXlXEUDto00gGAAUABQAFCGuklYTr1Td/b50bOy4JL70NSvsbQoElS5ZwbgvEGHPuIPDw8ODcQVBRUcG+g6CsrEz3q2wTJ7L7dvLkSTneQeDv7888b7izs9PNzY19swTGOC0tzd3dnT0S0+tGRAt2iZEBQAFAAUABK9FmwsM0/Wufh6dwDmjs+MdMdq86YAgFioqKOM8VyM/P5zxXIDExkfNcgbi4OM4tiMHBwQqF4vHjx3SvNBpNYGCgk5NTQ0NDj/0kulZg48aNSqUyPT39xYsX8fHxFEWtXbuW3cVFixaNHz+ebTG9LobaQZtGMgAoACgAKEBYI60knOlf+zw8GzuuCC+9invq1KntXzZPT0+Kouj69u3b2Y3Qtw6GhYVlZGQkJiY6ODj4+fk1NTUxPo2Njb6+vpynDXIWEj558oR+2uCOHTuOHj1KP22Qs5CQaZBTIYoCNTU1bm5u1JdNoVC4uLi8f/+e6VBra6uTkxN7XSGzy5SKEdGCXWJkAFAAUABQwEq0mfAwTfnC5+3TpLkqvPQqulqt7vYHu9mNdHR07Nq1i/kNgpiYGPalc9qzpqYmJiaG+Q2C1NTUbn+DYMaMGU5OTg4ODmPHjs3Pz2dHMVInigIY4/fv38fGxk6bNm316tVlZWXsnpWUlMyePfvhw4dso+l1MdQO2jSSAUABQAFAAcIaaSXhTP/a5+EpnAOaNFd5xJX5IaRRQLx0GBEt2CVGBgAFAAUABaxEmwkPUzyZwBg3aa4JL6L2UJLGAQXOiiGT1tAmoACgAKAAYY20knCiaqFwDmjSXBO1h5I0DigAKMAzA4ACgAKAAlaizYSHKaoWNmuuCy+i9lCSxgEFeAqhNZz3Gx8joACgAKAAYY20knCiaqFwDmjWXBe1h5I0DigAKMAzA4ACgAKAAlaizYSHKaoWNmtuCC+i9lCSxgEFeAqh8TNma9gLKAAoAChAWCOtJJyoWiicA5o1N0TtoSSNAwoACvDMAKAAoACggJVoM+FhiqqFLZoi4UXUHkrSOKAATyG0hvN+42MEFAAUABQgrJFWEk5ULWztLBZeRO2hJI0DCgAK8MwAoACgAKCAlWgz4WGKqoXCOaC1s1jUHkrSOKAATyE0fsZsDXsBBQAFAAUIa6SVhBNVC1s7bwovovZQksYBBQAFeGYAUABQAFDASrSZ8DBF1ULhHNDaeVPUHkrSOKAATyG0hvN+42MEFAAUABQgrJFWEk5ULeyTj62oPZSkcUABQAGeGQAU6JPvlF418uU74rl1CLB8homtRIDlM0xRtbBXnzhDzqL2UJLGAQV4CqHxM2Zr2AsoYOhrQjw7oIAUGAQoEEyYEkTVwrbO28KLqD2UpHFAAUABnhkAFBBP8g21DCgAKEBYlSUJJ6oWCueAts7bovZQksYBBXgKoTWc9xsfI6CAIcEWzw4oACggiTYTDiqqFrZr7wgvovZQksYBBQAFeGYAUEA8yTfUMqAAoABhVZYknKha2K69K7yI2kNJGgcU4CmExs+YrWEvoIAhwRbPDigAKCCJNhMOKqoWCueAdu1dUXsoSeOAAoACPDMAKCCe5BtqGVAAUICwKksSTlQt7NDeE15E7aEkjQMK8BRCazjvNz5GQAFDgi2eHVAAUEASbSYcVFQtFM4BHdp7ovZQksYBBQAFeGYAUEA8yTfUMqAAoABhVZYknKha2KG9L7yI2kNJGgcU4CmExs+YrWEvoIAhwRbPDigAKCCJNhMOKqoWCueADu19UXsoSeOAAoACPDMAKCCe5BtqGVAAUICwKksSTlQt1GgfCC+i9lCSxgEFeAqhNZz3Gx8joIAhwRbPDigAKCCJNhMOKqoWCucAjfaBqD2UpHFAAUABnhkAFBBP8g21DCgAKEBYlSUJJ6oWdnY9FF5E7aEkjQMK8BRC42fM1rAXUMCQYItnBxQAFJBEmwkHFVULO7seCy+i9lCSxgEFAAV4ZgBQQDzJN9QyoACgAGFVliScqFoonAM6ux6L2kNJGgcU4CmE1nDeb3yMgAKGBFs8O6AAoIAk2kw4qKhaqO16IryI2kNJGgcUABTgmQFAAfEk31DLgAKAAoRVWZJwomqhcA7Qdj0RtYeSNA4owFMIjZ8xW8NeQAFDgi2eHVAAUEASbSYcVFQt1HY9FV5E7aEkjQMKAArwzACggHiSb6hlQAFAAcKqLEk4UbVQOAdou56K2kNJGgcU4CmE1nDeb3yMgAKGBFs8O6AAoIAk2kw4qKha2IWfCS+i9lCSxgEFAAV4ZgBQQDzJN9QyoACgAGFVliScqFoonAO68DNReyhJ44ACPIXQ+BmzNewFFDAk2OLZAQUABSTRZsJBRdXCLvyL8CJqDyVpHFAAUIBnBgAFxJN8Qy0DCgAKEFZlScKJrIXP++KvSOQ+Em8eUICnEFrDeb/xMQIKGBJs8eyAAn3xJd5bJcCSyKE1BxVZB3v7B9Ctv8h9JN685aAA8dRBQMgAZAAyABmADFhCBgAFLOFdhDFABiADkAHIAGSAdwYABXinDg6EDEAGIAOQAciAJWQAUMAS3kUYA2QAMgAZgAxABnhnAFCAd+rgQMgAZAAyABmADFhCBgAFLOFdhDFABiADkAHIAGSAdwYABXinDg6EDEAGIAOQAciAJWQAUMAS3kUYA2QAMgAZgAxABnhnAFCAd+rgQMgAZAAyABmADFhCBgAFLOFdhDFABiADkAHIAGSAdwYABXinDg6EDEAGIAOQAciAJWQAUMAS3kUYA2QAMgAZgAxABnhnAFCAd+rgQMgAZAAyABmADFhCBgAFLOFdhDFABiADkAHIAGSAdwYABXinrucDa2pqIiMj3d3dEUJqtbrnA8BDLwPJyckIofLycr09Bg2enp6QbYPZIbuDx9tHtoNmH02tVnt6ehofBkJo6dKlbJ9Dhw75+voqlcrefrjYjUDdkjIAKGDw3bx16xZCaPv27QY9etqxZMkSpVKZkpKSnZ1948aN8vLy5OTkZ8+e9XTcP/YHBAQghCIjI/9hspQanV70x+bg4ODv75+SktLa2soeIg8t6REF6uvrk5OTb926xQ5kvD5nzhyEUEhIiHE3891r4tvR2wHyePt6G8Li/aurqzdu3Ojv79+vXz+VSuXl5TV79uyMjAx64DxQ4ObNmwihWbNmnThxIjs7u7m5OS0tLSsry+IzCQM0kgFAAYPJEY4C7u7uYWFhTAC6QdM/co8fP0YIDR8+3MHBob6+nmnHMip0NsLDw7O/bGlpaePHj0cITZ06lT1AjUbT1tbW1dXFNhqv94gC5eXlCKHk5GTj7TB7KysrbW1thw8fjhB69eoVY7ekiolvR2+HDCjQ24xx/N+9e+fm5mZjY7NgwYIDBw4cOXIkISEhKCjI39+f9jQFBdra2jo6OpiWN2/ejBCqq6tjLD1+ZBhPqFhqBgAFDL6zwlFAoVCw5+V6iwIxMTH9+/d/+PAhQujQoUMGO/plR3t7e1tbm3EfWe3VT29nZ2dgYCBC6PHjx0K62uP3Wm9RIDU1laKoZ8+eKZXK+Ph4433r7OxsaWkx7iPDvSK9HYACAt/r2NhYhND+/fs57VRWVtIWU1CAc2xUVBRCiG3s8SPDdoa6RWYAUMDg26r/5chxraqqio2N9fT0VCqVgwYNWrRoEXNJe+nSpX/MfP/9f09PT47F+PXs5ubmfv36rVixAmM8ZsyY0aNHc6LTIWpra1esWOHu7k5RFD3j3dHRkZaWFhgY6OjoqFKp/P39t27dyjlWDi+7TW98fDxCKDc3l+mhvpa8fv165syZ/b5sU6dOff78OefbkP5eo9369++vUql++OGHN2/e0G1mZWVx3gjjl1q7urq8vb2///57jPG8efMGDRrEPsHCGNM9fPHiRUJCgoeHh42NDT3x09XVlZWVFRQU1K9fPwcHB19f37i4uPb2dmZosqqY8nY0NjYmJib6+PgolUoXF5dZs2aVlpayR9HY2BgXF+fu7m5vbx8QEHD27FnO28d5p+hj9a9kX7x4cfLkyc7OznZ2dl5eXsuWLaupqWEC3bx5c9q0ac7OzkqlcsSIEampqZ2dncxeC6tMnToVIfT8+XND46JTWllZuXjxYldXV3t7+5CQkEePHrH9mQzT7zL771//ewlWD7BTZz11QAGD73W3X46M9/v374cMGeLs7BwfH3/s2LGtW7cO/LK9e/cOY3zv3r3s7Gz66jI9AV5aWpqYmIgQiomJoS03btxgWtOvZGZmIoTu3buHMT58+DBCiPPxplFg9OjRkydP3r9/f1pa2suXLzs6OiZPnkyvUkxNTT18+HBcXNzIkSP125fc0m16Z8+ejRBiZ4ajJRUVFa6urnZ2dmvWrDl8+HBUVJSrq+vw4cPZcu7p6Tl8+HA3N7cVK1YcOXJk/fr1SqXSz89Pq9VijMvKytLS0hBCc+bMod+IgoICI9koLi5GCOXk5GCMr169ihA6d+4c25/u4ejRo7/77rvdu3cfOnSIfteWLFmCEAoICNi2bdvRo0cTEhK8vb1le6Gnx7ejsbHR39/fwcFh5cqVR44c2bVrl5eXl6Oj45MnT+hsaDSa4OBgOrGHDh3asGGDSqWip3kYRDYFBZKSkj7/DXh7eyclJR07diwxMfHbb79lVthkZmYqFIrAwMDU1NSjR49GRkYqFIoFCxaw3xFLqq9atQohtH79eo1G0+241Gr1gAEDhg8fvmDBgkOHDm3durVfv34DBgxobGxk/BkUqKqqys7ODgkJQQgxf/zZ2dkDBgwYMWIEbaFXDzDHQsVKMgAoYPCN7vbLkfGePXu2i4tLWVkZYykvL1epVFFRUYyF+QTSFrpBE9cKjB8/3tfXlz6wvr7e3t4+JiaGaRljTKPAwoUL2dfRf/rpJ4RQXFwc20hLIPtYOdTpbGzevLnmy/by5UtaAzw9PdmnzhwUiIiIQAhdvXqVGQKt6xwUYMSbdktNTUUIFRYW0i97dYFg4cKFzs7O9MUXrVY7ePBgzmoGuocTJkxgzxacO3cOITR37lz2N3jXl43puawqPb4da9euVSqVDx48YLpdX18/ZMgQZnKLhtc1a9YwDvfu3VMoFOyzzB5RgL4cNn78+ObmZqYdjDH9N1xZWWlvbz979mz2n/fevXsRQiUlJWx/i6mXlZU5OTkhhAYNGhQeHr579+67d++yP9FqtRohtGvXLmbIubm5CKFjx44xFs4XEf3VwezFGMMFAnY2rLMOKGDwfTeCAg0NDRRFLVq0iJYx5t8pU6a4u7szLXI+gaajwPPnzxFCqampTFMRERH9+vVjfz/Sn2fmbIn2HDVqlEqlYrsxLcitQmeDPVdJrxlkZvLpDrNRQKvV0pc82GNpb2/v168fBwW+/vprtg+9ADM9PZ02mo4CtbW1dnZ2K1euZFpLTEykKKqiooKx0D3kTC3MmjWLLYGMs2wrxt+Orq6uAQMGhIaGMn/qdCU6OtrGxoa+6WP69Omf6ae6upo9xilTprDz0CMKrFmzBiFk6OaO9PR0hNCVK1fY3Xj16hVCaPPmzey4llSvqKiIi4vz8vJiPixeXl4M16rVaoqi2OuEamtrEULsRS2cLyJAAUv68+irsQAKGMykERSgz12YTya7QlEU0yLnE2g6CsTFxSGEbt++/eaPLSMjAyGUmZnJNE5/njkr1BwcHAICAhgfOVfobERFRRUVFV27dm3//v3u7u5+fn4fPnxgd5uNApWVlQih8PBwtsPnyzGjRo3ioMCECRPYPrT2p6Sk0EbTUYCecsjNzf3jfXhz7do1hFBSUhLTPt3DFy9eMBaM8ciRI11cXNgWmdeNvx01NTXsP3JO/f379xhjX1/fAQMGcIZJS7vpFwh++OEHhBB7cpvdID1bzolOv4yOjmZ7WmS9urq6oKAgIiJCoVA4OjrS0KxWq4cMGcIZL0LIyPQkoAAnXfASYwwoYPDPwAgKPHjw4PPdOPPnzy/qbmNa5IcCbW1tLi4u3X7fBQUFMY3rf54xxmaHAuzHNrx8+dLOzm7ChAns6V9+KMDMWtPp4mg/5yWTUv2Kn59ft2/EkCFDmKVq7B4yLZgpChh6O6qqqhBCoaGh3f29F9GnpPxQQKPRsD8mxlHg8zIFhFBGRoZ+NzgoxrwRFlnZtGkT88iTHidaMMbsDDPXFtmZgQsE7GxYZx1QwOD7bgQFamtrKYpiPzOg21Y4n8CSkhKEUI9rBU6fPk1PeJ7780YvQ/v111/pWN2igNldIGBrD8Z4w4YNCKEzZ84w+WQLrekXCIyjQEVFhSnPFbh79y5CaPny5X9+H87RtzlcuXKF7iS7h0y36QsE7OsIzC55Vrr9a2feDq1W6+zszNzL3u0QTLlAMHfu3H79+rEPf/36NftjQs8iGLrwT0/S5Ofns1uwwvqlS5cQQvR1K0ABK/wDEGPIgAIGs9rtlyPjHRYWRlHUzZs3GQtdqaqqYizs77jP9wTSV6z37dvHOHRbUavV9vb2TU1NnL30AgJmWVa3KEAvG1y3bh37WPYiI7Zd2nq36a2trVWpVD4+PsxqO47Qmrhs0DgK0BdT4+LijGeAzvDbt285bp8+fVIqlbNmzaLtnB7SRnrZYHh4ODN5QNvZEx6cZqV92ePbQd/gfvLkSU4/mT94+hoW8/dJ30fDWTZIP9zm4cOHTCPLly9nf0zoS29BQUGch07Sefvw4YO9vb2/vz/n09Ha2mromgITyEwrt27d4lwExBjTDwY4ePAgxrhPUMD/y2amKYJu90kGAAUMppH+cpwyZcp2va2rq+vDhw+enp42NjaRkZEHDx48dOhQQkLCN998w36mEPs77vO8XGtra79+/by9vY8cOZKbm1tcXKwfmz5JmjNnjv4ujPGIESNcXV3pBfbdokBHRwe9olitVu/evfvIkSPr1q375v9v7+xfomraOP7fjGc9q7uraLpKZbq6oqWbL4tpL2hlLhqomFIq6SKy6G65aS9GKmZlVmQidUOUSGRUFoZkEiKkRv2gVi6Um+I80cBw7uPL45qme+7v/iBzZufMua7Phcx3Z+aaExe3ZG+bW7nk2EMpZZOffFeEbKAdGxvjyYTXr19fLplwZSlAKTUYDCEhIS0tLd3d3Y8ePVqMYmZmRqPRLLfxIisry9fXlx3zIrOQd1VYWEgIMZlM58+fv3nzpt1uNxgM3pVMKA2Hy+VimYEWi6WpqenGjRsOhyMlJYWjnpubM5vNLG+ira2tpqZmcTLhxMSEKIphYWGXLl1qbW3NzMxkR0xK/2tYzq3BYKirq+vo6HA6nQkJCXx77N27d1UqVXh4uN1u7+joaGxsLCkpCQwMXG6nIQ+HlxZycnICAgIKCgqamppu3759+fJl9g8eHx/PdgevixQ4deqUj4/PmTNnurq6uru7vWLfsZcGdMuaDSmwbGjYWLXkUjH7zfr169fa2lqj0ahWq3U6ndFoLC0tlWZbyaQAS0xPTExUq9XLvaDIZrPJZsil9rF0O5bjvqQUoJS63e5fGUfx8fF+fn46nW737t18u5y0q00vLycFpqamtFotTylcPNCOjIxkZ2drf3/YEUMmk0l6dsLihc/FmwPevHljNps1Gg0hRLrlkGNpa2sjhFy4cIHXSAsscY5lcC22kLVcWFhob29PSkpiZz0ZjcaqqippnqS0w00vryYcP378uHjx4p49e/z9/bVarcFgKCws5FvZKaUul6uyslKv16vV6oSEhMVHDFFKnzx5YjKZRFEMCQkpLy+fmZlZ/G/yzz//pKen63Q6Pz+/yMjI0tLS6elpjmhgYCAvL0+v14uiqNfrzWZzQ0OD9Bhd3lIBhYGBAZvNlpycrNfrfX19dTqdyWSqr6/nsyDrIgUmJydzc3ODgoJkszgKAAgXVkkAUmCVoNBsixKYm5sLDAzMysraovbBLBAAARDY8gQgBbZ8iGDgvwnIlk7ZVrLm5uZ/t8IVCIAACIDAaglACqyWFNptEQIxMTEnT55sbW1taWnJy8v7ddJcbGwsVje3SHRgBgiAgDcSgBTwxqj9p2222+1xcXE6nU4UxYiICKvVKl1I/k+jgfMgAAIgsCYCkAJrwoabQAAEQAAEQEApBCAFlBJJ+AECIAACIAACayIAKbAmbLgJBEAABEAABJRCAFJAKZGEHyAAAiAAAiCwJgKQAmvChptAAARAAARAQCkEIAWUEkn4oTgCsiMp2bGGm3vC7lawQXFxhkMgsPkEIAU2PwawYOsTkJ4/LQhCcHDw/v37pW9Q3AgX/lwKyHr4cyMhBf6cIXoAgS1IAFJgCwYFJm05AkwKOH9/HA5Hbm6uSqUihMheArm+dssG8qmpqZGREdlhiys/UdbDyo1X8y2kwGoooQ0IeB0BSAGvCxkM3gQCTApIH9zX1+fz+zM+Pi6tX8fynw/kf96DzB1IARkQXIKAMghACigjjvBiYwkslgKU0tjYWELI/fv3KaV8jOzq6kpOTmYvV2Q2ff/+nb3Qj72iMDU1lb1bUmqx2+2ur6+PjIxkRyg6HA632y0byPkjpDeOjIyUlJRERESwd/2lpaVdu3aNUnrnzh3pogaf1eD3St/vt3379rKyss+fP/NvWWFwcDAzM1Or1ep0uoMHD75+/XpJG2R34RIEQMDrCEAKeF3IYPAmEFhSChiNRkLIgwcPuBTIzs5Wq9V5eXk1NTXl5eWU0m/fviUmJhJCTCZTZWXl6dOno6KiCCEOh4O7sbCwkJOTQwiJioqqrq6urKwMCws7duzY/5UCPT09/v7+giAcOXKktra2vLzcbDazdy4PDQ2xYTsiIoKtazidTr7l8NatWyqVSqPR5Ofn22w2i8UiCEJYWNjHjx+5Va9evfL391epVMePH7fb7YcPHxZFMSsrixDC++GNUQABEPBqApACXh0+GP+XCCyWAk+fPmULBBMTE1wKaDSat2/fSm0qLi4mhDQ2NvLK2dnZzMxMHx+foaEhVtnV1UUISU1NnZ2dZTVfvnyJjIxcWQpMTU0FBASIovj8+XPeOaX006dP/FLWA6sfHR0VRTEqKko6DdDX1ycIgsViYW0WFhZiYmIIIQ8fPuS9tbS0MA6QApwJCiCgDAKQAsqII7zYWAJ8gt3pdDocjry8PNm2QfYTvKqqSmrH9PS0SqXau3evtJJS+u7dO0KIzWZj9YcOHSKEPHv2TNqMzfBnZGTwStnk/JUrVwghVquVN1hcWFIKVFVVEUJ6enpk7S0Wi0qlcrlclNL+/n5CSHp6urTN/Pw8m9KAFJBiQRkEFEAAUkABQYQLG06ASQH218fHJygoKCMjo7Ozkz+YjdOyTQC9vb2EkKSkJD5Fz3MQCCHZ2dns9uDgYEEQfv78yXujlI6Pj8sGcpkUYC9o7u3tld4lK8t6YN+mpKQwISKzymw2/7J2cHCQUtra2koIOXv2rKxDNskBKSDDgksQ8HYCkALeHkHY/zcIMBGwwpPYOC37ZX/v3j2phpCV+S9+lUq1bds2Weezs7OygVwmBdhcwvDwsOxG6aWsB/aVwWCQWSK9ZMsNDQ0NhJC2tjZpb5TSmpoa7BWQMcElCCiAAKSAAoIIFzacABuemeFUAAACsklEQVQsV3iMbJxmLR8/fryaswf+8qyAyWQihLCFgOU8wqzAcmRQDwKKJAApoMiwwql1JrA2KTA5OSkIwuK9AjLjNm6vgCAIaWlpssdVVFQsuVdA2gx7BaQ0UAYBxROAFFB8iOHgOhBYmxSglBYVFRFC6uvr5+fnpXZ8+PBhbGyM1bAMArPZLM0gYBv0+CICT1Lg6/Q8g+DFixfSnqUZBCEhISy3UNpgZGREFMXo6OjR0VFpvdvtfvnyJatBBoGUDMogoHgCkAKKDzEcXAcCa5YCLpcrNTWVEBIdHV1SUlJbW3vixImkpCRCSHd3N7NsYWGBnSLAzhWwWq2rP1fAz89PEISjR4/a7faKiop9+/ZJx/78/Hy2P7Gurq6hoYGLhs7OTlEUfX19s7Ozq6urrVZrTk5OcHBwTEwMh9Xf349zBTgNFEBA2QQgBZQdX3i3PgTWLAUopW63++rVq2azmR0DsGPHjgMHDjQ3N09PT3Pj3G73uXPndu3a5elpg+/fvy8qKgoPDxdFMTQ0ND09vb29nXc7OTlZUFAQGhoqCAIhxOl08q+Gh4eLi4t37twpimJQUFBcXFxZWVlfXx9vQCnlpw1qtVqcNiglgzIIKIwApIDCAgp3QAAEQAAEQMAzApACnvFCaxAAARAAARBQGAFIAYUFFO6AAAiAAAiAgGcEIAU844XWIAACIAACIKAwApACCgso3AEBEAABEAABzwhACnjGC61BAARAAARAQGEEIAUUFlC4AwIgAAIgAAKeEYAU8IwXWoMACIAACICAwghACigsoHAHBEAABEAABDwjACngGS+0BgEQAAEQAAGFEYAUUFhA4Q4IgAAIgAAIeEYAUsAzXmgNAiAAAiAAAgojACmgsIDCHRAAARAAARDwjACkgGe80BoEQAAEQAAEFEbgfzSLfkMQzOaaAAAAAElFTkSuQmCC)\n",
        "\n",
        "|   Class   |  Accuracy  |  Precision  |  Recall  |\n",
        "|-----------|------------|-------------|----------|\n",
        "| Left Arc  |   0.863295 |   0.784367  | 0.788141 |\n",
        "| Right Arc |   0.868901 |   0.720315  | 0.716716 |\n",
        "|   Reduce  |   0.900346 |   0.798253  | 0.793030 |\n",
        "|   Shift   |   0.873416 |   0.804386  | 0.807284 |\n",
        "\n",
        "\n",
        "F1-score: 0.777"
      ],
      "metadata": {
        "id": "bAtlVOv4cpVC"
      }
    },
    {
      "cell_type": "markdown",
      "source": [
        "# Tree representation of a correct and wrong prediction"
      ],
      "metadata": {
        "id": "ALFYezQLajVq"
      }
    },
    {
      "cell_type": "markdown",
      "source": [
        "In this section, we randomly take a correct and incorrect prediction in the test set and plot the tree structure. For the wrongly parsed sentence, the words with incorrect heads are also highlighted."
      ],
      "metadata": {
        "id": "BPyWnG0ifvPB"
      }
    },
    {
      "cell_type": "code",
      "source": [
        "correct_ind = list(set(range(len(test_dataset))) - set(wrong_ind))\n",
        "wrong_ix = random.sample(wrong_ind, 1)[0]\n",
        "correct_ix =  random.sample(correct_ind, 1)[0]"
      ],
      "metadata": {
        "id": "Ifbm_bjxUeCY"
      },
      "execution_count": null,
      "outputs": []
    },
    {
      "cell_type": "markdown",
      "source": [
        "**Correctly parsed sentence representation**"
      ],
      "metadata": {
        "id": "4YRE4FxCWPlF"
      }
    },
    {
      "cell_type": "code",
      "source": [
        "pred_tokens = test_dataset[correct_ix][\"tokens\"]\n",
        "pred_parsing = pred_configs_BERT[correct_ix]\n",
        "plot_dependency(pred_tokens, pred_parsing)"
      ],
      "metadata": {
        "colab": {
          "base_uri": "https://localhost:8080/",
          "height": 308
        },
        "id": "Kiuz_A5FVnUc",
        "outputId": "686448ca-5dd2-43f7-d931-cf8042ace7ba"
      },
      "execution_count": null,
      "outputs": [
        {
          "output_type": "display_data",
          "data": {
            "text/plain": [
              "<IPython.core.display.HTML object>"
            ],
            "text/html": [
              "<span class=\"tex2jax_ignore\"><svg xmlns=\"http://www.w3.org/2000/svg\" xmlns:xlink=\"http://www.w3.org/1999/xlink\" xml:lang=\"en\" id=\"e33be89657d24229b471300897cc17e9-0\" class=\"displacy\" width=\"750\" height=\"287.0\" direction=\"ltr\" style=\"max-width: none; height: 287.0px; color: #000000; background: #ffffff; font-family: Arial; direction: ltr\">\n",
              "<text class=\"displacy-token\" fill=\"currentColor\" text-anchor=\"middle\" y=\"197.0\">\n",
              "    <tspan class=\"displacy-word\" fill=\"currentColor\" x=\"50\">ROOT</tspan>\n",
              "    <tspan class=\"displacy-tag\" dy=\"2em\" fill=\"currentColor\" x=\"50\"></tspan>\n",
              "</text>\n",
              "\n",
              "<text class=\"displacy-token\" fill=\"currentColor\" text-anchor=\"middle\" y=\"197.0\">\n",
              "    <tspan class=\"displacy-word\" fill=\"currentColor\" x=\"150\">Click</tspan>\n",
              "    <tspan class=\"displacy-tag\" dy=\"2em\" fill=\"currentColor\" x=\"150\"></tspan>\n",
              "</text>\n",
              "\n",
              "<text class=\"displacy-token\" fill=\"currentColor\" text-anchor=\"middle\" y=\"197.0\">\n",
              "    <tspan class=\"displacy-word\" fill=\"currentColor\" x=\"250\">the</tspan>\n",
              "    <tspan class=\"displacy-tag\" dy=\"2em\" fill=\"currentColor\" x=\"250\"></tspan>\n",
              "</text>\n",
              "\n",
              "<text class=\"displacy-token\" fill=\"currentColor\" text-anchor=\"middle\" y=\"197.0\">\n",
              "    <tspan class=\"displacy-word\" fill=\"currentColor\" x=\"350\">grid</tspan>\n",
              "    <tspan class=\"displacy-tag\" dy=\"2em\" fill=\"currentColor\" x=\"350\"></tspan>\n",
              "</text>\n",
              "\n",
              "<text class=\"displacy-token\" fill=\"currentColor\" text-anchor=\"middle\" y=\"197.0\">\n",
              "    <tspan class=\"displacy-word\" fill=\"currentColor\" x=\"450\">of</tspan>\n",
              "    <tspan class=\"displacy-tag\" dy=\"2em\" fill=\"currentColor\" x=\"450\"></tspan>\n",
              "</text>\n",
              "\n",
              "<text class=\"displacy-token\" fill=\"currentColor\" text-anchor=\"middle\" y=\"197.0\">\n",
              "    <tspan class=\"displacy-word\" fill=\"currentColor\" x=\"550\">grouped</tspan>\n",
              "    <tspan class=\"displacy-tag\" dy=\"2em\" fill=\"currentColor\" x=\"550\"></tspan>\n",
              "</text>\n",
              "\n",
              "<text class=\"displacy-token\" fill=\"currentColor\" text-anchor=\"middle\" y=\"197.0\">\n",
              "    <tspan class=\"displacy-word\" fill=\"currentColor\" x=\"650\">lines .</tspan>\n",
              "    <tspan class=\"displacy-tag\" dy=\"2em\" fill=\"currentColor\" x=\"650\"></tspan>\n",
              "</text>\n",
              "\n",
              "<g class=\"displacy-arrow\">\n",
              "    <path class=\"displacy-arc\" id=\"arrow-e33be89657d24229b471300897cc17e9-0-0\" stroke-width=\"2px\" d=\"M70,152.0 C70,102.0 140.0,102.0 140.0,152.0\" fill=\"none\" stroke=\"currentColor\"/>\n",
              "    <text dy=\"1.25em\" style=\"font-size: 0.8em; letter-spacing: 1px\">\n",
              "        <textPath xlink:href=\"#arrow-e33be89657d24229b471300897cc17e9-0-0\" class=\"displacy-label\" startOffset=\"50%\" side=\"left\" fill=\"currentColor\" text-anchor=\"middle\"> </textPath>\n",
              "    </text>\n",
              "    <path class=\"displacy-arrowhead\" d=\"M140.0,154.0 L148.0,142.0 132.0,142.0\" fill=\"currentColor\"/>\n",
              "</g>\n",
              "\n",
              "<g class=\"displacy-arrow\">\n",
              "    <path class=\"displacy-arc\" id=\"arrow-e33be89657d24229b471300897cc17e9-0-1\" stroke-width=\"2px\" d=\"M270,152.0 C270,102.0 340.0,102.0 340.0,152.0\" fill=\"none\" stroke=\"currentColor\"/>\n",
              "    <text dy=\"1.25em\" style=\"font-size: 0.8em; letter-spacing: 1px\">\n",
              "        <textPath xlink:href=\"#arrow-e33be89657d24229b471300897cc17e9-0-1\" class=\"displacy-label\" startOffset=\"50%\" side=\"left\" fill=\"currentColor\" text-anchor=\"middle\"> </textPath>\n",
              "    </text>\n",
              "    <path class=\"displacy-arrowhead\" d=\"M270,154.0 L262,142.0 278,142.0\" fill=\"currentColor\"/>\n",
              "</g>\n",
              "\n",
              "<g class=\"displacy-arrow\">\n",
              "    <path class=\"displacy-arc\" id=\"arrow-e33be89657d24229b471300897cc17e9-0-2\" stroke-width=\"2px\" d=\"M170,152.0 C170,52.0 345.0,52.0 345.0,152.0\" fill=\"none\" stroke=\"currentColor\"/>\n",
              "    <text dy=\"1.25em\" style=\"font-size: 0.8em; letter-spacing: 1px\">\n",
              "        <textPath xlink:href=\"#arrow-e33be89657d24229b471300897cc17e9-0-2\" class=\"displacy-label\" startOffset=\"50%\" side=\"left\" fill=\"currentColor\" text-anchor=\"middle\"> </textPath>\n",
              "    </text>\n",
              "    <path class=\"displacy-arrowhead\" d=\"M345.0,154.0 L353.0,142.0 337.0,142.0\" fill=\"currentColor\"/>\n",
              "</g>\n",
              "\n",
              "<g class=\"displacy-arrow\">\n",
              "    <path class=\"displacy-arc\" id=\"arrow-e33be89657d24229b471300897cc17e9-0-3\" stroke-width=\"2px\" d=\"M470,152.0 C470,52.0 645.0,52.0 645.0,152.0\" fill=\"none\" stroke=\"currentColor\"/>\n",
              "    <text dy=\"1.25em\" style=\"font-size: 0.8em; letter-spacing: 1px\">\n",
              "        <textPath xlink:href=\"#arrow-e33be89657d24229b471300897cc17e9-0-3\" class=\"displacy-label\" startOffset=\"50%\" side=\"left\" fill=\"currentColor\" text-anchor=\"middle\"> </textPath>\n",
              "    </text>\n",
              "    <path class=\"displacy-arrowhead\" d=\"M470,154.0 L462,142.0 478,142.0\" fill=\"currentColor\"/>\n",
              "</g>\n",
              "\n",
              "<g class=\"displacy-arrow\">\n",
              "    <path class=\"displacy-arc\" id=\"arrow-e33be89657d24229b471300897cc17e9-0-4\" stroke-width=\"2px\" d=\"M570,152.0 C570,102.0 640.0,102.0 640.0,152.0\" fill=\"none\" stroke=\"currentColor\"/>\n",
              "    <text dy=\"1.25em\" style=\"font-size: 0.8em; letter-spacing: 1px\">\n",
              "        <textPath xlink:href=\"#arrow-e33be89657d24229b471300897cc17e9-0-4\" class=\"displacy-label\" startOffset=\"50%\" side=\"left\" fill=\"currentColor\" text-anchor=\"middle\"> </textPath>\n",
              "    </text>\n",
              "    <path class=\"displacy-arrowhead\" d=\"M570,154.0 L562,142.0 578,142.0\" fill=\"currentColor\"/>\n",
              "</g>\n",
              "\n",
              "<g class=\"displacy-arrow\">\n",
              "    <path class=\"displacy-arc\" id=\"arrow-e33be89657d24229b471300897cc17e9-0-5\" stroke-width=\"2px\" d=\"M370,152.0 C370,2.0 650.0,2.0 650.0,152.0\" fill=\"none\" stroke=\"currentColor\"/>\n",
              "    <text dy=\"1.25em\" style=\"font-size: 0.8em; letter-spacing: 1px\">\n",
              "        <textPath xlink:href=\"#arrow-e33be89657d24229b471300897cc17e9-0-5\" class=\"displacy-label\" startOffset=\"50%\" side=\"left\" fill=\"currentColor\" text-anchor=\"middle\"> </textPath>\n",
              "    </text>\n",
              "    <path class=\"displacy-arrowhead\" d=\"M650.0,154.0 L658.0,142.0 642.0,142.0\" fill=\"currentColor\"/>\n",
              "</g>\n",
              "</svg></span>"
            ]
          },
          "metadata": {}
        }
      ]
    },
    {
      "cell_type": "markdown",
      "source": [
        "**Wrongly parsed sentence representation**"
      ],
      "metadata": {
        "id": "TIUCNbbtbFH-"
      }
    },
    {
      "cell_type": "code",
      "source": [
        "gold_tree = test_dataset[wrong_ix][\"head\"]\n",
        "gold_tree = [int(x) for x in gold_tree]\n",
        "pred_tokens = test_dataset[wrong_ix][\"tokens\"]\n",
        "pred_parsing = pred_configs_BERT[wrong_ix]\n",
        "incorrect_head_idx = [index for index, (item1, item2) in enumerate(zip(gold_tree, pred_parsing)) if item1 != item2]"
      ],
      "metadata": {
        "id": "iAv7IfDCW4Lg"
      },
      "execution_count": null,
      "outputs": []
    },
    {
      "cell_type": "code",
      "source": [
        "print(\"Tokens with incorrect head:\\n\"  )\n",
        "\n",
        "for i in incorrect_head_idx:\n",
        "  pred_head_ix = pred_parsing[i]\n",
        "  correct_head_ix = gold_tree[i]\n",
        "  print(pred_tokens[i], \" (ix: \", i, \")  -  Pred head: \",  pred_tokens[pred_head_ix], \" (ix:\", pred_head_ix, \")   -  Correct head: \", pred_tokens[gold_tree[i]], \"(ix:\", correct_head_ix,\")\")\n",
        "\n",
        "plot_dependency(pred_tokens, pred_parsing)"
      ],
      "metadata": {
        "colab": {
          "base_uri": "https://localhost:8080/",
          "height": 428
        },
        "id": "3JCg7BuIUUzu",
        "outputId": "01ff9304-0360-4dd9-951c-ed7938453814"
      },
      "execution_count": null,
      "outputs": [
        {
          "output_type": "stream",
          "name": "stdout",
          "text": [
            "Tokens with incorrect head:\n",
            "\n",
            ",  (ix:  5 )  -  Pred head:  eyes  (ix: 7 )   -  Correct head:  wider (ix: 8 )\n",
            "eyes  (ix:  7 )  -  Pred head:  shook  (ix: 2 )   -  Correct head:  wider (ix: 8 )\n"
          ]
        },
        {
          "output_type": "display_data",
          "data": {
            "text/plain": [
              "<IPython.core.display.HTML object>"
            ],
            "text/html": [
              "<span class=\"tex2jax_ignore\"><svg xmlns=\"http://www.w3.org/2000/svg\" xmlns:xlink=\"http://www.w3.org/1999/xlink\" xml:lang=\"en\" id=\"bf63456b89cb44f98c337657d558aa63-0\" class=\"displacy\" width=\"1050\" height=\"337.0\" direction=\"ltr\" style=\"max-width: none; height: 337.0px; color: #000000; background: #ffffff; font-family: Arial; direction: ltr\">\n",
              "<text class=\"displacy-token\" fill=\"currentColor\" text-anchor=\"middle\" y=\"247.0\">\n",
              "    <tspan class=\"displacy-word\" fill=\"currentColor\" x=\"50\">ROOT</tspan>\n",
              "    <tspan class=\"displacy-tag\" dy=\"2em\" fill=\"currentColor\" x=\"50\"></tspan>\n",
              "</text>\n",
              "\n",
              "<text class=\"displacy-token\" fill=\"currentColor\" text-anchor=\"middle\" y=\"247.0\">\n",
              "    <tspan class=\"displacy-word\" fill=\"currentColor\" x=\"150\">Dobby</tspan>\n",
              "    <tspan class=\"displacy-tag\" dy=\"2em\" fill=\"currentColor\" x=\"150\"></tspan>\n",
              "</text>\n",
              "\n",
              "<text class=\"displacy-token\" fill=\"currentColor\" text-anchor=\"middle\" y=\"247.0\">\n",
              "    <tspan class=\"displacy-word\" fill=\"currentColor\" x=\"250\">shook</tspan>\n",
              "    <tspan class=\"displacy-tag\" dy=\"2em\" fill=\"currentColor\" x=\"250\"></tspan>\n",
              "</text>\n",
              "\n",
              "<text class=\"displacy-token\" fill=\"currentColor\" text-anchor=\"middle\" y=\"247.0\">\n",
              "    <tspan class=\"displacy-word\" fill=\"currentColor\" x=\"350\">his</tspan>\n",
              "    <tspan class=\"displacy-tag\" dy=\"2em\" fill=\"currentColor\" x=\"350\"></tspan>\n",
              "</text>\n",
              "\n",
              "<text class=\"displacy-token\" fill=\"currentColor\" text-anchor=\"middle\" y=\"247.0\">\n",
              "    <tspan class=\"displacy-word\" fill=\"currentColor\" x=\"450\">head ,</tspan>\n",
              "    <tspan class=\"displacy-tag\" dy=\"2em\" fill=\"currentColor\" x=\"450\"></tspan>\n",
              "</text>\n",
              "\n",
              "<text class=\"displacy-token\" fill=\"currentColor\" text-anchor=\"middle\" y=\"247.0\">\n",
              "    <tspan class=\"displacy-word\" fill=\"currentColor\" x=\"550\">his</tspan>\n",
              "    <tspan class=\"displacy-tag\" dy=\"2em\" fill=\"currentColor\" x=\"550\"></tspan>\n",
              "</text>\n",
              "\n",
              "<text class=\"displacy-token\" fill=\"currentColor\" text-anchor=\"middle\" y=\"247.0\">\n",
              "    <tspan class=\"displacy-word\" fill=\"currentColor\" x=\"650\">eyes</tspan>\n",
              "    <tspan class=\"displacy-tag\" dy=\"2em\" fill=\"currentColor\" x=\"650\"></tspan>\n",
              "</text>\n",
              "\n",
              "<text class=\"displacy-token\" fill=\"currentColor\" text-anchor=\"middle\" y=\"247.0\">\n",
              "    <tspan class=\"displacy-word\" fill=\"currentColor\" x=\"750\">wider</tspan>\n",
              "    <tspan class=\"displacy-tag\" dy=\"2em\" fill=\"currentColor\" x=\"750\"></tspan>\n",
              "</text>\n",
              "\n",
              "<text class=\"displacy-token\" fill=\"currentColor\" text-anchor=\"middle\" y=\"247.0\">\n",
              "    <tspan class=\"displacy-word\" fill=\"currentColor\" x=\"850\">than</tspan>\n",
              "    <tspan class=\"displacy-tag\" dy=\"2em\" fill=\"currentColor\" x=\"850\"></tspan>\n",
              "</text>\n",
              "\n",
              "<text class=\"displacy-token\" fill=\"currentColor\" text-anchor=\"middle\" y=\"247.0\">\n",
              "    <tspan class=\"displacy-word\" fill=\"currentColor\" x=\"950\">ever .</tspan>\n",
              "    <tspan class=\"displacy-tag\" dy=\"2em\" fill=\"currentColor\" x=\"950\"></tspan>\n",
              "</text>\n",
              "\n",
              "<g class=\"displacy-arrow\">\n",
              "    <path class=\"displacy-arc\" id=\"arrow-bf63456b89cb44f98c337657d558aa63-0-0\" stroke-width=\"2px\" d=\"M170,202.0 C170,152.0 235.0,152.0 235.0,202.0\" fill=\"none\" stroke=\"currentColor\"/>\n",
              "    <text dy=\"1.25em\" style=\"font-size: 0.8em; letter-spacing: 1px\">\n",
              "        <textPath xlink:href=\"#arrow-bf63456b89cb44f98c337657d558aa63-0-0\" class=\"displacy-label\" startOffset=\"50%\" side=\"left\" fill=\"currentColor\" text-anchor=\"middle\"> </textPath>\n",
              "    </text>\n",
              "    <path class=\"displacy-arrowhead\" d=\"M170,204.0 L162,192.0 178,192.0\" fill=\"currentColor\"/>\n",
              "</g>\n",
              "\n",
              "<g class=\"displacy-arrow\">\n",
              "    <path class=\"displacy-arc\" id=\"arrow-bf63456b89cb44f98c337657d558aa63-0-1\" stroke-width=\"2px\" d=\"M70,202.0 C70,102.0 240.0,102.0 240.0,202.0\" fill=\"none\" stroke=\"currentColor\"/>\n",
              "    <text dy=\"1.25em\" style=\"font-size: 0.8em; letter-spacing: 1px\">\n",
              "        <textPath xlink:href=\"#arrow-bf63456b89cb44f98c337657d558aa63-0-1\" class=\"displacy-label\" startOffset=\"50%\" side=\"left\" fill=\"currentColor\" text-anchor=\"middle\"> </textPath>\n",
              "    </text>\n",
              "    <path class=\"displacy-arrowhead\" d=\"M240.0,204.0 L248.0,192.0 232.0,192.0\" fill=\"currentColor\"/>\n",
              "</g>\n",
              "\n",
              "<g class=\"displacy-arrow\">\n",
              "    <path class=\"displacy-arc\" id=\"arrow-bf63456b89cb44f98c337657d558aa63-0-2\" stroke-width=\"2px\" d=\"M370,202.0 C370,152.0 435.0,152.0 435.0,202.0\" fill=\"none\" stroke=\"currentColor\"/>\n",
              "    <text dy=\"1.25em\" style=\"font-size: 0.8em; letter-spacing: 1px\">\n",
              "        <textPath xlink:href=\"#arrow-bf63456b89cb44f98c337657d558aa63-0-2\" class=\"displacy-label\" startOffset=\"50%\" side=\"left\" fill=\"currentColor\" text-anchor=\"middle\"> </textPath>\n",
              "    </text>\n",
              "    <path class=\"displacy-arrowhead\" d=\"M370,204.0 L362,192.0 378,192.0\" fill=\"currentColor\"/>\n",
              "</g>\n",
              "\n",
              "<g class=\"displacy-arrow\">\n",
              "    <path class=\"displacy-arc\" id=\"arrow-bf63456b89cb44f98c337657d558aa63-0-3\" stroke-width=\"2px\" d=\"M270,202.0 C270,102.0 440.0,102.0 440.0,202.0\" fill=\"none\" stroke=\"currentColor\"/>\n",
              "    <text dy=\"1.25em\" style=\"font-size: 0.8em; letter-spacing: 1px\">\n",
              "        <textPath xlink:href=\"#arrow-bf63456b89cb44f98c337657d558aa63-0-3\" class=\"displacy-label\" startOffset=\"50%\" side=\"left\" fill=\"currentColor\" text-anchor=\"middle\"> </textPath>\n",
              "    </text>\n",
              "    <path class=\"displacy-arrowhead\" d=\"M440.0,204.0 L448.0,192.0 432.0,192.0\" fill=\"currentColor\"/>\n",
              "</g>\n",
              "\n",
              "<g class=\"displacy-arrow\">\n",
              "    <path class=\"displacy-arc\" id=\"arrow-bf63456b89cb44f98c337657d558aa63-0-4\" stroke-width=\"2px\" d=\"M570,202.0 C570,152.0 635.0,152.0 635.0,202.0\" fill=\"none\" stroke=\"currentColor\"/>\n",
              "    <text dy=\"1.25em\" style=\"font-size: 0.8em; letter-spacing: 1px\">\n",
              "        <textPath xlink:href=\"#arrow-bf63456b89cb44f98c337657d558aa63-0-4\" class=\"displacy-label\" startOffset=\"50%\" side=\"left\" fill=\"currentColor\" text-anchor=\"middle\"> </textPath>\n",
              "    </text>\n",
              "    <path class=\"displacy-arrowhead\" d=\"M570,204.0 L562,192.0 578,192.0\" fill=\"currentColor\"/>\n",
              "</g>\n",
              "\n",
              "<g class=\"displacy-arrow\">\n",
              "    <path class=\"displacy-arc\" id=\"arrow-bf63456b89cb44f98c337657d558aa63-0-5\" stroke-width=\"2px\" d=\"M270,202.0 C270,52.0 645.0,52.0 645.0,202.0\" fill=\"none\" stroke=\"currentColor\"/>\n",
              "    <text dy=\"1.25em\" style=\"font-size: 0.8em; letter-spacing: 1px\">\n",
              "        <textPath xlink:href=\"#arrow-bf63456b89cb44f98c337657d558aa63-0-5\" class=\"displacy-label\" startOffset=\"50%\" side=\"left\" fill=\"currentColor\" text-anchor=\"middle\"> </textPath>\n",
              "    </text>\n",
              "    <path class=\"displacy-arrowhead\" d=\"M645.0,204.0 L653.0,192.0 637.0,192.0\" fill=\"currentColor\"/>\n",
              "</g>\n",
              "\n",
              "<g class=\"displacy-arrow\">\n",
              "    <path class=\"displacy-arc\" id=\"arrow-bf63456b89cb44f98c337657d558aa63-0-6\" stroke-width=\"2px\" d=\"M270,202.0 C270,2.0 750.0,2.0 750.0,202.0\" fill=\"none\" stroke=\"currentColor\"/>\n",
              "    <text dy=\"1.25em\" style=\"font-size: 0.8em; letter-spacing: 1px\">\n",
              "        <textPath xlink:href=\"#arrow-bf63456b89cb44f98c337657d558aa63-0-6\" class=\"displacy-label\" startOffset=\"50%\" side=\"left\" fill=\"currentColor\" text-anchor=\"middle\"> </textPath>\n",
              "    </text>\n",
              "    <path class=\"displacy-arrowhead\" d=\"M750.0,204.0 L758.0,192.0 742.0,192.0\" fill=\"currentColor\"/>\n",
              "</g>\n",
              "\n",
              "<g class=\"displacy-arrow\">\n",
              "    <path class=\"displacy-arc\" id=\"arrow-bf63456b89cb44f98c337657d558aa63-0-7\" stroke-width=\"2px\" d=\"M870,202.0 C870,152.0 935.0,152.0 935.0,202.0\" fill=\"none\" stroke=\"currentColor\"/>\n",
              "    <text dy=\"1.25em\" style=\"font-size: 0.8em; letter-spacing: 1px\">\n",
              "        <textPath xlink:href=\"#arrow-bf63456b89cb44f98c337657d558aa63-0-7\" class=\"displacy-label\" startOffset=\"50%\" side=\"left\" fill=\"currentColor\" text-anchor=\"middle\"> </textPath>\n",
              "    </text>\n",
              "    <path class=\"displacy-arrowhead\" d=\"M870,204.0 L862,192.0 878,192.0\" fill=\"currentColor\"/>\n",
              "</g>\n",
              "\n",
              "<g class=\"displacy-arrow\">\n",
              "    <path class=\"displacy-arc\" id=\"arrow-bf63456b89cb44f98c337657d558aa63-0-8\" stroke-width=\"2px\" d=\"M770,202.0 C770,102.0 940.0,102.0 940.0,202.0\" fill=\"none\" stroke=\"currentColor\"/>\n",
              "    <text dy=\"1.25em\" style=\"font-size: 0.8em; letter-spacing: 1px\">\n",
              "        <textPath xlink:href=\"#arrow-bf63456b89cb44f98c337657d558aa63-0-8\" class=\"displacy-label\" startOffset=\"50%\" side=\"left\" fill=\"currentColor\" text-anchor=\"middle\"> </textPath>\n",
              "    </text>\n",
              "    <path class=\"displacy-arrowhead\" d=\"M940.0,204.0 L948.0,192.0 932.0,192.0\" fill=\"currentColor\"/>\n",
              "</g>\n",
              "</svg></span>"
            ]
          },
          "metadata": {}
        }
      ]
    },
    {
      "cell_type": "markdown",
      "source": [
        "**Wrongly parsed sentence gold tree**"
      ],
      "metadata": {
        "id": "6O6HH_4ZZm5x"
      }
    },
    {
      "cell_type": "code",
      "source": [
        "plot_dependency(pred_tokens, gold_tree)"
      ],
      "metadata": {
        "colab": {
          "base_uri": "https://localhost:8080/",
          "height": 308
        },
        "id": "V5JJd9RJXeDR",
        "outputId": "91216eec-abf5-40bf-e300-3d49e94859a9"
      },
      "execution_count": null,
      "outputs": [
        {
          "output_type": "display_data",
          "data": {
            "text/plain": [
              "<IPython.core.display.HTML object>"
            ],
            "text/html": [
              "<span class=\"tex2jax_ignore\"><svg xmlns=\"http://www.w3.org/2000/svg\" xmlns:xlink=\"http://www.w3.org/1999/xlink\" xml:lang=\"en\" id=\"449fb3765ef84ee5bb4654d41bf37629-0\" class=\"displacy\" width=\"1050\" height=\"287.0\" direction=\"ltr\" style=\"max-width: none; height: 287.0px; color: #000000; background: #ffffff; font-family: Arial; direction: ltr\">\n",
              "<text class=\"displacy-token\" fill=\"currentColor\" text-anchor=\"middle\" y=\"197.0\">\n",
              "    <tspan class=\"displacy-word\" fill=\"currentColor\" x=\"50\">ROOT</tspan>\n",
              "    <tspan class=\"displacy-tag\" dy=\"2em\" fill=\"currentColor\" x=\"50\"></tspan>\n",
              "</text>\n",
              "\n",
              "<text class=\"displacy-token\" fill=\"currentColor\" text-anchor=\"middle\" y=\"197.0\">\n",
              "    <tspan class=\"displacy-word\" fill=\"currentColor\" x=\"150\">Dobby</tspan>\n",
              "    <tspan class=\"displacy-tag\" dy=\"2em\" fill=\"currentColor\" x=\"150\"></tspan>\n",
              "</text>\n",
              "\n",
              "<text class=\"displacy-token\" fill=\"currentColor\" text-anchor=\"middle\" y=\"197.0\">\n",
              "    <tspan class=\"displacy-word\" fill=\"currentColor\" x=\"250\">shook</tspan>\n",
              "    <tspan class=\"displacy-tag\" dy=\"2em\" fill=\"currentColor\" x=\"250\"></tspan>\n",
              "</text>\n",
              "\n",
              "<text class=\"displacy-token\" fill=\"currentColor\" text-anchor=\"middle\" y=\"197.0\">\n",
              "    <tspan class=\"displacy-word\" fill=\"currentColor\" x=\"350\">his</tspan>\n",
              "    <tspan class=\"displacy-tag\" dy=\"2em\" fill=\"currentColor\" x=\"350\"></tspan>\n",
              "</text>\n",
              "\n",
              "<text class=\"displacy-token\" fill=\"currentColor\" text-anchor=\"middle\" y=\"197.0\">\n",
              "    <tspan class=\"displacy-word\" fill=\"currentColor\" x=\"450\">head ,</tspan>\n",
              "    <tspan class=\"displacy-tag\" dy=\"2em\" fill=\"currentColor\" x=\"450\"></tspan>\n",
              "</text>\n",
              "\n",
              "<text class=\"displacy-token\" fill=\"currentColor\" text-anchor=\"middle\" y=\"197.0\">\n",
              "    <tspan class=\"displacy-word\" fill=\"currentColor\" x=\"550\">his</tspan>\n",
              "    <tspan class=\"displacy-tag\" dy=\"2em\" fill=\"currentColor\" x=\"550\"></tspan>\n",
              "</text>\n",
              "\n",
              "<text class=\"displacy-token\" fill=\"currentColor\" text-anchor=\"middle\" y=\"197.0\">\n",
              "    <tspan class=\"displacy-word\" fill=\"currentColor\" x=\"650\">eyes</tspan>\n",
              "    <tspan class=\"displacy-tag\" dy=\"2em\" fill=\"currentColor\" x=\"650\"></tspan>\n",
              "</text>\n",
              "\n",
              "<text class=\"displacy-token\" fill=\"currentColor\" text-anchor=\"middle\" y=\"197.0\">\n",
              "    <tspan class=\"displacy-word\" fill=\"currentColor\" x=\"750\">wider</tspan>\n",
              "    <tspan class=\"displacy-tag\" dy=\"2em\" fill=\"currentColor\" x=\"750\"></tspan>\n",
              "</text>\n",
              "\n",
              "<text class=\"displacy-token\" fill=\"currentColor\" text-anchor=\"middle\" y=\"197.0\">\n",
              "    <tspan class=\"displacy-word\" fill=\"currentColor\" x=\"850\">than</tspan>\n",
              "    <tspan class=\"displacy-tag\" dy=\"2em\" fill=\"currentColor\" x=\"850\"></tspan>\n",
              "</text>\n",
              "\n",
              "<text class=\"displacy-token\" fill=\"currentColor\" text-anchor=\"middle\" y=\"197.0\">\n",
              "    <tspan class=\"displacy-word\" fill=\"currentColor\" x=\"950\">ever .</tspan>\n",
              "    <tspan class=\"displacy-tag\" dy=\"2em\" fill=\"currentColor\" x=\"950\"></tspan>\n",
              "</text>\n",
              "\n",
              "<g class=\"displacy-arrow\">\n",
              "    <path class=\"displacy-arc\" id=\"arrow-449fb3765ef84ee5bb4654d41bf37629-0-0\" stroke-width=\"2px\" d=\"M170,152.0 C170,102.0 240.0,102.0 240.0,152.0\" fill=\"none\" stroke=\"currentColor\"/>\n",
              "    <text dy=\"1.25em\" style=\"font-size: 0.8em; letter-spacing: 1px\">\n",
              "        <textPath xlink:href=\"#arrow-449fb3765ef84ee5bb4654d41bf37629-0-0\" class=\"displacy-label\" startOffset=\"50%\" side=\"left\" fill=\"currentColor\" text-anchor=\"middle\"> </textPath>\n",
              "    </text>\n",
              "    <path class=\"displacy-arrowhead\" d=\"M170,154.0 L162,142.0 178,142.0\" fill=\"currentColor\"/>\n",
              "</g>\n",
              "\n",
              "<g class=\"displacy-arrow\">\n",
              "    <path class=\"displacy-arc\" id=\"arrow-449fb3765ef84ee5bb4654d41bf37629-0-1\" stroke-width=\"2px\" d=\"M70,152.0 C70,52.0 245.0,52.0 245.0,152.0\" fill=\"none\" stroke=\"currentColor\"/>\n",
              "    <text dy=\"1.25em\" style=\"font-size: 0.8em; letter-spacing: 1px\">\n",
              "        <textPath xlink:href=\"#arrow-449fb3765ef84ee5bb4654d41bf37629-0-1\" class=\"displacy-label\" startOffset=\"50%\" side=\"left\" fill=\"currentColor\" text-anchor=\"middle\"> </textPath>\n",
              "    </text>\n",
              "    <path class=\"displacy-arrowhead\" d=\"M245.0,154.0 L253.0,142.0 237.0,142.0\" fill=\"currentColor\"/>\n",
              "</g>\n",
              "\n",
              "<g class=\"displacy-arrow\">\n",
              "    <path class=\"displacy-arc\" id=\"arrow-449fb3765ef84ee5bb4654d41bf37629-0-2\" stroke-width=\"2px\" d=\"M370,152.0 C370,102.0 440.0,102.0 440.0,152.0\" fill=\"none\" stroke=\"currentColor\"/>\n",
              "    <text dy=\"1.25em\" style=\"font-size: 0.8em; letter-spacing: 1px\">\n",
              "        <textPath xlink:href=\"#arrow-449fb3765ef84ee5bb4654d41bf37629-0-2\" class=\"displacy-label\" startOffset=\"50%\" side=\"left\" fill=\"currentColor\" text-anchor=\"middle\"> </textPath>\n",
              "    </text>\n",
              "    <path class=\"displacy-arrowhead\" d=\"M370,154.0 L362,142.0 378,142.0\" fill=\"currentColor\"/>\n",
              "</g>\n",
              "\n",
              "<g class=\"displacy-arrow\">\n",
              "    <path class=\"displacy-arc\" id=\"arrow-449fb3765ef84ee5bb4654d41bf37629-0-3\" stroke-width=\"2px\" d=\"M270,152.0 C270,52.0 445.0,52.0 445.0,152.0\" fill=\"none\" stroke=\"currentColor\"/>\n",
              "    <text dy=\"1.25em\" style=\"font-size: 0.8em; letter-spacing: 1px\">\n",
              "        <textPath xlink:href=\"#arrow-449fb3765ef84ee5bb4654d41bf37629-0-3\" class=\"displacy-label\" startOffset=\"50%\" side=\"left\" fill=\"currentColor\" text-anchor=\"middle\"> </textPath>\n",
              "    </text>\n",
              "    <path class=\"displacy-arrowhead\" d=\"M445.0,154.0 L453.0,142.0 437.0,142.0\" fill=\"currentColor\"/>\n",
              "</g>\n",
              "\n",
              "<g class=\"displacy-arrow\">\n",
              "    <path class=\"displacy-arc\" id=\"arrow-449fb3765ef84ee5bb4654d41bf37629-0-4\" stroke-width=\"2px\" d=\"M570,152.0 C570,102.0 640.0,102.0 640.0,152.0\" fill=\"none\" stroke=\"currentColor\"/>\n",
              "    <text dy=\"1.25em\" style=\"font-size: 0.8em; letter-spacing: 1px\">\n",
              "        <textPath xlink:href=\"#arrow-449fb3765ef84ee5bb4654d41bf37629-0-4\" class=\"displacy-label\" startOffset=\"50%\" side=\"left\" fill=\"currentColor\" text-anchor=\"middle\"> </textPath>\n",
              "    </text>\n",
              "    <path class=\"displacy-arrowhead\" d=\"M570,154.0 L562,142.0 578,142.0\" fill=\"currentColor\"/>\n",
              "</g>\n",
              "\n",
              "<g class=\"displacy-arrow\">\n",
              "    <path class=\"displacy-arc\" id=\"arrow-449fb3765ef84ee5bb4654d41bf37629-0-5\" stroke-width=\"2px\" d=\"M670,152.0 C670,102.0 740.0,102.0 740.0,152.0\" fill=\"none\" stroke=\"currentColor\"/>\n",
              "    <text dy=\"1.25em\" style=\"font-size: 0.8em; letter-spacing: 1px\">\n",
              "        <textPath xlink:href=\"#arrow-449fb3765ef84ee5bb4654d41bf37629-0-5\" class=\"displacy-label\" startOffset=\"50%\" side=\"left\" fill=\"currentColor\" text-anchor=\"middle\"> </textPath>\n",
              "    </text>\n",
              "    <path class=\"displacy-arrowhead\" d=\"M670,154.0 L662,142.0 678,142.0\" fill=\"currentColor\"/>\n",
              "</g>\n",
              "\n",
              "<g class=\"displacy-arrow\">\n",
              "    <path class=\"displacy-arc\" id=\"arrow-449fb3765ef84ee5bb4654d41bf37629-0-6\" stroke-width=\"2px\" d=\"M270,152.0 C270,2.0 750.0,2.0 750.0,152.0\" fill=\"none\" stroke=\"currentColor\"/>\n",
              "    <text dy=\"1.25em\" style=\"font-size: 0.8em; letter-spacing: 1px\">\n",
              "        <textPath xlink:href=\"#arrow-449fb3765ef84ee5bb4654d41bf37629-0-6\" class=\"displacy-label\" startOffset=\"50%\" side=\"left\" fill=\"currentColor\" text-anchor=\"middle\"> </textPath>\n",
              "    </text>\n",
              "    <path class=\"displacy-arrowhead\" d=\"M750.0,154.0 L758.0,142.0 742.0,142.0\" fill=\"currentColor\"/>\n",
              "</g>\n",
              "\n",
              "<g class=\"displacy-arrow\">\n",
              "    <path class=\"displacy-arc\" id=\"arrow-449fb3765ef84ee5bb4654d41bf37629-0-7\" stroke-width=\"2px\" d=\"M870,152.0 C870,102.0 940.0,102.0 940.0,152.0\" fill=\"none\" stroke=\"currentColor\"/>\n",
              "    <text dy=\"1.25em\" style=\"font-size: 0.8em; letter-spacing: 1px\">\n",
              "        <textPath xlink:href=\"#arrow-449fb3765ef84ee5bb4654d41bf37629-0-7\" class=\"displacy-label\" startOffset=\"50%\" side=\"left\" fill=\"currentColor\" text-anchor=\"middle\"> </textPath>\n",
              "    </text>\n",
              "    <path class=\"displacy-arrowhead\" d=\"M870,154.0 L862,142.0 878,142.0\" fill=\"currentColor\"/>\n",
              "</g>\n",
              "\n",
              "<g class=\"displacy-arrow\">\n",
              "    <path class=\"displacy-arc\" id=\"arrow-449fb3765ef84ee5bb4654d41bf37629-0-8\" stroke-width=\"2px\" d=\"M770,152.0 C770,52.0 945.0,52.0 945.0,152.0\" fill=\"none\" stroke=\"currentColor\"/>\n",
              "    <text dy=\"1.25em\" style=\"font-size: 0.8em; letter-spacing: 1px\">\n",
              "        <textPath xlink:href=\"#arrow-449fb3765ef84ee5bb4654d41bf37629-0-8\" class=\"displacy-label\" startOffset=\"50%\" side=\"left\" fill=\"currentColor\" text-anchor=\"middle\"> </textPath>\n",
              "    </text>\n",
              "    <path class=\"displacy-arrowhead\" d=\"M945.0,154.0 L953.0,142.0 937.0,142.0\" fill=\"currentColor\"/>\n",
              "</g>\n",
              "</svg></span>"
            ]
          },
          "metadata": {}
        }
      ]
    },
    {
      "cell_type": "markdown",
      "source": [
        "# Discussion\n",
        "\n",
        "In this section, we will **compare the performance of our two models**: Bi-LSTM, used as a baseline, and the BERT-based model. First, we will describe our approach in order to find the model with the best UAS score on the test set for each architecture. Then, we proceed with the comparison of both architectures. As we collected the metrics of our experiments using the Weight and Biases platform, we'll present the reports that gathered their results.\n",
        "\n",
        "Additionally, we will compare our implementations with the **current state-of-the-art results** on the chosen dataset."
      ],
      "metadata": {
        "id": "cEpBj-RaOC_-"
      }
    },
    {
      "cell_type": "markdown",
      "source": [
        "## Hyperparameter tuning"
      ],
      "metadata": {
        "id": "VAfd8MGewNVW"
      }
    },
    {
      "cell_type": "markdown",
      "source": [
        "### Bi-LSTM"
      ],
      "metadata": {
        "id": "WH1go7BYKnzH"
      }
    },
    {
      "cell_type": "code",
      "source": [
        "HTML('<iframe src=\"https://wandb.ai/unipd-ds/NLP_ArcEager/reports/Hyperparameter-tuning-I---Vmlldzo2Nzg5NDg2\" frameborder=\"0\" width=\"2000\" height=\"1600\"></iframe>')"
      ],
      "metadata": {
        "colab": {
          "base_uri": "https://localhost:8080/",
          "height": 1000
        },
        "id": "LOx4dK9gKGXB",
        "outputId": "4abc3e67-bffa-483f-b5fe-e62efa80d08e"
      },
      "execution_count": null,
      "outputs": [
        {
          "output_type": "execute_result",
          "data": {
            "text/plain": [
              "<IPython.core.display.HTML object>"
            ],
            "text/html": [
              "<iframe src=\"https://wandb.ai/unipd-ds/NLP_ArcEager/reports/Hyperparameter-tuning-I---Vmlldzo2Nzg5NDg2\" frameborder=\"0\" width=\"2000\" height=\"1600\"></iframe>"
            ]
          },
          "metadata": {},
          "execution_count": 5
        }
      ]
    },
    {
      "cell_type": "markdown",
      "source": [
        "### BERT-based model"
      ],
      "metadata": {
        "id": "4MKJADAPnRi1"
      }
    },
    {
      "cell_type": "code",
      "source": [
        "HTML('<iframe src=\"https://wandb.ai/unipd-ds/NLP_ArcEager/reports/-Hyperparameter-tuning-II---Vmlldzo2NzkwMTgz\" frameborder=\"0\" width=\"2000\" height=\"1600\"></iframe>')"
      ],
      "metadata": {
        "colab": {
          "base_uri": "https://localhost:8080/",
          "height": 1000
        },
        "id": "n_g2BBc9I1_L",
        "outputId": "2b8c887a-9910-4ac4-8f31-e1452842518a"
      },
      "execution_count": null,
      "outputs": [
        {
          "output_type": "stream",
          "name": "stderr",
          "text": [
            "/usr/local/lib/python3.10/dist-packages/IPython/core/display.py:724: UserWarning: Consider using IPython.display.IFrame instead\n",
            "  warnings.warn(\"Consider using IPython.display.IFrame instead\")\n"
          ]
        },
        {
          "output_type": "execute_result",
          "data": {
            "text/plain": [
              "<IPython.core.display.HTML object>"
            ],
            "text/html": [
              "<iframe src=\"https://wandb.ai/unipd-ds/NLP_ArcEager/reports/-Hyperparameter-tuning-II---Vmlldzo2NzkwMTgz\" frameborder=\"0\" width=\"2000\" height=\"1600\"></iframe>"
            ]
          },
          "metadata": {},
          "execution_count": 1
        }
      ]
    },
    {
      "cell_type": "markdown",
      "source": [
        "## Models comparison"
      ],
      "metadata": {
        "id": "iP0vZF8JJpm2"
      }
    },
    {
      "cell_type": "code",
      "source": [
        "HTML('<iframe src=\"https://wandb.ai/unipd-ds/NLP_ArcEager/reports/Comparison-between-BiLSTM-and-BERT--Vmlldzo2Nzg5ODI0\" frameborder=\"0\" width=\"2000\" height=\"1600\"></iframe>')"
      ],
      "metadata": {
        "colab": {
          "base_uri": "https://localhost:8080/",
          "height": 1000
        },
        "id": "zoWTR22fJ1CW",
        "outputId": "6cc63b47-06f7-4dc8-bf9e-c8b062c4d733"
      },
      "execution_count": null,
      "outputs": [
        {
          "output_type": "execute_result",
          "data": {
            "text/plain": [
              "<IPython.core.display.HTML object>"
            ],
            "text/html": [
              "<iframe src=\"https://wandb.ai/unipd-ds/NLP_ArcEager/reports/Comparison-between-BiLSTM-and-BERT--Vmlldzo2Nzg5ODI0\" frameborder=\"0\" width=\"2000\" height=\"1600\"></iframe>"
            ]
          },
          "metadata": {},
          "execution_count": 4
        }
      ]
    },
    {
      "cell_type": "markdown",
      "source": [
        "# State-of-the-Art"
      ],
      "metadata": {
        "id": "vD0Y4LqIsvnW"
      }
    },
    {
      "cell_type": "markdown",
      "source": [
        "For the chosen UD treebank (en-LinES) we collected the latest information on the improvements of the evaluation metric UAS (Unlabeled Attachment Score) for dependency parsing:\n",
        "\n"
      ],
      "metadata": {
        "id": "kOosdRi9dFuw"
      }
    },
    {
      "cell_type": "markdown",
      "source": [
        "\n",
        "\n",
        "| Model  | UAS | Source                                               |\n",
        "|--------|-------|------------------------------------------------------|\n",
        "| UDPipe 2 | 91.32 | [Source 1](https://ufal.mff.cuni.cz/udpipe/2/models) |\n",
        "| Udify  | 89.56 | [Source 2](https://aclanthology.org/2021.sigtyp-1.5.pdf) |\n",
        "| Stanza 1.5 | 88.67 | [Source 3](https://stanfordnlp.github.io/stanza/performance.html) |\n",
        "| UDPipe | 84.79 | [Source 4](https://aclanthology.org/2021.sigtyp-1.5.pdf) |\n",
        "\n",
        "\n"
      ],
      "metadata": {
        "id": "h6SNqPCCsysI"
      }
    },
    {
      "cell_type": "markdown",
      "source": [
        "Related to the first and third-ranked tools, UDPipe 2 and Stanza 1.5, the evaluation metric was generated using the Universal Dependencies version 2.12 (released in the latter half of 2023). These values were generated using the CoNLL 2018 UD shared task official evaluation script. This data was obtained from these toolkits official website.\n",
        "\n",
        "Additionally, the UAS scores for Udify and UDPipe were obtained from a paper published in the 2021 SIGTYP workshop: \"[Improving the performance of UDify with Linguistic Typology Knowledge](https://aclanthology.org/2021.sigtyp-1.5/)\""
      ],
      "metadata": {
        "id": "fdxYziuEj_3_"
      }
    }
  ],
  "metadata": {
    "kernelspec": {
      "display_name": "Python 3",
      "name": "python3"
    },
    "language_info": {
      "codemirror_mode": {
        "name": "ipython",
        "version": 2
      },
      "file_extension": ".py",
      "mimetype": "text/x-python",
      "name": "python",
      "nbconvert_exporter": "python",
      "pygments_lexer": "ipython2",
      "version": "2.7.6"
    },
    "colab": {
      "provenance": [],
      "gpuType": "T4",
      "collapsed_sections": [
        "xD6h-DPUN8tF",
        "WH1go7BYKnzH",
        "4MKJADAPnRi1",
        "iP0vZF8JJpm2"
      ],
      "toc_visible": true
    },
    "accelerator": "GPU",
    "widgets": {
      "application/vnd.jupyter.widget-state+json": {
        "fec7bb6b436f46a6819a24ae5f41111d": {
          "model_module": "@jupyter-widgets/controls",
          "model_name": "HBoxModel",
          "model_module_version": "1.5.0",
          "state": {
            "_dom_classes": [],
            "_model_module": "@jupyter-widgets/controls",
            "_model_module_version": "1.5.0",
            "_model_name": "HBoxModel",
            "_view_count": null,
            "_view_module": "@jupyter-widgets/controls",
            "_view_module_version": "1.5.0",
            "_view_name": "HBoxView",
            "box_style": "",
            "children": [
              "IPY_MODEL_02981e8d25cf44e69fa64749173866fb",
              "IPY_MODEL_2d115b8261694bc48231661f6344b1ba",
              "IPY_MODEL_e97891a194f7455f9fe029a829bdced8"
            ],
            "layout": "IPY_MODEL_87f57527613d4901b23003d56a2c6e7c"
          }
        },
        "02981e8d25cf44e69fa64749173866fb": {
          "model_module": "@jupyter-widgets/controls",
          "model_name": "HTMLModel",
          "model_module_version": "1.5.0",
          "state": {
            "_dom_classes": [],
            "_model_module": "@jupyter-widgets/controls",
            "_model_module_version": "1.5.0",
            "_model_name": "HTMLModel",
            "_view_count": null,
            "_view_module": "@jupyter-widgets/controls",
            "_view_module_version": "1.5.0",
            "_view_name": "HTMLView",
            "description": "",
            "description_tooltip": null,
            "layout": "IPY_MODEL_4dafb533f1874c54948ff2afe3920409",
            "placeholder": "​",
            "style": "IPY_MODEL_8d84a07aa4174a51ad1c693e8d213308",
            "value": "tokenizer_config.json: 100%"
          }
        },
        "2d115b8261694bc48231661f6344b1ba": {
          "model_module": "@jupyter-widgets/controls",
          "model_name": "FloatProgressModel",
          "model_module_version": "1.5.0",
          "state": {
            "_dom_classes": [],
            "_model_module": "@jupyter-widgets/controls",
            "_model_module_version": "1.5.0",
            "_model_name": "FloatProgressModel",
            "_view_count": null,
            "_view_module": "@jupyter-widgets/controls",
            "_view_module_version": "1.5.0",
            "_view_name": "ProgressView",
            "bar_style": "success",
            "description": "",
            "description_tooltip": null,
            "layout": "IPY_MODEL_829a1ea216914632bf584e8fa1be2916",
            "max": 28,
            "min": 0,
            "orientation": "horizontal",
            "style": "IPY_MODEL_abb1364fee4e46f7a21ad516686b7842",
            "value": 28
          }
        },
        "e97891a194f7455f9fe029a829bdced8": {
          "model_module": "@jupyter-widgets/controls",
          "model_name": "HTMLModel",
          "model_module_version": "1.5.0",
          "state": {
            "_dom_classes": [],
            "_model_module": "@jupyter-widgets/controls",
            "_model_module_version": "1.5.0",
            "_model_name": "HTMLModel",
            "_view_count": null,
            "_view_module": "@jupyter-widgets/controls",
            "_view_module_version": "1.5.0",
            "_view_name": "HTMLView",
            "description": "",
            "description_tooltip": null,
            "layout": "IPY_MODEL_13935e16ab8242cdbd9fa512bd0b399f",
            "placeholder": "​",
            "style": "IPY_MODEL_43e4ab24e1f343abae2dae4167dd5f20",
            "value": " 28.0/28.0 [00:00&lt;00:00, 643B/s]"
          }
        },
        "87f57527613d4901b23003d56a2c6e7c": {
          "model_module": "@jupyter-widgets/base",
          "model_name": "LayoutModel",
          "model_module_version": "1.2.0",
          "state": {
            "_model_module": "@jupyter-widgets/base",
            "_model_module_version": "1.2.0",
            "_model_name": "LayoutModel",
            "_view_count": null,
            "_view_module": "@jupyter-widgets/base",
            "_view_module_version": "1.2.0",
            "_view_name": "LayoutView",
            "align_content": null,
            "align_items": null,
            "align_self": null,
            "border": null,
            "bottom": null,
            "display": null,
            "flex": null,
            "flex_flow": null,
            "grid_area": null,
            "grid_auto_columns": null,
            "grid_auto_flow": null,
            "grid_auto_rows": null,
            "grid_column": null,
            "grid_gap": null,
            "grid_row": null,
            "grid_template_areas": null,
            "grid_template_columns": null,
            "grid_template_rows": null,
            "height": null,
            "justify_content": null,
            "justify_items": null,
            "left": null,
            "margin": null,
            "max_height": null,
            "max_width": null,
            "min_height": null,
            "min_width": null,
            "object_fit": null,
            "object_position": null,
            "order": null,
            "overflow": null,
            "overflow_x": null,
            "overflow_y": null,
            "padding": null,
            "right": null,
            "top": null,
            "visibility": null,
            "width": null
          }
        },
        "4dafb533f1874c54948ff2afe3920409": {
          "model_module": "@jupyter-widgets/base",
          "model_name": "LayoutModel",
          "model_module_version": "1.2.0",
          "state": {
            "_model_module": "@jupyter-widgets/base",
            "_model_module_version": "1.2.0",
            "_model_name": "LayoutModel",
            "_view_count": null,
            "_view_module": "@jupyter-widgets/base",
            "_view_module_version": "1.2.0",
            "_view_name": "LayoutView",
            "align_content": null,
            "align_items": null,
            "align_self": null,
            "border": null,
            "bottom": null,
            "display": null,
            "flex": null,
            "flex_flow": null,
            "grid_area": null,
            "grid_auto_columns": null,
            "grid_auto_flow": null,
            "grid_auto_rows": null,
            "grid_column": null,
            "grid_gap": null,
            "grid_row": null,
            "grid_template_areas": null,
            "grid_template_columns": null,
            "grid_template_rows": null,
            "height": null,
            "justify_content": null,
            "justify_items": null,
            "left": null,
            "margin": null,
            "max_height": null,
            "max_width": null,
            "min_height": null,
            "min_width": null,
            "object_fit": null,
            "object_position": null,
            "order": null,
            "overflow": null,
            "overflow_x": null,
            "overflow_y": null,
            "padding": null,
            "right": null,
            "top": null,
            "visibility": null,
            "width": null
          }
        },
        "8d84a07aa4174a51ad1c693e8d213308": {
          "model_module": "@jupyter-widgets/controls",
          "model_name": "DescriptionStyleModel",
          "model_module_version": "1.5.0",
          "state": {
            "_model_module": "@jupyter-widgets/controls",
            "_model_module_version": "1.5.0",
            "_model_name": "DescriptionStyleModel",
            "_view_count": null,
            "_view_module": "@jupyter-widgets/base",
            "_view_module_version": "1.2.0",
            "_view_name": "StyleView",
            "description_width": ""
          }
        },
        "829a1ea216914632bf584e8fa1be2916": {
          "model_module": "@jupyter-widgets/base",
          "model_name": "LayoutModel",
          "model_module_version": "1.2.0",
          "state": {
            "_model_module": "@jupyter-widgets/base",
            "_model_module_version": "1.2.0",
            "_model_name": "LayoutModel",
            "_view_count": null,
            "_view_module": "@jupyter-widgets/base",
            "_view_module_version": "1.2.0",
            "_view_name": "LayoutView",
            "align_content": null,
            "align_items": null,
            "align_self": null,
            "border": null,
            "bottom": null,
            "display": null,
            "flex": null,
            "flex_flow": null,
            "grid_area": null,
            "grid_auto_columns": null,
            "grid_auto_flow": null,
            "grid_auto_rows": null,
            "grid_column": null,
            "grid_gap": null,
            "grid_row": null,
            "grid_template_areas": null,
            "grid_template_columns": null,
            "grid_template_rows": null,
            "height": null,
            "justify_content": null,
            "justify_items": null,
            "left": null,
            "margin": null,
            "max_height": null,
            "max_width": null,
            "min_height": null,
            "min_width": null,
            "object_fit": null,
            "object_position": null,
            "order": null,
            "overflow": null,
            "overflow_x": null,
            "overflow_y": null,
            "padding": null,
            "right": null,
            "top": null,
            "visibility": null,
            "width": null
          }
        },
        "abb1364fee4e46f7a21ad516686b7842": {
          "model_module": "@jupyter-widgets/controls",
          "model_name": "ProgressStyleModel",
          "model_module_version": "1.5.0",
          "state": {
            "_model_module": "@jupyter-widgets/controls",
            "_model_module_version": "1.5.0",
            "_model_name": "ProgressStyleModel",
            "_view_count": null,
            "_view_module": "@jupyter-widgets/base",
            "_view_module_version": "1.2.0",
            "_view_name": "StyleView",
            "bar_color": null,
            "description_width": ""
          }
        },
        "13935e16ab8242cdbd9fa512bd0b399f": {
          "model_module": "@jupyter-widgets/base",
          "model_name": "LayoutModel",
          "model_module_version": "1.2.0",
          "state": {
            "_model_module": "@jupyter-widgets/base",
            "_model_module_version": "1.2.0",
            "_model_name": "LayoutModel",
            "_view_count": null,
            "_view_module": "@jupyter-widgets/base",
            "_view_module_version": "1.2.0",
            "_view_name": "LayoutView",
            "align_content": null,
            "align_items": null,
            "align_self": null,
            "border": null,
            "bottom": null,
            "display": null,
            "flex": null,
            "flex_flow": null,
            "grid_area": null,
            "grid_auto_columns": null,
            "grid_auto_flow": null,
            "grid_auto_rows": null,
            "grid_column": null,
            "grid_gap": null,
            "grid_row": null,
            "grid_template_areas": null,
            "grid_template_columns": null,
            "grid_template_rows": null,
            "height": null,
            "justify_content": null,
            "justify_items": null,
            "left": null,
            "margin": null,
            "max_height": null,
            "max_width": null,
            "min_height": null,
            "min_width": null,
            "object_fit": null,
            "object_position": null,
            "order": null,
            "overflow": null,
            "overflow_x": null,
            "overflow_y": null,
            "padding": null,
            "right": null,
            "top": null,
            "visibility": null,
            "width": null
          }
        },
        "43e4ab24e1f343abae2dae4167dd5f20": {
          "model_module": "@jupyter-widgets/controls",
          "model_name": "DescriptionStyleModel",
          "model_module_version": "1.5.0",
          "state": {
            "_model_module": "@jupyter-widgets/controls",
            "_model_module_version": "1.5.0",
            "_model_name": "DescriptionStyleModel",
            "_view_count": null,
            "_view_module": "@jupyter-widgets/base",
            "_view_module_version": "1.2.0",
            "_view_name": "StyleView",
            "description_width": ""
          }
        },
        "7d7b552b641640719e47121e970412bd": {
          "model_module": "@jupyter-widgets/controls",
          "model_name": "HBoxModel",
          "model_module_version": "1.5.0",
          "state": {
            "_dom_classes": [],
            "_model_module": "@jupyter-widgets/controls",
            "_model_module_version": "1.5.0",
            "_model_name": "HBoxModel",
            "_view_count": null,
            "_view_module": "@jupyter-widgets/controls",
            "_view_module_version": "1.5.0",
            "_view_name": "HBoxView",
            "box_style": "",
            "children": [
              "IPY_MODEL_1d45e8c23e1742c6b32aed7543804a28",
              "IPY_MODEL_c3a6d12dc0fe47e5be49224e02fb23fd",
              "IPY_MODEL_bd8ef00757d64de1983327b8c037e076"
            ],
            "layout": "IPY_MODEL_13a8e7d870e745978acd62b99b130601"
          }
        },
        "1d45e8c23e1742c6b32aed7543804a28": {
          "model_module": "@jupyter-widgets/controls",
          "model_name": "HTMLModel",
          "model_module_version": "1.5.0",
          "state": {
            "_dom_classes": [],
            "_model_module": "@jupyter-widgets/controls",
            "_model_module_version": "1.5.0",
            "_model_name": "HTMLModel",
            "_view_count": null,
            "_view_module": "@jupyter-widgets/controls",
            "_view_module_version": "1.5.0",
            "_view_name": "HTMLView",
            "description": "",
            "description_tooltip": null,
            "layout": "IPY_MODEL_1cbce809efe340f79890514e5043ead1",
            "placeholder": "​",
            "style": "IPY_MODEL_5da4259810ba4b869ccf4f67a33c4681",
            "value": "config.json: 100%"
          }
        },
        "c3a6d12dc0fe47e5be49224e02fb23fd": {
          "model_module": "@jupyter-widgets/controls",
          "model_name": "FloatProgressModel",
          "model_module_version": "1.5.0",
          "state": {
            "_dom_classes": [],
            "_model_module": "@jupyter-widgets/controls",
            "_model_module_version": "1.5.0",
            "_model_name": "FloatProgressModel",
            "_view_count": null,
            "_view_module": "@jupyter-widgets/controls",
            "_view_module_version": "1.5.0",
            "_view_name": "ProgressView",
            "bar_style": "success",
            "description": "",
            "description_tooltip": null,
            "layout": "IPY_MODEL_fec16c37ad73409a854f68d2578ec474",
            "max": 625,
            "min": 0,
            "orientation": "horizontal",
            "style": "IPY_MODEL_c47faac2e40e45df93c27fb47f76898e",
            "value": 625
          }
        },
        "bd8ef00757d64de1983327b8c037e076": {
          "model_module": "@jupyter-widgets/controls",
          "model_name": "HTMLModel",
          "model_module_version": "1.5.0",
          "state": {
            "_dom_classes": [],
            "_model_module": "@jupyter-widgets/controls",
            "_model_module_version": "1.5.0",
            "_model_name": "HTMLModel",
            "_view_count": null,
            "_view_module": "@jupyter-widgets/controls",
            "_view_module_version": "1.5.0",
            "_view_name": "HTMLView",
            "description": "",
            "description_tooltip": null,
            "layout": "IPY_MODEL_f44ea5b3a9c1412bbb5198aa1103f708",
            "placeholder": "​",
            "style": "IPY_MODEL_2242e1b1bdc94ea7abd381f58f0c91e4",
            "value": " 625/625 [00:00&lt;00:00, 14.9kB/s]"
          }
        },
        "13a8e7d870e745978acd62b99b130601": {
          "model_module": "@jupyter-widgets/base",
          "model_name": "LayoutModel",
          "model_module_version": "1.2.0",
          "state": {
            "_model_module": "@jupyter-widgets/base",
            "_model_module_version": "1.2.0",
            "_model_name": "LayoutModel",
            "_view_count": null,
            "_view_module": "@jupyter-widgets/base",
            "_view_module_version": "1.2.0",
            "_view_name": "LayoutView",
            "align_content": null,
            "align_items": null,
            "align_self": null,
            "border": null,
            "bottom": null,
            "display": null,
            "flex": null,
            "flex_flow": null,
            "grid_area": null,
            "grid_auto_columns": null,
            "grid_auto_flow": null,
            "grid_auto_rows": null,
            "grid_column": null,
            "grid_gap": null,
            "grid_row": null,
            "grid_template_areas": null,
            "grid_template_columns": null,
            "grid_template_rows": null,
            "height": null,
            "justify_content": null,
            "justify_items": null,
            "left": null,
            "margin": null,
            "max_height": null,
            "max_width": null,
            "min_height": null,
            "min_width": null,
            "object_fit": null,
            "object_position": null,
            "order": null,
            "overflow": null,
            "overflow_x": null,
            "overflow_y": null,
            "padding": null,
            "right": null,
            "top": null,
            "visibility": null,
            "width": null
          }
        },
        "1cbce809efe340f79890514e5043ead1": {
          "model_module": "@jupyter-widgets/base",
          "model_name": "LayoutModel",
          "model_module_version": "1.2.0",
          "state": {
            "_model_module": "@jupyter-widgets/base",
            "_model_module_version": "1.2.0",
            "_model_name": "LayoutModel",
            "_view_count": null,
            "_view_module": "@jupyter-widgets/base",
            "_view_module_version": "1.2.0",
            "_view_name": "LayoutView",
            "align_content": null,
            "align_items": null,
            "align_self": null,
            "border": null,
            "bottom": null,
            "display": null,
            "flex": null,
            "flex_flow": null,
            "grid_area": null,
            "grid_auto_columns": null,
            "grid_auto_flow": null,
            "grid_auto_rows": null,
            "grid_column": null,
            "grid_gap": null,
            "grid_row": null,
            "grid_template_areas": null,
            "grid_template_columns": null,
            "grid_template_rows": null,
            "height": null,
            "justify_content": null,
            "justify_items": null,
            "left": null,
            "margin": null,
            "max_height": null,
            "max_width": null,
            "min_height": null,
            "min_width": null,
            "object_fit": null,
            "object_position": null,
            "order": null,
            "overflow": null,
            "overflow_x": null,
            "overflow_y": null,
            "padding": null,
            "right": null,
            "top": null,
            "visibility": null,
            "width": null
          }
        },
        "5da4259810ba4b869ccf4f67a33c4681": {
          "model_module": "@jupyter-widgets/controls",
          "model_name": "DescriptionStyleModel",
          "model_module_version": "1.5.0",
          "state": {
            "_model_module": "@jupyter-widgets/controls",
            "_model_module_version": "1.5.0",
            "_model_name": "DescriptionStyleModel",
            "_view_count": null,
            "_view_module": "@jupyter-widgets/base",
            "_view_module_version": "1.2.0",
            "_view_name": "StyleView",
            "description_width": ""
          }
        },
        "fec16c37ad73409a854f68d2578ec474": {
          "model_module": "@jupyter-widgets/base",
          "model_name": "LayoutModel",
          "model_module_version": "1.2.0",
          "state": {
            "_model_module": "@jupyter-widgets/base",
            "_model_module_version": "1.2.0",
            "_model_name": "LayoutModel",
            "_view_count": null,
            "_view_module": "@jupyter-widgets/base",
            "_view_module_version": "1.2.0",
            "_view_name": "LayoutView",
            "align_content": null,
            "align_items": null,
            "align_self": null,
            "border": null,
            "bottom": null,
            "display": null,
            "flex": null,
            "flex_flow": null,
            "grid_area": null,
            "grid_auto_columns": null,
            "grid_auto_flow": null,
            "grid_auto_rows": null,
            "grid_column": null,
            "grid_gap": null,
            "grid_row": null,
            "grid_template_areas": null,
            "grid_template_columns": null,
            "grid_template_rows": null,
            "height": null,
            "justify_content": null,
            "justify_items": null,
            "left": null,
            "margin": null,
            "max_height": null,
            "max_width": null,
            "min_height": null,
            "min_width": null,
            "object_fit": null,
            "object_position": null,
            "order": null,
            "overflow": null,
            "overflow_x": null,
            "overflow_y": null,
            "padding": null,
            "right": null,
            "top": null,
            "visibility": null,
            "width": null
          }
        },
        "c47faac2e40e45df93c27fb47f76898e": {
          "model_module": "@jupyter-widgets/controls",
          "model_name": "ProgressStyleModel",
          "model_module_version": "1.5.0",
          "state": {
            "_model_module": "@jupyter-widgets/controls",
            "_model_module_version": "1.5.0",
            "_model_name": "ProgressStyleModel",
            "_view_count": null,
            "_view_module": "@jupyter-widgets/base",
            "_view_module_version": "1.2.0",
            "_view_name": "StyleView",
            "bar_color": null,
            "description_width": ""
          }
        },
        "f44ea5b3a9c1412bbb5198aa1103f708": {
          "model_module": "@jupyter-widgets/base",
          "model_name": "LayoutModel",
          "model_module_version": "1.2.0",
          "state": {
            "_model_module": "@jupyter-widgets/base",
            "_model_module_version": "1.2.0",
            "_model_name": "LayoutModel",
            "_view_count": null,
            "_view_module": "@jupyter-widgets/base",
            "_view_module_version": "1.2.0",
            "_view_name": "LayoutView",
            "align_content": null,
            "align_items": null,
            "align_self": null,
            "border": null,
            "bottom": null,
            "display": null,
            "flex": null,
            "flex_flow": null,
            "grid_area": null,
            "grid_auto_columns": null,
            "grid_auto_flow": null,
            "grid_auto_rows": null,
            "grid_column": null,
            "grid_gap": null,
            "grid_row": null,
            "grid_template_areas": null,
            "grid_template_columns": null,
            "grid_template_rows": null,
            "height": null,
            "justify_content": null,
            "justify_items": null,
            "left": null,
            "margin": null,
            "max_height": null,
            "max_width": null,
            "min_height": null,
            "min_width": null,
            "object_fit": null,
            "object_position": null,
            "order": null,
            "overflow": null,
            "overflow_x": null,
            "overflow_y": null,
            "padding": null,
            "right": null,
            "top": null,
            "visibility": null,
            "width": null
          }
        },
        "2242e1b1bdc94ea7abd381f58f0c91e4": {
          "model_module": "@jupyter-widgets/controls",
          "model_name": "DescriptionStyleModel",
          "model_module_version": "1.5.0",
          "state": {
            "_model_module": "@jupyter-widgets/controls",
            "_model_module_version": "1.5.0",
            "_model_name": "DescriptionStyleModel",
            "_view_count": null,
            "_view_module": "@jupyter-widgets/base",
            "_view_module_version": "1.2.0",
            "_view_name": "StyleView",
            "description_width": ""
          }
        },
        "e8c42897fa0742a2be50062679c43a14": {
          "model_module": "@jupyter-widgets/controls",
          "model_name": "HBoxModel",
          "model_module_version": "1.5.0",
          "state": {
            "_dom_classes": [],
            "_model_module": "@jupyter-widgets/controls",
            "_model_module_version": "1.5.0",
            "_model_name": "HBoxModel",
            "_view_count": null,
            "_view_module": "@jupyter-widgets/controls",
            "_view_module_version": "1.5.0",
            "_view_name": "HBoxView",
            "box_style": "",
            "children": [
              "IPY_MODEL_940886e078ff4205854721aa20eac1bd",
              "IPY_MODEL_4038b775c9a74be7891dec092957d3e8",
              "IPY_MODEL_3886de5f492744f39b1e6b460362014a"
            ],
            "layout": "IPY_MODEL_e08cbf167c6b4027ac44812e1e4836b9"
          }
        },
        "940886e078ff4205854721aa20eac1bd": {
          "model_module": "@jupyter-widgets/controls",
          "model_name": "HTMLModel",
          "model_module_version": "1.5.0",
          "state": {
            "_dom_classes": [],
            "_model_module": "@jupyter-widgets/controls",
            "_model_module_version": "1.5.0",
            "_model_name": "HTMLModel",
            "_view_count": null,
            "_view_module": "@jupyter-widgets/controls",
            "_view_module_version": "1.5.0",
            "_view_name": "HTMLView",
            "description": "",
            "description_tooltip": null,
            "layout": "IPY_MODEL_eec025c2613e42b18e3025dcae27cf72",
            "placeholder": "​",
            "style": "IPY_MODEL_d303c248581a477dbdbde54110915790",
            "value": "vocab.txt: 100%"
          }
        },
        "4038b775c9a74be7891dec092957d3e8": {
          "model_module": "@jupyter-widgets/controls",
          "model_name": "FloatProgressModel",
          "model_module_version": "1.5.0",
          "state": {
            "_dom_classes": [],
            "_model_module": "@jupyter-widgets/controls",
            "_model_module_version": "1.5.0",
            "_model_name": "FloatProgressModel",
            "_view_count": null,
            "_view_module": "@jupyter-widgets/controls",
            "_view_module_version": "1.5.0",
            "_view_name": "ProgressView",
            "bar_style": "success",
            "description": "",
            "description_tooltip": null,
            "layout": "IPY_MODEL_d5b0aed385b34df2b1740e4a89663a1e",
            "max": 871891,
            "min": 0,
            "orientation": "horizontal",
            "style": "IPY_MODEL_7082143c9e4642d0ae7ff5a378dd3391",
            "value": 871891
          }
        },
        "3886de5f492744f39b1e6b460362014a": {
          "model_module": "@jupyter-widgets/controls",
          "model_name": "HTMLModel",
          "model_module_version": "1.5.0",
          "state": {
            "_dom_classes": [],
            "_model_module": "@jupyter-widgets/controls",
            "_model_module_version": "1.5.0",
            "_model_name": "HTMLModel",
            "_view_count": null,
            "_view_module": "@jupyter-widgets/controls",
            "_view_module_version": "1.5.0",
            "_view_name": "HTMLView",
            "description": "",
            "description_tooltip": null,
            "layout": "IPY_MODEL_d17674c9b0cf437198661d83f6646767",
            "placeholder": "​",
            "style": "IPY_MODEL_f4bc0979669947a4a343d69a3ca1859d",
            "value": " 872k/872k [00:00&lt;00:00, 5.64MB/s]"
          }
        },
        "e08cbf167c6b4027ac44812e1e4836b9": {
          "model_module": "@jupyter-widgets/base",
          "model_name": "LayoutModel",
          "model_module_version": "1.2.0",
          "state": {
            "_model_module": "@jupyter-widgets/base",
            "_model_module_version": "1.2.0",
            "_model_name": "LayoutModel",
            "_view_count": null,
            "_view_module": "@jupyter-widgets/base",
            "_view_module_version": "1.2.0",
            "_view_name": "LayoutView",
            "align_content": null,
            "align_items": null,
            "align_self": null,
            "border": null,
            "bottom": null,
            "display": null,
            "flex": null,
            "flex_flow": null,
            "grid_area": null,
            "grid_auto_columns": null,
            "grid_auto_flow": null,
            "grid_auto_rows": null,
            "grid_column": null,
            "grid_gap": null,
            "grid_row": null,
            "grid_template_areas": null,
            "grid_template_columns": null,
            "grid_template_rows": null,
            "height": null,
            "justify_content": null,
            "justify_items": null,
            "left": null,
            "margin": null,
            "max_height": null,
            "max_width": null,
            "min_height": null,
            "min_width": null,
            "object_fit": null,
            "object_position": null,
            "order": null,
            "overflow": null,
            "overflow_x": null,
            "overflow_y": null,
            "padding": null,
            "right": null,
            "top": null,
            "visibility": null,
            "width": null
          }
        },
        "eec025c2613e42b18e3025dcae27cf72": {
          "model_module": "@jupyter-widgets/base",
          "model_name": "LayoutModel",
          "model_module_version": "1.2.0",
          "state": {
            "_model_module": "@jupyter-widgets/base",
            "_model_module_version": "1.2.0",
            "_model_name": "LayoutModel",
            "_view_count": null,
            "_view_module": "@jupyter-widgets/base",
            "_view_module_version": "1.2.0",
            "_view_name": "LayoutView",
            "align_content": null,
            "align_items": null,
            "align_self": null,
            "border": null,
            "bottom": null,
            "display": null,
            "flex": null,
            "flex_flow": null,
            "grid_area": null,
            "grid_auto_columns": null,
            "grid_auto_flow": null,
            "grid_auto_rows": null,
            "grid_column": null,
            "grid_gap": null,
            "grid_row": null,
            "grid_template_areas": null,
            "grid_template_columns": null,
            "grid_template_rows": null,
            "height": null,
            "justify_content": null,
            "justify_items": null,
            "left": null,
            "margin": null,
            "max_height": null,
            "max_width": null,
            "min_height": null,
            "min_width": null,
            "object_fit": null,
            "object_position": null,
            "order": null,
            "overflow": null,
            "overflow_x": null,
            "overflow_y": null,
            "padding": null,
            "right": null,
            "top": null,
            "visibility": null,
            "width": null
          }
        },
        "d303c248581a477dbdbde54110915790": {
          "model_module": "@jupyter-widgets/controls",
          "model_name": "DescriptionStyleModel",
          "model_module_version": "1.5.0",
          "state": {
            "_model_module": "@jupyter-widgets/controls",
            "_model_module_version": "1.5.0",
            "_model_name": "DescriptionStyleModel",
            "_view_count": null,
            "_view_module": "@jupyter-widgets/base",
            "_view_module_version": "1.2.0",
            "_view_name": "StyleView",
            "description_width": ""
          }
        },
        "d5b0aed385b34df2b1740e4a89663a1e": {
          "model_module": "@jupyter-widgets/base",
          "model_name": "LayoutModel",
          "model_module_version": "1.2.0",
          "state": {
            "_model_module": "@jupyter-widgets/base",
            "_model_module_version": "1.2.0",
            "_model_name": "LayoutModel",
            "_view_count": null,
            "_view_module": "@jupyter-widgets/base",
            "_view_module_version": "1.2.0",
            "_view_name": "LayoutView",
            "align_content": null,
            "align_items": null,
            "align_self": null,
            "border": null,
            "bottom": null,
            "display": null,
            "flex": null,
            "flex_flow": null,
            "grid_area": null,
            "grid_auto_columns": null,
            "grid_auto_flow": null,
            "grid_auto_rows": null,
            "grid_column": null,
            "grid_gap": null,
            "grid_row": null,
            "grid_template_areas": null,
            "grid_template_columns": null,
            "grid_template_rows": null,
            "height": null,
            "justify_content": null,
            "justify_items": null,
            "left": null,
            "margin": null,
            "max_height": null,
            "max_width": null,
            "min_height": null,
            "min_width": null,
            "object_fit": null,
            "object_position": null,
            "order": null,
            "overflow": null,
            "overflow_x": null,
            "overflow_y": null,
            "padding": null,
            "right": null,
            "top": null,
            "visibility": null,
            "width": null
          }
        },
        "7082143c9e4642d0ae7ff5a378dd3391": {
          "model_module": "@jupyter-widgets/controls",
          "model_name": "ProgressStyleModel",
          "model_module_version": "1.5.0",
          "state": {
            "_model_module": "@jupyter-widgets/controls",
            "_model_module_version": "1.5.0",
            "_model_name": "ProgressStyleModel",
            "_view_count": null,
            "_view_module": "@jupyter-widgets/base",
            "_view_module_version": "1.2.0",
            "_view_name": "StyleView",
            "bar_color": null,
            "description_width": ""
          }
        },
        "d17674c9b0cf437198661d83f6646767": {
          "model_module": "@jupyter-widgets/base",
          "model_name": "LayoutModel",
          "model_module_version": "1.2.0",
          "state": {
            "_model_module": "@jupyter-widgets/base",
            "_model_module_version": "1.2.0",
            "_model_name": "LayoutModel",
            "_view_count": null,
            "_view_module": "@jupyter-widgets/base",
            "_view_module_version": "1.2.0",
            "_view_name": "LayoutView",
            "align_content": null,
            "align_items": null,
            "align_self": null,
            "border": null,
            "bottom": null,
            "display": null,
            "flex": null,
            "flex_flow": null,
            "grid_area": null,
            "grid_auto_columns": null,
            "grid_auto_flow": null,
            "grid_auto_rows": null,
            "grid_column": null,
            "grid_gap": null,
            "grid_row": null,
            "grid_template_areas": null,
            "grid_template_columns": null,
            "grid_template_rows": null,
            "height": null,
            "justify_content": null,
            "justify_items": null,
            "left": null,
            "margin": null,
            "max_height": null,
            "max_width": null,
            "min_height": null,
            "min_width": null,
            "object_fit": null,
            "object_position": null,
            "order": null,
            "overflow": null,
            "overflow_x": null,
            "overflow_y": null,
            "padding": null,
            "right": null,
            "top": null,
            "visibility": null,
            "width": null
          }
        },
        "f4bc0979669947a4a343d69a3ca1859d": {
          "model_module": "@jupyter-widgets/controls",
          "model_name": "DescriptionStyleModel",
          "model_module_version": "1.5.0",
          "state": {
            "_model_module": "@jupyter-widgets/controls",
            "_model_module_version": "1.5.0",
            "_model_name": "DescriptionStyleModel",
            "_view_count": null,
            "_view_module": "@jupyter-widgets/base",
            "_view_module_version": "1.2.0",
            "_view_name": "StyleView",
            "description_width": ""
          }
        },
        "4104c1b9d441435f85cbc4a5ccf3b44c": {
          "model_module": "@jupyter-widgets/controls",
          "model_name": "HBoxModel",
          "model_module_version": "1.5.0",
          "state": {
            "_dom_classes": [],
            "_model_module": "@jupyter-widgets/controls",
            "_model_module_version": "1.5.0",
            "_model_name": "HBoxModel",
            "_view_count": null,
            "_view_module": "@jupyter-widgets/controls",
            "_view_module_version": "1.5.0",
            "_view_name": "HBoxView",
            "box_style": "",
            "children": [
              "IPY_MODEL_b75cd4f348734c43aed56333c77bb4b6",
              "IPY_MODEL_630c5880d4764e47b2a4f53f2aa3e252",
              "IPY_MODEL_c0c243deef884a44adc01ec3575f3ece"
            ],
            "layout": "IPY_MODEL_3348975cd92e409a963bb82dc3fddaf7"
          }
        },
        "b75cd4f348734c43aed56333c77bb4b6": {
          "model_module": "@jupyter-widgets/controls",
          "model_name": "HTMLModel",
          "model_module_version": "1.5.0",
          "state": {
            "_dom_classes": [],
            "_model_module": "@jupyter-widgets/controls",
            "_model_module_version": "1.5.0",
            "_model_name": "HTMLModel",
            "_view_count": null,
            "_view_module": "@jupyter-widgets/controls",
            "_view_module_version": "1.5.0",
            "_view_name": "HTMLView",
            "description": "",
            "description_tooltip": null,
            "layout": "IPY_MODEL_27a4c81de5dc4e9e83311a52ff1da1eb",
            "placeholder": "​",
            "style": "IPY_MODEL_9416780148b84e8d9fa2f5ca14f7ba78",
            "value": "tokenizer.json: 100%"
          }
        },
        "630c5880d4764e47b2a4f53f2aa3e252": {
          "model_module": "@jupyter-widgets/controls",
          "model_name": "FloatProgressModel",
          "model_module_version": "1.5.0",
          "state": {
            "_dom_classes": [],
            "_model_module": "@jupyter-widgets/controls",
            "_model_module_version": "1.5.0",
            "_model_name": "FloatProgressModel",
            "_view_count": null,
            "_view_module": "@jupyter-widgets/controls",
            "_view_module_version": "1.5.0",
            "_view_name": "ProgressView",
            "bar_style": "success",
            "description": "",
            "description_tooltip": null,
            "layout": "IPY_MODEL_2d2f82fc88814142a48dac97c0a18805",
            "max": 1715180,
            "min": 0,
            "orientation": "horizontal",
            "style": "IPY_MODEL_3ddb6e82fb2d45789ee8d72b645db81a",
            "value": 1715180
          }
        },
        "c0c243deef884a44adc01ec3575f3ece": {
          "model_module": "@jupyter-widgets/controls",
          "model_name": "HTMLModel",
          "model_module_version": "1.5.0",
          "state": {
            "_dom_classes": [],
            "_model_module": "@jupyter-widgets/controls",
            "_model_module_version": "1.5.0",
            "_model_name": "HTMLModel",
            "_view_count": null,
            "_view_module": "@jupyter-widgets/controls",
            "_view_module_version": "1.5.0",
            "_view_name": "HTMLView",
            "description": "",
            "description_tooltip": null,
            "layout": "IPY_MODEL_e9db8c824d074f68b310953627cd413f",
            "placeholder": "​",
            "style": "IPY_MODEL_7c81b19fb0cb438f83919b0d44e11838",
            "value": " 1.72M/1.72M [00:00&lt;00:00, 12.5MB/s]"
          }
        },
        "3348975cd92e409a963bb82dc3fddaf7": {
          "model_module": "@jupyter-widgets/base",
          "model_name": "LayoutModel",
          "model_module_version": "1.2.0",
          "state": {
            "_model_module": "@jupyter-widgets/base",
            "_model_module_version": "1.2.0",
            "_model_name": "LayoutModel",
            "_view_count": null,
            "_view_module": "@jupyter-widgets/base",
            "_view_module_version": "1.2.0",
            "_view_name": "LayoutView",
            "align_content": null,
            "align_items": null,
            "align_self": null,
            "border": null,
            "bottom": null,
            "display": null,
            "flex": null,
            "flex_flow": null,
            "grid_area": null,
            "grid_auto_columns": null,
            "grid_auto_flow": null,
            "grid_auto_rows": null,
            "grid_column": null,
            "grid_gap": null,
            "grid_row": null,
            "grid_template_areas": null,
            "grid_template_columns": null,
            "grid_template_rows": null,
            "height": null,
            "justify_content": null,
            "justify_items": null,
            "left": null,
            "margin": null,
            "max_height": null,
            "max_width": null,
            "min_height": null,
            "min_width": null,
            "object_fit": null,
            "object_position": null,
            "order": null,
            "overflow": null,
            "overflow_x": null,
            "overflow_y": null,
            "padding": null,
            "right": null,
            "top": null,
            "visibility": null,
            "width": null
          }
        },
        "27a4c81de5dc4e9e83311a52ff1da1eb": {
          "model_module": "@jupyter-widgets/base",
          "model_name": "LayoutModel",
          "model_module_version": "1.2.0",
          "state": {
            "_model_module": "@jupyter-widgets/base",
            "_model_module_version": "1.2.0",
            "_model_name": "LayoutModel",
            "_view_count": null,
            "_view_module": "@jupyter-widgets/base",
            "_view_module_version": "1.2.0",
            "_view_name": "LayoutView",
            "align_content": null,
            "align_items": null,
            "align_self": null,
            "border": null,
            "bottom": null,
            "display": null,
            "flex": null,
            "flex_flow": null,
            "grid_area": null,
            "grid_auto_columns": null,
            "grid_auto_flow": null,
            "grid_auto_rows": null,
            "grid_column": null,
            "grid_gap": null,
            "grid_row": null,
            "grid_template_areas": null,
            "grid_template_columns": null,
            "grid_template_rows": null,
            "height": null,
            "justify_content": null,
            "justify_items": null,
            "left": null,
            "margin": null,
            "max_height": null,
            "max_width": null,
            "min_height": null,
            "min_width": null,
            "object_fit": null,
            "object_position": null,
            "order": null,
            "overflow": null,
            "overflow_x": null,
            "overflow_y": null,
            "padding": null,
            "right": null,
            "top": null,
            "visibility": null,
            "width": null
          }
        },
        "9416780148b84e8d9fa2f5ca14f7ba78": {
          "model_module": "@jupyter-widgets/controls",
          "model_name": "DescriptionStyleModel",
          "model_module_version": "1.5.0",
          "state": {
            "_model_module": "@jupyter-widgets/controls",
            "_model_module_version": "1.5.0",
            "_model_name": "DescriptionStyleModel",
            "_view_count": null,
            "_view_module": "@jupyter-widgets/base",
            "_view_module_version": "1.2.0",
            "_view_name": "StyleView",
            "description_width": ""
          }
        },
        "2d2f82fc88814142a48dac97c0a18805": {
          "model_module": "@jupyter-widgets/base",
          "model_name": "LayoutModel",
          "model_module_version": "1.2.0",
          "state": {
            "_model_module": "@jupyter-widgets/base",
            "_model_module_version": "1.2.0",
            "_model_name": "LayoutModel",
            "_view_count": null,
            "_view_module": "@jupyter-widgets/base",
            "_view_module_version": "1.2.0",
            "_view_name": "LayoutView",
            "align_content": null,
            "align_items": null,
            "align_self": null,
            "border": null,
            "bottom": null,
            "display": null,
            "flex": null,
            "flex_flow": null,
            "grid_area": null,
            "grid_auto_columns": null,
            "grid_auto_flow": null,
            "grid_auto_rows": null,
            "grid_column": null,
            "grid_gap": null,
            "grid_row": null,
            "grid_template_areas": null,
            "grid_template_columns": null,
            "grid_template_rows": null,
            "height": null,
            "justify_content": null,
            "justify_items": null,
            "left": null,
            "margin": null,
            "max_height": null,
            "max_width": null,
            "min_height": null,
            "min_width": null,
            "object_fit": null,
            "object_position": null,
            "order": null,
            "overflow": null,
            "overflow_x": null,
            "overflow_y": null,
            "padding": null,
            "right": null,
            "top": null,
            "visibility": null,
            "width": null
          }
        },
        "3ddb6e82fb2d45789ee8d72b645db81a": {
          "model_module": "@jupyter-widgets/controls",
          "model_name": "ProgressStyleModel",
          "model_module_version": "1.5.0",
          "state": {
            "_model_module": "@jupyter-widgets/controls",
            "_model_module_version": "1.5.0",
            "_model_name": "ProgressStyleModel",
            "_view_count": null,
            "_view_module": "@jupyter-widgets/base",
            "_view_module_version": "1.2.0",
            "_view_name": "StyleView",
            "bar_color": null,
            "description_width": ""
          }
        },
        "e9db8c824d074f68b310953627cd413f": {
          "model_module": "@jupyter-widgets/base",
          "model_name": "LayoutModel",
          "model_module_version": "1.2.0",
          "state": {
            "_model_module": "@jupyter-widgets/base",
            "_model_module_version": "1.2.0",
            "_model_name": "LayoutModel",
            "_view_count": null,
            "_view_module": "@jupyter-widgets/base",
            "_view_module_version": "1.2.0",
            "_view_name": "LayoutView",
            "align_content": null,
            "align_items": null,
            "align_self": null,
            "border": null,
            "bottom": null,
            "display": null,
            "flex": null,
            "flex_flow": null,
            "grid_area": null,
            "grid_auto_columns": null,
            "grid_auto_flow": null,
            "grid_auto_rows": null,
            "grid_column": null,
            "grid_gap": null,
            "grid_row": null,
            "grid_template_areas": null,
            "grid_template_columns": null,
            "grid_template_rows": null,
            "height": null,
            "justify_content": null,
            "justify_items": null,
            "left": null,
            "margin": null,
            "max_height": null,
            "max_width": null,
            "min_height": null,
            "min_width": null,
            "object_fit": null,
            "object_position": null,
            "order": null,
            "overflow": null,
            "overflow_x": null,
            "overflow_y": null,
            "padding": null,
            "right": null,
            "top": null,
            "visibility": null,
            "width": null
          }
        },
        "7c81b19fb0cb438f83919b0d44e11838": {
          "model_module": "@jupyter-widgets/controls",
          "model_name": "DescriptionStyleModel",
          "model_module_version": "1.5.0",
          "state": {
            "_model_module": "@jupyter-widgets/controls",
            "_model_module_version": "1.5.0",
            "_model_name": "DescriptionStyleModel",
            "_view_count": null,
            "_view_module": "@jupyter-widgets/base",
            "_view_module_version": "1.2.0",
            "_view_name": "StyleView",
            "description_width": ""
          }
        },
        "681dc60662c54e7fbe54c44958c83b30": {
          "model_module": "@jupyter-widgets/controls",
          "model_name": "HBoxModel",
          "model_module_version": "1.5.0",
          "state": {
            "_dom_classes": [],
            "_model_module": "@jupyter-widgets/controls",
            "_model_module_version": "1.5.0",
            "_model_name": "HBoxModel",
            "_view_count": null,
            "_view_module": "@jupyter-widgets/controls",
            "_view_module_version": "1.5.0",
            "_view_name": "HBoxView",
            "box_style": "",
            "children": [
              "IPY_MODEL_044147413bef4c64ade1d8eca719d37a",
              "IPY_MODEL_a1b9c903c67943bfaf4c642e8d6ae76f",
              "IPY_MODEL_143c7347ae574647bd09c5ceb1829133"
            ],
            "layout": "IPY_MODEL_402697e7760e4f75b43957565447ef2c"
          }
        },
        "044147413bef4c64ade1d8eca719d37a": {
          "model_module": "@jupyter-widgets/controls",
          "model_name": "HTMLModel",
          "model_module_version": "1.5.0",
          "state": {
            "_dom_classes": [],
            "_model_module": "@jupyter-widgets/controls",
            "_model_module_version": "1.5.0",
            "_model_name": "HTMLModel",
            "_view_count": null,
            "_view_module": "@jupyter-widgets/controls",
            "_view_module_version": "1.5.0",
            "_view_name": "HTMLView",
            "description": "",
            "description_tooltip": null,
            "layout": "IPY_MODEL_ce7b569b478245baa64a0a681ab10dfc",
            "placeholder": "​",
            "style": "IPY_MODEL_f616dfb5adb541fa91213b5f05e69e66",
            "value": "Map: 100%"
          }
        },
        "a1b9c903c67943bfaf4c642e8d6ae76f": {
          "model_module": "@jupyter-widgets/controls",
          "model_name": "FloatProgressModel",
          "model_module_version": "1.5.0",
          "state": {
            "_dom_classes": [],
            "_model_module": "@jupyter-widgets/controls",
            "_model_module_version": "1.5.0",
            "_model_name": "FloatProgressModel",
            "_view_count": null,
            "_view_module": "@jupyter-widgets/controls",
            "_view_module_version": "1.5.0",
            "_view_name": "ProgressView",
            "bar_style": "success",
            "description": "",
            "description_tooltip": null,
            "layout": "IPY_MODEL_8c24052c546f436fbdf9591ad2070fb7",
            "max": 3176,
            "min": 0,
            "orientation": "horizontal",
            "style": "IPY_MODEL_a9908a0476404e9d9fbfc2a5c0b75b9b",
            "value": 3176
          }
        },
        "143c7347ae574647bd09c5ceb1829133": {
          "model_module": "@jupyter-widgets/controls",
          "model_name": "HTMLModel",
          "model_module_version": "1.5.0",
          "state": {
            "_dom_classes": [],
            "_model_module": "@jupyter-widgets/controls",
            "_model_module_version": "1.5.0",
            "_model_name": "HTMLModel",
            "_view_count": null,
            "_view_module": "@jupyter-widgets/controls",
            "_view_module_version": "1.5.0",
            "_view_name": "HTMLView",
            "description": "",
            "description_tooltip": null,
            "layout": "IPY_MODEL_d64aaa608d634956ae55001432e6cbfe",
            "placeholder": "​",
            "style": "IPY_MODEL_c8bfc3a3a7df44059aa0e662674bbe19",
            "value": " 3176/3176 [00:09&lt;00:00, 202.73 examples/s]"
          }
        },
        "402697e7760e4f75b43957565447ef2c": {
          "model_module": "@jupyter-widgets/base",
          "model_name": "LayoutModel",
          "model_module_version": "1.2.0",
          "state": {
            "_model_module": "@jupyter-widgets/base",
            "_model_module_version": "1.2.0",
            "_model_name": "LayoutModel",
            "_view_count": null,
            "_view_module": "@jupyter-widgets/base",
            "_view_module_version": "1.2.0",
            "_view_name": "LayoutView",
            "align_content": null,
            "align_items": null,
            "align_self": null,
            "border": null,
            "bottom": null,
            "display": null,
            "flex": null,
            "flex_flow": null,
            "grid_area": null,
            "grid_auto_columns": null,
            "grid_auto_flow": null,
            "grid_auto_rows": null,
            "grid_column": null,
            "grid_gap": null,
            "grid_row": null,
            "grid_template_areas": null,
            "grid_template_columns": null,
            "grid_template_rows": null,
            "height": null,
            "justify_content": null,
            "justify_items": null,
            "left": null,
            "margin": null,
            "max_height": null,
            "max_width": null,
            "min_height": null,
            "min_width": null,
            "object_fit": null,
            "object_position": null,
            "order": null,
            "overflow": null,
            "overflow_x": null,
            "overflow_y": null,
            "padding": null,
            "right": null,
            "top": null,
            "visibility": null,
            "width": null
          }
        },
        "ce7b569b478245baa64a0a681ab10dfc": {
          "model_module": "@jupyter-widgets/base",
          "model_name": "LayoutModel",
          "model_module_version": "1.2.0",
          "state": {
            "_model_module": "@jupyter-widgets/base",
            "_model_module_version": "1.2.0",
            "_model_name": "LayoutModel",
            "_view_count": null,
            "_view_module": "@jupyter-widgets/base",
            "_view_module_version": "1.2.0",
            "_view_name": "LayoutView",
            "align_content": null,
            "align_items": null,
            "align_self": null,
            "border": null,
            "bottom": null,
            "display": null,
            "flex": null,
            "flex_flow": null,
            "grid_area": null,
            "grid_auto_columns": null,
            "grid_auto_flow": null,
            "grid_auto_rows": null,
            "grid_column": null,
            "grid_gap": null,
            "grid_row": null,
            "grid_template_areas": null,
            "grid_template_columns": null,
            "grid_template_rows": null,
            "height": null,
            "justify_content": null,
            "justify_items": null,
            "left": null,
            "margin": null,
            "max_height": null,
            "max_width": null,
            "min_height": null,
            "min_width": null,
            "object_fit": null,
            "object_position": null,
            "order": null,
            "overflow": null,
            "overflow_x": null,
            "overflow_y": null,
            "padding": null,
            "right": null,
            "top": null,
            "visibility": null,
            "width": null
          }
        },
        "f616dfb5adb541fa91213b5f05e69e66": {
          "model_module": "@jupyter-widgets/controls",
          "model_name": "DescriptionStyleModel",
          "model_module_version": "1.5.0",
          "state": {
            "_model_module": "@jupyter-widgets/controls",
            "_model_module_version": "1.5.0",
            "_model_name": "DescriptionStyleModel",
            "_view_count": null,
            "_view_module": "@jupyter-widgets/base",
            "_view_module_version": "1.2.0",
            "_view_name": "StyleView",
            "description_width": ""
          }
        },
        "8c24052c546f436fbdf9591ad2070fb7": {
          "model_module": "@jupyter-widgets/base",
          "model_name": "LayoutModel",
          "model_module_version": "1.2.0",
          "state": {
            "_model_module": "@jupyter-widgets/base",
            "_model_module_version": "1.2.0",
            "_model_name": "LayoutModel",
            "_view_count": null,
            "_view_module": "@jupyter-widgets/base",
            "_view_module_version": "1.2.0",
            "_view_name": "LayoutView",
            "align_content": null,
            "align_items": null,
            "align_self": null,
            "border": null,
            "bottom": null,
            "display": null,
            "flex": null,
            "flex_flow": null,
            "grid_area": null,
            "grid_auto_columns": null,
            "grid_auto_flow": null,
            "grid_auto_rows": null,
            "grid_column": null,
            "grid_gap": null,
            "grid_row": null,
            "grid_template_areas": null,
            "grid_template_columns": null,
            "grid_template_rows": null,
            "height": null,
            "justify_content": null,
            "justify_items": null,
            "left": null,
            "margin": null,
            "max_height": null,
            "max_width": null,
            "min_height": null,
            "min_width": null,
            "object_fit": null,
            "object_position": null,
            "order": null,
            "overflow": null,
            "overflow_x": null,
            "overflow_y": null,
            "padding": null,
            "right": null,
            "top": null,
            "visibility": null,
            "width": null
          }
        },
        "a9908a0476404e9d9fbfc2a5c0b75b9b": {
          "model_module": "@jupyter-widgets/controls",
          "model_name": "ProgressStyleModel",
          "model_module_version": "1.5.0",
          "state": {
            "_model_module": "@jupyter-widgets/controls",
            "_model_module_version": "1.5.0",
            "_model_name": "ProgressStyleModel",
            "_view_count": null,
            "_view_module": "@jupyter-widgets/base",
            "_view_module_version": "1.2.0",
            "_view_name": "StyleView",
            "bar_color": null,
            "description_width": ""
          }
        },
        "d64aaa608d634956ae55001432e6cbfe": {
          "model_module": "@jupyter-widgets/base",
          "model_name": "LayoutModel",
          "model_module_version": "1.2.0",
          "state": {
            "_model_module": "@jupyter-widgets/base",
            "_model_module_version": "1.2.0",
            "_model_name": "LayoutModel",
            "_view_count": null,
            "_view_module": "@jupyter-widgets/base",
            "_view_module_version": "1.2.0",
            "_view_name": "LayoutView",
            "align_content": null,
            "align_items": null,
            "align_self": null,
            "border": null,
            "bottom": null,
            "display": null,
            "flex": null,
            "flex_flow": null,
            "grid_area": null,
            "grid_auto_columns": null,
            "grid_auto_flow": null,
            "grid_auto_rows": null,
            "grid_column": null,
            "grid_gap": null,
            "grid_row": null,
            "grid_template_areas": null,
            "grid_template_columns": null,
            "grid_template_rows": null,
            "height": null,
            "justify_content": null,
            "justify_items": null,
            "left": null,
            "margin": null,
            "max_height": null,
            "max_width": null,
            "min_height": null,
            "min_width": null,
            "object_fit": null,
            "object_position": null,
            "order": null,
            "overflow": null,
            "overflow_x": null,
            "overflow_y": null,
            "padding": null,
            "right": null,
            "top": null,
            "visibility": null,
            "width": null
          }
        },
        "c8bfc3a3a7df44059aa0e662674bbe19": {
          "model_module": "@jupyter-widgets/controls",
          "model_name": "DescriptionStyleModel",
          "model_module_version": "1.5.0",
          "state": {
            "_model_module": "@jupyter-widgets/controls",
            "_model_module_version": "1.5.0",
            "_model_name": "DescriptionStyleModel",
            "_view_count": null,
            "_view_module": "@jupyter-widgets/base",
            "_view_module_version": "1.2.0",
            "_view_name": "StyleView",
            "description_width": ""
          }
        },
        "ea7cdc86737b4bd983043000d7d2d0cb": {
          "model_module": "@jupyter-widgets/controls",
          "model_name": "HBoxModel",
          "model_module_version": "1.5.0",
          "state": {
            "_dom_classes": [],
            "_model_module": "@jupyter-widgets/controls",
            "_model_module_version": "1.5.0",
            "_model_name": "HBoxModel",
            "_view_count": null,
            "_view_module": "@jupyter-widgets/controls",
            "_view_module_version": "1.5.0",
            "_view_name": "HBoxView",
            "box_style": "",
            "children": [
              "IPY_MODEL_d0eecfa0d8814ceb99b94facce269d0a",
              "IPY_MODEL_92f6ad73ce2647f49c8c8c98de0b192b",
              "IPY_MODEL_b70b3814a3de477eb9cc60764c2ffba6"
            ],
            "layout": "IPY_MODEL_fa77af47670d4aca8352287a8af3880e"
          }
        },
        "d0eecfa0d8814ceb99b94facce269d0a": {
          "model_module": "@jupyter-widgets/controls",
          "model_name": "HTMLModel",
          "model_module_version": "1.5.0",
          "state": {
            "_dom_classes": [],
            "_model_module": "@jupyter-widgets/controls",
            "_model_module_version": "1.5.0",
            "_model_name": "HTMLModel",
            "_view_count": null,
            "_view_module": "@jupyter-widgets/controls",
            "_view_module_version": "1.5.0",
            "_view_name": "HTMLView",
            "description": "",
            "description_tooltip": null,
            "layout": "IPY_MODEL_756d4f6939264f5da3b52eae66cb9704",
            "placeholder": "​",
            "style": "IPY_MODEL_07e801be5f0746258455865d6ab758bb",
            "value": "Map: 100%"
          }
        },
        "92f6ad73ce2647f49c8c8c98de0b192b": {
          "model_module": "@jupyter-widgets/controls",
          "model_name": "FloatProgressModel",
          "model_module_version": "1.5.0",
          "state": {
            "_dom_classes": [],
            "_model_module": "@jupyter-widgets/controls",
            "_model_module_version": "1.5.0",
            "_model_name": "FloatProgressModel",
            "_view_count": null,
            "_view_module": "@jupyter-widgets/controls",
            "_view_module_version": "1.5.0",
            "_view_name": "ProgressView",
            "bar_style": "success",
            "description": "",
            "description_tooltip": null,
            "layout": "IPY_MODEL_820714b45e1943218a989bae40f4fa0e",
            "max": 1032,
            "min": 0,
            "orientation": "horizontal",
            "style": "IPY_MODEL_ee43639b68444d1ea37324f1b29aecab",
            "value": 1032
          }
        },
        "b70b3814a3de477eb9cc60764c2ffba6": {
          "model_module": "@jupyter-widgets/controls",
          "model_name": "HTMLModel",
          "model_module_version": "1.5.0",
          "state": {
            "_dom_classes": [],
            "_model_module": "@jupyter-widgets/controls",
            "_model_module_version": "1.5.0",
            "_model_name": "HTMLModel",
            "_view_count": null,
            "_view_module": "@jupyter-widgets/controls",
            "_view_module_version": "1.5.0",
            "_view_name": "HTMLView",
            "description": "",
            "description_tooltip": null,
            "layout": "IPY_MODEL_fd9de97ea9404d83a695a279abc0efdf",
            "placeholder": "​",
            "style": "IPY_MODEL_4bb82874954e4a4b9f89b9c0af688fba",
            "value": " 1032/1032 [00:03&lt;00:00, 203.38 examples/s]"
          }
        },
        "fa77af47670d4aca8352287a8af3880e": {
          "model_module": "@jupyter-widgets/base",
          "model_name": "LayoutModel",
          "model_module_version": "1.2.0",
          "state": {
            "_model_module": "@jupyter-widgets/base",
            "_model_module_version": "1.2.0",
            "_model_name": "LayoutModel",
            "_view_count": null,
            "_view_module": "@jupyter-widgets/base",
            "_view_module_version": "1.2.0",
            "_view_name": "LayoutView",
            "align_content": null,
            "align_items": null,
            "align_self": null,
            "border": null,
            "bottom": null,
            "display": null,
            "flex": null,
            "flex_flow": null,
            "grid_area": null,
            "grid_auto_columns": null,
            "grid_auto_flow": null,
            "grid_auto_rows": null,
            "grid_column": null,
            "grid_gap": null,
            "grid_row": null,
            "grid_template_areas": null,
            "grid_template_columns": null,
            "grid_template_rows": null,
            "height": null,
            "justify_content": null,
            "justify_items": null,
            "left": null,
            "margin": null,
            "max_height": null,
            "max_width": null,
            "min_height": null,
            "min_width": null,
            "object_fit": null,
            "object_position": null,
            "order": null,
            "overflow": null,
            "overflow_x": null,
            "overflow_y": null,
            "padding": null,
            "right": null,
            "top": null,
            "visibility": null,
            "width": null
          }
        },
        "756d4f6939264f5da3b52eae66cb9704": {
          "model_module": "@jupyter-widgets/base",
          "model_name": "LayoutModel",
          "model_module_version": "1.2.0",
          "state": {
            "_model_module": "@jupyter-widgets/base",
            "_model_module_version": "1.2.0",
            "_model_name": "LayoutModel",
            "_view_count": null,
            "_view_module": "@jupyter-widgets/base",
            "_view_module_version": "1.2.0",
            "_view_name": "LayoutView",
            "align_content": null,
            "align_items": null,
            "align_self": null,
            "border": null,
            "bottom": null,
            "display": null,
            "flex": null,
            "flex_flow": null,
            "grid_area": null,
            "grid_auto_columns": null,
            "grid_auto_flow": null,
            "grid_auto_rows": null,
            "grid_column": null,
            "grid_gap": null,
            "grid_row": null,
            "grid_template_areas": null,
            "grid_template_columns": null,
            "grid_template_rows": null,
            "height": null,
            "justify_content": null,
            "justify_items": null,
            "left": null,
            "margin": null,
            "max_height": null,
            "max_width": null,
            "min_height": null,
            "min_width": null,
            "object_fit": null,
            "object_position": null,
            "order": null,
            "overflow": null,
            "overflow_x": null,
            "overflow_y": null,
            "padding": null,
            "right": null,
            "top": null,
            "visibility": null,
            "width": null
          }
        },
        "07e801be5f0746258455865d6ab758bb": {
          "model_module": "@jupyter-widgets/controls",
          "model_name": "DescriptionStyleModel",
          "model_module_version": "1.5.0",
          "state": {
            "_model_module": "@jupyter-widgets/controls",
            "_model_module_version": "1.5.0",
            "_model_name": "DescriptionStyleModel",
            "_view_count": null,
            "_view_module": "@jupyter-widgets/base",
            "_view_module_version": "1.2.0",
            "_view_name": "StyleView",
            "description_width": ""
          }
        },
        "820714b45e1943218a989bae40f4fa0e": {
          "model_module": "@jupyter-widgets/base",
          "model_name": "LayoutModel",
          "model_module_version": "1.2.0",
          "state": {
            "_model_module": "@jupyter-widgets/base",
            "_model_module_version": "1.2.0",
            "_model_name": "LayoutModel",
            "_view_count": null,
            "_view_module": "@jupyter-widgets/base",
            "_view_module_version": "1.2.0",
            "_view_name": "LayoutView",
            "align_content": null,
            "align_items": null,
            "align_self": null,
            "border": null,
            "bottom": null,
            "display": null,
            "flex": null,
            "flex_flow": null,
            "grid_area": null,
            "grid_auto_columns": null,
            "grid_auto_flow": null,
            "grid_auto_rows": null,
            "grid_column": null,
            "grid_gap": null,
            "grid_row": null,
            "grid_template_areas": null,
            "grid_template_columns": null,
            "grid_template_rows": null,
            "height": null,
            "justify_content": null,
            "justify_items": null,
            "left": null,
            "margin": null,
            "max_height": null,
            "max_width": null,
            "min_height": null,
            "min_width": null,
            "object_fit": null,
            "object_position": null,
            "order": null,
            "overflow": null,
            "overflow_x": null,
            "overflow_y": null,
            "padding": null,
            "right": null,
            "top": null,
            "visibility": null,
            "width": null
          }
        },
        "ee43639b68444d1ea37324f1b29aecab": {
          "model_module": "@jupyter-widgets/controls",
          "model_name": "ProgressStyleModel",
          "model_module_version": "1.5.0",
          "state": {
            "_model_module": "@jupyter-widgets/controls",
            "_model_module_version": "1.5.0",
            "_model_name": "ProgressStyleModel",
            "_view_count": null,
            "_view_module": "@jupyter-widgets/base",
            "_view_module_version": "1.2.0",
            "_view_name": "StyleView",
            "bar_color": null,
            "description_width": ""
          }
        },
        "fd9de97ea9404d83a695a279abc0efdf": {
          "model_module": "@jupyter-widgets/base",
          "model_name": "LayoutModel",
          "model_module_version": "1.2.0",
          "state": {
            "_model_module": "@jupyter-widgets/base",
            "_model_module_version": "1.2.0",
            "_model_name": "LayoutModel",
            "_view_count": null,
            "_view_module": "@jupyter-widgets/base",
            "_view_module_version": "1.2.0",
            "_view_name": "LayoutView",
            "align_content": null,
            "align_items": null,
            "align_self": null,
            "border": null,
            "bottom": null,
            "display": null,
            "flex": null,
            "flex_flow": null,
            "grid_area": null,
            "grid_auto_columns": null,
            "grid_auto_flow": null,
            "grid_auto_rows": null,
            "grid_column": null,
            "grid_gap": null,
            "grid_row": null,
            "grid_template_areas": null,
            "grid_template_columns": null,
            "grid_template_rows": null,
            "height": null,
            "justify_content": null,
            "justify_items": null,
            "left": null,
            "margin": null,
            "max_height": null,
            "max_width": null,
            "min_height": null,
            "min_width": null,
            "object_fit": null,
            "object_position": null,
            "order": null,
            "overflow": null,
            "overflow_x": null,
            "overflow_y": null,
            "padding": null,
            "right": null,
            "top": null,
            "visibility": null,
            "width": null
          }
        },
        "4bb82874954e4a4b9f89b9c0af688fba": {
          "model_module": "@jupyter-widgets/controls",
          "model_name": "DescriptionStyleModel",
          "model_module_version": "1.5.0",
          "state": {
            "_model_module": "@jupyter-widgets/controls",
            "_model_module_version": "1.5.0",
            "_model_name": "DescriptionStyleModel",
            "_view_count": null,
            "_view_module": "@jupyter-widgets/base",
            "_view_module_version": "1.2.0",
            "_view_name": "StyleView",
            "description_width": ""
          }
        },
        "d5576934ec724ec6893aa0e46bf3e948": {
          "model_module": "@jupyter-widgets/controls",
          "model_name": "HBoxModel",
          "model_module_version": "1.5.0",
          "state": {
            "_dom_classes": [],
            "_model_module": "@jupyter-widgets/controls",
            "_model_module_version": "1.5.0",
            "_model_name": "HBoxModel",
            "_view_count": null,
            "_view_module": "@jupyter-widgets/controls",
            "_view_module_version": "1.5.0",
            "_view_name": "HBoxView",
            "box_style": "",
            "children": [
              "IPY_MODEL_acc1347abe4c4d6aae9b309529b38e9b",
              "IPY_MODEL_dcfd61d71f244ef1b0df79aaf5b57d64",
              "IPY_MODEL_bef26751de704c25897f01c412c3fca7"
            ],
            "layout": "IPY_MODEL_4147118b085a46b88a37805a912c1790"
          }
        },
        "acc1347abe4c4d6aae9b309529b38e9b": {
          "model_module": "@jupyter-widgets/controls",
          "model_name": "HTMLModel",
          "model_module_version": "1.5.0",
          "state": {
            "_dom_classes": [],
            "_model_module": "@jupyter-widgets/controls",
            "_model_module_version": "1.5.0",
            "_model_name": "HTMLModel",
            "_view_count": null,
            "_view_module": "@jupyter-widgets/controls",
            "_view_module_version": "1.5.0",
            "_view_name": "HTMLView",
            "description": "",
            "description_tooltip": null,
            "layout": "IPY_MODEL_ec3909ef666446e78eecf9482b818d3d",
            "placeholder": "​",
            "style": "IPY_MODEL_455a504781a049e0b4e97b59204638bf",
            "value": "Map: 100%"
          }
        },
        "dcfd61d71f244ef1b0df79aaf5b57d64": {
          "model_module": "@jupyter-widgets/controls",
          "model_name": "FloatProgressModel",
          "model_module_version": "1.5.0",
          "state": {
            "_dom_classes": [],
            "_model_module": "@jupyter-widgets/controls",
            "_model_module_version": "1.5.0",
            "_model_name": "FloatProgressModel",
            "_view_count": null,
            "_view_module": "@jupyter-widgets/controls",
            "_view_module_version": "1.5.0",
            "_view_name": "ProgressView",
            "bar_style": "success",
            "description": "",
            "description_tooltip": null,
            "layout": "IPY_MODEL_9ab756746f014bb79b8197966d62d5e6",
            "max": 1035,
            "min": 0,
            "orientation": "horizontal",
            "style": "IPY_MODEL_ee1f5fa33bf349a5b068701559e58c94",
            "value": 1035
          }
        },
        "bef26751de704c25897f01c412c3fca7": {
          "model_module": "@jupyter-widgets/controls",
          "model_name": "HTMLModel",
          "model_module_version": "1.5.0",
          "state": {
            "_dom_classes": [],
            "_model_module": "@jupyter-widgets/controls",
            "_model_module_version": "1.5.0",
            "_model_name": "HTMLModel",
            "_view_count": null,
            "_view_module": "@jupyter-widgets/controls",
            "_view_module_version": "1.5.0",
            "_view_name": "HTMLView",
            "description": "",
            "description_tooltip": null,
            "layout": "IPY_MODEL_da7b30e79b404fb6abc4f82bd529a226",
            "placeholder": "​",
            "style": "IPY_MODEL_c6504cd333da4736911971c63472b9d4",
            "value": " 1035/1035 [00:03&lt;00:00, 190.58 examples/s]"
          }
        },
        "4147118b085a46b88a37805a912c1790": {
          "model_module": "@jupyter-widgets/base",
          "model_name": "LayoutModel",
          "model_module_version": "1.2.0",
          "state": {
            "_model_module": "@jupyter-widgets/base",
            "_model_module_version": "1.2.0",
            "_model_name": "LayoutModel",
            "_view_count": null,
            "_view_module": "@jupyter-widgets/base",
            "_view_module_version": "1.2.0",
            "_view_name": "LayoutView",
            "align_content": null,
            "align_items": null,
            "align_self": null,
            "border": null,
            "bottom": null,
            "display": null,
            "flex": null,
            "flex_flow": null,
            "grid_area": null,
            "grid_auto_columns": null,
            "grid_auto_flow": null,
            "grid_auto_rows": null,
            "grid_column": null,
            "grid_gap": null,
            "grid_row": null,
            "grid_template_areas": null,
            "grid_template_columns": null,
            "grid_template_rows": null,
            "height": null,
            "justify_content": null,
            "justify_items": null,
            "left": null,
            "margin": null,
            "max_height": null,
            "max_width": null,
            "min_height": null,
            "min_width": null,
            "object_fit": null,
            "object_position": null,
            "order": null,
            "overflow": null,
            "overflow_x": null,
            "overflow_y": null,
            "padding": null,
            "right": null,
            "top": null,
            "visibility": null,
            "width": null
          }
        },
        "ec3909ef666446e78eecf9482b818d3d": {
          "model_module": "@jupyter-widgets/base",
          "model_name": "LayoutModel",
          "model_module_version": "1.2.0",
          "state": {
            "_model_module": "@jupyter-widgets/base",
            "_model_module_version": "1.2.0",
            "_model_name": "LayoutModel",
            "_view_count": null,
            "_view_module": "@jupyter-widgets/base",
            "_view_module_version": "1.2.0",
            "_view_name": "LayoutView",
            "align_content": null,
            "align_items": null,
            "align_self": null,
            "border": null,
            "bottom": null,
            "display": null,
            "flex": null,
            "flex_flow": null,
            "grid_area": null,
            "grid_auto_columns": null,
            "grid_auto_flow": null,
            "grid_auto_rows": null,
            "grid_column": null,
            "grid_gap": null,
            "grid_row": null,
            "grid_template_areas": null,
            "grid_template_columns": null,
            "grid_template_rows": null,
            "height": null,
            "justify_content": null,
            "justify_items": null,
            "left": null,
            "margin": null,
            "max_height": null,
            "max_width": null,
            "min_height": null,
            "min_width": null,
            "object_fit": null,
            "object_position": null,
            "order": null,
            "overflow": null,
            "overflow_x": null,
            "overflow_y": null,
            "padding": null,
            "right": null,
            "top": null,
            "visibility": null,
            "width": null
          }
        },
        "455a504781a049e0b4e97b59204638bf": {
          "model_module": "@jupyter-widgets/controls",
          "model_name": "DescriptionStyleModel",
          "model_module_version": "1.5.0",
          "state": {
            "_model_module": "@jupyter-widgets/controls",
            "_model_module_version": "1.5.0",
            "_model_name": "DescriptionStyleModel",
            "_view_count": null,
            "_view_module": "@jupyter-widgets/base",
            "_view_module_version": "1.2.0",
            "_view_name": "StyleView",
            "description_width": ""
          }
        },
        "9ab756746f014bb79b8197966d62d5e6": {
          "model_module": "@jupyter-widgets/base",
          "model_name": "LayoutModel",
          "model_module_version": "1.2.0",
          "state": {
            "_model_module": "@jupyter-widgets/base",
            "_model_module_version": "1.2.0",
            "_model_name": "LayoutModel",
            "_view_count": null,
            "_view_module": "@jupyter-widgets/base",
            "_view_module_version": "1.2.0",
            "_view_name": "LayoutView",
            "align_content": null,
            "align_items": null,
            "align_self": null,
            "border": null,
            "bottom": null,
            "display": null,
            "flex": null,
            "flex_flow": null,
            "grid_area": null,
            "grid_auto_columns": null,
            "grid_auto_flow": null,
            "grid_auto_rows": null,
            "grid_column": null,
            "grid_gap": null,
            "grid_row": null,
            "grid_template_areas": null,
            "grid_template_columns": null,
            "grid_template_rows": null,
            "height": null,
            "justify_content": null,
            "justify_items": null,
            "left": null,
            "margin": null,
            "max_height": null,
            "max_width": null,
            "min_height": null,
            "min_width": null,
            "object_fit": null,
            "object_position": null,
            "order": null,
            "overflow": null,
            "overflow_x": null,
            "overflow_y": null,
            "padding": null,
            "right": null,
            "top": null,
            "visibility": null,
            "width": null
          }
        },
        "ee1f5fa33bf349a5b068701559e58c94": {
          "model_module": "@jupyter-widgets/controls",
          "model_name": "ProgressStyleModel",
          "model_module_version": "1.5.0",
          "state": {
            "_model_module": "@jupyter-widgets/controls",
            "_model_module_version": "1.5.0",
            "_model_name": "ProgressStyleModel",
            "_view_count": null,
            "_view_module": "@jupyter-widgets/base",
            "_view_module_version": "1.2.0",
            "_view_name": "StyleView",
            "bar_color": null,
            "description_width": ""
          }
        },
        "da7b30e79b404fb6abc4f82bd529a226": {
          "model_module": "@jupyter-widgets/base",
          "model_name": "LayoutModel",
          "model_module_version": "1.2.0",
          "state": {
            "_model_module": "@jupyter-widgets/base",
            "_model_module_version": "1.2.0",
            "_model_name": "LayoutModel",
            "_view_count": null,
            "_view_module": "@jupyter-widgets/base",
            "_view_module_version": "1.2.0",
            "_view_name": "LayoutView",
            "align_content": null,
            "align_items": null,
            "align_self": null,
            "border": null,
            "bottom": null,
            "display": null,
            "flex": null,
            "flex_flow": null,
            "grid_area": null,
            "grid_auto_columns": null,
            "grid_auto_flow": null,
            "grid_auto_rows": null,
            "grid_column": null,
            "grid_gap": null,
            "grid_row": null,
            "grid_template_areas": null,
            "grid_template_columns": null,
            "grid_template_rows": null,
            "height": null,
            "justify_content": null,
            "justify_items": null,
            "left": null,
            "margin": null,
            "max_height": null,
            "max_width": null,
            "min_height": null,
            "min_width": null,
            "object_fit": null,
            "object_position": null,
            "order": null,
            "overflow": null,
            "overflow_x": null,
            "overflow_y": null,
            "padding": null,
            "right": null,
            "top": null,
            "visibility": null,
            "width": null
          }
        },
        "c6504cd333da4736911971c63472b9d4": {
          "model_module": "@jupyter-widgets/controls",
          "model_name": "DescriptionStyleModel",
          "model_module_version": "1.5.0",
          "state": {
            "_model_module": "@jupyter-widgets/controls",
            "_model_module_version": "1.5.0",
            "_model_name": "DescriptionStyleModel",
            "_view_count": null,
            "_view_module": "@jupyter-widgets/base",
            "_view_module_version": "1.2.0",
            "_view_name": "StyleView",
            "description_width": ""
          }
        },
        "2aad5a3437994c6ca96d6c7147e65499": {
          "model_module": "@jupyter-widgets/controls",
          "model_name": "HBoxModel",
          "model_module_version": "1.5.0",
          "state": {
            "_dom_classes": [],
            "_model_module": "@jupyter-widgets/controls",
            "_model_module_version": "1.5.0",
            "_model_name": "HBoxModel",
            "_view_count": null,
            "_view_module": "@jupyter-widgets/controls",
            "_view_module_version": "1.5.0",
            "_view_name": "HBoxView",
            "box_style": "",
            "children": [
              "IPY_MODEL_dcbfd1ad9c69496ebe5ad4789837873f",
              "IPY_MODEL_35b4d781c17b437f8affe5f57461ffad",
              "IPY_MODEL_ac847b33222e46be898b28340148e7bb"
            ],
            "layout": "IPY_MODEL_725406049eda4c828af96e8813b60dae"
          }
        },
        "dcbfd1ad9c69496ebe5ad4789837873f": {
          "model_module": "@jupyter-widgets/controls",
          "model_name": "HTMLModel",
          "model_module_version": "1.5.0",
          "state": {
            "_dom_classes": [],
            "_model_module": "@jupyter-widgets/controls",
            "_model_module_version": "1.5.0",
            "_model_name": "HTMLModel",
            "_view_count": null,
            "_view_module": "@jupyter-widgets/controls",
            "_view_module_version": "1.5.0",
            "_view_name": "HTMLView",
            "description": "",
            "description_tooltip": null,
            "layout": "IPY_MODEL_ab379a0905d6410d9318d83d67481110",
            "placeholder": "​",
            "style": "IPY_MODEL_a6e5b797c94a4ec6b9c5d1fa15743057",
            "value": "model.safetensors: 100%"
          }
        },
        "35b4d781c17b437f8affe5f57461ffad": {
          "model_module": "@jupyter-widgets/controls",
          "model_name": "FloatProgressModel",
          "model_module_version": "1.5.0",
          "state": {
            "_dom_classes": [],
            "_model_module": "@jupyter-widgets/controls",
            "_model_module_version": "1.5.0",
            "_model_name": "FloatProgressModel",
            "_view_count": null,
            "_view_module": "@jupyter-widgets/controls",
            "_view_module_version": "1.5.0",
            "_view_name": "ProgressView",
            "bar_style": "success",
            "description": "",
            "description_tooltip": null,
            "layout": "IPY_MODEL_3c90eacaca814d19a9b313e085bb644f",
            "max": 672247920,
            "min": 0,
            "orientation": "horizontal",
            "style": "IPY_MODEL_e87187ec6fc94c619b3bf358d5b540e1",
            "value": 672247920
          }
        },
        "ac847b33222e46be898b28340148e7bb": {
          "model_module": "@jupyter-widgets/controls",
          "model_name": "HTMLModel",
          "model_module_version": "1.5.0",
          "state": {
            "_dom_classes": [],
            "_model_module": "@jupyter-widgets/controls",
            "_model_module_version": "1.5.0",
            "_model_name": "HTMLModel",
            "_view_count": null,
            "_view_module": "@jupyter-widgets/controls",
            "_view_module_version": "1.5.0",
            "_view_name": "HTMLView",
            "description": "",
            "description_tooltip": null,
            "layout": "IPY_MODEL_e95c1bc23d0748eb8cf341c7e13b0321",
            "placeholder": "​",
            "style": "IPY_MODEL_708cd37dcfe943d9b8bb440d6034d514",
            "value": " 672M/672M [00:10&lt;00:00, 45.8MB/s]"
          }
        },
        "725406049eda4c828af96e8813b60dae": {
          "model_module": "@jupyter-widgets/base",
          "model_name": "LayoutModel",
          "model_module_version": "1.2.0",
          "state": {
            "_model_module": "@jupyter-widgets/base",
            "_model_module_version": "1.2.0",
            "_model_name": "LayoutModel",
            "_view_count": null,
            "_view_module": "@jupyter-widgets/base",
            "_view_module_version": "1.2.0",
            "_view_name": "LayoutView",
            "align_content": null,
            "align_items": null,
            "align_self": null,
            "border": null,
            "bottom": null,
            "display": null,
            "flex": null,
            "flex_flow": null,
            "grid_area": null,
            "grid_auto_columns": null,
            "grid_auto_flow": null,
            "grid_auto_rows": null,
            "grid_column": null,
            "grid_gap": null,
            "grid_row": null,
            "grid_template_areas": null,
            "grid_template_columns": null,
            "grid_template_rows": null,
            "height": null,
            "justify_content": null,
            "justify_items": null,
            "left": null,
            "margin": null,
            "max_height": null,
            "max_width": null,
            "min_height": null,
            "min_width": null,
            "object_fit": null,
            "object_position": null,
            "order": null,
            "overflow": null,
            "overflow_x": null,
            "overflow_y": null,
            "padding": null,
            "right": null,
            "top": null,
            "visibility": null,
            "width": null
          }
        },
        "ab379a0905d6410d9318d83d67481110": {
          "model_module": "@jupyter-widgets/base",
          "model_name": "LayoutModel",
          "model_module_version": "1.2.0",
          "state": {
            "_model_module": "@jupyter-widgets/base",
            "_model_module_version": "1.2.0",
            "_model_name": "LayoutModel",
            "_view_count": null,
            "_view_module": "@jupyter-widgets/base",
            "_view_module_version": "1.2.0",
            "_view_name": "LayoutView",
            "align_content": null,
            "align_items": null,
            "align_self": null,
            "border": null,
            "bottom": null,
            "display": null,
            "flex": null,
            "flex_flow": null,
            "grid_area": null,
            "grid_auto_columns": null,
            "grid_auto_flow": null,
            "grid_auto_rows": null,
            "grid_column": null,
            "grid_gap": null,
            "grid_row": null,
            "grid_template_areas": null,
            "grid_template_columns": null,
            "grid_template_rows": null,
            "height": null,
            "justify_content": null,
            "justify_items": null,
            "left": null,
            "margin": null,
            "max_height": null,
            "max_width": null,
            "min_height": null,
            "min_width": null,
            "object_fit": null,
            "object_position": null,
            "order": null,
            "overflow": null,
            "overflow_x": null,
            "overflow_y": null,
            "padding": null,
            "right": null,
            "top": null,
            "visibility": null,
            "width": null
          }
        },
        "a6e5b797c94a4ec6b9c5d1fa15743057": {
          "model_module": "@jupyter-widgets/controls",
          "model_name": "DescriptionStyleModel",
          "model_module_version": "1.5.0",
          "state": {
            "_model_module": "@jupyter-widgets/controls",
            "_model_module_version": "1.5.0",
            "_model_name": "DescriptionStyleModel",
            "_view_count": null,
            "_view_module": "@jupyter-widgets/base",
            "_view_module_version": "1.2.0",
            "_view_name": "StyleView",
            "description_width": ""
          }
        },
        "3c90eacaca814d19a9b313e085bb644f": {
          "model_module": "@jupyter-widgets/base",
          "model_name": "LayoutModel",
          "model_module_version": "1.2.0",
          "state": {
            "_model_module": "@jupyter-widgets/base",
            "_model_module_version": "1.2.0",
            "_model_name": "LayoutModel",
            "_view_count": null,
            "_view_module": "@jupyter-widgets/base",
            "_view_module_version": "1.2.0",
            "_view_name": "LayoutView",
            "align_content": null,
            "align_items": null,
            "align_self": null,
            "border": null,
            "bottom": null,
            "display": null,
            "flex": null,
            "flex_flow": null,
            "grid_area": null,
            "grid_auto_columns": null,
            "grid_auto_flow": null,
            "grid_auto_rows": null,
            "grid_column": null,
            "grid_gap": null,
            "grid_row": null,
            "grid_template_areas": null,
            "grid_template_columns": null,
            "grid_template_rows": null,
            "height": null,
            "justify_content": null,
            "justify_items": null,
            "left": null,
            "margin": null,
            "max_height": null,
            "max_width": null,
            "min_height": null,
            "min_width": null,
            "object_fit": null,
            "object_position": null,
            "order": null,
            "overflow": null,
            "overflow_x": null,
            "overflow_y": null,
            "padding": null,
            "right": null,
            "top": null,
            "visibility": null,
            "width": null
          }
        },
        "e87187ec6fc94c619b3bf358d5b540e1": {
          "model_module": "@jupyter-widgets/controls",
          "model_name": "ProgressStyleModel",
          "model_module_version": "1.5.0",
          "state": {
            "_model_module": "@jupyter-widgets/controls",
            "_model_module_version": "1.5.0",
            "_model_name": "ProgressStyleModel",
            "_view_count": null,
            "_view_module": "@jupyter-widgets/base",
            "_view_module_version": "1.2.0",
            "_view_name": "StyleView",
            "bar_color": null,
            "description_width": ""
          }
        },
        "e95c1bc23d0748eb8cf341c7e13b0321": {
          "model_module": "@jupyter-widgets/base",
          "model_name": "LayoutModel",
          "model_module_version": "1.2.0",
          "state": {
            "_model_module": "@jupyter-widgets/base",
            "_model_module_version": "1.2.0",
            "_model_name": "LayoutModel",
            "_view_count": null,
            "_view_module": "@jupyter-widgets/base",
            "_view_module_version": "1.2.0",
            "_view_name": "LayoutView",
            "align_content": null,
            "align_items": null,
            "align_self": null,
            "border": null,
            "bottom": null,
            "display": null,
            "flex": null,
            "flex_flow": null,
            "grid_area": null,
            "grid_auto_columns": null,
            "grid_auto_flow": null,
            "grid_auto_rows": null,
            "grid_column": null,
            "grid_gap": null,
            "grid_row": null,
            "grid_template_areas": null,
            "grid_template_columns": null,
            "grid_template_rows": null,
            "height": null,
            "justify_content": null,
            "justify_items": null,
            "left": null,
            "margin": null,
            "max_height": null,
            "max_width": null,
            "min_height": null,
            "min_width": null,
            "object_fit": null,
            "object_position": null,
            "order": null,
            "overflow": null,
            "overflow_x": null,
            "overflow_y": null,
            "padding": null,
            "right": null,
            "top": null,
            "visibility": null,
            "width": null
          }
        },
        "708cd37dcfe943d9b8bb440d6034d514": {
          "model_module": "@jupyter-widgets/controls",
          "model_name": "DescriptionStyleModel",
          "model_module_version": "1.5.0",
          "state": {
            "_model_module": "@jupyter-widgets/controls",
            "_model_module_version": "1.5.0",
            "_model_name": "DescriptionStyleModel",
            "_view_count": null,
            "_view_module": "@jupyter-widgets/base",
            "_view_module_version": "1.2.0",
            "_view_name": "StyleView",
            "description_width": ""
          }
        },
        "bc229107189a45bc9eb3c4dad9d2f12f": {
          "model_module": "@jupyter-widgets/controls",
          "model_name": "HBoxModel",
          "model_module_version": "1.5.0",
          "state": {
            "_dom_classes": [],
            "_model_module": "@jupyter-widgets/controls",
            "_model_module_version": "1.5.0",
            "_model_name": "HBoxModel",
            "_view_count": null,
            "_view_module": "@jupyter-widgets/controls",
            "_view_module_version": "1.5.0",
            "_view_name": "HBoxView",
            "box_style": "",
            "children": [
              "IPY_MODEL_6f25c04dabbd4edeb70f3fd83807748c",
              "IPY_MODEL_d486027c5d044c758889c106f6059fdb",
              "IPY_MODEL_6135b420e62c4a428cf37ec779c73fe7"
            ],
            "layout": "IPY_MODEL_863d280c105b4cc09f322df878e711d5"
          }
        },
        "6f25c04dabbd4edeb70f3fd83807748c": {
          "model_module": "@jupyter-widgets/controls",
          "model_name": "HTMLModel",
          "model_module_version": "1.5.0",
          "state": {
            "_dom_classes": [],
            "_model_module": "@jupyter-widgets/controls",
            "_model_module_version": "1.5.0",
            "_model_name": "HTMLModel",
            "_view_count": null,
            "_view_module": "@jupyter-widgets/controls",
            "_view_module_version": "1.5.0",
            "_view_name": "HTMLView",
            "description": "",
            "description_tooltip": null,
            "layout": "IPY_MODEL_e57fa90a36604ce480758053a6624bd1",
            "placeholder": "​",
            "style": "IPY_MODEL_6c262ff091504bc885d1194a61f53b19",
            "value": "Downloading data: 100%"
          }
        },
        "d486027c5d044c758889c106f6059fdb": {
          "model_module": "@jupyter-widgets/controls",
          "model_name": "FloatProgressModel",
          "model_module_version": "1.5.0",
          "state": {
            "_dom_classes": [],
            "_model_module": "@jupyter-widgets/controls",
            "_model_module_version": "1.5.0",
            "_model_name": "FloatProgressModel",
            "_view_count": null,
            "_view_module": "@jupyter-widgets/controls",
            "_view_module_version": "1.5.0",
            "_view_name": "ProgressView",
            "bar_style": "success",
            "description": "",
            "description_tooltip": null,
            "layout": "IPY_MODEL_8cb8bd4e3fb24499b61ea7fdfc07a332",
            "max": 836768,
            "min": 0,
            "orientation": "horizontal",
            "style": "IPY_MODEL_ae9db068724e4855a07fbbb852ef7017",
            "value": 836768
          }
        },
        "6135b420e62c4a428cf37ec779c73fe7": {
          "model_module": "@jupyter-widgets/controls",
          "model_name": "HTMLModel",
          "model_module_version": "1.5.0",
          "state": {
            "_dom_classes": [],
            "_model_module": "@jupyter-widgets/controls",
            "_model_module_version": "1.5.0",
            "_model_name": "HTMLModel",
            "_view_count": null,
            "_view_module": "@jupyter-widgets/controls",
            "_view_module_version": "1.5.0",
            "_view_name": "HTMLView",
            "description": "",
            "description_tooltip": null,
            "layout": "IPY_MODEL_9f6d72729c534d079aecc244d4271418",
            "placeholder": "​",
            "style": "IPY_MODEL_1b0bb8a38415427c8fa9da480df9c5dc",
            "value": " 837k/837k [00:01&lt;00:00, 568kB/s]"
          }
        },
        "863d280c105b4cc09f322df878e711d5": {
          "model_module": "@jupyter-widgets/base",
          "model_name": "LayoutModel",
          "model_module_version": "1.2.0",
          "state": {
            "_model_module": "@jupyter-widgets/base",
            "_model_module_version": "1.2.0",
            "_model_name": "LayoutModel",
            "_view_count": null,
            "_view_module": "@jupyter-widgets/base",
            "_view_module_version": "1.2.0",
            "_view_name": "LayoutView",
            "align_content": null,
            "align_items": null,
            "align_self": null,
            "border": null,
            "bottom": null,
            "display": null,
            "flex": null,
            "flex_flow": null,
            "grid_area": null,
            "grid_auto_columns": null,
            "grid_auto_flow": null,
            "grid_auto_rows": null,
            "grid_column": null,
            "grid_gap": null,
            "grid_row": null,
            "grid_template_areas": null,
            "grid_template_columns": null,
            "grid_template_rows": null,
            "height": null,
            "justify_content": null,
            "justify_items": null,
            "left": null,
            "margin": null,
            "max_height": null,
            "max_width": null,
            "min_height": null,
            "min_width": null,
            "object_fit": null,
            "object_position": null,
            "order": null,
            "overflow": null,
            "overflow_x": null,
            "overflow_y": null,
            "padding": null,
            "right": null,
            "top": null,
            "visibility": null,
            "width": null
          }
        },
        "e57fa90a36604ce480758053a6624bd1": {
          "model_module": "@jupyter-widgets/base",
          "model_name": "LayoutModel",
          "model_module_version": "1.2.0",
          "state": {
            "_model_module": "@jupyter-widgets/base",
            "_model_module_version": "1.2.0",
            "_model_name": "LayoutModel",
            "_view_count": null,
            "_view_module": "@jupyter-widgets/base",
            "_view_module_version": "1.2.0",
            "_view_name": "LayoutView",
            "align_content": null,
            "align_items": null,
            "align_self": null,
            "border": null,
            "bottom": null,
            "display": null,
            "flex": null,
            "flex_flow": null,
            "grid_area": null,
            "grid_auto_columns": null,
            "grid_auto_flow": null,
            "grid_auto_rows": null,
            "grid_column": null,
            "grid_gap": null,
            "grid_row": null,
            "grid_template_areas": null,
            "grid_template_columns": null,
            "grid_template_rows": null,
            "height": null,
            "justify_content": null,
            "justify_items": null,
            "left": null,
            "margin": null,
            "max_height": null,
            "max_width": null,
            "min_height": null,
            "min_width": null,
            "object_fit": null,
            "object_position": null,
            "order": null,
            "overflow": null,
            "overflow_x": null,
            "overflow_y": null,
            "padding": null,
            "right": null,
            "top": null,
            "visibility": null,
            "width": null
          }
        },
        "6c262ff091504bc885d1194a61f53b19": {
          "model_module": "@jupyter-widgets/controls",
          "model_name": "DescriptionStyleModel",
          "model_module_version": "1.5.0",
          "state": {
            "_model_module": "@jupyter-widgets/controls",
            "_model_module_version": "1.5.0",
            "_model_name": "DescriptionStyleModel",
            "_view_count": null,
            "_view_module": "@jupyter-widgets/base",
            "_view_module_version": "1.2.0",
            "_view_name": "StyleView",
            "description_width": ""
          }
        },
        "8cb8bd4e3fb24499b61ea7fdfc07a332": {
          "model_module": "@jupyter-widgets/base",
          "model_name": "LayoutModel",
          "model_module_version": "1.2.0",
          "state": {
            "_model_module": "@jupyter-widgets/base",
            "_model_module_version": "1.2.0",
            "_model_name": "LayoutModel",
            "_view_count": null,
            "_view_module": "@jupyter-widgets/base",
            "_view_module_version": "1.2.0",
            "_view_name": "LayoutView",
            "align_content": null,
            "align_items": null,
            "align_self": null,
            "border": null,
            "bottom": null,
            "display": null,
            "flex": null,
            "flex_flow": null,
            "grid_area": null,
            "grid_auto_columns": null,
            "grid_auto_flow": null,
            "grid_auto_rows": null,
            "grid_column": null,
            "grid_gap": null,
            "grid_row": null,
            "grid_template_areas": null,
            "grid_template_columns": null,
            "grid_template_rows": null,
            "height": null,
            "justify_content": null,
            "justify_items": null,
            "left": null,
            "margin": null,
            "max_height": null,
            "max_width": null,
            "min_height": null,
            "min_width": null,
            "object_fit": null,
            "object_position": null,
            "order": null,
            "overflow": null,
            "overflow_x": null,
            "overflow_y": null,
            "padding": null,
            "right": null,
            "top": null,
            "visibility": null,
            "width": null
          }
        },
        "ae9db068724e4855a07fbbb852ef7017": {
          "model_module": "@jupyter-widgets/controls",
          "model_name": "ProgressStyleModel",
          "model_module_version": "1.5.0",
          "state": {
            "_model_module": "@jupyter-widgets/controls",
            "_model_module_version": "1.5.0",
            "_model_name": "ProgressStyleModel",
            "_view_count": null,
            "_view_module": "@jupyter-widgets/base",
            "_view_module_version": "1.2.0",
            "_view_name": "StyleView",
            "bar_color": null,
            "description_width": ""
          }
        },
        "9f6d72729c534d079aecc244d4271418": {
          "model_module": "@jupyter-widgets/base",
          "model_name": "LayoutModel",
          "model_module_version": "1.2.0",
          "state": {
            "_model_module": "@jupyter-widgets/base",
            "_model_module_version": "1.2.0",
            "_model_name": "LayoutModel",
            "_view_count": null,
            "_view_module": "@jupyter-widgets/base",
            "_view_module_version": "1.2.0",
            "_view_name": "LayoutView",
            "align_content": null,
            "align_items": null,
            "align_self": null,
            "border": null,
            "bottom": null,
            "display": null,
            "flex": null,
            "flex_flow": null,
            "grid_area": null,
            "grid_auto_columns": null,
            "grid_auto_flow": null,
            "grid_auto_rows": null,
            "grid_column": null,
            "grid_gap": null,
            "grid_row": null,
            "grid_template_areas": null,
            "grid_template_columns": null,
            "grid_template_rows": null,
            "height": null,
            "justify_content": null,
            "justify_items": null,
            "left": null,
            "margin": null,
            "max_height": null,
            "max_width": null,
            "min_height": null,
            "min_width": null,
            "object_fit": null,
            "object_position": null,
            "order": null,
            "overflow": null,
            "overflow_x": null,
            "overflow_y": null,
            "padding": null,
            "right": null,
            "top": null,
            "visibility": null,
            "width": null
          }
        },
        "1b0bb8a38415427c8fa9da480df9c5dc": {
          "model_module": "@jupyter-widgets/controls",
          "model_name": "DescriptionStyleModel",
          "model_module_version": "1.5.0",
          "state": {
            "_model_module": "@jupyter-widgets/controls",
            "_model_module_version": "1.5.0",
            "_model_name": "DescriptionStyleModel",
            "_view_count": null,
            "_view_module": "@jupyter-widgets/base",
            "_view_module_version": "1.2.0",
            "_view_name": "StyleView",
            "description_width": ""
          }
        },
        "fc78132f6d9f4e10ac9517140a4ff1bb": {
          "model_module": "@jupyter-widgets/controls",
          "model_name": "HBoxModel",
          "model_module_version": "1.5.0",
          "state": {
            "_dom_classes": [],
            "_model_module": "@jupyter-widgets/controls",
            "_model_module_version": "1.5.0",
            "_model_name": "HBoxModel",
            "_view_count": null,
            "_view_module": "@jupyter-widgets/controls",
            "_view_module_version": "1.5.0",
            "_view_name": "HBoxView",
            "box_style": "",
            "children": [
              "IPY_MODEL_1e451914bdf746c68d05936387669441",
              "IPY_MODEL_da76026d510e450da6be511981022b7f",
              "IPY_MODEL_dc23aff9dbbb4473adf49a25f05123f8"
            ],
            "layout": "IPY_MODEL_2c385cd79ec54b9c81fc6427bf2c8e6a"
          }
        },
        "1e451914bdf746c68d05936387669441": {
          "model_module": "@jupyter-widgets/controls",
          "model_name": "HTMLModel",
          "model_module_version": "1.5.0",
          "state": {
            "_dom_classes": [],
            "_model_module": "@jupyter-widgets/controls",
            "_model_module_version": "1.5.0",
            "_model_name": "HTMLModel",
            "_view_count": null,
            "_view_module": "@jupyter-widgets/controls",
            "_view_module_version": "1.5.0",
            "_view_name": "HTMLView",
            "description": "",
            "description_tooltip": null,
            "layout": "IPY_MODEL_e4f5fa14ed904cb2b4e6757b5eaf426c",
            "placeholder": "​",
            "style": "IPY_MODEL_5f8c5cdacb254f8ab36d5717dbb88de7",
            "value": "Downloading data: 100%"
          }
        },
        "da76026d510e450da6be511981022b7f": {
          "model_module": "@jupyter-widgets/controls",
          "model_name": "FloatProgressModel",
          "model_module_version": "1.5.0",
          "state": {
            "_dom_classes": [],
            "_model_module": "@jupyter-widgets/controls",
            "_model_module_version": "1.5.0",
            "_model_name": "FloatProgressModel",
            "_view_count": null,
            "_view_module": "@jupyter-widgets/controls",
            "_view_module_version": "1.5.0",
            "_view_name": "ProgressView",
            "bar_style": "success",
            "description": "",
            "description_tooltip": null,
            "layout": "IPY_MODEL_8cced582a805478cb4ac2589e6498d7d",
            "max": 295998,
            "min": 0,
            "orientation": "horizontal",
            "style": "IPY_MODEL_7c8c697fbf394e29a8ee8400fc63a4b6",
            "value": 295998
          }
        },
        "dc23aff9dbbb4473adf49a25f05123f8": {
          "model_module": "@jupyter-widgets/controls",
          "model_name": "HTMLModel",
          "model_module_version": "1.5.0",
          "state": {
            "_dom_classes": [],
            "_model_module": "@jupyter-widgets/controls",
            "_model_module_version": "1.5.0",
            "_model_name": "HTMLModel",
            "_view_count": null,
            "_view_module": "@jupyter-widgets/controls",
            "_view_module_version": "1.5.0",
            "_view_name": "HTMLView",
            "description": "",
            "description_tooltip": null,
            "layout": "IPY_MODEL_1145c0a7444c44fba0da3792cf6c6351",
            "placeholder": "​",
            "style": "IPY_MODEL_dfbb52b898a5486b93301686c242c56d",
            "value": " 296k/296k [00:01&lt;00:00, 222kB/s]"
          }
        },
        "2c385cd79ec54b9c81fc6427bf2c8e6a": {
          "model_module": "@jupyter-widgets/base",
          "model_name": "LayoutModel",
          "model_module_version": "1.2.0",
          "state": {
            "_model_module": "@jupyter-widgets/base",
            "_model_module_version": "1.2.0",
            "_model_name": "LayoutModel",
            "_view_count": null,
            "_view_module": "@jupyter-widgets/base",
            "_view_module_version": "1.2.0",
            "_view_name": "LayoutView",
            "align_content": null,
            "align_items": null,
            "align_self": null,
            "border": null,
            "bottom": null,
            "display": null,
            "flex": null,
            "flex_flow": null,
            "grid_area": null,
            "grid_auto_columns": null,
            "grid_auto_flow": null,
            "grid_auto_rows": null,
            "grid_column": null,
            "grid_gap": null,
            "grid_row": null,
            "grid_template_areas": null,
            "grid_template_columns": null,
            "grid_template_rows": null,
            "height": null,
            "justify_content": null,
            "justify_items": null,
            "left": null,
            "margin": null,
            "max_height": null,
            "max_width": null,
            "min_height": null,
            "min_width": null,
            "object_fit": null,
            "object_position": null,
            "order": null,
            "overflow": null,
            "overflow_x": null,
            "overflow_y": null,
            "padding": null,
            "right": null,
            "top": null,
            "visibility": null,
            "width": null
          }
        },
        "e4f5fa14ed904cb2b4e6757b5eaf426c": {
          "model_module": "@jupyter-widgets/base",
          "model_name": "LayoutModel",
          "model_module_version": "1.2.0",
          "state": {
            "_model_module": "@jupyter-widgets/base",
            "_model_module_version": "1.2.0",
            "_model_name": "LayoutModel",
            "_view_count": null,
            "_view_module": "@jupyter-widgets/base",
            "_view_module_version": "1.2.0",
            "_view_name": "LayoutView",
            "align_content": null,
            "align_items": null,
            "align_self": null,
            "border": null,
            "bottom": null,
            "display": null,
            "flex": null,
            "flex_flow": null,
            "grid_area": null,
            "grid_auto_columns": null,
            "grid_auto_flow": null,
            "grid_auto_rows": null,
            "grid_column": null,
            "grid_gap": null,
            "grid_row": null,
            "grid_template_areas": null,
            "grid_template_columns": null,
            "grid_template_rows": null,
            "height": null,
            "justify_content": null,
            "justify_items": null,
            "left": null,
            "margin": null,
            "max_height": null,
            "max_width": null,
            "min_height": null,
            "min_width": null,
            "object_fit": null,
            "object_position": null,
            "order": null,
            "overflow": null,
            "overflow_x": null,
            "overflow_y": null,
            "padding": null,
            "right": null,
            "top": null,
            "visibility": null,
            "width": null
          }
        },
        "5f8c5cdacb254f8ab36d5717dbb88de7": {
          "model_module": "@jupyter-widgets/controls",
          "model_name": "DescriptionStyleModel",
          "model_module_version": "1.5.0",
          "state": {
            "_model_module": "@jupyter-widgets/controls",
            "_model_module_version": "1.5.0",
            "_model_name": "DescriptionStyleModel",
            "_view_count": null,
            "_view_module": "@jupyter-widgets/base",
            "_view_module_version": "1.2.0",
            "_view_name": "StyleView",
            "description_width": ""
          }
        },
        "8cced582a805478cb4ac2589e6498d7d": {
          "model_module": "@jupyter-widgets/base",
          "model_name": "LayoutModel",
          "model_module_version": "1.2.0",
          "state": {
            "_model_module": "@jupyter-widgets/base",
            "_model_module_version": "1.2.0",
            "_model_name": "LayoutModel",
            "_view_count": null,
            "_view_module": "@jupyter-widgets/base",
            "_view_module_version": "1.2.0",
            "_view_name": "LayoutView",
            "align_content": null,
            "align_items": null,
            "align_self": null,
            "border": null,
            "bottom": null,
            "display": null,
            "flex": null,
            "flex_flow": null,
            "grid_area": null,
            "grid_auto_columns": null,
            "grid_auto_flow": null,
            "grid_auto_rows": null,
            "grid_column": null,
            "grid_gap": null,
            "grid_row": null,
            "grid_template_areas": null,
            "grid_template_columns": null,
            "grid_template_rows": null,
            "height": null,
            "justify_content": null,
            "justify_items": null,
            "left": null,
            "margin": null,
            "max_height": null,
            "max_width": null,
            "min_height": null,
            "min_width": null,
            "object_fit": null,
            "object_position": null,
            "order": null,
            "overflow": null,
            "overflow_x": null,
            "overflow_y": null,
            "padding": null,
            "right": null,
            "top": null,
            "visibility": null,
            "width": null
          }
        },
        "7c8c697fbf394e29a8ee8400fc63a4b6": {
          "model_module": "@jupyter-widgets/controls",
          "model_name": "ProgressStyleModel",
          "model_module_version": "1.5.0",
          "state": {
            "_model_module": "@jupyter-widgets/controls",
            "_model_module_version": "1.5.0",
            "_model_name": "ProgressStyleModel",
            "_view_count": null,
            "_view_module": "@jupyter-widgets/base",
            "_view_module_version": "1.2.0",
            "_view_name": "StyleView",
            "bar_color": null,
            "description_width": ""
          }
        },
        "1145c0a7444c44fba0da3792cf6c6351": {
          "model_module": "@jupyter-widgets/base",
          "model_name": "LayoutModel",
          "model_module_version": "1.2.0",
          "state": {
            "_model_module": "@jupyter-widgets/base",
            "_model_module_version": "1.2.0",
            "_model_name": "LayoutModel",
            "_view_count": null,
            "_view_module": "@jupyter-widgets/base",
            "_view_module_version": "1.2.0",
            "_view_name": "LayoutView",
            "align_content": null,
            "align_items": null,
            "align_self": null,
            "border": null,
            "bottom": null,
            "display": null,
            "flex": null,
            "flex_flow": null,
            "grid_area": null,
            "grid_auto_columns": null,
            "grid_auto_flow": null,
            "grid_auto_rows": null,
            "grid_column": null,
            "grid_gap": null,
            "grid_row": null,
            "grid_template_areas": null,
            "grid_template_columns": null,
            "grid_template_rows": null,
            "height": null,
            "justify_content": null,
            "justify_items": null,
            "left": null,
            "margin": null,
            "max_height": null,
            "max_width": null,
            "min_height": null,
            "min_width": null,
            "object_fit": null,
            "object_position": null,
            "order": null,
            "overflow": null,
            "overflow_x": null,
            "overflow_y": null,
            "padding": null,
            "right": null,
            "top": null,
            "visibility": null,
            "width": null
          }
        },
        "dfbb52b898a5486b93301686c242c56d": {
          "model_module": "@jupyter-widgets/controls",
          "model_name": "DescriptionStyleModel",
          "model_module_version": "1.5.0",
          "state": {
            "_model_module": "@jupyter-widgets/controls",
            "_model_module_version": "1.5.0",
            "_model_name": "DescriptionStyleModel",
            "_view_count": null,
            "_view_module": "@jupyter-widgets/base",
            "_view_module_version": "1.2.0",
            "_view_name": "StyleView",
            "description_width": ""
          }
        },
        "de44eff8882d4ede8c2e46439a199166": {
          "model_module": "@jupyter-widgets/controls",
          "model_name": "HBoxModel",
          "model_module_version": "1.5.0",
          "state": {
            "_dom_classes": [],
            "_model_module": "@jupyter-widgets/controls",
            "_model_module_version": "1.5.0",
            "_model_name": "HBoxModel",
            "_view_count": null,
            "_view_module": "@jupyter-widgets/controls",
            "_view_module_version": "1.5.0",
            "_view_name": "HBoxView",
            "box_style": "",
            "children": [
              "IPY_MODEL_4523d2a777724a5c8deef11225af4d7d",
              "IPY_MODEL_f4b68e05e581489d893cf68a1cd3d6c2",
              "IPY_MODEL_1c644f5ead1e4c41afcb471801ef5a60"
            ],
            "layout": "IPY_MODEL_32fdbbeb75e346a98c2c6298115a5f34"
          }
        },
        "4523d2a777724a5c8deef11225af4d7d": {
          "model_module": "@jupyter-widgets/controls",
          "model_name": "HTMLModel",
          "model_module_version": "1.5.0",
          "state": {
            "_dom_classes": [],
            "_model_module": "@jupyter-widgets/controls",
            "_model_module_version": "1.5.0",
            "_model_name": "HTMLModel",
            "_view_count": null,
            "_view_module": "@jupyter-widgets/controls",
            "_view_module_version": "1.5.0",
            "_view_name": "HTMLView",
            "description": "",
            "description_tooltip": null,
            "layout": "IPY_MODEL_57f3f45896144adf80e7c110d34fc9c8",
            "placeholder": "​",
            "style": "IPY_MODEL_99949bcf7c1c4ae1a170338c3453bd48",
            "value": "Downloading data: 100%"
          }
        },
        "f4b68e05e581489d893cf68a1cd3d6c2": {
          "model_module": "@jupyter-widgets/controls",
          "model_name": "FloatProgressModel",
          "model_module_version": "1.5.0",
          "state": {
            "_dom_classes": [],
            "_model_module": "@jupyter-widgets/controls",
            "_model_module_version": "1.5.0",
            "_model_name": "FloatProgressModel",
            "_view_count": null,
            "_view_module": "@jupyter-widgets/controls",
            "_view_module_version": "1.5.0",
            "_view_name": "ProgressView",
            "bar_style": "success",
            "description": "",
            "description_tooltip": null,
            "layout": "IPY_MODEL_a05f90e14b334c85803c84497985cf22",
            "max": 272087,
            "min": 0,
            "orientation": "horizontal",
            "style": "IPY_MODEL_f82236bda9824ec2b9b5b84dba19481e",
            "value": 272087
          }
        },
        "1c644f5ead1e4c41afcb471801ef5a60": {
          "model_module": "@jupyter-widgets/controls",
          "model_name": "HTMLModel",
          "model_module_version": "1.5.0",
          "state": {
            "_dom_classes": [],
            "_model_module": "@jupyter-widgets/controls",
            "_model_module_version": "1.5.0",
            "_model_name": "HTMLModel",
            "_view_count": null,
            "_view_module": "@jupyter-widgets/controls",
            "_view_module_version": "1.5.0",
            "_view_name": "HTMLView",
            "description": "",
            "description_tooltip": null,
            "layout": "IPY_MODEL_af55fc02580c44898622ec1a4856853f",
            "placeholder": "​",
            "style": "IPY_MODEL_16103111c82e4ef494071b1fbc1581c5",
            "value": " 272k/272k [00:01&lt;00:00, 203kB/s]"
          }
        },
        "32fdbbeb75e346a98c2c6298115a5f34": {
          "model_module": "@jupyter-widgets/base",
          "model_name": "LayoutModel",
          "model_module_version": "1.2.0",
          "state": {
            "_model_module": "@jupyter-widgets/base",
            "_model_module_version": "1.2.0",
            "_model_name": "LayoutModel",
            "_view_count": null,
            "_view_module": "@jupyter-widgets/base",
            "_view_module_version": "1.2.0",
            "_view_name": "LayoutView",
            "align_content": null,
            "align_items": null,
            "align_self": null,
            "border": null,
            "bottom": null,
            "display": null,
            "flex": null,
            "flex_flow": null,
            "grid_area": null,
            "grid_auto_columns": null,
            "grid_auto_flow": null,
            "grid_auto_rows": null,
            "grid_column": null,
            "grid_gap": null,
            "grid_row": null,
            "grid_template_areas": null,
            "grid_template_columns": null,
            "grid_template_rows": null,
            "height": null,
            "justify_content": null,
            "justify_items": null,
            "left": null,
            "margin": null,
            "max_height": null,
            "max_width": null,
            "min_height": null,
            "min_width": null,
            "object_fit": null,
            "object_position": null,
            "order": null,
            "overflow": null,
            "overflow_x": null,
            "overflow_y": null,
            "padding": null,
            "right": null,
            "top": null,
            "visibility": null,
            "width": null
          }
        },
        "57f3f45896144adf80e7c110d34fc9c8": {
          "model_module": "@jupyter-widgets/base",
          "model_name": "LayoutModel",
          "model_module_version": "1.2.0",
          "state": {
            "_model_module": "@jupyter-widgets/base",
            "_model_module_version": "1.2.0",
            "_model_name": "LayoutModel",
            "_view_count": null,
            "_view_module": "@jupyter-widgets/base",
            "_view_module_version": "1.2.0",
            "_view_name": "LayoutView",
            "align_content": null,
            "align_items": null,
            "align_self": null,
            "border": null,
            "bottom": null,
            "display": null,
            "flex": null,
            "flex_flow": null,
            "grid_area": null,
            "grid_auto_columns": null,
            "grid_auto_flow": null,
            "grid_auto_rows": null,
            "grid_column": null,
            "grid_gap": null,
            "grid_row": null,
            "grid_template_areas": null,
            "grid_template_columns": null,
            "grid_template_rows": null,
            "height": null,
            "justify_content": null,
            "justify_items": null,
            "left": null,
            "margin": null,
            "max_height": null,
            "max_width": null,
            "min_height": null,
            "min_width": null,
            "object_fit": null,
            "object_position": null,
            "order": null,
            "overflow": null,
            "overflow_x": null,
            "overflow_y": null,
            "padding": null,
            "right": null,
            "top": null,
            "visibility": null,
            "width": null
          }
        },
        "99949bcf7c1c4ae1a170338c3453bd48": {
          "model_module": "@jupyter-widgets/controls",
          "model_name": "DescriptionStyleModel",
          "model_module_version": "1.5.0",
          "state": {
            "_model_module": "@jupyter-widgets/controls",
            "_model_module_version": "1.5.0",
            "_model_name": "DescriptionStyleModel",
            "_view_count": null,
            "_view_module": "@jupyter-widgets/base",
            "_view_module_version": "1.2.0",
            "_view_name": "StyleView",
            "description_width": ""
          }
        },
        "a05f90e14b334c85803c84497985cf22": {
          "model_module": "@jupyter-widgets/base",
          "model_name": "LayoutModel",
          "model_module_version": "1.2.0",
          "state": {
            "_model_module": "@jupyter-widgets/base",
            "_model_module_version": "1.2.0",
            "_model_name": "LayoutModel",
            "_view_count": null,
            "_view_module": "@jupyter-widgets/base",
            "_view_module_version": "1.2.0",
            "_view_name": "LayoutView",
            "align_content": null,
            "align_items": null,
            "align_self": null,
            "border": null,
            "bottom": null,
            "display": null,
            "flex": null,
            "flex_flow": null,
            "grid_area": null,
            "grid_auto_columns": null,
            "grid_auto_flow": null,
            "grid_auto_rows": null,
            "grid_column": null,
            "grid_gap": null,
            "grid_row": null,
            "grid_template_areas": null,
            "grid_template_columns": null,
            "grid_template_rows": null,
            "height": null,
            "justify_content": null,
            "justify_items": null,
            "left": null,
            "margin": null,
            "max_height": null,
            "max_width": null,
            "min_height": null,
            "min_width": null,
            "object_fit": null,
            "object_position": null,
            "order": null,
            "overflow": null,
            "overflow_x": null,
            "overflow_y": null,
            "padding": null,
            "right": null,
            "top": null,
            "visibility": null,
            "width": null
          }
        },
        "f82236bda9824ec2b9b5b84dba19481e": {
          "model_module": "@jupyter-widgets/controls",
          "model_name": "ProgressStyleModel",
          "model_module_version": "1.5.0",
          "state": {
            "_model_module": "@jupyter-widgets/controls",
            "_model_module_version": "1.5.0",
            "_model_name": "ProgressStyleModel",
            "_view_count": null,
            "_view_module": "@jupyter-widgets/base",
            "_view_module_version": "1.2.0",
            "_view_name": "StyleView",
            "bar_color": null,
            "description_width": ""
          }
        },
        "af55fc02580c44898622ec1a4856853f": {
          "model_module": "@jupyter-widgets/base",
          "model_name": "LayoutModel",
          "model_module_version": "1.2.0",
          "state": {
            "_model_module": "@jupyter-widgets/base",
            "_model_module_version": "1.2.0",
            "_model_name": "LayoutModel",
            "_view_count": null,
            "_view_module": "@jupyter-widgets/base",
            "_view_module_version": "1.2.0",
            "_view_name": "LayoutView",
            "align_content": null,
            "align_items": null,
            "align_self": null,
            "border": null,
            "bottom": null,
            "display": null,
            "flex": null,
            "flex_flow": null,
            "grid_area": null,
            "grid_auto_columns": null,
            "grid_auto_flow": null,
            "grid_auto_rows": null,
            "grid_column": null,
            "grid_gap": null,
            "grid_row": null,
            "grid_template_areas": null,
            "grid_template_columns": null,
            "grid_template_rows": null,
            "height": null,
            "justify_content": null,
            "justify_items": null,
            "left": null,
            "margin": null,
            "max_height": null,
            "max_width": null,
            "min_height": null,
            "min_width": null,
            "object_fit": null,
            "object_position": null,
            "order": null,
            "overflow": null,
            "overflow_x": null,
            "overflow_y": null,
            "padding": null,
            "right": null,
            "top": null,
            "visibility": null,
            "width": null
          }
        },
        "16103111c82e4ef494071b1fbc1581c5": {
          "model_module": "@jupyter-widgets/controls",
          "model_name": "DescriptionStyleModel",
          "model_module_version": "1.5.0",
          "state": {
            "_model_module": "@jupyter-widgets/controls",
            "_model_module_version": "1.5.0",
            "_model_name": "DescriptionStyleModel",
            "_view_count": null,
            "_view_module": "@jupyter-widgets/base",
            "_view_module_version": "1.2.0",
            "_view_name": "StyleView",
            "description_width": ""
          }
        },
        "e01bc5f9051041729a5c472b5f22a59c": {
          "model_module": "@jupyter-widgets/controls",
          "model_name": "HBoxModel",
          "model_module_version": "1.5.0",
          "state": {
            "_dom_classes": [],
            "_model_module": "@jupyter-widgets/controls",
            "_model_module_version": "1.5.0",
            "_model_name": "HBoxModel",
            "_view_count": null,
            "_view_module": "@jupyter-widgets/controls",
            "_view_module_version": "1.5.0",
            "_view_name": "HBoxView",
            "box_style": "",
            "children": [
              "IPY_MODEL_5faf55cfed024d1398efdd84bc99db80",
              "IPY_MODEL_6422ff62cd0c4c21b7ade9aecbdce413",
              "IPY_MODEL_9a79d6e6c7924a919eaf5efe6c4343ce"
            ],
            "layout": "IPY_MODEL_c937c792957341b6bd3e62bb9aa79612"
          }
        },
        "5faf55cfed024d1398efdd84bc99db80": {
          "model_module": "@jupyter-widgets/controls",
          "model_name": "HTMLModel",
          "model_module_version": "1.5.0",
          "state": {
            "_dom_classes": [],
            "_model_module": "@jupyter-widgets/controls",
            "_model_module_version": "1.5.0",
            "_model_name": "HTMLModel",
            "_view_count": null,
            "_view_module": "@jupyter-widgets/controls",
            "_view_module_version": "1.5.0",
            "_view_name": "HTMLView",
            "description": "",
            "description_tooltip": null,
            "layout": "IPY_MODEL_08a251279acb4bccbcdcbb343644b38e",
            "placeholder": "​",
            "style": "IPY_MODEL_9ddd7ca58eef4421bacf53b5ad468b19",
            "value": "Generating train split: 100%"
          }
        },
        "6422ff62cd0c4c21b7ade9aecbdce413": {
          "model_module": "@jupyter-widgets/controls",
          "model_name": "FloatProgressModel",
          "model_module_version": "1.5.0",
          "state": {
            "_dom_classes": [],
            "_model_module": "@jupyter-widgets/controls",
            "_model_module_version": "1.5.0",
            "_model_name": "FloatProgressModel",
            "_view_count": null,
            "_view_module": "@jupyter-widgets/controls",
            "_view_module_version": "1.5.0",
            "_view_name": "ProgressView",
            "bar_style": "success",
            "description": "",
            "description_tooltip": null,
            "layout": "IPY_MODEL_bdc205b6e5f245ff8854d55bf5cd4573",
            "max": 3176,
            "min": 0,
            "orientation": "horizontal",
            "style": "IPY_MODEL_10e1e2a9266349fe8832c9e32dfc0354",
            "value": 3176
          }
        },
        "9a79d6e6c7924a919eaf5efe6c4343ce": {
          "model_module": "@jupyter-widgets/controls",
          "model_name": "HTMLModel",
          "model_module_version": "1.5.0",
          "state": {
            "_dom_classes": [],
            "_model_module": "@jupyter-widgets/controls",
            "_model_module_version": "1.5.0",
            "_model_name": "HTMLModel",
            "_view_count": null,
            "_view_module": "@jupyter-widgets/controls",
            "_view_module_version": "1.5.0",
            "_view_name": "HTMLView",
            "description": "",
            "description_tooltip": null,
            "layout": "IPY_MODEL_2581e0a290f34efd936a212f6dbd1238",
            "placeholder": "​",
            "style": "IPY_MODEL_59b9732b7b7441b6a49465ed7a9e8216",
            "value": " 3176/3176 [00:00&lt;00:00, 21448.54 examples/s]"
          }
        },
        "c937c792957341b6bd3e62bb9aa79612": {
          "model_module": "@jupyter-widgets/base",
          "model_name": "LayoutModel",
          "model_module_version": "1.2.0",
          "state": {
            "_model_module": "@jupyter-widgets/base",
            "_model_module_version": "1.2.0",
            "_model_name": "LayoutModel",
            "_view_count": null,
            "_view_module": "@jupyter-widgets/base",
            "_view_module_version": "1.2.0",
            "_view_name": "LayoutView",
            "align_content": null,
            "align_items": null,
            "align_self": null,
            "border": null,
            "bottom": null,
            "display": null,
            "flex": null,
            "flex_flow": null,
            "grid_area": null,
            "grid_auto_columns": null,
            "grid_auto_flow": null,
            "grid_auto_rows": null,
            "grid_column": null,
            "grid_gap": null,
            "grid_row": null,
            "grid_template_areas": null,
            "grid_template_columns": null,
            "grid_template_rows": null,
            "height": null,
            "justify_content": null,
            "justify_items": null,
            "left": null,
            "margin": null,
            "max_height": null,
            "max_width": null,
            "min_height": null,
            "min_width": null,
            "object_fit": null,
            "object_position": null,
            "order": null,
            "overflow": null,
            "overflow_x": null,
            "overflow_y": null,
            "padding": null,
            "right": null,
            "top": null,
            "visibility": null,
            "width": null
          }
        },
        "08a251279acb4bccbcdcbb343644b38e": {
          "model_module": "@jupyter-widgets/base",
          "model_name": "LayoutModel",
          "model_module_version": "1.2.0",
          "state": {
            "_model_module": "@jupyter-widgets/base",
            "_model_module_version": "1.2.0",
            "_model_name": "LayoutModel",
            "_view_count": null,
            "_view_module": "@jupyter-widgets/base",
            "_view_module_version": "1.2.0",
            "_view_name": "LayoutView",
            "align_content": null,
            "align_items": null,
            "align_self": null,
            "border": null,
            "bottom": null,
            "display": null,
            "flex": null,
            "flex_flow": null,
            "grid_area": null,
            "grid_auto_columns": null,
            "grid_auto_flow": null,
            "grid_auto_rows": null,
            "grid_column": null,
            "grid_gap": null,
            "grid_row": null,
            "grid_template_areas": null,
            "grid_template_columns": null,
            "grid_template_rows": null,
            "height": null,
            "justify_content": null,
            "justify_items": null,
            "left": null,
            "margin": null,
            "max_height": null,
            "max_width": null,
            "min_height": null,
            "min_width": null,
            "object_fit": null,
            "object_position": null,
            "order": null,
            "overflow": null,
            "overflow_x": null,
            "overflow_y": null,
            "padding": null,
            "right": null,
            "top": null,
            "visibility": null,
            "width": null
          }
        },
        "9ddd7ca58eef4421bacf53b5ad468b19": {
          "model_module": "@jupyter-widgets/controls",
          "model_name": "DescriptionStyleModel",
          "model_module_version": "1.5.0",
          "state": {
            "_model_module": "@jupyter-widgets/controls",
            "_model_module_version": "1.5.0",
            "_model_name": "DescriptionStyleModel",
            "_view_count": null,
            "_view_module": "@jupyter-widgets/base",
            "_view_module_version": "1.2.0",
            "_view_name": "StyleView",
            "description_width": ""
          }
        },
        "bdc205b6e5f245ff8854d55bf5cd4573": {
          "model_module": "@jupyter-widgets/base",
          "model_name": "LayoutModel",
          "model_module_version": "1.2.0",
          "state": {
            "_model_module": "@jupyter-widgets/base",
            "_model_module_version": "1.2.0",
            "_model_name": "LayoutModel",
            "_view_count": null,
            "_view_module": "@jupyter-widgets/base",
            "_view_module_version": "1.2.0",
            "_view_name": "LayoutView",
            "align_content": null,
            "align_items": null,
            "align_self": null,
            "border": null,
            "bottom": null,
            "display": null,
            "flex": null,
            "flex_flow": null,
            "grid_area": null,
            "grid_auto_columns": null,
            "grid_auto_flow": null,
            "grid_auto_rows": null,
            "grid_column": null,
            "grid_gap": null,
            "grid_row": null,
            "grid_template_areas": null,
            "grid_template_columns": null,
            "grid_template_rows": null,
            "height": null,
            "justify_content": null,
            "justify_items": null,
            "left": null,
            "margin": null,
            "max_height": null,
            "max_width": null,
            "min_height": null,
            "min_width": null,
            "object_fit": null,
            "object_position": null,
            "order": null,
            "overflow": null,
            "overflow_x": null,
            "overflow_y": null,
            "padding": null,
            "right": null,
            "top": null,
            "visibility": null,
            "width": null
          }
        },
        "10e1e2a9266349fe8832c9e32dfc0354": {
          "model_module": "@jupyter-widgets/controls",
          "model_name": "ProgressStyleModel",
          "model_module_version": "1.5.0",
          "state": {
            "_model_module": "@jupyter-widgets/controls",
            "_model_module_version": "1.5.0",
            "_model_name": "ProgressStyleModel",
            "_view_count": null,
            "_view_module": "@jupyter-widgets/base",
            "_view_module_version": "1.2.0",
            "_view_name": "StyleView",
            "bar_color": null,
            "description_width": ""
          }
        },
        "2581e0a290f34efd936a212f6dbd1238": {
          "model_module": "@jupyter-widgets/base",
          "model_name": "LayoutModel",
          "model_module_version": "1.2.0",
          "state": {
            "_model_module": "@jupyter-widgets/base",
            "_model_module_version": "1.2.0",
            "_model_name": "LayoutModel",
            "_view_count": null,
            "_view_module": "@jupyter-widgets/base",
            "_view_module_version": "1.2.0",
            "_view_name": "LayoutView",
            "align_content": null,
            "align_items": null,
            "align_self": null,
            "border": null,
            "bottom": null,
            "display": null,
            "flex": null,
            "flex_flow": null,
            "grid_area": null,
            "grid_auto_columns": null,
            "grid_auto_flow": null,
            "grid_auto_rows": null,
            "grid_column": null,
            "grid_gap": null,
            "grid_row": null,
            "grid_template_areas": null,
            "grid_template_columns": null,
            "grid_template_rows": null,
            "height": null,
            "justify_content": null,
            "justify_items": null,
            "left": null,
            "margin": null,
            "max_height": null,
            "max_width": null,
            "min_height": null,
            "min_width": null,
            "object_fit": null,
            "object_position": null,
            "order": null,
            "overflow": null,
            "overflow_x": null,
            "overflow_y": null,
            "padding": null,
            "right": null,
            "top": null,
            "visibility": null,
            "width": null
          }
        },
        "59b9732b7b7441b6a49465ed7a9e8216": {
          "model_module": "@jupyter-widgets/controls",
          "model_name": "DescriptionStyleModel",
          "model_module_version": "1.5.0",
          "state": {
            "_model_module": "@jupyter-widgets/controls",
            "_model_module_version": "1.5.0",
            "_model_name": "DescriptionStyleModel",
            "_view_count": null,
            "_view_module": "@jupyter-widgets/base",
            "_view_module_version": "1.2.0",
            "_view_name": "StyleView",
            "description_width": ""
          }
        },
        "ad7d112e14594085ad83369298860133": {
          "model_module": "@jupyter-widgets/controls",
          "model_name": "HBoxModel",
          "model_module_version": "1.5.0",
          "state": {
            "_dom_classes": [],
            "_model_module": "@jupyter-widgets/controls",
            "_model_module_version": "1.5.0",
            "_model_name": "HBoxModel",
            "_view_count": null,
            "_view_module": "@jupyter-widgets/controls",
            "_view_module_version": "1.5.0",
            "_view_name": "HBoxView",
            "box_style": "",
            "children": [
              "IPY_MODEL_cce46b27def24fc78dba33922fb6572f",
              "IPY_MODEL_63d7f7224b83443686b3e5709af0cd4b",
              "IPY_MODEL_3807808ec9c342ae916836433ff599d0"
            ],
            "layout": "IPY_MODEL_6f1cd107c17d42c4a7451f6a04c055c8"
          }
        },
        "cce46b27def24fc78dba33922fb6572f": {
          "model_module": "@jupyter-widgets/controls",
          "model_name": "HTMLModel",
          "model_module_version": "1.5.0",
          "state": {
            "_dom_classes": [],
            "_model_module": "@jupyter-widgets/controls",
            "_model_module_version": "1.5.0",
            "_model_name": "HTMLModel",
            "_view_count": null,
            "_view_module": "@jupyter-widgets/controls",
            "_view_module_version": "1.5.0",
            "_view_name": "HTMLView",
            "description": "",
            "description_tooltip": null,
            "layout": "IPY_MODEL_1d2681e524a64af9b113c93f4c17de7f",
            "placeholder": "​",
            "style": "IPY_MODEL_5b04cb02300046028a90e9cfe3e6778f",
            "value": "Generating validation split: 100%"
          }
        },
        "63d7f7224b83443686b3e5709af0cd4b": {
          "model_module": "@jupyter-widgets/controls",
          "model_name": "FloatProgressModel",
          "model_module_version": "1.5.0",
          "state": {
            "_dom_classes": [],
            "_model_module": "@jupyter-widgets/controls",
            "_model_module_version": "1.5.0",
            "_model_name": "FloatProgressModel",
            "_view_count": null,
            "_view_module": "@jupyter-widgets/controls",
            "_view_module_version": "1.5.0",
            "_view_name": "ProgressView",
            "bar_style": "success",
            "description": "",
            "description_tooltip": null,
            "layout": "IPY_MODEL_68aaacaa1b0f4e76919cad58410759ee",
            "max": 1032,
            "min": 0,
            "orientation": "horizontal",
            "style": "IPY_MODEL_ceac409ca536493da9a14908e975103e",
            "value": 1032
          }
        },
        "3807808ec9c342ae916836433ff599d0": {
          "model_module": "@jupyter-widgets/controls",
          "model_name": "HTMLModel",
          "model_module_version": "1.5.0",
          "state": {
            "_dom_classes": [],
            "_model_module": "@jupyter-widgets/controls",
            "_model_module_version": "1.5.0",
            "_model_name": "HTMLModel",
            "_view_count": null,
            "_view_module": "@jupyter-widgets/controls",
            "_view_module_version": "1.5.0",
            "_view_name": "HTMLView",
            "description": "",
            "description_tooltip": null,
            "layout": "IPY_MODEL_c63eb2c7c4444a3eab9f1724913d9ea8",
            "placeholder": "​",
            "style": "IPY_MODEL_b08c5aa9f0be4fdbbfc4d016ed356bb5",
            "value": " 1032/1032 [00:00&lt;00:00, 19021.45 examples/s]"
          }
        },
        "6f1cd107c17d42c4a7451f6a04c055c8": {
          "model_module": "@jupyter-widgets/base",
          "model_name": "LayoutModel",
          "model_module_version": "1.2.0",
          "state": {
            "_model_module": "@jupyter-widgets/base",
            "_model_module_version": "1.2.0",
            "_model_name": "LayoutModel",
            "_view_count": null,
            "_view_module": "@jupyter-widgets/base",
            "_view_module_version": "1.2.0",
            "_view_name": "LayoutView",
            "align_content": null,
            "align_items": null,
            "align_self": null,
            "border": null,
            "bottom": null,
            "display": null,
            "flex": null,
            "flex_flow": null,
            "grid_area": null,
            "grid_auto_columns": null,
            "grid_auto_flow": null,
            "grid_auto_rows": null,
            "grid_column": null,
            "grid_gap": null,
            "grid_row": null,
            "grid_template_areas": null,
            "grid_template_columns": null,
            "grid_template_rows": null,
            "height": null,
            "justify_content": null,
            "justify_items": null,
            "left": null,
            "margin": null,
            "max_height": null,
            "max_width": null,
            "min_height": null,
            "min_width": null,
            "object_fit": null,
            "object_position": null,
            "order": null,
            "overflow": null,
            "overflow_x": null,
            "overflow_y": null,
            "padding": null,
            "right": null,
            "top": null,
            "visibility": null,
            "width": null
          }
        },
        "1d2681e524a64af9b113c93f4c17de7f": {
          "model_module": "@jupyter-widgets/base",
          "model_name": "LayoutModel",
          "model_module_version": "1.2.0",
          "state": {
            "_model_module": "@jupyter-widgets/base",
            "_model_module_version": "1.2.0",
            "_model_name": "LayoutModel",
            "_view_count": null,
            "_view_module": "@jupyter-widgets/base",
            "_view_module_version": "1.2.0",
            "_view_name": "LayoutView",
            "align_content": null,
            "align_items": null,
            "align_self": null,
            "border": null,
            "bottom": null,
            "display": null,
            "flex": null,
            "flex_flow": null,
            "grid_area": null,
            "grid_auto_columns": null,
            "grid_auto_flow": null,
            "grid_auto_rows": null,
            "grid_column": null,
            "grid_gap": null,
            "grid_row": null,
            "grid_template_areas": null,
            "grid_template_columns": null,
            "grid_template_rows": null,
            "height": null,
            "justify_content": null,
            "justify_items": null,
            "left": null,
            "margin": null,
            "max_height": null,
            "max_width": null,
            "min_height": null,
            "min_width": null,
            "object_fit": null,
            "object_position": null,
            "order": null,
            "overflow": null,
            "overflow_x": null,
            "overflow_y": null,
            "padding": null,
            "right": null,
            "top": null,
            "visibility": null,
            "width": null
          }
        },
        "5b04cb02300046028a90e9cfe3e6778f": {
          "model_module": "@jupyter-widgets/controls",
          "model_name": "DescriptionStyleModel",
          "model_module_version": "1.5.0",
          "state": {
            "_model_module": "@jupyter-widgets/controls",
            "_model_module_version": "1.5.0",
            "_model_name": "DescriptionStyleModel",
            "_view_count": null,
            "_view_module": "@jupyter-widgets/base",
            "_view_module_version": "1.2.0",
            "_view_name": "StyleView",
            "description_width": ""
          }
        },
        "68aaacaa1b0f4e76919cad58410759ee": {
          "model_module": "@jupyter-widgets/base",
          "model_name": "LayoutModel",
          "model_module_version": "1.2.0",
          "state": {
            "_model_module": "@jupyter-widgets/base",
            "_model_module_version": "1.2.0",
            "_model_name": "LayoutModel",
            "_view_count": null,
            "_view_module": "@jupyter-widgets/base",
            "_view_module_version": "1.2.0",
            "_view_name": "LayoutView",
            "align_content": null,
            "align_items": null,
            "align_self": null,
            "border": null,
            "bottom": null,
            "display": null,
            "flex": null,
            "flex_flow": null,
            "grid_area": null,
            "grid_auto_columns": null,
            "grid_auto_flow": null,
            "grid_auto_rows": null,
            "grid_column": null,
            "grid_gap": null,
            "grid_row": null,
            "grid_template_areas": null,
            "grid_template_columns": null,
            "grid_template_rows": null,
            "height": null,
            "justify_content": null,
            "justify_items": null,
            "left": null,
            "margin": null,
            "max_height": null,
            "max_width": null,
            "min_height": null,
            "min_width": null,
            "object_fit": null,
            "object_position": null,
            "order": null,
            "overflow": null,
            "overflow_x": null,
            "overflow_y": null,
            "padding": null,
            "right": null,
            "top": null,
            "visibility": null,
            "width": null
          }
        },
        "ceac409ca536493da9a14908e975103e": {
          "model_module": "@jupyter-widgets/controls",
          "model_name": "ProgressStyleModel",
          "model_module_version": "1.5.0",
          "state": {
            "_model_module": "@jupyter-widgets/controls",
            "_model_module_version": "1.5.0",
            "_model_name": "ProgressStyleModel",
            "_view_count": null,
            "_view_module": "@jupyter-widgets/base",
            "_view_module_version": "1.2.0",
            "_view_name": "StyleView",
            "bar_color": null,
            "description_width": ""
          }
        },
        "c63eb2c7c4444a3eab9f1724913d9ea8": {
          "model_module": "@jupyter-widgets/base",
          "model_name": "LayoutModel",
          "model_module_version": "1.2.0",
          "state": {
            "_model_module": "@jupyter-widgets/base",
            "_model_module_version": "1.2.0",
            "_model_name": "LayoutModel",
            "_view_count": null,
            "_view_module": "@jupyter-widgets/base",
            "_view_module_version": "1.2.0",
            "_view_name": "LayoutView",
            "align_content": null,
            "align_items": null,
            "align_self": null,
            "border": null,
            "bottom": null,
            "display": null,
            "flex": null,
            "flex_flow": null,
            "grid_area": null,
            "grid_auto_columns": null,
            "grid_auto_flow": null,
            "grid_auto_rows": null,
            "grid_column": null,
            "grid_gap": null,
            "grid_row": null,
            "grid_template_areas": null,
            "grid_template_columns": null,
            "grid_template_rows": null,
            "height": null,
            "justify_content": null,
            "justify_items": null,
            "left": null,
            "margin": null,
            "max_height": null,
            "max_width": null,
            "min_height": null,
            "min_width": null,
            "object_fit": null,
            "object_position": null,
            "order": null,
            "overflow": null,
            "overflow_x": null,
            "overflow_y": null,
            "padding": null,
            "right": null,
            "top": null,
            "visibility": null,
            "width": null
          }
        },
        "b08c5aa9f0be4fdbbfc4d016ed356bb5": {
          "model_module": "@jupyter-widgets/controls",
          "model_name": "DescriptionStyleModel",
          "model_module_version": "1.5.0",
          "state": {
            "_model_module": "@jupyter-widgets/controls",
            "_model_module_version": "1.5.0",
            "_model_name": "DescriptionStyleModel",
            "_view_count": null,
            "_view_module": "@jupyter-widgets/base",
            "_view_module_version": "1.2.0",
            "_view_name": "StyleView",
            "description_width": ""
          }
        },
        "4b9215555acf4b5592396a7d8dabf1ff": {
          "model_module": "@jupyter-widgets/controls",
          "model_name": "HBoxModel",
          "model_module_version": "1.5.0",
          "state": {
            "_dom_classes": [],
            "_model_module": "@jupyter-widgets/controls",
            "_model_module_version": "1.5.0",
            "_model_name": "HBoxModel",
            "_view_count": null,
            "_view_module": "@jupyter-widgets/controls",
            "_view_module_version": "1.5.0",
            "_view_name": "HBoxView",
            "box_style": "",
            "children": [
              "IPY_MODEL_143d391dabfc40ebba3d2f37e47014c1",
              "IPY_MODEL_ac5d65efa19e41df8b93fc9ea6df2d21",
              "IPY_MODEL_7bdde87547fe429cae0524b24d6a28fc"
            ],
            "layout": "IPY_MODEL_7ab3d43d6a1c47a7a7b5d28de0fdddc6"
          }
        },
        "143d391dabfc40ebba3d2f37e47014c1": {
          "model_module": "@jupyter-widgets/controls",
          "model_name": "HTMLModel",
          "model_module_version": "1.5.0",
          "state": {
            "_dom_classes": [],
            "_model_module": "@jupyter-widgets/controls",
            "_model_module_version": "1.5.0",
            "_model_name": "HTMLModel",
            "_view_count": null,
            "_view_module": "@jupyter-widgets/controls",
            "_view_module_version": "1.5.0",
            "_view_name": "HTMLView",
            "description": "",
            "description_tooltip": null,
            "layout": "IPY_MODEL_220452a1a7f84bfab4d0dfb98095a40b",
            "placeholder": "​",
            "style": "IPY_MODEL_08d921bed4784fb88eed688a46d47580",
            "value": "Generating test split: 100%"
          }
        },
        "ac5d65efa19e41df8b93fc9ea6df2d21": {
          "model_module": "@jupyter-widgets/controls",
          "model_name": "FloatProgressModel",
          "model_module_version": "1.5.0",
          "state": {
            "_dom_classes": [],
            "_model_module": "@jupyter-widgets/controls",
            "_model_module_version": "1.5.0",
            "_model_name": "FloatProgressModel",
            "_view_count": null,
            "_view_module": "@jupyter-widgets/controls",
            "_view_module_version": "1.5.0",
            "_view_name": "ProgressView",
            "bar_style": "success",
            "description": "",
            "description_tooltip": null,
            "layout": "IPY_MODEL_b1f5abb74fcf4e67b2804f474dd12ae2",
            "max": 1035,
            "min": 0,
            "orientation": "horizontal",
            "style": "IPY_MODEL_3d3d475f2b62489a9d5f9c5260819f7f",
            "value": 1035
          }
        },
        "7bdde87547fe429cae0524b24d6a28fc": {
          "model_module": "@jupyter-widgets/controls",
          "model_name": "HTMLModel",
          "model_module_version": "1.5.0",
          "state": {
            "_dom_classes": [],
            "_model_module": "@jupyter-widgets/controls",
            "_model_module_version": "1.5.0",
            "_model_name": "HTMLModel",
            "_view_count": null,
            "_view_module": "@jupyter-widgets/controls",
            "_view_module_version": "1.5.0",
            "_view_name": "HTMLView",
            "description": "",
            "description_tooltip": null,
            "layout": "IPY_MODEL_0f1a93a5420a48f082b0d7b514ec2d8a",
            "placeholder": "​",
            "style": "IPY_MODEL_165b613b8884426cb55a0c08800143d9",
            "value": " 1035/1035 [00:00&lt;00:00, 23461.50 examples/s]"
          }
        },
        "7ab3d43d6a1c47a7a7b5d28de0fdddc6": {
          "model_module": "@jupyter-widgets/base",
          "model_name": "LayoutModel",
          "model_module_version": "1.2.0",
          "state": {
            "_model_module": "@jupyter-widgets/base",
            "_model_module_version": "1.2.0",
            "_model_name": "LayoutModel",
            "_view_count": null,
            "_view_module": "@jupyter-widgets/base",
            "_view_module_version": "1.2.0",
            "_view_name": "LayoutView",
            "align_content": null,
            "align_items": null,
            "align_self": null,
            "border": null,
            "bottom": null,
            "display": null,
            "flex": null,
            "flex_flow": null,
            "grid_area": null,
            "grid_auto_columns": null,
            "grid_auto_flow": null,
            "grid_auto_rows": null,
            "grid_column": null,
            "grid_gap": null,
            "grid_row": null,
            "grid_template_areas": null,
            "grid_template_columns": null,
            "grid_template_rows": null,
            "height": null,
            "justify_content": null,
            "justify_items": null,
            "left": null,
            "margin": null,
            "max_height": null,
            "max_width": null,
            "min_height": null,
            "min_width": null,
            "object_fit": null,
            "object_position": null,
            "order": null,
            "overflow": null,
            "overflow_x": null,
            "overflow_y": null,
            "padding": null,
            "right": null,
            "top": null,
            "visibility": null,
            "width": null
          }
        },
        "220452a1a7f84bfab4d0dfb98095a40b": {
          "model_module": "@jupyter-widgets/base",
          "model_name": "LayoutModel",
          "model_module_version": "1.2.0",
          "state": {
            "_model_module": "@jupyter-widgets/base",
            "_model_module_version": "1.2.0",
            "_model_name": "LayoutModel",
            "_view_count": null,
            "_view_module": "@jupyter-widgets/base",
            "_view_module_version": "1.2.0",
            "_view_name": "LayoutView",
            "align_content": null,
            "align_items": null,
            "align_self": null,
            "border": null,
            "bottom": null,
            "display": null,
            "flex": null,
            "flex_flow": null,
            "grid_area": null,
            "grid_auto_columns": null,
            "grid_auto_flow": null,
            "grid_auto_rows": null,
            "grid_column": null,
            "grid_gap": null,
            "grid_row": null,
            "grid_template_areas": null,
            "grid_template_columns": null,
            "grid_template_rows": null,
            "height": null,
            "justify_content": null,
            "justify_items": null,
            "left": null,
            "margin": null,
            "max_height": null,
            "max_width": null,
            "min_height": null,
            "min_width": null,
            "object_fit": null,
            "object_position": null,
            "order": null,
            "overflow": null,
            "overflow_x": null,
            "overflow_y": null,
            "padding": null,
            "right": null,
            "top": null,
            "visibility": null,
            "width": null
          }
        },
        "08d921bed4784fb88eed688a46d47580": {
          "model_module": "@jupyter-widgets/controls",
          "model_name": "DescriptionStyleModel",
          "model_module_version": "1.5.0",
          "state": {
            "_model_module": "@jupyter-widgets/controls",
            "_model_module_version": "1.5.0",
            "_model_name": "DescriptionStyleModel",
            "_view_count": null,
            "_view_module": "@jupyter-widgets/base",
            "_view_module_version": "1.2.0",
            "_view_name": "StyleView",
            "description_width": ""
          }
        },
        "b1f5abb74fcf4e67b2804f474dd12ae2": {
          "model_module": "@jupyter-widgets/base",
          "model_name": "LayoutModel",
          "model_module_version": "1.2.0",
          "state": {
            "_model_module": "@jupyter-widgets/base",
            "_model_module_version": "1.2.0",
            "_model_name": "LayoutModel",
            "_view_count": null,
            "_view_module": "@jupyter-widgets/base",
            "_view_module_version": "1.2.0",
            "_view_name": "LayoutView",
            "align_content": null,
            "align_items": null,
            "align_self": null,
            "border": null,
            "bottom": null,
            "display": null,
            "flex": null,
            "flex_flow": null,
            "grid_area": null,
            "grid_auto_columns": null,
            "grid_auto_flow": null,
            "grid_auto_rows": null,
            "grid_column": null,
            "grid_gap": null,
            "grid_row": null,
            "grid_template_areas": null,
            "grid_template_columns": null,
            "grid_template_rows": null,
            "height": null,
            "justify_content": null,
            "justify_items": null,
            "left": null,
            "margin": null,
            "max_height": null,
            "max_width": null,
            "min_height": null,
            "min_width": null,
            "object_fit": null,
            "object_position": null,
            "order": null,
            "overflow": null,
            "overflow_x": null,
            "overflow_y": null,
            "padding": null,
            "right": null,
            "top": null,
            "visibility": null,
            "width": null
          }
        },
        "3d3d475f2b62489a9d5f9c5260819f7f": {
          "model_module": "@jupyter-widgets/controls",
          "model_name": "ProgressStyleModel",
          "model_module_version": "1.5.0",
          "state": {
            "_model_module": "@jupyter-widgets/controls",
            "_model_module_version": "1.5.0",
            "_model_name": "ProgressStyleModel",
            "_view_count": null,
            "_view_module": "@jupyter-widgets/base",
            "_view_module_version": "1.2.0",
            "_view_name": "StyleView",
            "bar_color": null,
            "description_width": ""
          }
        },
        "0f1a93a5420a48f082b0d7b514ec2d8a": {
          "model_module": "@jupyter-widgets/base",
          "model_name": "LayoutModel",
          "model_module_version": "1.2.0",
          "state": {
            "_model_module": "@jupyter-widgets/base",
            "_model_module_version": "1.2.0",
            "_model_name": "LayoutModel",
            "_view_count": null,
            "_view_module": "@jupyter-widgets/base",
            "_view_module_version": "1.2.0",
            "_view_name": "LayoutView",
            "align_content": null,
            "align_items": null,
            "align_self": null,
            "border": null,
            "bottom": null,
            "display": null,
            "flex": null,
            "flex_flow": null,
            "grid_area": null,
            "grid_auto_columns": null,
            "grid_auto_flow": null,
            "grid_auto_rows": null,
            "grid_column": null,
            "grid_gap": null,
            "grid_row": null,
            "grid_template_areas": null,
            "grid_template_columns": null,
            "grid_template_rows": null,
            "height": null,
            "justify_content": null,
            "justify_items": null,
            "left": null,
            "margin": null,
            "max_height": null,
            "max_width": null,
            "min_height": null,
            "min_width": null,
            "object_fit": null,
            "object_position": null,
            "order": null,
            "overflow": null,
            "overflow_x": null,
            "overflow_y": null,
            "padding": null,
            "right": null,
            "top": null,
            "visibility": null,
            "width": null
          }
        },
        "165b613b8884426cb55a0c08800143d9": {
          "model_module": "@jupyter-widgets/controls",
          "model_name": "DescriptionStyleModel",
          "model_module_version": "1.5.0",
          "state": {
            "_model_module": "@jupyter-widgets/controls",
            "_model_module_version": "1.5.0",
            "_model_name": "DescriptionStyleModel",
            "_view_count": null,
            "_view_module": "@jupyter-widgets/base",
            "_view_module_version": "1.2.0",
            "_view_name": "StyleView",
            "description_width": ""
          }
        }
      }
    }
  },
  "nbformat": 4,
  "nbformat_minor": 0
}